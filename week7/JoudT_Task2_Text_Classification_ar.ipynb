{
  "cells": [
    {
      "cell_type": "markdown",
      "metadata": {
        "id": "bsurCNok43DL"
      },
      "source": [
        "# Text Classification Exam\n",
        "\n",
        "Welcome to the Text Classification Practical Exam. In this exam, you will be tasked with building, training, and evaluating an NLP model to classify text data. You are provided with a labeled dataset containing both the text and its corresponding class labels.\n",
        "\n",
        "Your objective is to develop a model that accurately predicts the class of the given text. Make sure to follow best practices in data preprocessing, model selection, and evaluation to achieve optimal results.\n",
        "\n",
        "Good luck!\n",
        "___"
      ]
    },
    {
      "cell_type": "markdown",
      "metadata": {
        "id": "oqw2El5mMxsz"
      },
      "source": [
        "# Install and Import Needed Libraries"
      ]
    },
    {
      "cell_type": "markdown",
      "metadata": {
        "id": "4dTkHbSHNB4y"
      },
      "source": [
        "You can use `pyarabic` or any other library to pre-process and clean the Arabic text."
      ]
    },
    {
      "cell_type": "code",
      "execution_count": 2,
      "metadata": {
        "id": "z6mRe6i5Wqqc"
      },
      "outputs": [],
      "source": [
        "import re\n",
        "import pandas as pd\n",
        "import pyarabic.araby as araby\n",
        "import nltk\n",
        "from nltk.corpus import stopwords\n",
        "import nltk\n",
        "from nltk.stem.isri import ISRIStemmer\n",
        "\n",
        "\n",
        "import tensorflow\n",
        "from tensorflow.keras.models import Sequential\n",
        "from tensorflow.keras.layers import Embedding, LSTM, Dense, Dropout, Input, Bidirectional, SimpleRNN, LSTM\n",
        "from tensorflow.keras.preprocessing.text import Tokenizer\n",
        "from tensorflow.keras.preprocessing.sequence import pad_sequences\n",
        "from sklearn.preprocessing import LabelEncoder\n",
        "from sklearn.model_selection import train_test_split\n",
        "import matplotlib.pyplot as plt\n",
        "\n"
      ]
    },
    {
      "cell_type": "code",
      "source": [
        "nltk.download('stopwords')"
      ],
      "metadata": {
        "id": "I9NV-kmBL7nG",
        "outputId": "2a629ee0-2127-4085-fee0-7c5d48783060",
        "colab": {
          "base_uri": "https://localhost:8080/"
        }
      },
      "execution_count": 3,
      "outputs": [
        {
          "output_type": "stream",
          "name": "stderr",
          "text": [
            "[nltk_data] Downloading package stopwords to /root/nltk_data...\n",
            "[nltk_data]   Unzipping corpora/stopwords.zip.\n"
          ]
        },
        {
          "output_type": "execute_result",
          "data": {
            "text/plain": [
              "True"
            ]
          },
          "metadata": {},
          "execution_count": 3
        }
      ]
    },
    {
      "cell_type": "code",
      "source": [
        "#dawonlwding the laibers for arabic text\n",
        "!pip install PyArabic"
      ],
      "metadata": {
        "id": "qMmcaWOo1MWy",
        "outputId": "10158b2b-e98e-497b-c03e-779c09c13545",
        "colab": {
          "base_uri": "https://localhost:8080/"
        }
      },
      "execution_count": 1,
      "outputs": [
        {
          "output_type": "stream",
          "name": "stdout",
          "text": [
            "Collecting PyArabic\n",
            "  Downloading PyArabic-0.6.15-py3-none-any.whl.metadata (10 kB)\n",
            "Requirement already satisfied: six>=1.14.0 in /usr/local/lib/python3.10/dist-packages (from PyArabic) (1.16.0)\n",
            "Downloading PyArabic-0.6.15-py3-none-any.whl (126 kB)\n",
            "\u001b[2K   \u001b[90m━━━━━━━━━━━━━━━━━━━━━━━━━━━━━━━━━━━━━━━━\u001b[0m \u001b[32m126.4/126.4 kB\u001b[0m \u001b[31m1.2 MB/s\u001b[0m eta \u001b[36m0:00:00\u001b[0m\n",
            "\u001b[?25hInstalling collected packages: PyArabic\n",
            "Successfully installed PyArabic-0.6.15\n"
          ]
        }
      ]
    },
    {
      "cell_type": "markdown",
      "metadata": {
        "id": "Hq5KJRZ5Ph0Z"
      },
      "source": [
        "# Download the Dataset"
      ]
    },
    {
      "cell_type": "markdown",
      "metadata": {
        "id": "3riATTJ243DN"
      },
      "source": [
        "Please note that you are allowed to take a subset of this dataset, the reason for that is it might take a long time to train the model on."
      ]
    },
    {
      "cell_type": "code",
      "execution_count": 4,
      "metadata": {
        "id": "M1n3uTg043DN",
        "outputId": "c62a69f0-23b9-49a5-bb4e-f582ad57f830",
        "colab": {
          "base_uri": "https://localhost:8080/"
        }
      },
      "outputs": [
        {
          "output_type": "stream",
          "name": "stdout",
          "text": [
            "Warning: Looks like you're using an outdated API Version, please consider updating (server 1.6.17 / client 1.6.14)\n",
            "Dataset URL: https://www.kaggle.com/datasets/khaledzsa/sanad\n",
            "License(s): unknown\n",
            "Downloading sanad.zip to /content\n",
            " 91% 65.0M/71.4M [00:00<00:00, 130MB/s]\n",
            "100% 71.4M/71.4M [00:00<00:00, 123MB/s]\n",
            "Archive:  sanad.zip\n",
            "  inflating: sanad.csv               \n"
          ]
        }
      ],
      "source": [
        "!kaggle datasets download -d khaledzsa/sanad\n",
        "!unzip sanad.zip"
      ]
    },
    {
      "cell_type": "code",
      "source": [
        "#here i will call the dataset\n",
        "\n",
        "df=pd.read_csv(\"/content/sanad.csv\")\n",
        "\n",
        "#here i will give he data lethgth\n",
        "max_length = 150\n",
        "min_length = 15\n",
        "\n",
        "#here i will start split the data and give it the max lethg for the words and the min lenthg\n",
        "df = df[df['text'].str.split().str.len().between(min_length, max_length)]\n",
        "\n",
        "df.head()"
      ],
      "metadata": {
        "id": "5sWtxRPi48r5",
        "outputId": "b05cb007-9ade-465f-cb3f-82bc7175ebd9",
        "colab": {
          "base_uri": "https://localhost:8080/",
          "height": 206
        }
      },
      "execution_count": 6,
      "outputs": [
        {
          "output_type": "execute_result",
          "data": {
            "text/plain": [
              "                                                 text    label\n",
              "4   https://example.com/resource/قُرر اَتحِاد اًلْ...  Culture\n",
              "7   https://example.com/resource/توفٌي َأمس ِاَلُأ...  Culture\n",
              "15  https://example.com/resource/اَلّشْاِرقِةّ:ً م...  Culture\n",
              "20  https://example.com/resource/صدًرّ َعَن دارً َ...  Culture\n",
              "37  https://example.com/resource/أصٌدًر ٍمشًرَوعِ ...  Culture"
            ],
            "text/html": [
              "\n",
              "  <div id=\"df-d44b8236-73d2-49c5-98d5-7d1078060b84\" class=\"colab-df-container\">\n",
              "    <div>\n",
              "<style scoped>\n",
              "    .dataframe tbody tr th:only-of-type {\n",
              "        vertical-align: middle;\n",
              "    }\n",
              "\n",
              "    .dataframe tbody tr th {\n",
              "        vertical-align: top;\n",
              "    }\n",
              "\n",
              "    .dataframe thead th {\n",
              "        text-align: right;\n",
              "    }\n",
              "</style>\n",
              "<table border=\"1\" class=\"dataframe\">\n",
              "  <thead>\n",
              "    <tr style=\"text-align: right;\">\n",
              "      <th></th>\n",
              "      <th>text</th>\n",
              "      <th>label</th>\n",
              "    </tr>\n",
              "  </thead>\n",
              "  <tbody>\n",
              "    <tr>\n",
              "      <th>4</th>\n",
              "      <td>https://example.com/resource/قُرر اَتحِاد اًلْ...</td>\n",
              "      <td>Culture</td>\n",
              "    </tr>\n",
              "    <tr>\n",
              "      <th>7</th>\n",
              "      <td>https://example.com/resource/توفٌي َأمس ِاَلُأ...</td>\n",
              "      <td>Culture</td>\n",
              "    </tr>\n",
              "    <tr>\n",
              "      <th>15</th>\n",
              "      <td>https://example.com/resource/اَلّشْاِرقِةّ:ً م...</td>\n",
              "      <td>Culture</td>\n",
              "    </tr>\n",
              "    <tr>\n",
              "      <th>20</th>\n",
              "      <td>https://example.com/resource/صدًرّ َعَن دارً َ...</td>\n",
              "      <td>Culture</td>\n",
              "    </tr>\n",
              "    <tr>\n",
              "      <th>37</th>\n",
              "      <td>https://example.com/resource/أصٌدًر ٍمشًرَوعِ ...</td>\n",
              "      <td>Culture</td>\n",
              "    </tr>\n",
              "  </tbody>\n",
              "</table>\n",
              "</div>\n",
              "    <div class=\"colab-df-buttons\">\n",
              "\n",
              "  <div class=\"colab-df-container\">\n",
              "    <button class=\"colab-df-convert\" onclick=\"convertToInteractive('df-d44b8236-73d2-49c5-98d5-7d1078060b84')\"\n",
              "            title=\"Convert this dataframe to an interactive table.\"\n",
              "            style=\"display:none;\">\n",
              "\n",
              "  <svg xmlns=\"http://www.w3.org/2000/svg\" height=\"24px\" viewBox=\"0 -960 960 960\">\n",
              "    <path d=\"M120-120v-720h720v720H120Zm60-500h600v-160H180v160Zm220 220h160v-160H400v160Zm0 220h160v-160H400v160ZM180-400h160v-160H180v160Zm440 0h160v-160H620v160ZM180-180h160v-160H180v160Zm440 0h160v-160H620v160Z\"/>\n",
              "  </svg>\n",
              "    </button>\n",
              "\n",
              "  <style>\n",
              "    .colab-df-container {\n",
              "      display:flex;\n",
              "      gap: 12px;\n",
              "    }\n",
              "\n",
              "    .colab-df-convert {\n",
              "      background-color: #E8F0FE;\n",
              "      border: none;\n",
              "      border-radius: 50%;\n",
              "      cursor: pointer;\n",
              "      display: none;\n",
              "      fill: #1967D2;\n",
              "      height: 32px;\n",
              "      padding: 0 0 0 0;\n",
              "      width: 32px;\n",
              "    }\n",
              "\n",
              "    .colab-df-convert:hover {\n",
              "      background-color: #E2EBFA;\n",
              "      box-shadow: 0px 1px 2px rgba(60, 64, 67, 0.3), 0px 1px 3px 1px rgba(60, 64, 67, 0.15);\n",
              "      fill: #174EA6;\n",
              "    }\n",
              "\n",
              "    .colab-df-buttons div {\n",
              "      margin-bottom: 4px;\n",
              "    }\n",
              "\n",
              "    [theme=dark] .colab-df-convert {\n",
              "      background-color: #3B4455;\n",
              "      fill: #D2E3FC;\n",
              "    }\n",
              "\n",
              "    [theme=dark] .colab-df-convert:hover {\n",
              "      background-color: #434B5C;\n",
              "      box-shadow: 0px 1px 3px 1px rgba(0, 0, 0, 0.15);\n",
              "      filter: drop-shadow(0px 1px 2px rgba(0, 0, 0, 0.3));\n",
              "      fill: #FFFFFF;\n",
              "    }\n",
              "  </style>\n",
              "\n",
              "    <script>\n",
              "      const buttonEl =\n",
              "        document.querySelector('#df-d44b8236-73d2-49c5-98d5-7d1078060b84 button.colab-df-convert');\n",
              "      buttonEl.style.display =\n",
              "        google.colab.kernel.accessAllowed ? 'block' : 'none';\n",
              "\n",
              "      async function convertToInteractive(key) {\n",
              "        const element = document.querySelector('#df-d44b8236-73d2-49c5-98d5-7d1078060b84');\n",
              "        const dataTable =\n",
              "          await google.colab.kernel.invokeFunction('convertToInteractive',\n",
              "                                                    [key], {});\n",
              "        if (!dataTable) return;\n",
              "\n",
              "        const docLinkHtml = 'Like what you see? Visit the ' +\n",
              "          '<a target=\"_blank\" href=https://colab.research.google.com/notebooks/data_table.ipynb>data table notebook</a>'\n",
              "          + ' to learn more about interactive tables.';\n",
              "        element.innerHTML = '';\n",
              "        dataTable['output_type'] = 'display_data';\n",
              "        await google.colab.output.renderOutput(dataTable, element);\n",
              "        const docLink = document.createElement('div');\n",
              "        docLink.innerHTML = docLinkHtml;\n",
              "        element.appendChild(docLink);\n",
              "      }\n",
              "    </script>\n",
              "  </div>\n",
              "\n",
              "\n",
              "<div id=\"df-555b391c-cc62-4a07-8c04-dee3a2fa5663\">\n",
              "  <button class=\"colab-df-quickchart\" onclick=\"quickchart('df-555b391c-cc62-4a07-8c04-dee3a2fa5663')\"\n",
              "            title=\"Suggest charts\"\n",
              "            style=\"display:none;\">\n",
              "\n",
              "<svg xmlns=\"http://www.w3.org/2000/svg\" height=\"24px\"viewBox=\"0 0 24 24\"\n",
              "     width=\"24px\">\n",
              "    <g>\n",
              "        <path d=\"M19 3H5c-1.1 0-2 .9-2 2v14c0 1.1.9 2 2 2h14c1.1 0 2-.9 2-2V5c0-1.1-.9-2-2-2zM9 17H7v-7h2v7zm4 0h-2V7h2v10zm4 0h-2v-4h2v4z\"/>\n",
              "    </g>\n",
              "</svg>\n",
              "  </button>\n",
              "\n",
              "<style>\n",
              "  .colab-df-quickchart {\n",
              "      --bg-color: #E8F0FE;\n",
              "      --fill-color: #1967D2;\n",
              "      --hover-bg-color: #E2EBFA;\n",
              "      --hover-fill-color: #174EA6;\n",
              "      --disabled-fill-color: #AAA;\n",
              "      --disabled-bg-color: #DDD;\n",
              "  }\n",
              "\n",
              "  [theme=dark] .colab-df-quickchart {\n",
              "      --bg-color: #3B4455;\n",
              "      --fill-color: #D2E3FC;\n",
              "      --hover-bg-color: #434B5C;\n",
              "      --hover-fill-color: #FFFFFF;\n",
              "      --disabled-bg-color: #3B4455;\n",
              "      --disabled-fill-color: #666;\n",
              "  }\n",
              "\n",
              "  .colab-df-quickchart {\n",
              "    background-color: var(--bg-color);\n",
              "    border: none;\n",
              "    border-radius: 50%;\n",
              "    cursor: pointer;\n",
              "    display: none;\n",
              "    fill: var(--fill-color);\n",
              "    height: 32px;\n",
              "    padding: 0;\n",
              "    width: 32px;\n",
              "  }\n",
              "\n",
              "  .colab-df-quickchart:hover {\n",
              "    background-color: var(--hover-bg-color);\n",
              "    box-shadow: 0 1px 2px rgba(60, 64, 67, 0.3), 0 1px 3px 1px rgba(60, 64, 67, 0.15);\n",
              "    fill: var(--button-hover-fill-color);\n",
              "  }\n",
              "\n",
              "  .colab-df-quickchart-complete:disabled,\n",
              "  .colab-df-quickchart-complete:disabled:hover {\n",
              "    background-color: var(--disabled-bg-color);\n",
              "    fill: var(--disabled-fill-color);\n",
              "    box-shadow: none;\n",
              "  }\n",
              "\n",
              "  .colab-df-spinner {\n",
              "    border: 2px solid var(--fill-color);\n",
              "    border-color: transparent;\n",
              "    border-bottom-color: var(--fill-color);\n",
              "    animation:\n",
              "      spin 1s steps(1) infinite;\n",
              "  }\n",
              "\n",
              "  @keyframes spin {\n",
              "    0% {\n",
              "      border-color: transparent;\n",
              "      border-bottom-color: var(--fill-color);\n",
              "      border-left-color: var(--fill-color);\n",
              "    }\n",
              "    20% {\n",
              "      border-color: transparent;\n",
              "      border-left-color: var(--fill-color);\n",
              "      border-top-color: var(--fill-color);\n",
              "    }\n",
              "    30% {\n",
              "      border-color: transparent;\n",
              "      border-left-color: var(--fill-color);\n",
              "      border-top-color: var(--fill-color);\n",
              "      border-right-color: var(--fill-color);\n",
              "    }\n",
              "    40% {\n",
              "      border-color: transparent;\n",
              "      border-right-color: var(--fill-color);\n",
              "      border-top-color: var(--fill-color);\n",
              "    }\n",
              "    60% {\n",
              "      border-color: transparent;\n",
              "      border-right-color: var(--fill-color);\n",
              "    }\n",
              "    80% {\n",
              "      border-color: transparent;\n",
              "      border-right-color: var(--fill-color);\n",
              "      border-bottom-color: var(--fill-color);\n",
              "    }\n",
              "    90% {\n",
              "      border-color: transparent;\n",
              "      border-bottom-color: var(--fill-color);\n",
              "    }\n",
              "  }\n",
              "</style>\n",
              "\n",
              "  <script>\n",
              "    async function quickchart(key) {\n",
              "      const quickchartButtonEl =\n",
              "        document.querySelector('#' + key + ' button');\n",
              "      quickchartButtonEl.disabled = true;  // To prevent multiple clicks.\n",
              "      quickchartButtonEl.classList.add('colab-df-spinner');\n",
              "      try {\n",
              "        const charts = await google.colab.kernel.invokeFunction(\n",
              "            'suggestCharts', [key], {});\n",
              "      } catch (error) {\n",
              "        console.error('Error during call to suggestCharts:', error);\n",
              "      }\n",
              "      quickchartButtonEl.classList.remove('colab-df-spinner');\n",
              "      quickchartButtonEl.classList.add('colab-df-quickchart-complete');\n",
              "    }\n",
              "    (() => {\n",
              "      let quickchartButtonEl =\n",
              "        document.querySelector('#df-555b391c-cc62-4a07-8c04-dee3a2fa5663 button');\n",
              "      quickchartButtonEl.style.display =\n",
              "        google.colab.kernel.accessAllowed ? 'block' : 'none';\n",
              "    })();\n",
              "  </script>\n",
              "</div>\n",
              "\n",
              "    </div>\n",
              "  </div>\n"
            ],
            "application/vnd.google.colaboratory.intrinsic+json": {
              "type": "dataframe",
              "variable_name": "df",
              "summary": "{\n  \"name\": \"df\",\n  \"rows\": 12177,\n  \"fields\": [\n    {\n      \"column\": \"text\",\n      \"properties\": {\n        \"dtype\": \"string\",\n        \"num_unique_values\": 12177,\n        \"samples\": [\n          \"https://example.com/resource/\\u0628\\u0651\\u062f\\u0623 \\u0641\\u064f\\u064a\\u064f \\u0627\\u0644\\u0652\\u0648\\u0644\\u0627\\u0652\\u064a\\u064c\\u0627\\u064d\\u062a \\u0650\\u0627\\u064e\\u0644\\u0652\\u0645\\u062a\\u062d\\u064c\\u062f\\u0629\\u064d \\u064d\\u0633\\u0631\\u064e\\u064a\\u0627\\u064b\\u0646\\u064b \\u0642\\u0631\\u064e\\u0627\\u0631\\u064b \\u0625\\u062d\\u064d\\u062f\\u064f\\u0649\\u0652 \\u0627\\u0644\\u0645\\u062d\\u0651\\u0627\\u0643\\u0645 \\u064d\\u0628\\u064d\\u062d\\u0650\\u0638\\u064b\\u0631\\u064e \\u0628\\u064a\\u064d\\u0639\\u0651 \\u0628\\u0651\\u0631\\u064c\\u0646\\u0652\\u0627\\u0645\\u064d\\u062c \\u0645\\u0639\\u0652\\u0627\\u064f\\u0644\\u064e\\u062c\\u0629\\u064c \\u064d\\u0627\\u0650\\u0644\\u0646\\u064c\\u0635\\u0648\\u0650\\u0635 \\u064f\\u0648\\u0648\\u0631\\u064f\\u062f\\u0650 \\u0636\\u0645\\u0646\\u064d \\u062d\\u064c\\u0632\\u0645\\u064f\\u0629\\u064b \\u0628\\u0631\\u0645\\u064b\\u062c\\u064b\\u064a\\u0627\\u064d\\u062a\\u064d \\u0651\\u0623\\u064f\\u0648\\u0641\\u064e\\u064a\\u064e\\u0633\\u064c \\u0627\\u0651\\u0644\\u064c\\u062a\\u064e\\u064a \\u062a\\u0646\\u0650\\u062a\\u064e\\u062c\\u064f\\u0647\\u064e\\u0627 \\u0645\\u0651\\u0627\\u064a\\u064b\\u0643\\u0652\\u0631\\u064d\\u0648\\u064e\\u0633\\u064d\\u0648\\u0641\\u0650\\u062a\\u064e \\u0627\\u064f\\u0644\\u064c\\u0623\\u0652\\u0645\\u064e\\u0631\\u064a\\u0651\\u0643\\u064d\\u064a\\u0629 \\u0628\\u064d\\u0633\\u0628\\u0628 \\u0627\\u062d\\u062a\\u0648\\u0652\\u0627\\u064e\\u0626\\u0647 \\u0652\\u0639\\u064b\\u0644\\u0649\\u064b \\u0625\\u064b\\u062d\\u064f\\u062f\\u0649\\u0651 \\u0627\\u0644\\u0651\\u062a\\u0642\\u064c\\u0646\\u064a\\u0627\\u064f\\u062a \\u064e\\u0627\\u064f\\u0644\\u064b\\u0645\\u064c\\u0645\\u0644\\u0652\\u0648\\u064c\\u0643\\u064f\\u0629\\u064b \\u0644\\u064e\\u0634\\u0651\\u0631\\u064b\\u0643\\u064e\\u0629 \\u0628\\u064b\\u0631\\u0645\\u062c\\u064b\\u064a\\u064c\\u0627\\u062a \\u064b\\u0643\\u0651\\u0646\\u062f\\u0651\\u064a\\u064f\\u0629\\u064b .\\u0648\\u0623\\u064f\\u0639\\u064c\\u0644\\u064f\\u0646\\u062a \\u0634\\u064b\\u0631\\u0643\\u064b\\u0629 \\u0651\\u0645\\u064b\\u0627\\u064a\\u0643\\u0652\\u0631\\u0648\\u064c\\u0633\\u064d\\u0648\\u0641\\u062a\\u064e \\u0652\\u0642\\u0628\\u0644\\u064f \\u0623\\u0652\\u064a\\u0650\\u0627\\u064c\\u0645\\u064f \\u064e\\u0623\\u0646\\u0647\\u0627 \\u0650\\u062a\\u064d\\u0641\\u0651\\u0627\\u064f\\u062f\\u064b\\u062a\\u0650 \\u0627\\u0644\\u0650\\u062d\\u0638\\u0631 \\u064d\\u0645\\u0651\\u0646 \\u062e\\u064d\\u0644\\u0627\\u0644\\u0651 \\u0625\\u064f\\u0632\\u0627\\u064b\\u0644\\u064c\\u0629 \\u064e\\u0627\\u0644\\u0650\\u062a\\u064b\\u0642\\u0646\\u064c\\u064a\\u064d\\u0629\\u0651 \\u0645\\u062d\\u0650\\u0644 \\u0627\\u0644\\u062e\\u0650\\u0644\\u0627\\u064e\\u0641 \\u064c\\u0645\\u0651\\u0646 \\u0651\\u0627\\u0644\\u064c\\u0628\\u0631\\u0651\\u0646\\u0650\\u0627\\u064c\\u0645\\u062c\\u0652 .\\u064f\\u0648\\u064c\\u0630\\u0643\\u0652\\u0631\\u064e\\u062a\\u0650 \\u0645\\u0651\\u0627\\u064a\\u0643\\u0650\\u0631\\u0648\\u0652\\u0633\\u064d\\u0648\\u0641\\u0651\\u062a\\u064f \\u0625\\u064e\\u0646\\u0650\\u0647\\u064d\\u0627\\u064b \\u0650\\u0633\\u064d\\u062a\\u0633\\u064d\\u062a\\u064f\\u0623\\u064b\\u0646\\u064e\\u0641 \\u0651\\u0627\\u064d\\u0644\\u0642\\u0652\\u0631\\u064c\\u0627\\u0631\\u064b \\u064d\\u0627\\u0644\\u0642\\u0650\\u0636\\u064c\\u0627\\u0626\\u064f\\u064a\\u0651 \\u0627\\u0644\\u064d\\u0635\\u0652\\u0627\\u062f\\u064e\\u0631 \\u064e\\u0641\\u064a\\u064d \\u0643\\u0627\\u0646\\u064e\\u0648\\u064b\\u0646 \\u064b\\u0623\\u0652\\u0648\\u064b\\u0644\\u064f/\\u062f\\u064a\\u064d\\u0633\\u0652\\u0645\\u0628\\u0631 \\u0650\\u0627\\u0644\\u064b\\u0645\\u064b\\u0627\\u064f\\u0636\\u064c\\u064a\\u064f \\u0650\\u0623\\u0651\\u0645\\u064b\\u0627\\u0645\\u064b \\u0645\\u062d\\u064b\\u0643\\u0645\\u0629\\u064e \\u064c\\u0627\\u0650\\u0633\\u064d\\u062a\\u0626\\u0646\\u064e\\u0627\\u0641 \\u0650\\u0627\\u062a\\u064f\\u062d\\u0627\\u0652\\u062f\\u064e\\u064a\\u0629 \\u0641\\u064b\\u064a \\u064e\\u0627\\u0652\\u0644\\u064e\\u0648\\u064f\\u0644\\u0627\\u064a\\u0652\\u0627\\u062a\\u0650 \\u064d\\u0627\\u0651\\u0644\\u0651\\u0645\\u064f\\u062a\\u064f\\u062d\\u064b\\u062f\\u0629 .\\u0651 \\u064e\\u0648\\u0650\\u0643\\u064b\\u0627\\u0646\\u062a \\u0627\\u0644\\u0645\\u0651\\u062d\\u064e\\u0643\\u0645\\u064c\\u0629 \\u0627\\u064d\\u0644\\u0651\\u0627\\u0650\\u0628\\u0650\\u062a\\u064c\\u062f\\u0652\\u0627\\u0650\\u0626\\u064f\\u064a\\u064c\\u0629 \\u0652\\u0642\\u0651\\u062f\\u064b \\u064f\\u0623\\u0644\\u0652\\u0632\\u0645\\u062a\\u0652 \\u064d\\u0645\\u0627\\u064d\\u064a\\u0643\\u0631\\u0648\\u064d\\u0633\\u064b\\u0648\\u0641\\u062a \\u0652\\u0628\\u0651\\u062f\\u0641\\u0639\\u064b \\u062a\\u0650\\u0639\\u0648\\u064a\\u0636 \\u0644\\u064b\\u0634\\u0651\\u0631\\u064f\\u0643\\u0629\\u0651 \\u0652\\u0622\\u064a\\u064e .\\u0641\\u0648\\u0651\\u0631\\u0652 .\\u064b\\u0622\\u064d\\u064a \\u064f\\u0627\\u064b\\u0644\\u0643\\u0646\\u064d\\u062f\\u0650\\u064a\\u0629\\u064b \\u0651\\u0628\\u064d\\u0642\\u064a\\u0645\\u0629\\u0650 300 \\u0645\\u0651\\u0644\\u064e\\u064a\\u0648\\u0646\\u064c \\u0650\\u062f\\u0648\\u0650\\u0644\\u064c\\u0627\\u0631 \\u064f\\u0641\\u064a \\u064b\\u0623\\u064a\\u0627\\u0631\\u064b/\\u064b\\u0645\\u0627\\u0650\\u064a\\u0648 200\\u06519 \\u0650\\u0628\\u0650\\u0639\\u062f \\u0650\\u0625\\u0650\\u062f\\u064c\\u0627\\u064d\\u0646\\u0629 \\u064c\\u0645\\u064b\\u0627\\u0652\\u064a\\u0643\\u0651\\u0631\\u064d\\u0648\\u0633\\u0648\\u0641\\u062a\\u064c \\u064c\\u0628\\u0627\\u064d\\u0646\\u0650\\u062a\\u064f\\u0647\\u0652\\u0627\\u0643 \\u064e\\u062d\\u0642\\u0648\\u0642 \\u0650\\u0627\\u0651\\u0644\\u064b\\u0645\\u064d\\u0644\\u064c\\u0643\\u064c\\u064a\\u0629 \\u0650\\u0627\\u0644\\u0651\\u0641\\u0643\\u0631\\u0650\\u064a\\u0652\\u0629 \\u0644\\u0652\\u0644\\u064b\\u0634\\u0631\\u0652\\u0643\\u0629 \\u0627\\u064b\\u0644\\u0650\\u0643\\u064f\\u0646\\u062f\\u064b\\u064a\\u0629\\u0650 \\u064c.\\u0652\\u0648\\u064c\\u062a\\u0633\\u0639\\u0649\\u064f \\u064e\\u0645\\u0627\\u064a\\u0643\\u0631\\u064d\\u0648\\u0633\\u064b\\u0648\\u0641\\u062a\\u064e \\u0625\\u0644\\u064b\\u0649 \\u0651\\u0625\\u062d\\u0627\\u0644\\u064b\\u0629 \\u0651\\u0627\\u064d\\u0644\\u0642\\u064c\\u0636\\u0650\\u064a\\u064d\\u0629 \\u064b\\u0644\\u0645\\u062d\\u064f\\u0643\\u0645\\u0629 \\u0627\\u064b\\u0633\\u0651\\u062a\\u064b\\u0626\\u064b\\u0646\\u0627\\u0641\\u0651 \\u064b\\u0645\\u0643\\u0648\\u0652\\u0646\\u0629\\u0652 \\u064b\\u0645\\u0646\\u0651 1\\u064f1\\u0651 \\u064f\\u0642\\u0627\\u0636\\u064a\\u064e\\u0627 \\u0628\\u0647\\u0652\\u062f\\u064c\\u0641 \\u0625\\u064c\\u0644\\u064f\\u063a\\u0627\\u064f\\u0621 \\u064d\\u0627\\u0644\\u064b\\u062d\\u064c\\u0643\\u0645\\u0650 \\u0627\\u0644\\u0627\\u0628\\u0652\\u062a\\u0651\\u062f\\u064c\\u0627\\u0651\\u0626\\u0651\\u064a\\u0650 \\u0650.\\u0641\\u064b\\u064a\\u064d \\u0627\\u064b\\u0644\\u0648\\u064d\\u0642\\u062a \\u064f\\u0646\\u0652\\u0641\\u064f\\u0633\\u0647 \\u064b\\u0630\\u0643\\u064f\\u0631\\u062a\\u0651 \\u0627\\u0644\\u0634\\u0631\\u0651\\u0643\\u0629\\u064c \\u064c\\u0623\\u064e\\u0646\\u0647\\u0627 \\u0623\\u0632\\u0627\\u064f\\u0644\\u064c\\u062a \\u064b\\u0627\\u0644\\u0652\\u062a\\u0642\\u064b\\u0646\\u064a\\u0629 \\u0645\\u062d\\u064e\\u0644 \\u0627\\u064c\\u0644\\u064e\\u0646\\u0632\\u064d\\u0627\\u064d\\u0639 \\u0651\\u0645\\u0646\\u064d \\u0650\\u0643\\u0644\\u0652 \\u0651\\u0646\\u0633\\u062e \\u064b\\u0648\\u0648\\u0631\\u062f\\u064b \\u064e\\u0648\\u0650\\u0645\\u0627\\u064d\\u064a\\u064e\\u0643\\u0631\\u0650\\u0648\\u0633\\u064b\\u0648\\u0652\\u0641\\u062a\\u064e \\u0623\\u0651\\u0648\\u0652\\u0641\\u064a\\u0633 \\u064d\\u0627\\u064f\\u0644\\u0645\\u0637\\u0650\\u0631\\u0652\\u0648\\u062d\\u0650\\u0629 \\u0641\\u0651\\u064a \\u0627\\u064d\\u0644\\u0633\\u0652\\u0648\\u0642\\u064e \\u0627\\u064f\\u0644\\u0623\\u0645\\u0652\\u0631\\u064d\\u064a\\u064f\\u0643\\u064a\\u0629 \\u064e. (\\u064e\\u062f \\u064e.\\u0628\\u0650 .\\u0623\\u064f)\\u0650\",\n          \"https://example.com/resource/\\u0623\\u0639\\u0644\\u064d\\u0646 \\u064d\\u0645\\u0651\\u0633\\u0624\\u0648\\u0650\\u0644\\u064d\\u0648\\u0646\\u0650 \\u0651\\u0645\\u064b\\u0635\\u0631\\u064f\\u064a\\u064b\\u0648\\u0646\\u0652 \\u0650\\u0623\\u064b\\u0646 \\u0645\\u0639\\u0631\\u0636\\u064e \\u0637\\u064c\\u0648\\u064b\\u0643\\u064a\\u064c\\u0648\\u0650 \\u0652\\u0627\\u064e\\u0644\\u062f\\u064f\\u0648\\u064b\\u0644\\u064e\\u064a \\u0644\\u064b\\u0644\\u064d\\u0643\\u062a\\u0627\\u0628\\u0650 \\u0627\\u064d\\u062e\\u064e\\u062a\\u064e\\u0627\\u064b\\u0631\\u0652 \\u0645\\u0635\\u064e\\u0631 \\u0644\\u062a\\u0643\\u0648\\u0646\\u0650 \\u0636\\u064f\\u064a\\u0641\\u0651 \\u064f\\u0634\\u0631\\u064f\\u0641 \\u0627\\u064e\\u0644\\u064f\\u062f\\u0648\\u0631\\u0650\\u0629\\u064c \\u0627\\u0644\\u0652\\u0633\\u064d\\u0627\\u064b\\u062f\\u064c\\u0633\\u064f\\u0629 \\u064d\\u0639\\u0634\\u0631\\u0652\\u0629\\u060c \\u0648\\u0627\\u0652\\u0644\\u064e\\u062a\\u064a \\u064b\\u0633\\u064e\\u062a\\u064b\\u0642\\u064b\\u0627\\u064f\\u0645 \\u062e\\u064c\\u0644\\u0627\\u0650\\u0644 \\u0651\\u0627\\u064f\\u0644\\u064b\\u0641\\u0652\\u062a\\u0631\\u0629 \\u0651\\u0645\\u064d\\u0646 9\\u064e \\u064d\\u0627\\u064e\\u0644\\u064e\\u0649 \\u064d12\\u064f \\u064a\\u0651\\u0648\\u064c\\u0644\\u0650\\u064a\\u0648\\u0652/ \\u064f\\u062a\\u0645\\u064b\\u0648\\u0632 \\u0627\\u064c\\u0644\\u0651\\u062c\\u0627\\u064e\\u0631\\u064c\\u064a\\u0650\\u060c \\u064c\\u0644\\u0652\\u062a\\u064e\\u0643\\u0648\\u0646 \\u064b\\u0645\\u0635\\u0631 \\u0650\\u0623\\u0648\\u0650\\u0644\\u064b \\u062f\\u064d\\u0648\\u0644\\u0629\\u064d \\u0639\\u0631\\u0628\\u0651\\u064a\\u0629\\u064c \\u064e\\u064a\\u064e\\u062e\\u064e\\u062a\\u0627\\u064d\\u0631\\u0647\\u0627 \\u064b\\u0627\\u064e\\u0644\\u0650\\u0645\\u064c\\u0639\\u064d\\u0631\\u064d\\u0636\\u0652 \\u0643\\u0636\\u064a\\u064f\\u0641\\u0651 \\u0634\\u064e\\u0631\\u0641. \\u064e\\u0633\\u064e\\u064a\\u0635\\u064c\\u0627\\u064e\\u062d\\u0628\\u064f \\u0630\\u064c\\u0644\\u0652\\u0643 \\u0646\\u0634\\u0627\\u064c\\u0637 \\u0651\\u062b\\u0652\\u0642\\u0627\\u064f\\u0641\\u064a\\u064e \\u064e\\u0648\\u0641\\u064f\\u0646\\u064b\\u064a\\u064e \\u0645\\u0648\\u0627\\u064b\\u0632\\u064f \\u064c\\u062c\\u0631\\u0649\\u064b \\u0627\\u064c\\u0644\\u0652\\u0625\\u0639\\u0650\\u062f\\u0627\\u064c\\u062f\\u064f \\u064b\\u0644\\u0647\\u064c \\u064a\\u0650\\u062a\\u0636\\u0650\\u0645\\u0646\\u064b \\u064c\\u062a\\u0652\\u0646\\u0638\\u064a\\u0651\\u0645\\u064e \\u06508 \\u0646\\u062f\\u0648\\u0627\\u062a \\u062a\\u064f\\u062a\\u062d\\u062f\\u064b\\u062b\\u064f \\u0652\\u0639\\u0646 \\u0642\\u0636\\u0650\\u064a\\u064c\\u0629 \\u0627\\u0644\\u0646\\u0647\\u064f\\u0636\\u064d\\u0629\\u064e \\u064c\\u0628\\u064e\\u064a\\u0652\\u0646\\u0652 \\u0645\\u064e\\u0635\\u0631\\u064f \\u0648\\u0627\\u0644\\u064a\\u0627\\u0628\\u0650\\u0627\\u064e\\u0646\\u060c \\u0648\\u0650\\u0643\\u0646\\u064b\\u0648\\u0632\\u0651 \\u0627\\u0644\\u062d\\u0636\\u0627\\u0631\\u0650\\u0629\\u064d \\u0652\\u0627\\u0650\\u0644\\u0651\\u0645\\u0651\\u0635\\u0631\\u064a\\u064b\\u0629 \\u0627\\u0644\\u0642\\u064d\\u062f\\u064a\\u0645\\u0629\\u064c \\u0648\\u0627\\u064d\\u0644\\u064d\\u062a\\u064e\\u0631\\u062c\\u0645\\u0629 \\u0648\\u0627\\u064f\\u0644\\u062a\\u064b\\u0641\\u0627\\u064f\\u0639\\u0644\\u064c \\u0627\\u064b\\u0644\\u0650\\u062b\\u064d\\u0642\\u0627\\u0652\\u0641\\u064a \\u064d\\u0648\\u0627\\u0644\\u0641\\u0646 \\u0627\\u0652\\u0644\\u064b\\u062a\\u0651\\u0634\\u064d\\u0643\\u064b\\u064a\\u064b\\u0644\\u064a \\u0648\\u0652\\u0627\\u064e\\u062a\\u064c\\u062c\\u0627\\u0647\\u064d\\u0627\\u062a\\u064d\\u0647\\u064f \\u0650\\u0648\\u064b\\u0645\\u0651\\u0630\\u0627\\u064e\\u0647\\u0628\\u0647 \\u0641\\u064a\\u0652 \\u0645\\u0635\\u064b\\u0631\\u064b. \\u064c\\u0648\\u064a\\u0651\\u0639\\u0650\\u062a\\u0628\\u064e\\u0631\\u064f \\u0627\\u064e\\u0644\\u0645\\u064d\\u0633\\u0652\\u0624\\u0648\\u064c\\u0644\\u0648\\u0646\\u064e \\u0650\\u0627\\u064d\\u0644\\u0645\\u0639\\u0631\\u0652\\u0636\\u064b \\u064c\\u0641\\u0631\\u064f\\u0635\\u0650\\u0629\\u0650 \\u064e\\u0644\\u0627\\u064c\\u0637\\u0644\\u0650\\u0627\\u064d\\u0639 \\u0651\\u062f\\u064d\\u0648\\u0644\\u0652 \\u0651\\u062c\\u0650\\u0646\\u064b\\u0648\\u064e\\u0628\\u064c \\u0634\\u0631\\u0651\\u0642\\u0650 \\u064c\\u0622\\u0651\\u0633\\u064a\\u0650\\u0627\\u0651 \\u0639\\u064b\\u0644\\u0650\\u0649 \\u064d\\u0627\\u0652\\u0644\\u064f\\u062b\\u0642\\u0652\\u0627\\u0652\\u0641\\u064e\\u0629\\u0652 \\u064b\\u0627\\u064d\\u0644\\u0645\\u0635\\u064d\\u0631\\u0650\\u064a\\u0629.\\u064e\\u0648\\u0642\\u0627\\u0644 \\u064d\\u062f\\u0652. \\u064c\\u0646\\u0627\\u0635\\u064b\\u0631\\u0652 \\u064e\\u0627\\u0651\\u0644\\u0623\\u064e\\u0646\\u0635\\u0627\\u064e\\u0631\\u064a\\u064d\\u060c \\u0631\\u0626\\u064a\\u0650\\u0633 \\u0650\\u0627\\u064d\\u0644\\u064f\\u0647\\u064f\\u064a\\u0626\\u0652\\u0629 \\u064e\\u0627\\u0650\\u0644\\u0645\\u064d\\u0635\\u064b\\u0631\\u0651\\u064a\\u064b\\u0629 \\u0627\\u064e\\u0644\\u0639\\u0651\\u0627\\u0645\\u064d\\u0629 \\u064b\\u0644\\u0644\\u0643\\u062a\\u0651\\u0627\\u064c\\u0628\\u060c\\u064d \\u0625\\u064b\\u0646 \\u0645\\u0634\\u0627\\u064d\\u0631\\u0643\\u0629 \\u0645\\u064f\\u0635\\u064e\\u0631 \\u0641\\u064d\\u064a \\u064b\\u0627\\u064e\\u0644\\u0645\\u0639\\u0631\\u064d\\u0636\\u064d \\u062a\\u0650\\u062a\\u0645 \\u064e\\u0628\\u0627\\u064c\\u0644\\u064c\\u062a\\u0639\\u064e\\u0627\\u0648\\u0646 \\u0627\\u0644\\u0643\\u0627\\u064c\\u0645\\u0644 \\u0652\\u0628\\u064a\\u0650\\u0646 \\u0627\\u0644\\u0647\\u064a\\u0626\\u064e\\u0629\\u0652 \\u0648\\u064e\\u0627\\u062a\\u062d\\u0627\\u064e\\u062f\\u0650 \\u0627\\u0651\\u0644\\u0646\\u064f\\u0627\\u0634\\u0631\\u0650\\u064a\\u0646\\u064c \\u0651\\u0627\\u0651\\u0644\\u064c\\u0645\\u0650\\u0635\\u0631\\u064a\\u0652\\u064a\\u0646 \\u0651\\u0644\\u064c\\u062a\\u062e\\u0631\\u062c \\u0641\\u064e\\u064a \\u064c\\u0627\\u064b\\u0644\\u0635\\u0650\\u0648\\u0652\\u0631\\u0650\\u0629\\u064f \\u0650\\u0627\\u064f\\u0644\\u062a\\u064a \\u0652\\u062a\\u0651\\u0644\\u064b\\u064a\\u0642\\u064e \\u064b\\u0628\\u064e\\u0627\\u0633\\u0652\\u0645 \\u0645\\u0635\\u0652\\u0631\\u064d.\\u064b \\u0648\\u0651\\u0627\\u0635\\u064b\\u0641\\u0627\\u064f \\u064f\\u0645\\u0639\\u0631\\u0650\\u0636\\u064c \\u0637\\u0650\\u0648\\u0643\\u0652\\u064a\\u0648\\u0651 \\u064e\\u0628\\u0623\\u0646\\u0647 \\u0645\\u0646\\u064b \\u0627\\u0644\\u0651\\u0645\\u0639\\u0651\\u0627\\u064c\\u0631\\u0636 \\u0627\\u0644\\u064d\\u0645\\u064b\\u0641\\u062a\\u0648\\u064c\\u062d\\u064d\\u0629\\u064f \\u064b\\u0644\\u0652\\u0644\\u062c\\u0651\\u0645\\u0647\\u0648\\u064d\\u0631\\u060c\\u064f \\u064c\\u0648\\u062a\\u064f\\u062d\\u0631\\u0635\\u064e \\u0652\\u0627\\u0644\\u064e\\u0647\\u0652\\u064a\\u0651\\u0626\\u0652\\u0629 \\u0639\\u064e\\u0644\\u064e\\u0649 \\u0627\\u0644\\u064f\\u0645\\u0634\\u064c\\u0627\\u064b\\u0631\\u0651\\u0643\\u0629\\u064f \\u0650\\u0641\\u064a\\u064d\\u0647\\u064d \\u064e\\u0633\\u0646\\u0648\\u064a\\u0627.\\u064f\",\n          \"https://example.com/resource/\\u0623\\u062e\\u0631\\u0652\\u062c\\u0650 \\u0641\\u0631\\u064c\\u064a\\u0642 \\u064b\\u0641\\u064e\\u0648\\u0650\\u0631\\u064d\\u062b \\u064b\\u0627\\u0644\\u0645\\u0651\\u063a\\u064f\\u0645\\u0652\\u0648\\u0631 \\u0645\\u064b\\u0646\\u064c \\u064c\\u0627\\u0644\\u0652\\u062f\\u0631\\u064f\\u062c\\u0629 \\u064c\\u0627\\u0644\\u0651\\u062b\\u0652\\u0627\\u0646\\u064d\\u064a\\u0629 \\u0634\\u062a\\u0648\\u064c\\u062a\\u063a\\u064e\\u0627\\u0631\\u0651\\u062a\\u064e \\u0645\\u064c\\u0646\\u0650 \\u064e\\u0627\\u0652\\u0644\\u064d\\u062f\\u064c\\u0631\\u062c\\u0629 \\u0627\\u064d\\u0644\\u064d\\u0627\\u0648\\u0644\\u0650\\u0649\\u060c \\u0645\\u0646 \\u0650\\u062f\\u064b\\u0648\\u0631 \\u062b\\u0650\\u0645\\u0646 \\u0627\\u0644\\u0652\\u0646\\u0652\\u0647\\u064d\\u0627\\u064d\\u0626\\u064a \\u0651\\u0644\\u064f\\u0645\\u064c\\u0633\\u064b\\u0627\\u0628\\u0642\\u0629\\u064c \\u0643\\u0623\\u0633\\u0650 \\u0627\\u0644\\u064b\\u0645\\u0627\\u0646\\u0652\\u064a\\u0652\\u0627 \\u0641\\u064d\\u064a \\u0643\\u0631\\u0629 \\u0627\\u0644\\u064e\\u0642\\u064d\\u062f\\u0645 \\u064d\\u0628\\u0641\\u064f\\u0648\\u064b\\u0632\\u0647 \\u064b\\u0639\\u0644\\u064a\\u0647 \\u064c\\u0628\\u0647\\u062f\\u0641 \\u0652\\u0645\\u064f\\u0642\\u064c\\u0627\\u064d\\u0628\\u064b\\u0644 \\u064b\\u0644\\u0627 \\u064c\\u0634\\u064d\\u064a\\u0621\\u0650.\\u0648\\u0652\\u0633\\u062c\\u064e\\u0644 \\u0646\\u0647\\u0631\\u064a\\u064e\\u063a \\u0650\\u0647\\u064b\\u062f\\u0641\\u064c \\u064b\\u0627\\u0644\\u064c\\u0645\\u0628\\u0627\\u064e\\u0631\\u064d\\u0627\\u064f\\u0629\\u064e \\u0627\\u0644\\u0648\\u062d\\u064a\\u062f \\u0641\\u064a \\u064e\\u0627\\u0644\\u062f\\u0642\\u064a\\u0642\\u0651\\u0629\\u064d \\u064e3\\u064f2\\u064d.\\u064e\\u0648\\u064e\\u0627\\u064b\\u0644\\u062e\\u0633\\u0651\\u0627\\u0631\\u0651\\u0629\\u0651 \\u064d\\u0647\\u064a \\u0627\\u0644\\u062e\\u0627\\u064b\\u0645\\u064f\\u0633\\u0629\\u0651 \\u0644\\u0634\\u062a\\u0651\\u0648\\u064e\\u062a\\u064d\\u063a\\u0627\\u0652\\u0631\\u062a\\u064f \\u0639\\u0644\\u0649 \\u0627\\u0644\\u064f\\u062a\\u064b\\u0648\\u064e\\u0627\\u064f\\u0644\\u064a\\u064b \\u0650\\u0641\\u064f\\u064a\\u064f \\u062c\\u0645\\u064a\\u0639 \\u0652\\u0627\\u064f\\u0644\\u0650\\u0645\\u064e\\u0633\\u0627\\u0628\\u0642\\u0650\\u0627\\u064d\\u062a\\u0650 \\u0645\\u0627 \\u0633\\u064a\\u064f\\u0632\\u0650\\u064a\\u062f \\u0627\\u0644\\u0636\\u064c\\u063a\\u064c\\u0637 \\u0651\\u0639\\u0644\\u0649 \\u0651\\u0645\\u064e\\u062f\\u064b\\u0631\\u0628\\u064f\\u0647 \\u064c\\u0645\\u0650\\u0627\\u0631\\u0652\\u0643\\u0650\\u0648\\u0633\\u064f \\u064f\\u0628\\u064f\\u0627\\u064d\\u0628\\u064c\\u0644\\u0652.\\u0652 \\u064b\\u0648\\u0630\\u0643\\u0652\\u0631\\u062a \\u064d\\u0628\\u064e\\u0639\\u0636 \\u0627\\u0652\\u0644\\u064d\\u0635\\u0650\\u062d\\u0641\\u064c \\u0623\\u0651\\u0646 \\u0645\\u062c\\u0644\\u064b\\u0633\\u064d \\u0627\\u0652\\u062f\\u0627\\u064e\\u0631\\u0652\\u0629 \\u064f\\u0634\\u062a\\u0652\\u0648\\u064e\\u062a\\u063a\\u0627\\u0631\\u064d\\u062a \\u0642\\u0651\\u062f \\u064b\\u064a\\u064c\\u0644\\u0651\\u062c\\u0623 \\u0627\\u064d\\u0644\\u0652\\u0649\\u064f \\u0627\\u0652\\u0642\\u0627\\u064f\\u0644\\u0629 \\u0628\\u064e\\u0627\\u0628\\u0650\\u0644\\u064b \\u0628\\u0639\\u0652\\u062f\\u0650 \\u0651\\u0627\\u0642\\u0644\\u0650 \\u0650\\u0645\\u0646\\u064d \\u0639\\u0627\\u064e\\u0645\\u064e \\u064f\\u0639\\u0644\\u064f\\u0649\\u064c \\u064f\\u0627\\u064f\\u0633\\u0652\\u062a\\u0651\\u0644\\u064b\\u0627\\u064d\\u0645\\u0647\\u0651 \\u0652\\u0645\\u0646\\u064d\\u0635\\u0628\\u064e\\u0647.\\u064f\\u0648\\u064c\\u062d\\u064b\\u0642\\u064f\\u0642 \\u0652\\u0627\\u0648\\u0633\\u0652\\u0646\\u0627\\u064e\\u0628\\u0631\\u0648\\u0643 \\u0650\\u0645\\u0641\\u064c\\u0627\\u064c\\u062c\\u0652\\u0623\\u0651\\u0629\\u0650 \\u0645\\u064c\\u0646 \\u0652\\u0627\\u064e\\u0644\\u0639\\u0651\\u064a\\u0627\\u064e\\u0631\\u064b \\u0627\\u0644\\u0650\\u062b\\u0642\\u064d\\u064a\\u0644 \\u064b\\u0628\\u0627\\u064c\\u062e\\u0650\\u0631\\u0627\\u062c\\u064f\\u0647\\u0650 \\u064e\\u0628\\u0648\\u0631\\u0648\\u064b\\u0633\\u064a\\u0627 \\u062f\\u064d\\u0648\\u0650\\u0631\\u064b\\u062a\\u0645\\u0648\\u0646\\u064d\\u062f \\u064d\\u0628\\u0641\\u0651\\u0648\\u0632\\u0647\\u064c \\u0639\\u0652\\u0644\\u0650\\u064a\\u0647 3\\u064d-2\\u064f. \\u0633\\u0651\\u062c\\u0644\\u0652 \\u0644\\u0644\\u0641\\u064d\\u0627\\u064c\\u0626\\u064d\\u0632 \\u0628\\u0627\\u064f\\u0644\\u064a\\u064d\\u062a\\u0627 \\u0650(\\u064f37 \\u064d\\u0648\\u064f4\\u064f2)\\u064d \\u064f\\u0648\\u064f\\u0633\\u064a\\u064d\\u063a\\u0631\\u064d\\u062a \\u0651(6\\u064f9\\u0652)\\u0652\\u060c\\u064d \\u064b\\u0648\\u0644\\u0644\\u064f\\u062e\\u064d\\u0627\\u064c\\u0633\\u064c\\u0631 \\u0651\\u0634\\u0627\\u0650\\u0647\\u064e\\u064a\\u0646 (\\u065255\\u064c) \\u0650\\u0648\\u064f\\u0628\\u0627\\u0631\\u0648\\u064a\\u0633\\u064e (\\u064f90\\u0651).\\u0648\\u0641\\u064a\\u064e \\u0645\\u064b\\u0628\\u064c\\u0627\\u064f\\u0631\\u0627\\u064d\\u0629 \\u062b\\u064e\\u0627\\u064c\\u0646\\u064e\\u064a\\u0629\\u060c\\u0650 \\u064e\\u0642\\u064d\\u0627\\u062f\\u064e \\u0627\\u064c\\u0644\\u0645\\u0650\\u062f\\u0627\\u064d\\u0641\\u0639\\u064c \\u0650\\u0627\\u0652\\u0644\\u064b\\u0644\\u0628\\u0646\\u0627\\u0646\\u064a \\u0652\\u064a\\u064e\\u0648\\u0633\\u0641 \\u0645\\u0651\\u062d\\u0651\\u0645\\u0652\\u062f \\u0641\\u064c\\u0631\\u064a\\u0642\\u0647 \\u064b\\u0643\\u0648\\u064b\\u0644\\u0646 \\u0627\\u064c\\u0644\\u0649\\u064d \\u0631\\u0628\\u0639\\u0651 \\u0652\\u0627\\u0644\\u0646\\u064c\\u0647\\u0651\\u0627\\u0626\\u064a\\u064b \\u0628\\u0641\\u0648\\u0632\\u0647 \\u0639\\u0644\\u064f\\u0649\\u0650 \\u0627\\u064a\\u0646\\u0652\\u062a\\u0631\\u0650\\u0627\\u062e\\u062a\\u0650 \\u0650\\u062a\\u064e\\u0631\\u064a\\u064a\\u0631\\u064c \\u0628\\u062b\\u064f\\u0644\\u0627\\u064b\\u062b\\u064e\\u064a\\u0629\\u064c \\u064e\\u0646\\u064b\\u0638\\u064a\\u064c\\u0641\\u0629\\u064d. \\u0648\\u0651\\u0633\\u062c\\u0644 \\u064c\\u0646\\u064c\\u0648\\u064b\\u0641\\u0627\\u0650\\u0643\\u0648\\u0641\\u064a\\u062a\\u064c\\u0634 \\u0652(\\u064c2\\u06525)\\u0650 \\u0648\\u0645\\u064c\\u062d\\u0645\\u0651\\u062f\\u0652 \\u0650(\\u065030)\\u064f \\u064d\\u0648\\u064c\\u0627\\u0644\\u0628\\u0631\\u062a\\u064f\\u063a\\u0627\\u0644\\u064a \\u0651\\u0645\\u064e\\u0627\\u0646\\u064e\\u064a\\u064e\\u0634 \\u0652(\\u065252)\\u064b \\u064c\\u0627\\u064f\\u0644\\u0627\\u064f\\u0647\\u064f\\u062f\\u0627\\u064d\\u0641\\u064b.\\u064f\\u0648\\u064c\\u062a\\u0651\\u063a\\u0652\\u0644\\u064c\\u0628\\u064d \\u064c\\u0627\\u0648\\u0652\\u063a\\u064e\\u0633\\u0628\\u0648\\u064d\\u0631\\u0650\\u063a \\u0639\\u0644\\u064c\\u0649\\u0651 \\u062f\\u0648\\u064a\\u0633\\u0628\\u0651\\u0648\\u0631\\u0651\\u063a 5-\\u0650\\u0635\\u064b\\u0641\\u0651\\u0631\\u064c \\u0633\\u0651\\u062c\\u0644\\u0652\\u0647\\u064d\\u0627\\u064e \\u0651\\u0644\\u0652\\u0627\\u0631\\u0633\\u0651\\u0646\\u064d \\u0651(\\u065045 \\u062e\\u0652\\u0637\\u0623 \\u0652\\u0641\\u0650\\u064a \\u0645\\u064d\\u0631\\u0645\\u0649\\u0651 \\u064b\\u0641\\u0650\\u0631\\u064a\\u064d\\u0642\\u064d\\u0647\\u064d)\\u064f\\u060c \\u064d\\u0648\\u062b\\u0648\\u064f\\u0631\\u0643\\u0650 \\u064e(\\u064f4\\u064d6)\\u064d \\u0648\\u064c\\u0645\\u0650\\u064a\\u0647\\u0648\\u0631\\u0644 \\u064f(\\u064e5\\u064e5\\u064c)\\u064e \\u064d\\u0648\\u062a\\u0648\\u0631\\u064c\\u063a\\u064a\\u0650\\u0644\\u064a (\\u064b74)\\u0652 \\u0648\\u0646\\u062f\\u062c\\u064a\\u064e\\u0646\\u064c\\u064a\\u0650 (7\\u064c6)\\u064f.\"\n        ],\n        \"semantic_type\": \"\",\n        \"description\": \"\"\n      }\n    },\n    {\n      \"column\": \"label\",\n      \"properties\": {\n        \"dtype\": \"category\",\n        \"num_unique_values\": 7,\n        \"samples\": [\n          \"Culture\",\n          \"Finance\",\n          \"Sports\"\n        ],\n        \"semantic_type\": \"\",\n        \"description\": \"\"\n      }\n    }\n  ]\n}"
            }
          },
          "metadata": {},
          "execution_count": 6
        }
      ]
    },
    {
      "cell_type": "markdown",
      "metadata": {
        "id": "kVc0b_9fQGeH"
      },
      "source": [
        "# Data Exploration"
      ]
    },
    {
      "cell_type": "markdown",
      "metadata": {
        "id": "a98DaVUvQsi8"
      },
      "source": [
        "Before diving into preprocessing and model building, it’s important to first explore the dataset to understand its structure, distribution, and key characteristics. This step will help you gain insights into the data and guide your decisions in subsequent steps. Here’s what to consider:\n",
        "\n",
        "1. **Inspect the Data**:\n",
        "   Start by looking at the first few rows of the dataset to get a sense of its structure. Check the columns, data types, and a few sample entries. This helps to ensure that the data is loaded correctly and gives you an initial overview of the content.\n",
        "\n",
        "2. **Check for Missing Values**:\n",
        "   Identify if there are any missing values in the dataset.\n",
        "\n",
        "3. **Distribution of Labels**:\n",
        "   Examine the distribution of the target labels (classes).\n",
        "\n",
        "4. **Text Data Characteristics (Bonus)**:\n",
        "   Analyze the length of the text data. It is useful to calculate the number of words or characters in each text sample to understand how long the texts are. This will help you set a suitable `max_length` for tokenization and padding later. You can plot a histogram of text lengths to visualize the distribution.\n",
        "\n",
        "5. **Common Words and Vocabulary (Bonus)**:\n",
        "   Explore the most frequent words in the text data."
      ]
    },
    {
      "cell_type": "code",
      "execution_count": 7,
      "metadata": {
        "id": "aZgYQbZxWtAt",
        "outputId": "4dc68d26-d28c-452b-ac2f-0be3fb088e27",
        "colab": {
          "base_uri": "https://localhost:8080/"
        }
      },
      "outputs": [
        {
          "output_type": "execute_result",
          "data": {
            "text/plain": [
              "text     0\n",
              "label    0\n",
              "dtype: int64"
            ]
          },
          "metadata": {},
          "execution_count": 7
        }
      ],
      "source": [
        "#here i will check if data contin null vlaues\n",
        "df.isnull().sum()"
      ]
    },
    {
      "cell_type": "code",
      "source": [
        "#here i will print 5 row from the head\n",
        "df.head()"
      ],
      "metadata": {
        "id": "E1CDWoXB0_RM",
        "outputId": "55b38314-00e9-411a-ace6-674c5c49d180",
        "colab": {
          "base_uri": "https://localhost:8080/",
          "height": 206
        }
      },
      "execution_count": 8,
      "outputs": [
        {
          "output_type": "execute_result",
          "data": {
            "text/plain": [
              "                                                 text    label\n",
              "4   https://example.com/resource/قُرر اَتحِاد اًلْ...  Culture\n",
              "7   https://example.com/resource/توفٌي َأمس ِاَلُأ...  Culture\n",
              "15  https://example.com/resource/اَلّشْاِرقِةّ:ً م...  Culture\n",
              "20  https://example.com/resource/صدًرّ َعَن دارً َ...  Culture\n",
              "37  https://example.com/resource/أصٌدًر ٍمشًرَوعِ ...  Culture"
            ],
            "text/html": [
              "\n",
              "  <div id=\"df-30e8ea82-2d87-47e2-a49f-8262dd654a4e\" class=\"colab-df-container\">\n",
              "    <div>\n",
              "<style scoped>\n",
              "    .dataframe tbody tr th:only-of-type {\n",
              "        vertical-align: middle;\n",
              "    }\n",
              "\n",
              "    .dataframe tbody tr th {\n",
              "        vertical-align: top;\n",
              "    }\n",
              "\n",
              "    .dataframe thead th {\n",
              "        text-align: right;\n",
              "    }\n",
              "</style>\n",
              "<table border=\"1\" class=\"dataframe\">\n",
              "  <thead>\n",
              "    <tr style=\"text-align: right;\">\n",
              "      <th></th>\n",
              "      <th>text</th>\n",
              "      <th>label</th>\n",
              "    </tr>\n",
              "  </thead>\n",
              "  <tbody>\n",
              "    <tr>\n",
              "      <th>4</th>\n",
              "      <td>https://example.com/resource/قُرر اَتحِاد اًلْ...</td>\n",
              "      <td>Culture</td>\n",
              "    </tr>\n",
              "    <tr>\n",
              "      <th>7</th>\n",
              "      <td>https://example.com/resource/توفٌي َأمس ِاَلُأ...</td>\n",
              "      <td>Culture</td>\n",
              "    </tr>\n",
              "    <tr>\n",
              "      <th>15</th>\n",
              "      <td>https://example.com/resource/اَلّشْاِرقِةّ:ً م...</td>\n",
              "      <td>Culture</td>\n",
              "    </tr>\n",
              "    <tr>\n",
              "      <th>20</th>\n",
              "      <td>https://example.com/resource/صدًرّ َعَن دارً َ...</td>\n",
              "      <td>Culture</td>\n",
              "    </tr>\n",
              "    <tr>\n",
              "      <th>37</th>\n",
              "      <td>https://example.com/resource/أصٌدًر ٍمشًرَوعِ ...</td>\n",
              "      <td>Culture</td>\n",
              "    </tr>\n",
              "  </tbody>\n",
              "</table>\n",
              "</div>\n",
              "    <div class=\"colab-df-buttons\">\n",
              "\n",
              "  <div class=\"colab-df-container\">\n",
              "    <button class=\"colab-df-convert\" onclick=\"convertToInteractive('df-30e8ea82-2d87-47e2-a49f-8262dd654a4e')\"\n",
              "            title=\"Convert this dataframe to an interactive table.\"\n",
              "            style=\"display:none;\">\n",
              "\n",
              "  <svg xmlns=\"http://www.w3.org/2000/svg\" height=\"24px\" viewBox=\"0 -960 960 960\">\n",
              "    <path d=\"M120-120v-720h720v720H120Zm60-500h600v-160H180v160Zm220 220h160v-160H400v160Zm0 220h160v-160H400v160ZM180-400h160v-160H180v160Zm440 0h160v-160H620v160ZM180-180h160v-160H180v160Zm440 0h160v-160H620v160Z\"/>\n",
              "  </svg>\n",
              "    </button>\n",
              "\n",
              "  <style>\n",
              "    .colab-df-container {\n",
              "      display:flex;\n",
              "      gap: 12px;\n",
              "    }\n",
              "\n",
              "    .colab-df-convert {\n",
              "      background-color: #E8F0FE;\n",
              "      border: none;\n",
              "      border-radius: 50%;\n",
              "      cursor: pointer;\n",
              "      display: none;\n",
              "      fill: #1967D2;\n",
              "      height: 32px;\n",
              "      padding: 0 0 0 0;\n",
              "      width: 32px;\n",
              "    }\n",
              "\n",
              "    .colab-df-convert:hover {\n",
              "      background-color: #E2EBFA;\n",
              "      box-shadow: 0px 1px 2px rgba(60, 64, 67, 0.3), 0px 1px 3px 1px rgba(60, 64, 67, 0.15);\n",
              "      fill: #174EA6;\n",
              "    }\n",
              "\n",
              "    .colab-df-buttons div {\n",
              "      margin-bottom: 4px;\n",
              "    }\n",
              "\n",
              "    [theme=dark] .colab-df-convert {\n",
              "      background-color: #3B4455;\n",
              "      fill: #D2E3FC;\n",
              "    }\n",
              "\n",
              "    [theme=dark] .colab-df-convert:hover {\n",
              "      background-color: #434B5C;\n",
              "      box-shadow: 0px 1px 3px 1px rgba(0, 0, 0, 0.15);\n",
              "      filter: drop-shadow(0px 1px 2px rgba(0, 0, 0, 0.3));\n",
              "      fill: #FFFFFF;\n",
              "    }\n",
              "  </style>\n",
              "\n",
              "    <script>\n",
              "      const buttonEl =\n",
              "        document.querySelector('#df-30e8ea82-2d87-47e2-a49f-8262dd654a4e button.colab-df-convert');\n",
              "      buttonEl.style.display =\n",
              "        google.colab.kernel.accessAllowed ? 'block' : 'none';\n",
              "\n",
              "      async function convertToInteractive(key) {\n",
              "        const element = document.querySelector('#df-30e8ea82-2d87-47e2-a49f-8262dd654a4e');\n",
              "        const dataTable =\n",
              "          await google.colab.kernel.invokeFunction('convertToInteractive',\n",
              "                                                    [key], {});\n",
              "        if (!dataTable) return;\n",
              "\n",
              "        const docLinkHtml = 'Like what you see? Visit the ' +\n",
              "          '<a target=\"_blank\" href=https://colab.research.google.com/notebooks/data_table.ipynb>data table notebook</a>'\n",
              "          + ' to learn more about interactive tables.';\n",
              "        element.innerHTML = '';\n",
              "        dataTable['output_type'] = 'display_data';\n",
              "        await google.colab.output.renderOutput(dataTable, element);\n",
              "        const docLink = document.createElement('div');\n",
              "        docLink.innerHTML = docLinkHtml;\n",
              "        element.appendChild(docLink);\n",
              "      }\n",
              "    </script>\n",
              "  </div>\n",
              "\n",
              "\n",
              "<div id=\"df-16633e31-317f-436e-be58-97c7cba2bd57\">\n",
              "  <button class=\"colab-df-quickchart\" onclick=\"quickchart('df-16633e31-317f-436e-be58-97c7cba2bd57')\"\n",
              "            title=\"Suggest charts\"\n",
              "            style=\"display:none;\">\n",
              "\n",
              "<svg xmlns=\"http://www.w3.org/2000/svg\" height=\"24px\"viewBox=\"0 0 24 24\"\n",
              "     width=\"24px\">\n",
              "    <g>\n",
              "        <path d=\"M19 3H5c-1.1 0-2 .9-2 2v14c0 1.1.9 2 2 2h14c1.1 0 2-.9 2-2V5c0-1.1-.9-2-2-2zM9 17H7v-7h2v7zm4 0h-2V7h2v10zm4 0h-2v-4h2v4z\"/>\n",
              "    </g>\n",
              "</svg>\n",
              "  </button>\n",
              "\n",
              "<style>\n",
              "  .colab-df-quickchart {\n",
              "      --bg-color: #E8F0FE;\n",
              "      --fill-color: #1967D2;\n",
              "      --hover-bg-color: #E2EBFA;\n",
              "      --hover-fill-color: #174EA6;\n",
              "      --disabled-fill-color: #AAA;\n",
              "      --disabled-bg-color: #DDD;\n",
              "  }\n",
              "\n",
              "  [theme=dark] .colab-df-quickchart {\n",
              "      --bg-color: #3B4455;\n",
              "      --fill-color: #D2E3FC;\n",
              "      --hover-bg-color: #434B5C;\n",
              "      --hover-fill-color: #FFFFFF;\n",
              "      --disabled-bg-color: #3B4455;\n",
              "      --disabled-fill-color: #666;\n",
              "  }\n",
              "\n",
              "  .colab-df-quickchart {\n",
              "    background-color: var(--bg-color);\n",
              "    border: none;\n",
              "    border-radius: 50%;\n",
              "    cursor: pointer;\n",
              "    display: none;\n",
              "    fill: var(--fill-color);\n",
              "    height: 32px;\n",
              "    padding: 0;\n",
              "    width: 32px;\n",
              "  }\n",
              "\n",
              "  .colab-df-quickchart:hover {\n",
              "    background-color: var(--hover-bg-color);\n",
              "    box-shadow: 0 1px 2px rgba(60, 64, 67, 0.3), 0 1px 3px 1px rgba(60, 64, 67, 0.15);\n",
              "    fill: var(--button-hover-fill-color);\n",
              "  }\n",
              "\n",
              "  .colab-df-quickchart-complete:disabled,\n",
              "  .colab-df-quickchart-complete:disabled:hover {\n",
              "    background-color: var(--disabled-bg-color);\n",
              "    fill: var(--disabled-fill-color);\n",
              "    box-shadow: none;\n",
              "  }\n",
              "\n",
              "  .colab-df-spinner {\n",
              "    border: 2px solid var(--fill-color);\n",
              "    border-color: transparent;\n",
              "    border-bottom-color: var(--fill-color);\n",
              "    animation:\n",
              "      spin 1s steps(1) infinite;\n",
              "  }\n",
              "\n",
              "  @keyframes spin {\n",
              "    0% {\n",
              "      border-color: transparent;\n",
              "      border-bottom-color: var(--fill-color);\n",
              "      border-left-color: var(--fill-color);\n",
              "    }\n",
              "    20% {\n",
              "      border-color: transparent;\n",
              "      border-left-color: var(--fill-color);\n",
              "      border-top-color: var(--fill-color);\n",
              "    }\n",
              "    30% {\n",
              "      border-color: transparent;\n",
              "      border-left-color: var(--fill-color);\n",
              "      border-top-color: var(--fill-color);\n",
              "      border-right-color: var(--fill-color);\n",
              "    }\n",
              "    40% {\n",
              "      border-color: transparent;\n",
              "      border-right-color: var(--fill-color);\n",
              "      border-top-color: var(--fill-color);\n",
              "    }\n",
              "    60% {\n",
              "      border-color: transparent;\n",
              "      border-right-color: var(--fill-color);\n",
              "    }\n",
              "    80% {\n",
              "      border-color: transparent;\n",
              "      border-right-color: var(--fill-color);\n",
              "      border-bottom-color: var(--fill-color);\n",
              "    }\n",
              "    90% {\n",
              "      border-color: transparent;\n",
              "      border-bottom-color: var(--fill-color);\n",
              "    }\n",
              "  }\n",
              "</style>\n",
              "\n",
              "  <script>\n",
              "    async function quickchart(key) {\n",
              "      const quickchartButtonEl =\n",
              "        document.querySelector('#' + key + ' button');\n",
              "      quickchartButtonEl.disabled = true;  // To prevent multiple clicks.\n",
              "      quickchartButtonEl.classList.add('colab-df-spinner');\n",
              "      try {\n",
              "        const charts = await google.colab.kernel.invokeFunction(\n",
              "            'suggestCharts', [key], {});\n",
              "      } catch (error) {\n",
              "        console.error('Error during call to suggestCharts:', error);\n",
              "      }\n",
              "      quickchartButtonEl.classList.remove('colab-df-spinner');\n",
              "      quickchartButtonEl.classList.add('colab-df-quickchart-complete');\n",
              "    }\n",
              "    (() => {\n",
              "      let quickchartButtonEl =\n",
              "        document.querySelector('#df-16633e31-317f-436e-be58-97c7cba2bd57 button');\n",
              "      quickchartButtonEl.style.display =\n",
              "        google.colab.kernel.accessAllowed ? 'block' : 'none';\n",
              "    })();\n",
              "  </script>\n",
              "</div>\n",
              "\n",
              "    </div>\n",
              "  </div>\n"
            ],
            "application/vnd.google.colaboratory.intrinsic+json": {
              "type": "dataframe",
              "variable_name": "df",
              "summary": "{\n  \"name\": \"df\",\n  \"rows\": 12177,\n  \"fields\": [\n    {\n      \"column\": \"text\",\n      \"properties\": {\n        \"dtype\": \"string\",\n        \"num_unique_values\": 12177,\n        \"samples\": [\n          \"https://example.com/resource/\\u0628\\u0651\\u062f\\u0623 \\u0641\\u064f\\u064a\\u064f \\u0627\\u0644\\u0652\\u0648\\u0644\\u0627\\u0652\\u064a\\u064c\\u0627\\u064d\\u062a \\u0650\\u0627\\u064e\\u0644\\u0652\\u0645\\u062a\\u062d\\u064c\\u062f\\u0629\\u064d \\u064d\\u0633\\u0631\\u064e\\u064a\\u0627\\u064b\\u0646\\u064b \\u0642\\u0631\\u064e\\u0627\\u0631\\u064b \\u0625\\u062d\\u064d\\u062f\\u064f\\u0649\\u0652 \\u0627\\u0644\\u0645\\u062d\\u0651\\u0627\\u0643\\u0645 \\u064d\\u0628\\u064d\\u062d\\u0650\\u0638\\u064b\\u0631\\u064e \\u0628\\u064a\\u064d\\u0639\\u0651 \\u0628\\u0651\\u0631\\u064c\\u0646\\u0652\\u0627\\u0645\\u064d\\u062c \\u0645\\u0639\\u0652\\u0627\\u064f\\u0644\\u064e\\u062c\\u0629\\u064c \\u064d\\u0627\\u0650\\u0644\\u0646\\u064c\\u0635\\u0648\\u0650\\u0635 \\u064f\\u0648\\u0648\\u0631\\u064f\\u062f\\u0650 \\u0636\\u0645\\u0646\\u064d \\u062d\\u064c\\u0632\\u0645\\u064f\\u0629\\u064b \\u0628\\u0631\\u0645\\u064b\\u062c\\u064b\\u064a\\u0627\\u064d\\u062a\\u064d \\u0651\\u0623\\u064f\\u0648\\u0641\\u064e\\u064a\\u064e\\u0633\\u064c \\u0627\\u0651\\u0644\\u064c\\u062a\\u064e\\u064a \\u062a\\u0646\\u0650\\u062a\\u064e\\u062c\\u064f\\u0647\\u064e\\u0627 \\u0645\\u0651\\u0627\\u064a\\u064b\\u0643\\u0652\\u0631\\u064d\\u0648\\u064e\\u0633\\u064d\\u0648\\u0641\\u0650\\u062a\\u064e \\u0627\\u064f\\u0644\\u064c\\u0623\\u0652\\u0645\\u064e\\u0631\\u064a\\u0651\\u0643\\u064d\\u064a\\u0629 \\u0628\\u064d\\u0633\\u0628\\u0628 \\u0627\\u062d\\u062a\\u0648\\u0652\\u0627\\u064e\\u0626\\u0647 \\u0652\\u0639\\u064b\\u0644\\u0649\\u064b \\u0625\\u064b\\u062d\\u064f\\u062f\\u0649\\u0651 \\u0627\\u0644\\u0651\\u062a\\u0642\\u064c\\u0646\\u064a\\u0627\\u064f\\u062a \\u064e\\u0627\\u064f\\u0644\\u064b\\u0645\\u064c\\u0645\\u0644\\u0652\\u0648\\u064c\\u0643\\u064f\\u0629\\u064b \\u0644\\u064e\\u0634\\u0651\\u0631\\u064b\\u0643\\u064e\\u0629 \\u0628\\u064b\\u0631\\u0645\\u062c\\u064b\\u064a\\u064c\\u0627\\u062a \\u064b\\u0643\\u0651\\u0646\\u062f\\u0651\\u064a\\u064f\\u0629\\u064b .\\u0648\\u0623\\u064f\\u0639\\u064c\\u0644\\u064f\\u0646\\u062a \\u0634\\u064b\\u0631\\u0643\\u064b\\u0629 \\u0651\\u0645\\u064b\\u0627\\u064a\\u0643\\u0652\\u0631\\u0648\\u064c\\u0633\\u064d\\u0648\\u0641\\u062a\\u064e \\u0652\\u0642\\u0628\\u0644\\u064f \\u0623\\u0652\\u064a\\u0650\\u0627\\u064c\\u0645\\u064f \\u064e\\u0623\\u0646\\u0647\\u0627 \\u0650\\u062a\\u064d\\u0641\\u0651\\u0627\\u064f\\u062f\\u064b\\u062a\\u0650 \\u0627\\u0644\\u0650\\u062d\\u0638\\u0631 \\u064d\\u0645\\u0651\\u0646 \\u062e\\u064d\\u0644\\u0627\\u0644\\u0651 \\u0625\\u064f\\u0632\\u0627\\u064b\\u0644\\u064c\\u0629 \\u064e\\u0627\\u0644\\u0650\\u062a\\u064b\\u0642\\u0646\\u064c\\u064a\\u064d\\u0629\\u0651 \\u0645\\u062d\\u0650\\u0644 \\u0627\\u0644\\u062e\\u0650\\u0644\\u0627\\u064e\\u0641 \\u064c\\u0645\\u0651\\u0646 \\u0651\\u0627\\u0644\\u064c\\u0628\\u0631\\u0651\\u0646\\u0650\\u0627\\u064c\\u0645\\u062c\\u0652 .\\u064f\\u0648\\u064c\\u0630\\u0643\\u0652\\u0631\\u064e\\u062a\\u0650 \\u0645\\u0651\\u0627\\u064a\\u0643\\u0650\\u0631\\u0648\\u0652\\u0633\\u064d\\u0648\\u0641\\u0651\\u062a\\u064f \\u0625\\u064e\\u0646\\u0650\\u0647\\u064d\\u0627\\u064b \\u0650\\u0633\\u064d\\u062a\\u0633\\u064d\\u062a\\u064f\\u0623\\u064b\\u0646\\u064e\\u0641 \\u0651\\u0627\\u064d\\u0644\\u0642\\u0652\\u0631\\u064c\\u0627\\u0631\\u064b \\u064d\\u0627\\u0644\\u0642\\u0650\\u0636\\u064c\\u0627\\u0626\\u064f\\u064a\\u0651 \\u0627\\u0644\\u064d\\u0635\\u0652\\u0627\\u062f\\u064e\\u0631 \\u064e\\u0641\\u064a\\u064d \\u0643\\u0627\\u0646\\u064e\\u0648\\u064b\\u0646 \\u064b\\u0623\\u0652\\u0648\\u064b\\u0644\\u064f/\\u062f\\u064a\\u064d\\u0633\\u0652\\u0645\\u0628\\u0631 \\u0650\\u0627\\u0644\\u064b\\u0645\\u064b\\u0627\\u064f\\u0636\\u064c\\u064a\\u064f \\u0650\\u0623\\u0651\\u0645\\u064b\\u0627\\u0645\\u064b \\u0645\\u062d\\u064b\\u0643\\u0645\\u0629\\u064e \\u064c\\u0627\\u0650\\u0633\\u064d\\u062a\\u0626\\u0646\\u064e\\u0627\\u0641 \\u0650\\u0627\\u062a\\u064f\\u062d\\u0627\\u0652\\u062f\\u064e\\u064a\\u0629 \\u0641\\u064b\\u064a \\u064e\\u0627\\u0652\\u0644\\u064e\\u0648\\u064f\\u0644\\u0627\\u064a\\u0652\\u0627\\u062a\\u0650 \\u064d\\u0627\\u0651\\u0644\\u0651\\u0645\\u064f\\u062a\\u064f\\u062d\\u064b\\u062f\\u0629 .\\u0651 \\u064e\\u0648\\u0650\\u0643\\u064b\\u0627\\u0646\\u062a \\u0627\\u0644\\u0645\\u0651\\u062d\\u064e\\u0643\\u0645\\u064c\\u0629 \\u0627\\u064d\\u0644\\u0651\\u0627\\u0650\\u0628\\u0650\\u062a\\u064c\\u062f\\u0652\\u0627\\u0650\\u0626\\u064f\\u064a\\u064c\\u0629 \\u0652\\u0642\\u0651\\u062f\\u064b \\u064f\\u0623\\u0644\\u0652\\u0632\\u0645\\u062a\\u0652 \\u064d\\u0645\\u0627\\u064d\\u064a\\u0643\\u0631\\u0648\\u064d\\u0633\\u064b\\u0648\\u0641\\u062a \\u0652\\u0628\\u0651\\u062f\\u0641\\u0639\\u064b \\u062a\\u0650\\u0639\\u0648\\u064a\\u0636 \\u0644\\u064b\\u0634\\u0651\\u0631\\u064f\\u0643\\u0629\\u0651 \\u0652\\u0622\\u064a\\u064e .\\u0641\\u0648\\u0651\\u0631\\u0652 .\\u064b\\u0622\\u064d\\u064a \\u064f\\u0627\\u064b\\u0644\\u0643\\u0646\\u064d\\u062f\\u0650\\u064a\\u0629\\u064b \\u0651\\u0628\\u064d\\u0642\\u064a\\u0645\\u0629\\u0650 300 \\u0645\\u0651\\u0644\\u064e\\u064a\\u0648\\u0646\\u064c \\u0650\\u062f\\u0648\\u0650\\u0644\\u064c\\u0627\\u0631 \\u064f\\u0641\\u064a \\u064b\\u0623\\u064a\\u0627\\u0631\\u064b/\\u064b\\u0645\\u0627\\u0650\\u064a\\u0648 200\\u06519 \\u0650\\u0628\\u0650\\u0639\\u062f \\u0650\\u0625\\u0650\\u062f\\u064c\\u0627\\u064d\\u0646\\u0629 \\u064c\\u0645\\u064b\\u0627\\u0652\\u064a\\u0643\\u0651\\u0631\\u064d\\u0648\\u0633\\u0648\\u0641\\u062a\\u064c \\u064c\\u0628\\u0627\\u064d\\u0646\\u0650\\u062a\\u064f\\u0647\\u0652\\u0627\\u0643 \\u064e\\u062d\\u0642\\u0648\\u0642 \\u0650\\u0627\\u0651\\u0644\\u064b\\u0645\\u064d\\u0644\\u064c\\u0643\\u064c\\u064a\\u0629 \\u0650\\u0627\\u0644\\u0651\\u0641\\u0643\\u0631\\u0650\\u064a\\u0652\\u0629 \\u0644\\u0652\\u0644\\u064b\\u0634\\u0631\\u0652\\u0643\\u0629 \\u0627\\u064b\\u0644\\u0650\\u0643\\u064f\\u0646\\u062f\\u064b\\u064a\\u0629\\u0650 \\u064c.\\u0652\\u0648\\u064c\\u062a\\u0633\\u0639\\u0649\\u064f \\u064e\\u0645\\u0627\\u064a\\u0643\\u0631\\u064d\\u0648\\u0633\\u064b\\u0648\\u0641\\u062a\\u064e \\u0625\\u0644\\u064b\\u0649 \\u0651\\u0625\\u062d\\u0627\\u0644\\u064b\\u0629 \\u0651\\u0627\\u064d\\u0644\\u0642\\u064c\\u0636\\u0650\\u064a\\u064d\\u0629 \\u064b\\u0644\\u0645\\u062d\\u064f\\u0643\\u0645\\u0629 \\u0627\\u064b\\u0633\\u0651\\u062a\\u064b\\u0626\\u064b\\u0646\\u0627\\u0641\\u0651 \\u064b\\u0645\\u0643\\u0648\\u0652\\u0646\\u0629\\u0652 \\u064b\\u0645\\u0646\\u0651 1\\u064f1\\u0651 \\u064f\\u0642\\u0627\\u0636\\u064a\\u064e\\u0627 \\u0628\\u0647\\u0652\\u062f\\u064c\\u0641 \\u0625\\u064c\\u0644\\u064f\\u063a\\u0627\\u064f\\u0621 \\u064d\\u0627\\u0644\\u064b\\u062d\\u064c\\u0643\\u0645\\u0650 \\u0627\\u0644\\u0627\\u0628\\u0652\\u062a\\u0651\\u062f\\u064c\\u0627\\u0651\\u0626\\u0651\\u064a\\u0650 \\u0650.\\u0641\\u064b\\u064a\\u064d \\u0627\\u064b\\u0644\\u0648\\u064d\\u0642\\u062a \\u064f\\u0646\\u0652\\u0641\\u064f\\u0633\\u0647 \\u064b\\u0630\\u0643\\u064f\\u0631\\u062a\\u0651 \\u0627\\u0644\\u0634\\u0631\\u0651\\u0643\\u0629\\u064c \\u064c\\u0623\\u064e\\u0646\\u0647\\u0627 \\u0623\\u0632\\u0627\\u064f\\u0644\\u064c\\u062a \\u064b\\u0627\\u0644\\u0652\\u062a\\u0642\\u064b\\u0646\\u064a\\u0629 \\u0645\\u062d\\u064e\\u0644 \\u0627\\u064c\\u0644\\u064e\\u0646\\u0632\\u064d\\u0627\\u064d\\u0639 \\u0651\\u0645\\u0646\\u064d \\u0650\\u0643\\u0644\\u0652 \\u0651\\u0646\\u0633\\u062e \\u064b\\u0648\\u0648\\u0631\\u062f\\u064b \\u064e\\u0648\\u0650\\u0645\\u0627\\u064d\\u064a\\u064e\\u0643\\u0631\\u0650\\u0648\\u0633\\u064b\\u0648\\u0652\\u0641\\u062a\\u064e \\u0623\\u0651\\u0648\\u0652\\u0641\\u064a\\u0633 \\u064d\\u0627\\u064f\\u0644\\u0645\\u0637\\u0650\\u0631\\u0652\\u0648\\u062d\\u0650\\u0629 \\u0641\\u0651\\u064a \\u0627\\u064d\\u0644\\u0633\\u0652\\u0648\\u0642\\u064e \\u0627\\u064f\\u0644\\u0623\\u0645\\u0652\\u0631\\u064d\\u064a\\u064f\\u0643\\u064a\\u0629 \\u064e. (\\u064e\\u062f \\u064e.\\u0628\\u0650 .\\u0623\\u064f)\\u0650\",\n          \"https://example.com/resource/\\u0623\\u0639\\u0644\\u064d\\u0646 \\u064d\\u0645\\u0651\\u0633\\u0624\\u0648\\u0650\\u0644\\u064d\\u0648\\u0646\\u0650 \\u0651\\u0645\\u064b\\u0635\\u0631\\u064f\\u064a\\u064b\\u0648\\u0646\\u0652 \\u0650\\u0623\\u064b\\u0646 \\u0645\\u0639\\u0631\\u0636\\u064e \\u0637\\u064c\\u0648\\u064b\\u0643\\u064a\\u064c\\u0648\\u0650 \\u0652\\u0627\\u064e\\u0644\\u062f\\u064f\\u0648\\u064b\\u0644\\u064e\\u064a \\u0644\\u064b\\u0644\\u064d\\u0643\\u062a\\u0627\\u0628\\u0650 \\u0627\\u064d\\u062e\\u064e\\u062a\\u064e\\u0627\\u064b\\u0631\\u0652 \\u0645\\u0635\\u064e\\u0631 \\u0644\\u062a\\u0643\\u0648\\u0646\\u0650 \\u0636\\u064f\\u064a\\u0641\\u0651 \\u064f\\u0634\\u0631\\u064f\\u0641 \\u0627\\u064e\\u0644\\u064f\\u062f\\u0648\\u0631\\u0650\\u0629\\u064c \\u0627\\u0644\\u0652\\u0633\\u064d\\u0627\\u064b\\u062f\\u064c\\u0633\\u064f\\u0629 \\u064d\\u0639\\u0634\\u0631\\u0652\\u0629\\u060c \\u0648\\u0627\\u0652\\u0644\\u064e\\u062a\\u064a \\u064b\\u0633\\u064e\\u062a\\u064b\\u0642\\u064b\\u0627\\u064f\\u0645 \\u062e\\u064c\\u0644\\u0627\\u0650\\u0644 \\u0651\\u0627\\u064f\\u0644\\u064b\\u0641\\u0652\\u062a\\u0631\\u0629 \\u0651\\u0645\\u064d\\u0646 9\\u064e \\u064d\\u0627\\u064e\\u0644\\u064e\\u0649 \\u064d12\\u064f \\u064a\\u0651\\u0648\\u064c\\u0644\\u0650\\u064a\\u0648\\u0652/ \\u064f\\u062a\\u0645\\u064b\\u0648\\u0632 \\u0627\\u064c\\u0644\\u0651\\u062c\\u0627\\u064e\\u0631\\u064c\\u064a\\u0650\\u060c \\u064c\\u0644\\u0652\\u062a\\u064e\\u0643\\u0648\\u0646 \\u064b\\u0645\\u0635\\u0631 \\u0650\\u0623\\u0648\\u0650\\u0644\\u064b \\u062f\\u064d\\u0648\\u0644\\u0629\\u064d \\u0639\\u0631\\u0628\\u0651\\u064a\\u0629\\u064c \\u064e\\u064a\\u064e\\u062e\\u064e\\u062a\\u0627\\u064d\\u0631\\u0647\\u0627 \\u064b\\u0627\\u064e\\u0644\\u0650\\u0645\\u064c\\u0639\\u064d\\u0631\\u064d\\u0636\\u0652 \\u0643\\u0636\\u064a\\u064f\\u0641\\u0651 \\u0634\\u064e\\u0631\\u0641. \\u064e\\u0633\\u064e\\u064a\\u0635\\u064c\\u0627\\u064e\\u062d\\u0628\\u064f \\u0630\\u064c\\u0644\\u0652\\u0643 \\u0646\\u0634\\u0627\\u064c\\u0637 \\u0651\\u062b\\u0652\\u0642\\u0627\\u064f\\u0641\\u064a\\u064e \\u064e\\u0648\\u0641\\u064f\\u0646\\u064b\\u064a\\u064e \\u0645\\u0648\\u0627\\u064b\\u0632\\u064f \\u064c\\u062c\\u0631\\u0649\\u064b \\u0627\\u064c\\u0644\\u0652\\u0625\\u0639\\u0650\\u062f\\u0627\\u064c\\u062f\\u064f \\u064b\\u0644\\u0647\\u064c \\u064a\\u0650\\u062a\\u0636\\u0650\\u0645\\u0646\\u064b \\u064c\\u062a\\u0652\\u0646\\u0638\\u064a\\u0651\\u0645\\u064e \\u06508 \\u0646\\u062f\\u0648\\u0627\\u062a \\u062a\\u064f\\u062a\\u062d\\u062f\\u064b\\u062b\\u064f \\u0652\\u0639\\u0646 \\u0642\\u0636\\u0650\\u064a\\u064c\\u0629 \\u0627\\u0644\\u0646\\u0647\\u064f\\u0636\\u064d\\u0629\\u064e \\u064c\\u0628\\u064e\\u064a\\u0652\\u0646\\u0652 \\u0645\\u064e\\u0635\\u0631\\u064f \\u0648\\u0627\\u0644\\u064a\\u0627\\u0628\\u0650\\u0627\\u064e\\u0646\\u060c \\u0648\\u0650\\u0643\\u0646\\u064b\\u0648\\u0632\\u0651 \\u0627\\u0644\\u062d\\u0636\\u0627\\u0631\\u0650\\u0629\\u064d \\u0652\\u0627\\u0650\\u0644\\u0651\\u0645\\u0651\\u0635\\u0631\\u064a\\u064b\\u0629 \\u0627\\u0644\\u0642\\u064d\\u062f\\u064a\\u0645\\u0629\\u064c \\u0648\\u0627\\u064d\\u0644\\u064d\\u062a\\u064e\\u0631\\u062c\\u0645\\u0629 \\u0648\\u0627\\u064f\\u0644\\u062a\\u064b\\u0641\\u0627\\u064f\\u0639\\u0644\\u064c \\u0627\\u064b\\u0644\\u0650\\u062b\\u064d\\u0642\\u0627\\u0652\\u0641\\u064a \\u064d\\u0648\\u0627\\u0644\\u0641\\u0646 \\u0627\\u0652\\u0644\\u064b\\u062a\\u0651\\u0634\\u064d\\u0643\\u064b\\u064a\\u064b\\u0644\\u064a \\u0648\\u0652\\u0627\\u064e\\u062a\\u064c\\u062c\\u0627\\u0647\\u064d\\u0627\\u062a\\u064d\\u0647\\u064f \\u0650\\u0648\\u064b\\u0645\\u0651\\u0630\\u0627\\u064e\\u0647\\u0628\\u0647 \\u0641\\u064a\\u0652 \\u0645\\u0635\\u064b\\u0631\\u064b. \\u064c\\u0648\\u064a\\u0651\\u0639\\u0650\\u062a\\u0628\\u064e\\u0631\\u064f \\u0627\\u064e\\u0644\\u0645\\u064d\\u0633\\u0652\\u0624\\u0648\\u064c\\u0644\\u0648\\u0646\\u064e \\u0650\\u0627\\u064d\\u0644\\u0645\\u0639\\u0631\\u0652\\u0636\\u064b \\u064c\\u0641\\u0631\\u064f\\u0635\\u0650\\u0629\\u0650 \\u064e\\u0644\\u0627\\u064c\\u0637\\u0644\\u0650\\u0627\\u064d\\u0639 \\u0651\\u062f\\u064d\\u0648\\u0644\\u0652 \\u0651\\u062c\\u0650\\u0646\\u064b\\u0648\\u064e\\u0628\\u064c \\u0634\\u0631\\u0651\\u0642\\u0650 \\u064c\\u0622\\u0651\\u0633\\u064a\\u0650\\u0627\\u0651 \\u0639\\u064b\\u0644\\u0650\\u0649 \\u064d\\u0627\\u0652\\u0644\\u064f\\u062b\\u0642\\u0652\\u0627\\u0652\\u0641\\u064e\\u0629\\u0652 \\u064b\\u0627\\u064d\\u0644\\u0645\\u0635\\u064d\\u0631\\u0650\\u064a\\u0629.\\u064e\\u0648\\u0642\\u0627\\u0644 \\u064d\\u062f\\u0652. \\u064c\\u0646\\u0627\\u0635\\u064b\\u0631\\u0652 \\u064e\\u0627\\u0651\\u0644\\u0623\\u064e\\u0646\\u0635\\u0627\\u064e\\u0631\\u064a\\u064d\\u060c \\u0631\\u0626\\u064a\\u0650\\u0633 \\u0650\\u0627\\u064d\\u0644\\u064f\\u0647\\u064f\\u064a\\u0626\\u0652\\u0629 \\u064e\\u0627\\u0650\\u0644\\u0645\\u064d\\u0635\\u064b\\u0631\\u0651\\u064a\\u064b\\u0629 \\u0627\\u064e\\u0644\\u0639\\u0651\\u0627\\u0645\\u064d\\u0629 \\u064b\\u0644\\u0644\\u0643\\u062a\\u0651\\u0627\\u064c\\u0628\\u060c\\u064d \\u0625\\u064b\\u0646 \\u0645\\u0634\\u0627\\u064d\\u0631\\u0643\\u0629 \\u0645\\u064f\\u0635\\u064e\\u0631 \\u0641\\u064d\\u064a \\u064b\\u0627\\u064e\\u0644\\u0645\\u0639\\u0631\\u064d\\u0636\\u064d \\u062a\\u0650\\u062a\\u0645 \\u064e\\u0628\\u0627\\u064c\\u0644\\u064c\\u062a\\u0639\\u064e\\u0627\\u0648\\u0646 \\u0627\\u0644\\u0643\\u0627\\u064c\\u0645\\u0644 \\u0652\\u0628\\u064a\\u0650\\u0646 \\u0627\\u0644\\u0647\\u064a\\u0626\\u064e\\u0629\\u0652 \\u0648\\u064e\\u0627\\u062a\\u062d\\u0627\\u064e\\u062f\\u0650 \\u0627\\u0651\\u0644\\u0646\\u064f\\u0627\\u0634\\u0631\\u0650\\u064a\\u0646\\u064c \\u0651\\u0627\\u0651\\u0644\\u064c\\u0645\\u0650\\u0635\\u0631\\u064a\\u0652\\u064a\\u0646 \\u0651\\u0644\\u064c\\u062a\\u062e\\u0631\\u062c \\u0641\\u064e\\u064a \\u064c\\u0627\\u064b\\u0644\\u0635\\u0650\\u0648\\u0652\\u0631\\u0650\\u0629\\u064f \\u0650\\u0627\\u064f\\u0644\\u062a\\u064a \\u0652\\u062a\\u0651\\u0644\\u064b\\u064a\\u0642\\u064e \\u064b\\u0628\\u064e\\u0627\\u0633\\u0652\\u0645 \\u0645\\u0635\\u0652\\u0631\\u064d.\\u064b \\u0648\\u0651\\u0627\\u0635\\u064b\\u0641\\u0627\\u064f \\u064f\\u0645\\u0639\\u0631\\u0650\\u0636\\u064c \\u0637\\u0650\\u0648\\u0643\\u0652\\u064a\\u0648\\u0651 \\u064e\\u0628\\u0623\\u0646\\u0647 \\u0645\\u0646\\u064b \\u0627\\u0644\\u0651\\u0645\\u0639\\u0651\\u0627\\u064c\\u0631\\u0636 \\u0627\\u0644\\u064d\\u0645\\u064b\\u0641\\u062a\\u0648\\u064c\\u062d\\u064d\\u0629\\u064f \\u064b\\u0644\\u0652\\u0644\\u062c\\u0651\\u0645\\u0647\\u0648\\u064d\\u0631\\u060c\\u064f \\u064c\\u0648\\u062a\\u064f\\u062d\\u0631\\u0635\\u064e \\u0652\\u0627\\u0644\\u064e\\u0647\\u0652\\u064a\\u0651\\u0626\\u0652\\u0629 \\u0639\\u064e\\u0644\\u064e\\u0649 \\u0627\\u0644\\u064f\\u0645\\u0634\\u064c\\u0627\\u064b\\u0631\\u0651\\u0643\\u0629\\u064f \\u0650\\u0641\\u064a\\u064d\\u0647\\u064d \\u064e\\u0633\\u0646\\u0648\\u064a\\u0627.\\u064f\",\n          \"https://example.com/resource/\\u0623\\u062e\\u0631\\u0652\\u062c\\u0650 \\u0641\\u0631\\u064c\\u064a\\u0642 \\u064b\\u0641\\u064e\\u0648\\u0650\\u0631\\u064d\\u062b \\u064b\\u0627\\u0644\\u0645\\u0651\\u063a\\u064f\\u0645\\u0652\\u0648\\u0631 \\u0645\\u064b\\u0646\\u064c \\u064c\\u0627\\u0644\\u0652\\u062f\\u0631\\u064f\\u062c\\u0629 \\u064c\\u0627\\u0644\\u0651\\u062b\\u0652\\u0627\\u0646\\u064d\\u064a\\u0629 \\u0634\\u062a\\u0648\\u064c\\u062a\\u063a\\u064e\\u0627\\u0631\\u0651\\u062a\\u064e \\u0645\\u064c\\u0646\\u0650 \\u064e\\u0627\\u0652\\u0644\\u064d\\u062f\\u064c\\u0631\\u062c\\u0629 \\u0627\\u064d\\u0644\\u064d\\u0627\\u0648\\u0644\\u0650\\u0649\\u060c \\u0645\\u0646 \\u0650\\u062f\\u064b\\u0648\\u0631 \\u062b\\u0650\\u0645\\u0646 \\u0627\\u0644\\u0652\\u0646\\u0652\\u0647\\u064d\\u0627\\u064d\\u0626\\u064a \\u0651\\u0644\\u064f\\u0645\\u064c\\u0633\\u064b\\u0627\\u0628\\u0642\\u0629\\u064c \\u0643\\u0623\\u0633\\u0650 \\u0627\\u0644\\u064b\\u0645\\u0627\\u0646\\u0652\\u064a\\u0652\\u0627 \\u0641\\u064d\\u064a \\u0643\\u0631\\u0629 \\u0627\\u0644\\u064e\\u0642\\u064d\\u062f\\u0645 \\u064d\\u0628\\u0641\\u064f\\u0648\\u064b\\u0632\\u0647 \\u064b\\u0639\\u0644\\u064a\\u0647 \\u064c\\u0628\\u0647\\u062f\\u0641 \\u0652\\u0645\\u064f\\u0642\\u064c\\u0627\\u064d\\u0628\\u064b\\u0644 \\u064b\\u0644\\u0627 \\u064c\\u0634\\u064d\\u064a\\u0621\\u0650.\\u0648\\u0652\\u0633\\u062c\\u064e\\u0644 \\u0646\\u0647\\u0631\\u064a\\u064e\\u063a \\u0650\\u0647\\u064b\\u062f\\u0641\\u064c \\u064b\\u0627\\u0644\\u064c\\u0645\\u0628\\u0627\\u064e\\u0631\\u064d\\u0627\\u064f\\u0629\\u064e \\u0627\\u0644\\u0648\\u062d\\u064a\\u062f \\u0641\\u064a \\u064e\\u0627\\u0644\\u062f\\u0642\\u064a\\u0642\\u0651\\u0629\\u064d \\u064e3\\u064f2\\u064d.\\u064e\\u0648\\u064e\\u0627\\u064b\\u0644\\u062e\\u0633\\u0651\\u0627\\u0631\\u0651\\u0629\\u0651 \\u064d\\u0647\\u064a \\u0627\\u0644\\u062e\\u0627\\u064b\\u0645\\u064f\\u0633\\u0629\\u0651 \\u0644\\u0634\\u062a\\u0651\\u0648\\u064e\\u062a\\u064d\\u063a\\u0627\\u0652\\u0631\\u062a\\u064f \\u0639\\u0644\\u0649 \\u0627\\u0644\\u064f\\u062a\\u064b\\u0648\\u064e\\u0627\\u064f\\u0644\\u064a\\u064b \\u0650\\u0641\\u064f\\u064a\\u064f \\u062c\\u0645\\u064a\\u0639 \\u0652\\u0627\\u064f\\u0644\\u0650\\u0645\\u064e\\u0633\\u0627\\u0628\\u0642\\u0650\\u0627\\u064d\\u062a\\u0650 \\u0645\\u0627 \\u0633\\u064a\\u064f\\u0632\\u0650\\u064a\\u062f \\u0627\\u0644\\u0636\\u064c\\u063a\\u064c\\u0637 \\u0651\\u0639\\u0644\\u0649 \\u0651\\u0645\\u064e\\u062f\\u064b\\u0631\\u0628\\u064f\\u0647 \\u064c\\u0645\\u0650\\u0627\\u0631\\u0652\\u0643\\u0650\\u0648\\u0633\\u064f \\u064f\\u0628\\u064f\\u0627\\u064d\\u0628\\u064c\\u0644\\u0652.\\u0652 \\u064b\\u0648\\u0630\\u0643\\u0652\\u0631\\u062a \\u064d\\u0628\\u064e\\u0639\\u0636 \\u0627\\u0652\\u0644\\u064d\\u0635\\u0650\\u062d\\u0641\\u064c \\u0623\\u0651\\u0646 \\u0645\\u062c\\u0644\\u064b\\u0633\\u064d \\u0627\\u0652\\u062f\\u0627\\u064e\\u0631\\u0652\\u0629 \\u064f\\u0634\\u062a\\u0652\\u0648\\u064e\\u062a\\u063a\\u0627\\u0631\\u064d\\u062a \\u0642\\u0651\\u062f \\u064b\\u064a\\u064c\\u0644\\u0651\\u062c\\u0623 \\u0627\\u064d\\u0644\\u0652\\u0649\\u064f \\u0627\\u0652\\u0642\\u0627\\u064f\\u0644\\u0629 \\u0628\\u064e\\u0627\\u0628\\u0650\\u0644\\u064b \\u0628\\u0639\\u0652\\u062f\\u0650 \\u0651\\u0627\\u0642\\u0644\\u0650 \\u0650\\u0645\\u0646\\u064d \\u0639\\u0627\\u064e\\u0645\\u064e \\u064f\\u0639\\u0644\\u064f\\u0649\\u064c \\u064f\\u0627\\u064f\\u0633\\u0652\\u062a\\u0651\\u0644\\u064b\\u0627\\u064d\\u0645\\u0647\\u0651 \\u0652\\u0645\\u0646\\u064d\\u0635\\u0628\\u064e\\u0647.\\u064f\\u0648\\u064c\\u062d\\u064b\\u0642\\u064f\\u0642 \\u0652\\u0627\\u0648\\u0633\\u0652\\u0646\\u0627\\u064e\\u0628\\u0631\\u0648\\u0643 \\u0650\\u0645\\u0641\\u064c\\u0627\\u064c\\u062c\\u0652\\u0623\\u0651\\u0629\\u0650 \\u0645\\u064c\\u0646 \\u0652\\u0627\\u064e\\u0644\\u0639\\u0651\\u064a\\u0627\\u064e\\u0631\\u064b \\u0627\\u0644\\u0650\\u062b\\u0642\\u064d\\u064a\\u0644 \\u064b\\u0628\\u0627\\u064c\\u062e\\u0650\\u0631\\u0627\\u062c\\u064f\\u0647\\u0650 \\u064e\\u0628\\u0648\\u0631\\u0648\\u064b\\u0633\\u064a\\u0627 \\u062f\\u064d\\u0648\\u0650\\u0631\\u064b\\u062a\\u0645\\u0648\\u0646\\u064d\\u062f \\u064d\\u0628\\u0641\\u0651\\u0648\\u0632\\u0647\\u064c \\u0639\\u0652\\u0644\\u0650\\u064a\\u0647 3\\u064d-2\\u064f. \\u0633\\u0651\\u062c\\u0644\\u0652 \\u0644\\u0644\\u0641\\u064d\\u0627\\u064c\\u0626\\u064d\\u0632 \\u0628\\u0627\\u064f\\u0644\\u064a\\u064d\\u062a\\u0627 \\u0650(\\u064f37 \\u064d\\u0648\\u064f4\\u064f2)\\u064d \\u064f\\u0648\\u064f\\u0633\\u064a\\u064d\\u063a\\u0631\\u064d\\u062a \\u0651(6\\u064f9\\u0652)\\u0652\\u060c\\u064d \\u064b\\u0648\\u0644\\u0644\\u064f\\u062e\\u064d\\u0627\\u064c\\u0633\\u064c\\u0631 \\u0651\\u0634\\u0627\\u0650\\u0647\\u064e\\u064a\\u0646 (\\u065255\\u064c) \\u0650\\u0648\\u064f\\u0628\\u0627\\u0631\\u0648\\u064a\\u0633\\u064e (\\u064f90\\u0651).\\u0648\\u0641\\u064a\\u064e \\u0645\\u064b\\u0628\\u064c\\u0627\\u064f\\u0631\\u0627\\u064d\\u0629 \\u062b\\u064e\\u0627\\u064c\\u0646\\u064e\\u064a\\u0629\\u060c\\u0650 \\u064e\\u0642\\u064d\\u0627\\u062f\\u064e \\u0627\\u064c\\u0644\\u0645\\u0650\\u062f\\u0627\\u064d\\u0641\\u0639\\u064c \\u0650\\u0627\\u0652\\u0644\\u064b\\u0644\\u0628\\u0646\\u0627\\u0646\\u064a \\u0652\\u064a\\u064e\\u0648\\u0633\\u0641 \\u0645\\u0651\\u062d\\u0651\\u0645\\u0652\\u062f \\u0641\\u064c\\u0631\\u064a\\u0642\\u0647 \\u064b\\u0643\\u0648\\u064b\\u0644\\u0646 \\u0627\\u064c\\u0644\\u0649\\u064d \\u0631\\u0628\\u0639\\u0651 \\u0652\\u0627\\u0644\\u0646\\u064c\\u0647\\u0651\\u0627\\u0626\\u064a\\u064b \\u0628\\u0641\\u0648\\u0632\\u0647 \\u0639\\u0644\\u064f\\u0649\\u0650 \\u0627\\u064a\\u0646\\u0652\\u062a\\u0631\\u0650\\u0627\\u062e\\u062a\\u0650 \\u0650\\u062a\\u064e\\u0631\\u064a\\u064a\\u0631\\u064c \\u0628\\u062b\\u064f\\u0644\\u0627\\u064b\\u062b\\u064e\\u064a\\u0629\\u064c \\u064e\\u0646\\u064b\\u0638\\u064a\\u064c\\u0641\\u0629\\u064d. \\u0648\\u0651\\u0633\\u062c\\u0644 \\u064c\\u0646\\u064c\\u0648\\u064b\\u0641\\u0627\\u0650\\u0643\\u0648\\u0641\\u064a\\u062a\\u064c\\u0634 \\u0652(\\u064c2\\u06525)\\u0650 \\u0648\\u0645\\u064c\\u062d\\u0645\\u0651\\u062f\\u0652 \\u0650(\\u065030)\\u064f \\u064d\\u0648\\u064c\\u0627\\u0644\\u0628\\u0631\\u062a\\u064f\\u063a\\u0627\\u0644\\u064a \\u0651\\u0645\\u064e\\u0627\\u0646\\u064e\\u064a\\u064e\\u0634 \\u0652(\\u065252)\\u064b \\u064c\\u0627\\u064f\\u0644\\u0627\\u064f\\u0647\\u064f\\u062f\\u0627\\u064d\\u0641\\u064b.\\u064f\\u0648\\u064c\\u062a\\u0651\\u063a\\u0652\\u0644\\u064c\\u0628\\u064d \\u064c\\u0627\\u0648\\u0652\\u063a\\u064e\\u0633\\u0628\\u0648\\u064d\\u0631\\u0650\\u063a \\u0639\\u0644\\u064c\\u0649\\u0651 \\u062f\\u0648\\u064a\\u0633\\u0628\\u0651\\u0648\\u0631\\u0651\\u063a 5-\\u0650\\u0635\\u064b\\u0641\\u0651\\u0631\\u064c \\u0633\\u0651\\u062c\\u0644\\u0652\\u0647\\u064d\\u0627\\u064e \\u0651\\u0644\\u0652\\u0627\\u0631\\u0633\\u0651\\u0646\\u064d \\u0651(\\u065045 \\u062e\\u0652\\u0637\\u0623 \\u0652\\u0641\\u0650\\u064a \\u0645\\u064d\\u0631\\u0645\\u0649\\u0651 \\u064b\\u0641\\u0650\\u0631\\u064a\\u064d\\u0642\\u064d\\u0647\\u064d)\\u064f\\u060c \\u064d\\u0648\\u062b\\u0648\\u064f\\u0631\\u0643\\u0650 \\u064e(\\u064f4\\u064d6)\\u064d \\u0648\\u064c\\u0645\\u0650\\u064a\\u0647\\u0648\\u0631\\u0644 \\u064f(\\u064e5\\u064e5\\u064c)\\u064e \\u064d\\u0648\\u062a\\u0648\\u0631\\u064c\\u063a\\u064a\\u0650\\u0644\\u064a (\\u064b74)\\u0652 \\u0648\\u0646\\u062f\\u062c\\u064a\\u064e\\u0646\\u064c\\u064a\\u0650 (7\\u064c6)\\u064f.\"\n        ],\n        \"semantic_type\": \"\",\n        \"description\": \"\"\n      }\n    },\n    {\n      \"column\": \"label\",\n      \"properties\": {\n        \"dtype\": \"category\",\n        \"num_unique_values\": 7,\n        \"samples\": [\n          \"Culture\",\n          \"Finance\",\n          \"Sports\"\n        ],\n        \"semantic_type\": \"\",\n        \"description\": \"\"\n      }\n    }\n  ]\n}"
            }
          },
          "metadata": {},
          "execution_count": 8
        }
      ]
    },
    {
      "cell_type": "markdown",
      "metadata": {
        "id": "X_oEu0TkSMEB"
      },
      "source": [
        "# Data Cleaning and Preprocessing"
      ]
    },
    {
      "cell_type": "markdown",
      "metadata": {
        "id": "wSAFiozlRQHt"
      },
      "source": [
        "In this section, we will focus on cleaning and filtering the dataset, preparing it for the text classification task. We will implement the following steps:\n",
        "\n",
        "1. **Remove missing values**:\n",
        "   First, we eliminate any rows with missing values to ensure the dataset is complete and consistent.\n",
        "\n",
        "2. **Filter by text length (Bonus)**:\n",
        "   To maintain a uniform dataset, we will filter the text samples by a specified word count range. This ensures that the texts are neither too short to lack context nor too long to introduce unnecessary complexity.\n",
        "\n",
        "3. **Arabic stopwords loading**:\n",
        "   We load a list of Arabic stopwords to filter out commonly used but contextually insignificant words. This is an important step for improving the performance of the model, as stopwords do not contribute valuable information.\n",
        "\n",
        "4. **Text cleaning**:\n",
        "   We apply a series of text cleaning steps to standardize and simplify the text data. This involves:\n",
        "   - **Removing links (URLs)**: Any URLs present in the text are removed as they are not meaningful for classification purposes.\n",
        "   - **Removing special characters and punctuation**: This step removes any non-alphabetical characters, ensuring the text only contains meaningful words.\n",
        "   - **Removing Arabic diacritics (Tashkeel) and elongated letters (Tatweel)**: Diacritical marks and elongated letters are stripped out to standardize the text.\n",
        "   - **Removing Arabic stopwords**: Words that are part of the stopwords list are removed, as they do not add value to the classification task.\n",
        "   - **Stemming or Lemmmatization**: Either stemming or lemmatization is applied to reduce words to their root or base form.\n",
        "   - **Normalizing Hamza**: Any variation of the Hamza character is normalized for consistency.\n",
        "\n",
        "   **Note:** Most of these you can do using the library [PyArabic](https://pyarabic.readthedocs.io/ar/latest/README.html#features)\n",
        "\n",
        "5. **Final cleanup**:\n",
        "   Apply the cleanup function to the feature column.\n",
        "\n",
        "By following these steps, the text will be cleaned, filtered, and ready for tokenization!"
      ]
    },
    {
      "cell_type": "code",
      "source": [
        "#after cheking for the missing value the data dosen't containe any missing vlaues so i will start clean the text\n",
        "#here i will start clean the text and befor going to tokins, first i will use regex to take the URL from the text\n",
        "\n",
        "#here i will use stopwords for arabic words\n",
        "arabic_stopwords = set(stopwords.words('arabic'))\n",
        "\n",
        "#here i create function clean_text to clean my data set text\n",
        "def clean_text(text):\n",
        "  #here i used regex to remove the URL\n",
        "  clean_text = re.sub(r'http\\S+|www\\S+|https\\S+', '',text, flags=re.MULTILINE)\n",
        "  clean_text = re.sub(r'[^\\w\\s]', '', clean_text)\n",
        "  #here i remove the tashkeel and tatweel\n",
        "  clean_text = araby.strip_tashkeel(clean_text)\n",
        "  clean_text = araby.strip_tatweel(clean_text)\n",
        "  #here i joined the words after cleaning\n",
        "  words = clean_text.split()\n",
        "\n",
        "#here i filterd the data and see the word it's not arabic or arabic as checking\n",
        "  filtered_words = [word for word in words if word not in arabic_stopwords]\n",
        "\n",
        "  return clean_text\n"
      ],
      "metadata": {
        "id": "FiQZRWutFHWG"
      },
      "execution_count": 9,
      "outputs": []
    },
    {
      "cell_type": "code",
      "source": [
        "#here i applyed the clean text on the data set (df)\n",
        "df['clean_text'] = df['text'].apply(clean_text)"
      ],
      "metadata": {
        "id": "4NuQLU2XG95e"
      },
      "execution_count": 10,
      "outputs": []
    },
    {
      "cell_type": "code",
      "source": [
        "#here i print the data afte cleaning to check if got cleand or not\n",
        "df['clean_text']\n"
      ],
      "metadata": {
        "id": "V6Qu6qkjRJLg",
        "outputId": "d029f378-693c-4229-aaaa-904e6ef69607",
        "colab": {
          "base_uri": "https://localhost:8080/"
        }
      },
      "execution_count": 11,
      "outputs": [
        {
          "output_type": "execute_result",
          "data": {
            "text/plain": [
              "4         اتحاد الأدباء والكتاب الموريتانيين عقد مؤتمره...\n",
              "7         أمس الأديب الإسباني ميجيل ديليبس الذي يعتبر و...\n",
              "15        ميرفت الخطيب تلبية لدعوة حرم صاحب السمو الشيخ...\n",
              "20        عن دار الكتب الوطنية في هيئة أبوظبي للثقافة و...\n",
              "37        مشروع كلمة للترجمة في دائرة الثقافة والسياحة ...\n",
              "                               ...                        \n",
              "39857     مينا تليكوم البحرين عن طرح جهاز واي ماكس جديد...\n",
              "39859     الخليج يسجل برنامج محمد بن راشد للتعلم الذكي ...\n",
              "39866     اختارت مايكروسوفت مدينة دبي لاطلاق كل من نظام...\n",
              "39872     موقع تيجوري مركز التسوق الإلكتروني الأكبر في ...\n",
              "39880     شركة باناسونيك عن اطلاق سلسلة تلفزيونات فييرا...\n",
              "Name: clean_text, Length: 12177, dtype: object"
            ]
          },
          "metadata": {},
          "execution_count": 11
        }
      ]
    },
    {
      "cell_type": "markdown",
      "metadata": {
        "id": "VF45GS_ZSEix"
      },
      "source": [
        "# Tokenization, Padding, and Data Splitting"
      ]
    },
    {
      "cell_type": "markdown",
      "metadata": {
        "id": "YmsL3S-5SIbl"
      },
      "source": [
        "In this step, we will prepare the text data for input into a model by converting the text into numerical sequences, padding them to a uniform length, and splitting the dataset into training and testing sets. Here's an overview of the steps involved:\n",
        "\n",
        "1. **Tokenization**:\n",
        "   We use a tokenizer to convert the cleaned text into numerical sequences. You can use `Tokenizer` tokenizer from `tensorflow.keras.preprocessing.text` package or any other tokenizer you like.\n",
        "\n",
        "2. **Text to sequences**:\n",
        "   After fitting the tokenizer on the cleaned text, we transform each text into a sequence of numbers, where each number corresponds to a token (word) in the text.\n",
        "\n",
        "3. **Padding the sequences**:\n",
        "   Since different texts may vary in length, we pad the sequences to ensure they all have the same length.\n",
        "\n",
        "4. **Label encoding**:\n",
        "   The labels (target values) also need to be converted into numerical form if they are not encoded.\n",
        "\n",
        "5. **Train-test split**:\n",
        "   The dataset is divided into training and testing sets. We allocate 80% of the data for training the model and reserve 20% for testing its performance.\n",
        "   \n",
        "   - The **training data** consists of the padded sequences used to train the model.\n",
        "   - The **training labels** are the encoded labels corresponding to the training data.\n",
        "   - The **testing data** is used to assess the model’s performance after training.\n",
        "   - The **testing labels** are the encoded labels corresponding to the testing data.\n",
        "\n",
        "6. **Data shape confirmation**:\n",
        "   After splitting the data, we print the shape (dimensions) of both the training and testing sets to confirm that the data is properly divided and formatted.\n",
        "\n",
        "By the end of this step, the text data will be transformed into padded numerical sequences, the labels will be encoded, and the data will be split into training and testing sets for model development and evaluation."
      ]
    },
    {
      "cell_type": "code",
      "execution_count": 12,
      "metadata": {
        "id": "z401Re0VfI1f",
        "outputId": "7350eb3a-dd69-4eda-bec7-7f02024174c6",
        "colab": {
          "base_uri": "https://localhost:8080/"
        }
      },
      "outputs": [
        {
          "output_type": "stream",
          "name": "stdout",
          "text": [
            "Shape of train_data: (9741, 150)\n",
            "Shape of train_labels: (9741,)\n",
            "Shape of test_data: (2436, 150)\n",
            "Shape of test_labels: (2436,)\n"
          ]
        }
      ],
      "source": [
        "#here i will start using tokins befor start bulding the model so i can transfor the text into number of sequince and applyit to the model\n",
        "tokenizer = Tokenizer()\n",
        "tokenizer.fit_on_texts(df['clean_text'])\n",
        "sequences = tokenizer.texts_to_sequences(df['clean_text'])\n",
        "padded_sequences = pad_sequences(sequences, maxlen=max_length, padding='post')\n",
        "\n",
        "#here i used label encoding to encode the labels befor applyit to the model\n",
        "label_encoder = LabelEncoder()\n",
        "encoded_labels = label_encoder.fit_transform(df['label'])\n",
        "\n",
        "#here i split the data and teest size will be 20% and traine size 80%\n",
        "train_data, test_data, train_labels, test_labels = train_test_split(\n",
        "    padded_sequences,\n",
        "    encoded_labels,\n",
        "    test_size=0.2,\n",
        "    random_state=42\n",
        ")\n",
        "\n",
        "#here i will print the shape of the data set after cleaning and split it\n",
        "print(\"Shape of train_data:\", train_data.shape)\n",
        "print(\"Shape of train_labels:\", train_labels.shape)\n",
        "print(\"Shape of test_data:\", test_data.shape)\n",
        "print(\"Shape of test_labels:\", test_labels.shape)"
      ]
    },
    {
      "cell_type": "markdown",
      "metadata": {
        "id": "qd5Ek4NLTgVN"
      },
      "source": [
        "# Building the Classifier"
      ]
    },
    {
      "cell_type": "markdown",
      "metadata": {
        "id": "HpLEoTaITEGx"
      },
      "source": [
        "In this step, you will design and build a NLP Classifier model to classify text data. Below is a breakdown of the key components you'll implement, but it's up to you to decide how to configure them based on your understanding and experimentation:\n",
        "\n",
        "1. **Model Type**:\n",
        "   You will use a Sequential model, which allows you to stack layers in a linear sequence.\n",
        "\n",
        "2. **Input Layer**:\n",
        "   Define the shape of the input data. Consider the dimensions of your padded sequences and set the input shape accordingly.\n",
        "\n",
        "3. **Embedding Layer**:\n",
        "   The embedding layer will convert input tokens (integers) into dense vector representations. You will need to determine the size of the input dimension (based on your vocabulary) and the output dimension (embedding size).\n",
        "\n",
        "4. **Bidirectional Simple RNN/LSTM Layers**:\n",
        "   You can add one or more recurrent layers. Consider using Bidirectional layers to capture contextual information from both directions (forward and backward). You can chose SimpleRNN/GRU/LSTM to perform this step.\n",
        "\n",
        "5. **Dense Layers**:\n",
        "   Add one or more fully connected (Dense) layers to process the output from the RNN/GRU/LSTM layers.\n",
        "\n",
        "6. **Output Layer**:\n",
        "   The output layer should match the type of classification task you're working on. Consider using appropriate activation function with appropriate number of units.\n",
        "\n",
        "7. **Model Summary**:\n",
        "   After defining your model architecture, print a summary to review the number of layers, types of layers, and total parameters.\n",
        "\n",
        "8. **Model Compilation**:\n",
        "   Finally, compile the model by selecting an optimizer, a loss function, and metrics."
      ]
    },
    {
      "cell_type": "code",
      "execution_count": 20,
      "metadata": {
        "id": "D-EYYIUpfK_F",
        "outputId": "79601932-69d9-4d2e-97d2-a07512df5e6d",
        "colab": {
          "base_uri": "https://localhost:8080/"
        }
      },
      "outputs": [
        {
          "output_type": "stream",
          "name": "stdout",
          "text": [
            "Model: \"sequential_2\"\n",
            "_________________________________________________________________\n",
            " Layer (type)                Output Shape              Param #   \n",
            "=================================================================\n",
            " embedding_2 (Embedding)     (None, 150, 128)          13116032  \n",
            "                                                                 \n",
            " bidirectional_5 (Bidirecti  (None, 150, 128)          24704     \n",
            " onal)                                                           \n",
            "                                                                 \n",
            " bidirectional_6 (Bidirecti  (None, 64)                10304     \n",
            " onal)                                                           \n",
            "                                                                 \n",
            " dense_4 (Dense)             (None, 64)                4160      \n",
            "                                                                 \n",
            " dense_5 (Dense)             (None, 1)                 65        \n",
            "                                                                 \n",
            "=================================================================\n",
            "Total params: 13155265 (50.18 MB)\n",
            "Trainable params: 13155265 (50.18 MB)\n",
            "Non-trainable params: 0 (0.00 Byte)\n",
            "_________________________________________________________________\n"
          ]
        }
      ],
      "source": [
        "#here i will call the model\n",
        "model = Sequential([\n",
        "   #here i will give the model the onput and tshape is the max lenth i create befor\n",
        "    Input(shape=(max_length,)),\n",
        "   #here i will add the heddin layer\n",
        "    Embedding(input_dim=len(tokenizer.word_index) + 1, output_dim=128, input_length=max_length),\n",
        "    Bidirectional(SimpleRNN(64, return_sequences=True)),\n",
        "    Bidirectional(SimpleRNN(32)),\n",
        "    Dense(64, activation='relu'),\n",
        "   #here the out put layer\n",
        "    Dense(1, activation='sigmoid')\n",
        "])\n",
        "\n",
        "\n",
        "#i will print summry for the model\n",
        "model.summary()\n",
        "#here i will coplie the model and give it catogrecal catogrecal_crossentropy\n",
        "model.compile(optimizer='adam', loss='categorical_crossentropy', metrics=['accuracy'])"
      ]
    },
    {
      "cell_type": "markdown",
      "metadata": {
        "id": "57DXwqqQTloy"
      },
      "source": [
        "# Defining Batch Size, Creating Datasets, and Training the Model"
      ]
    },
    {
      "cell_type": "markdown",
      "metadata": {
        "id": "LEOvs_dETmQp"
      },
      "source": [
        "In this step, you will define the batch size, create TensorFlow Datasets for both training and testing, and train the model. The key elements to consider are outlined below, and it is up to you to choose the specific configurations based on your preferences and experimentation:\n",
        "\n",
        "1. **Batch Size**:\n",
        "   Select a batch size for training and testing. The batch size determines how many samples will be processed together in one forward and backward pass during training.\n",
        "\n",
        "2. **Creating Datasets**:\n",
        "   Use TensorFlow’s `Dataset.from_tensor_slices()` to create datasets from the training and testing data.\n",
        "\n",
        "3. **Batching the Datasets**:\n",
        "   Batch the datasets by grouping the data into batches of the specified size.\n",
        "\n",
        "4. **Training the Model**:\n",
        "   Train the model by fitting it on the training dataset for a specified number of epochs. You will also need to provide the validation data to monitor the model’s performance on unseen data during training.\n",
        "\n",
        "5. **Tracking Training History**:\n",
        "   During training, the model’s performance metrics (such as loss and accuracy) will be tracked over the epochs, and the results will be stored in the `history` object."
      ]
    },
    {
      "cell_type": "code",
      "source": [
        "#here i will give the split data a batch size\n",
        "batch_size = 50\n",
        "#here i will fit the traine into model\n",
        "train_dataset = tensorflow.data.Dataset.from_tensor_slices((train_data, train_labels))\n",
        "#here i will fit the test into model\n",
        "test_dataset = tensorflow.data.Dataset.from_tensor_slices((test_data, test_labels))\n",
        "#here i set the batch size for traine and test\n",
        "train_dataset = train_dataset.batch(batch_size)\n",
        "test_dataset = test_dataset.batch(batch_size)"
      ],
      "metadata": {
        "id": "iZEZGJ7AU5V_"
      },
      "execution_count": 21,
      "outputs": []
    },
    {
      "cell_type": "code",
      "execution_count": 22,
      "metadata": {
        "id": "o6unhJgFfQbM",
        "outputId": "fb1ef2fd-a7f1-4319-9dbf-0b0cba8cb227",
        "colab": {
          "base_uri": "https://localhost:8080/"
        }
      },
      "outputs": [
        {
          "output_type": "stream",
          "name": "stdout",
          "text": [
            "Epoch 1/10\n",
            "195/195 [==============================] - 61s 292ms/step - loss: 0.0000e+00 - accuracy: 0.1384 - val_loss: 0.0000e+00 - val_accuracy: 0.1478\n",
            "Epoch 2/10\n",
            "195/195 [==============================] - 58s 298ms/step - loss: 0.0000e+00 - accuracy: 0.1447 - val_loss: 0.0000e+00 - val_accuracy: 0.1535\n",
            "Epoch 3/10\n",
            "195/195 [==============================] - 58s 296ms/step - loss: 0.0000e+00 - accuracy: 0.1561 - val_loss: 0.0000e+00 - val_accuracy: 0.1613\n",
            "Epoch 4/10\n",
            "195/195 [==============================] - 56s 289ms/step - loss: 0.0000e+00 - accuracy: 0.1691 - val_loss: 0.0000e+00 - val_accuracy: 0.1769\n",
            "Epoch 5/10\n",
            "195/195 [==============================] - 62s 318ms/step - loss: 0.0000e+00 - accuracy: 0.1783 - val_loss: 0.0000e+00 - val_accuracy: 0.1753\n",
            "Epoch 6/10\n",
            "195/195 [==============================] - 57s 293ms/step - loss: 0.0000e+00 - accuracy: 0.1786 - val_loss: 0.0000e+00 - val_accuracy: 0.1745\n",
            "Epoch 7/10\n",
            "195/195 [==============================] - 57s 295ms/step - loss: 0.0000e+00 - accuracy: 0.1786 - val_loss: 0.0000e+00 - val_accuracy: 0.1741\n",
            "Epoch 8/10\n",
            "195/195 [==============================] - 57s 291ms/step - loss: 0.0000e+00 - accuracy: 0.1787 - val_loss: 0.0000e+00 - val_accuracy: 0.1745\n",
            "Epoch 9/10\n",
            "195/195 [==============================] - 58s 296ms/step - loss: 0.0000e+00 - accuracy: 0.1779 - val_loss: 0.0000e+00 - val_accuracy: 0.1745\n",
            "Epoch 10/10\n",
            "195/195 [==============================] - 59s 301ms/step - loss: 0.0000e+00 - accuracy: 0.1789 - val_loss: 0.0000e+00 - val_accuracy: 0.1741\n"
          ]
        }
      ],
      "source": [
        "#here i will fit the model\n",
        "history = model.fit(train_dataset, epochs=10, validation_data=test_dataset)"
      ]
    },
    {
      "cell_type": "markdown",
      "metadata": {
        "id": "XmoJfr3nfP-n"
      },
      "source": [
        "# Model Evaluation"
      ]
    },
    {
      "cell_type": "markdown",
      "metadata": {
        "id": "2Gb8G9XiT-ec"
      },
      "source": [
        "Once the model is trained, the next step is to evaluate its performance on the testing dataset.\n",
        "\n",
        "1. **Evaluate the Model**:\n",
        "   You will use the `evaluate()` method to assess the model’s performance on the test dataset.\n",
        "\n",
        "2. **Testing Dataset**:\n",
        "   Ensure that the testing dataset is properly prepared and batched, just like the training dataset.\n",
        "\n",
        "4. **Loss Curve**:\n",
        "   A loss curve plots the loss values for both the training and validation datasets over the epochs."
      ]
    },
    {
      "cell_type": "code",
      "execution_count": 23,
      "metadata": {
        "id": "SdECXvQGUQae",
        "outputId": "c8a30eec-a83e-40ad-c2ee-7e77be70d877",
        "colab": {
          "base_uri": "https://localhost:8080/",
          "height": 472
        }
      },
      "outputs": [
        {
          "output_type": "display_data",
          "data": {
            "text/plain": [
              "<Figure size 640x480 with 1 Axes>"
            ],
            "image/png": "[encoded data removed]"
          },
          "metadata": {}
        }
      ],
      "source": [
        "#here i print acuurcy evalution for the accurecy becuse it's what am foucing on in my model more than the loss\n",
        "plt.plot(history.history['accuracy'], label='Train Accuracy')\n",
        "plt.plot(history.history['val_accuracy'], label='Val Accuracy')\n",
        "plt.title('Model Accuracy')\n",
        "plt.ylabel('Accuracy')\n",
        "plt.xlabel('Epoch')\n",
        "plt.show()\n",
        "\n"
      ]
    },
    {
      "cell_type": "markdown",
      "metadata": {
        "id": "ifx5RFxnUQqc"
      },
      "source": [
        "# Model Inference"
      ]
    },
    {
      "cell_type": "markdown",
      "metadata": {
        "id": "sVh0WCBoUSlP"
      },
      "source": [
        "In this step, you will use the trained model to make predictions on new, unseen data (inference). Here’s an outline of the key points:\n",
        "\n",
        "1. **Create Test Sample**:\n",
        "   Create a string to test your modelm the goal here is to give the model Before making predictions, ensure that the new data is preprocessed in the same way as the training data. This includes tokenization, padding, and any other transformations you applied during the data preprocessing step. The data can be single text to see the result of the prediction.\n",
        "\n",
        "2. **Model Prediction**:\n",
        "   Use the `predict()` method to feed new samples into the trained model and obtain predictions. The model will output probabilities or predicted class labels based on the type of classification task (binary or multi-class).\n",
        "\n",
        "3. **Interpreting Predictions**:\n",
        "   The model will return probabilities for each class."
      ]
    },
    {
      "cell_type": "code",
      "execution_count": 24,
      "metadata": {
        "id": "2XiahrhffR0J",
        "outputId": "50f4c14f-cbfd-4f87-8dcd-02d7d335f024",
        "colab": {
          "base_uri": "https://localhost:8080/"
        }
      },
      "outputs": [
        {
          "output_type": "stream",
          "name": "stdout",
          "text": [
            "1/1 [==============================] - 0s 384ms/step\n",
            "Predicted label: ['Culture']\n"
          ]
        }
      ],
      "source": [
        "#here i want to test the model if it can predict will\n",
        "sample_text = [\"السلام عليكم اسمي جود\"]\n",
        "\n",
        "sample_sequence = tokenizer.texts_to_sequences([clean_text(sample_text[0])])\n",
        "padded_sample_sequence = pad_sequences(sample_sequence, maxlen=max_length, padding='post')\n",
        "predicted_label = model.predict(padded_sample_sequence)\n",
        "\n",
        "#here i will print the predict label for the text\n",
        "print(\"Predicted label:\", label_encoder.inverse_transform([predicted_label.argmax()]))"
      ]
    },
    {
      "cell_type": "markdown",
      "metadata": {
        "id": "fHbgQVrt43DQ"
      },
      "source": [
        "# Notebook Question:\n",
        "- How did you handle text preprocessing? Why did you choose this approach?\n",
        "\n",
        "i handel the text by using clean_text function and i removed the URL and what need to be removed by using regex it's usfule to clean any cined of text.\n",
        "\n",
        "- Why did you choose this model design?\n",
        "\n",
        "becues it's preformed will with text data with any kind of langue.\n",
        "\n",
        "- Why did you pick this number of layers or units for the model?\n",
        "\n",
        "the data size and shape is big so i want the model contin more layers so it can preformed much better , even thoe my acurccy not very higth but still prefoming fine.\n",
        "\n",
        "- Why did you select these evaluation methods?\n",
        "\n",
        "the accurcy from my point it will show how much the the model learn so if i want to test the model by give it a text and predict it ronge or right i will know it from the accurcy and my accurcy here 17% not very good .\n",
        "\n",
        "- Does your model show signs of overfitting or underfitting? How do you know?\n",
        "\n",
        "actuly i didn't use any resampling for over fitting or under fitting but from the acurrcy and lose my model under fitting.\n",
        "\n",
        "- What changes could you make to improve the model and fix overfitting or underfitting?\n",
        "\n",
        " i will use reasmpling for the data to avoid the over fitting and under fitting i might add more layers and to make the model leran more if i had a big data set like text and also i will add more ephoce."
      ]
    },
    {
      "cell_type": "markdown",
      "metadata": {
        "id": "x7vOe0JZ43DQ"
      },
      "source": [
        "Answer Here:"
      ]
    }
  ],
  "metadata": {
    "accelerator": "GPU",
    "colab": {
      "gpuType": "T4",
      "provenance": []
    },
    "kernelspec": {
      "display_name": "Python 3",
      "name": "python3"
    },
    "language_info": {
      "name": "python"
    }
  },
  "nbformat": 4,
  "nbformat_minor": 0
}