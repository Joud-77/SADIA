{
  "cells": [
    {
      "cell_type": "markdown",
      "id": "5e090c3c",
      "metadata": {
        "id": "5e090c3c"
      },
      "source": [
        "# Tokenization Exercise"
      ]
    },
    {
      "cell_type": "code",
      "source": [
        "from tokenizers import Tokenizer\n",
        "from tokenizers.models import BPE\n",
        "from tokenizers.trainers import BpeTrainer\n",
        "from tokenizers.pre_tokenizers import Whitespace\n",
        "\n",
        "from nltk.tokenize import sent_tokenize\n",
        "import nltk\n",
        "nltk.download('punkt')\n",
        "from nltk.tokenize import word_tokenize\n"
      ],
      "metadata": {
        "id": "v9eKx84BI4uE",
        "outputId": "d059e2fe-bc95-446a-815c-97cd5c52751d",
        "colab": {
          "base_uri": "https://localhost:8080/"
        }
      },
      "id": "v9eKx84BI4uE",
      "execution_count": 1,
      "outputs": [
        {
          "output_type": "stream",
          "name": "stderr",
          "text": [
            "[nltk_data] Downloading package punkt to /root/nltk_data...\n",
            "[nltk_data]   Unzipping tokenizers/punkt.zip.\n"
          ]
        }
      ]
    },
    {
      "cell_type": "markdown",
      "id": "930c0a94",
      "metadata": {
        "id": "930c0a94"
      },
      "source": [
        "### Sample Text:\n",
        "```python\n",
        "sample_text = \"Artificial Intelligence is revolutionizing the world of technology.\"\n",
        "```"
      ]
    },
    {
      "cell_type": "markdown",
      "id": "d7460a21",
      "metadata": {
        "id": "d7460a21"
      },
      "source": [
        "## 1. Character Tokenization"
      ]
    },
    {
      "cell_type": "markdown",
      "id": "9eb2d643",
      "metadata": {
        "id": "9eb2d643"
      },
      "source": [
        "Tokenize the sample text into individual characters.\n",
        "\n",
        "Write your implementation below:"
      ]
    },
    {
      "cell_type": "code",
      "execution_count": 3,
      "id": "275d764f",
      "metadata": {
        "id": "275d764f",
        "outputId": "dec12170-f322-438b-84f2-5acc43ff2d1a",
        "colab": {
          "base_uri": "https://localhost:8080/"
        }
      },
      "outputs": [
        {
          "output_type": "stream",
          "name": "stdout",
          "text": [
            "['h', 'i', ' ', 'a', 'm', ' ', 'j', 'o', 'u', 'd', ' ', 'a', 'm', ' ', 'a', 't', ' ', 'T', '5', ' ', 'b', 'o', 'o', 't', 'c', 'a', 'm', 'p', ' ', ',', 'T', '5', ' ', 'i', 's', ' ', 't', 'h', 'e', ' ', 'g', 'r', 'e', 'a', 't', 'e', 's', 't', ' ', 'd', 'a', 't', 'a', ' ', 's', 'c', 'i', 'e', 'n', 'c', 'e', ' ', 'b', 'o', 'o', 't', '-', 'c', 'a', 'm', 'p', '!']\n"
          ]
        }
      ],
      "source": [
        "text = \"hi am joud am at T5 bootcamp ,T5 is the greatest data science boot-camp!\"\n",
        "char_tok=list(text)\n",
        "print(char_tok)"
      ]
    },
    {
      "cell_type": "markdown",
      "id": "0a3a922a",
      "metadata": {
        "id": "0a3a922a"
      },
      "source": [
        "## 2. Word Tokenization"
      ]
    },
    {
      "cell_type": "markdown",
      "id": "c2c596b3",
      "metadata": {
        "id": "c2c596b3"
      },
      "source": [
        "Tokenize the sample text into words using the `nltk` library.\n",
        "\n",
        "Write your implementation below:"
      ]
    },
    {
      "cell_type": "code",
      "execution_count": 9,
      "id": "d12be75f",
      "metadata": {
        "id": "d12be75f",
        "outputId": "f51de1fe-4a22-4f09-ca70-d2fefc37a240",
        "colab": {
          "base_uri": "https://localhost:8080/"
        }
      },
      "outputs": [
        {
          "output_type": "stream",
          "name": "stdout",
          "text": [
            "['joud', 'in', 'T5', 'Bootcamp', ',', 'T5', 'is', 'the', 'greatest', 'data', 'science', 'boot-camp', '!']\n"
          ]
        }
      ],
      "source": [
        "text = \"joud in T5 Bootcamp , T5 is the greatest data science boot-camp!\"\n",
        "word_tokens = word_tokenize(text)\n",
        "print(word_tokens)"
      ]
    },
    {
      "cell_type": "markdown",
      "id": "86fc94db",
      "metadata": {
        "id": "86fc94db"
      },
      "source": [
        "## 3. Sentence Tokenization"
      ]
    },
    {
      "cell_type": "markdown",
      "id": "ae693c20",
      "metadata": {
        "id": "ae693c20"
      },
      "source": [
        "Tokenize the following paragraph into sentences:\n",
        "```python\n",
        "paragraph = \"Tokenization is essential. It breaks text into meaningful units. This allows for easier processing.\"\n",
        "```\n",
        "\n",
        "Use the `nltk` library for sentence tokenization. Write your implementation below:"
      ]
    },
    {
      "cell_type": "code",
      "execution_count": 5,
      "id": "e5243859",
      "metadata": {
        "id": "e5243859",
        "outputId": "4f2f7f2c-9630-4459-f823-fc0f1c1da954",
        "colab": {
          "base_uri": "https://localhost:8080/"
        }
      },
      "outputs": [
        {
          "output_type": "stream",
          "name": "stdout",
          "text": [
            "['Tokenization is essential.', 'It breaks text into meaningful units.', 'This allows for easier processing.']\n"
          ]
        }
      ],
      "source": [
        "# Example of sentence tokenization\n",
        "text = \"Tokenization is essential. It breaks text into meaningful units. This allows for easier processing.\"\n",
        "sentence_tokens = sent_tokenize(text)\n",
        "print(sentence_tokens)"
      ]
    },
    {
      "cell_type": "markdown",
      "id": "7739f726",
      "metadata": {
        "id": "7739f726"
      },
      "source": [
        "## 4. Byte Pair Encoding (BPE)"
      ]
    },
    {
      "cell_type": "markdown",
      "id": "3a016010",
      "metadata": {
        "id": "3a016010"
      },
      "source": [
        "Use the `tokenizers` library to apply Byte Pair Encoding (BPE) to the sample text.\n",
        "\n",
        "Write your implementation below:"
      ]
    },
    {
      "cell_type": "code",
      "execution_count": 11,
      "id": "abfd6076",
      "metadata": {
        "id": "abfd6076",
        "outputId": "b18a0079-08f7-4cb8-cc41-760a14e8338b",
        "colab": {
          "base_uri": "https://localhost:8080/"
        }
      },
      "outputs": [
        {
          "output_type": "stream",
          "name": "stdout",
          "text": [
            "['hi', '!', 'T5', 'fun', '!']\n"
          ]
        }
      ],
      "source": [
        "token = Tokenizer (BPE())\n",
        "train= BpeTrainer(vocab=500)\n",
        "token.pre_tokenizer=Whitespace()\n",
        "\n",
        "text = [\" hi am joud am having fun, at T5 bootcamp !\"]\n",
        "token.train_from_iterator(text,train)\n",
        "\n",
        "output=token.encode(\"hi ! T5 fun !\")\n",
        "\n",
        "print(output.tokens)"
      ]
    },
    {
      "cell_type": "code",
      "source": [],
      "metadata": {
        "id": "aFpiUx8mMwfb"
      },
      "id": "aFpiUx8mMwfb",
      "execution_count": null,
      "outputs": []
    }
  ],
  "metadata": {
    "language_info": {
      "name": "python"
    },
    "colab": {
      "provenance": []
    },
    "kernelspec": {
      "name": "python3",
      "display_name": "Python 3"
    }
  },
  "nbformat": 4,
  "nbformat_minor": 5
}