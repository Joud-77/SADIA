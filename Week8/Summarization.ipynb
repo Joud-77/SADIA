{
  "nbformat": 4,
  "nbformat_minor": 0,
  "metadata": {
    "colab": {
      "provenance": [],
      "collapsed_sections": [
        "3zsMAz0-Mfja",
        "AtNgTDESMVsG"
      ],
      "gpuType": "T4"
    },
    "kernelspec": {
      "name": "python3",
      "display_name": "Python 3"
    },
    "language_info": {
      "name": "python"
    },
    "accelerator": "GPU",
    "widgets": {
      "application/vnd.jupyter.widget-state+json": {
        "d69be60892404c34a48b3a1fca5efd0e": {
          "model_module": "@jupyter-widgets/controls",
          "model_name": "HBoxModel",
          "model_module_version": "1.5.0",
          "state": {
            "_dom_classes": [],
            "_model_module": "@jupyter-widgets/controls",
            "_model_module_version": "1.5.0",
            "_model_name": "HBoxModel",
            "_view_count": null,
            "_view_module": "@jupyter-widgets/controls",
            "_view_module_version": "1.5.0",
            "_view_name": "HBoxView",
            "box_style": "",
            "children": [
              "IPY_MODEL_8a68eb39688c4ebcbe4148d64378d636",
              "IPY_MODEL_0b626d14035b4f57b2c23a56af3909be",
              "IPY_MODEL_cc8d683c1ea14fd88d788b939fec8775"
            ],
            "layout": "IPY_MODEL_47bd0f33eed7400a9f4762f6245ce370"
          }
        },
        "8a68eb39688c4ebcbe4148d64378d636": {
          "model_module": "@jupyter-widgets/controls",
          "model_name": "HTMLModel",
          "model_module_version": "1.5.0",
          "state": {
            "_dom_classes": [],
            "_model_module": "@jupyter-widgets/controls",
            "_model_module_version": "1.5.0",
            "_model_name": "HTMLModel",
            "_view_count": null,
            "_view_module": "@jupyter-widgets/controls",
            "_view_module_version": "1.5.0",
            "_view_name": "HTMLView",
            "description": "",
            "description_tooltip": null,
            "layout": "IPY_MODEL_556cf11b16d942978f16a6ddda0426ff",
            "placeholder": "​",
            "style": "IPY_MODEL_03f33f6d1b174df29163df7fcb63727c",
            "value": "README.md: 100%"
          }
        },
        "0b626d14035b4f57b2c23a56af3909be": {
          "model_module": "@jupyter-widgets/controls",
          "model_name": "FloatProgressModel",
          "model_module_version": "1.5.0",
          "state": {
            "_dom_classes": [],
            "_model_module": "@jupyter-widgets/controls",
            "_model_module_version": "1.5.0",
            "_model_name": "FloatProgressModel",
            "_view_count": null,
            "_view_module": "@jupyter-widgets/controls",
            "_view_module_version": "1.5.0",
            "_view_name": "ProgressView",
            "bar_style": "success",
            "description": "",
            "description_tooltip": null,
            "layout": "IPY_MODEL_edd54cd38cbb4537948812f6ebdf90dc",
            "max": 7268,
            "min": 0,
            "orientation": "horizontal",
            "style": "IPY_MODEL_34046ae5bd62476b9a79f9be9d4c5bbb",
            "value": 7268
          }
        },
        "cc8d683c1ea14fd88d788b939fec8775": {
          "model_module": "@jupyter-widgets/controls",
          "model_name": "HTMLModel",
          "model_module_version": "1.5.0",
          "state": {
            "_dom_classes": [],
            "_model_module": "@jupyter-widgets/controls",
            "_model_module_version": "1.5.0",
            "_model_name": "HTMLModel",
            "_view_count": null,
            "_view_module": "@jupyter-widgets/controls",
            "_view_module_version": "1.5.0",
            "_view_name": "HTMLView",
            "description": "",
            "description_tooltip": null,
            "layout": "IPY_MODEL_a189dbbd2ed44907a2d463cde54a8278",
            "placeholder": "​",
            "style": "IPY_MODEL_466740228a334367adc82d656d4e52a0",
            "value": " 7.27k/7.27k [00:00&lt;00:00, 279kB/s]"
          }
        },
        "47bd0f33eed7400a9f4762f6245ce370": {
          "model_module": "@jupyter-widgets/base",
          "model_name": "LayoutModel",
          "model_module_version": "1.2.0",
          "state": {
            "_model_module": "@jupyter-widgets/base",
            "_model_module_version": "1.2.0",
            "_model_name": "LayoutModel",
            "_view_count": null,
            "_view_module": "@jupyter-widgets/base",
            "_view_module_version": "1.2.0",
            "_view_name": "LayoutView",
            "align_content": null,
            "align_items": null,
            "align_self": null,
            "border": null,
            "bottom": null,
            "display": null,
            "flex": null,
            "flex_flow": null,
            "grid_area": null,
            "grid_auto_columns": null,
            "grid_auto_flow": null,
            "grid_auto_rows": null,
            "grid_column": null,
            "grid_gap": null,
            "grid_row": null,
            "grid_template_areas": null,
            "grid_template_columns": null,
            "grid_template_rows": null,
            "height": null,
            "justify_content": null,
            "justify_items": null,
            "left": null,
            "margin": null,
            "max_height": null,
            "max_width": null,
            "min_height": null,
            "min_width": null,
            "object_fit": null,
            "object_position": null,
            "order": null,
            "overflow": null,
            "overflow_x": null,
            "overflow_y": null,
            "padding": null,
            "right": null,
            "top": null,
            "visibility": null,
            "width": null
          }
        },
        "556cf11b16d942978f16a6ddda0426ff": {
          "model_module": "@jupyter-widgets/base",
          "model_name": "LayoutModel",
          "model_module_version": "1.2.0",
          "state": {
            "_model_module": "@jupyter-widgets/base",
            "_model_module_version": "1.2.0",
            "_model_name": "LayoutModel",
            "_view_count": null,
            "_view_module": "@jupyter-widgets/base",
            "_view_module_version": "1.2.0",
            "_view_name": "LayoutView",
            "align_content": null,
            "align_items": null,
            "align_self": null,
            "border": null,
            "bottom": null,
            "display": null,
            "flex": null,
            "flex_flow": null,
            "grid_area": null,
            "grid_auto_columns": null,
            "grid_auto_flow": null,
            "grid_auto_rows": null,
            "grid_column": null,
            "grid_gap": null,
            "grid_row": null,
            "grid_template_areas": null,
            "grid_template_columns": null,
            "grid_template_rows": null,
            "height": null,
            "justify_content": null,
            "justify_items": null,
            "left": null,
            "margin": null,
            "max_height": null,
            "max_width": null,
            "min_height": null,
            "min_width": null,
            "object_fit": null,
            "object_position": null,
            "order": null,
            "overflow": null,
            "overflow_x": null,
            "overflow_y": null,
            "padding": null,
            "right": null,
            "top": null,
            "visibility": null,
            "width": null
          }
        },
        "03f33f6d1b174df29163df7fcb63727c": {
          "model_module": "@jupyter-widgets/controls",
          "model_name": "DescriptionStyleModel",
          "model_module_version": "1.5.0",
          "state": {
            "_model_module": "@jupyter-widgets/controls",
            "_model_module_version": "1.5.0",
            "_model_name": "DescriptionStyleModel",
            "_view_count": null,
            "_view_module": "@jupyter-widgets/base",
            "_view_module_version": "1.2.0",
            "_view_name": "StyleView",
            "description_width": ""
          }
        },
        "edd54cd38cbb4537948812f6ebdf90dc": {
          "model_module": "@jupyter-widgets/base",
          "model_name": "LayoutModel",
          "model_module_version": "1.2.0",
          "state": {
            "_model_module": "@jupyter-widgets/base",
            "_model_module_version": "1.2.0",
            "_model_name": "LayoutModel",
            "_view_count": null,
            "_view_module": "@jupyter-widgets/base",
            "_view_module_version": "1.2.0",
            "_view_name": "LayoutView",
            "align_content": null,
            "align_items": null,
            "align_self": null,
            "border": null,
            "bottom": null,
            "display": null,
            "flex": null,
            "flex_flow": null,
            "grid_area": null,
            "grid_auto_columns": null,
            "grid_auto_flow": null,
            "grid_auto_rows": null,
            "grid_column": null,
            "grid_gap": null,
            "grid_row": null,
            "grid_template_areas": null,
            "grid_template_columns": null,
            "grid_template_rows": null,
            "height": null,
            "justify_content": null,
            "justify_items": null,
            "left": null,
            "margin": null,
            "max_height": null,
            "max_width": null,
            "min_height": null,
            "min_width": null,
            "object_fit": null,
            "object_position": null,
            "order": null,
            "overflow": null,
            "overflow_x": null,
            "overflow_y": null,
            "padding": null,
            "right": null,
            "top": null,
            "visibility": null,
            "width": null
          }
        },
        "34046ae5bd62476b9a79f9be9d4c5bbb": {
          "model_module": "@jupyter-widgets/controls",
          "model_name": "ProgressStyleModel",
          "model_module_version": "1.5.0",
          "state": {
            "_model_module": "@jupyter-widgets/controls",
            "_model_module_version": "1.5.0",
            "_model_name": "ProgressStyleModel",
            "_view_count": null,
            "_view_module": "@jupyter-widgets/base",
            "_view_module_version": "1.2.0",
            "_view_name": "StyleView",
            "bar_color": null,
            "description_width": ""
          }
        },
        "a189dbbd2ed44907a2d463cde54a8278": {
          "model_module": "@jupyter-widgets/base",
          "model_name": "LayoutModel",
          "model_module_version": "1.2.0",
          "state": {
            "_model_module": "@jupyter-widgets/base",
            "_model_module_version": "1.2.0",
            "_model_name": "LayoutModel",
            "_view_count": null,
            "_view_module": "@jupyter-widgets/base",
            "_view_module_version": "1.2.0",
            "_view_name": "LayoutView",
            "align_content": null,
            "align_items": null,
            "align_self": null,
            "border": null,
            "bottom": null,
            "display": null,
            "flex": null,
            "flex_flow": null,
            "grid_area": null,
            "grid_auto_columns": null,
            "grid_auto_flow": null,
            "grid_auto_rows": null,
            "grid_column": null,
            "grid_gap": null,
            "grid_row": null,
            "grid_template_areas": null,
            "grid_template_columns": null,
            "grid_template_rows": null,
            "height": null,
            "justify_content": null,
            "justify_items": null,
            "left": null,
            "margin": null,
            "max_height": null,
            "max_width": null,
            "min_height": null,
            "min_width": null,
            "object_fit": null,
            "object_position": null,
            "order": null,
            "overflow": null,
            "overflow_x": null,
            "overflow_y": null,
            "padding": null,
            "right": null,
            "top": null,
            "visibility": null,
            "width": null
          }
        },
        "466740228a334367adc82d656d4e52a0": {
          "model_module": "@jupyter-widgets/controls",
          "model_name": "DescriptionStyleModel",
          "model_module_version": "1.5.0",
          "state": {
            "_model_module": "@jupyter-widgets/controls",
            "_model_module_version": "1.5.0",
            "_model_name": "DescriptionStyleModel",
            "_view_count": null,
            "_view_module": "@jupyter-widgets/base",
            "_view_module_version": "1.2.0",
            "_view_name": "StyleView",
            "description_width": ""
          }
        },
        "a88f93ae1e7a4acf86d16d4cc47a5205": {
          "model_module": "@jupyter-widgets/controls",
          "model_name": "HBoxModel",
          "model_module_version": "1.5.0",
          "state": {
            "_dom_classes": [],
            "_model_module": "@jupyter-widgets/controls",
            "_model_module_version": "1.5.0",
            "_model_name": "HBoxModel",
            "_view_count": null,
            "_view_module": "@jupyter-widgets/controls",
            "_view_module_version": "1.5.0",
            "_view_name": "HBoxView",
            "box_style": "",
            "children": [
              "IPY_MODEL_f67c03c3c1b64ec191943f55a3e6d861",
              "IPY_MODEL_654f0259111742dda692c53d886e92b1",
              "IPY_MODEL_ce369fd3693c47a6a3d84f8be73b4eed"
            ],
            "layout": "IPY_MODEL_89dc1c8fedaa43c5901c77e3675021b3"
          }
        },
        "f67c03c3c1b64ec191943f55a3e6d861": {
          "model_module": "@jupyter-widgets/controls",
          "model_name": "HTMLModel",
          "model_module_version": "1.5.0",
          "state": {
            "_dom_classes": [],
            "_model_module": "@jupyter-widgets/controls",
            "_model_module_version": "1.5.0",
            "_model_name": "HTMLModel",
            "_view_count": null,
            "_view_module": "@jupyter-widgets/controls",
            "_view_module_version": "1.5.0",
            "_view_name": "HTMLView",
            "description": "",
            "description_tooltip": null,
            "layout": "IPY_MODEL_5f281c9037bf49bdb2525c872676ca4b",
            "placeholder": "​",
            "style": "IPY_MODEL_14201e16ea304ac48b32f709ca23aa1d",
            "value": "train-00000-of-00001.parquet: 100%"
          }
        },
        "654f0259111742dda692c53d886e92b1": {
          "model_module": "@jupyter-widgets/controls",
          "model_name": "FloatProgressModel",
          "model_module_version": "1.5.0",
          "state": {
            "_dom_classes": [],
            "_model_module": "@jupyter-widgets/controls",
            "_model_module_version": "1.5.0",
            "_model_name": "FloatProgressModel",
            "_view_count": null,
            "_view_module": "@jupyter-widgets/controls",
            "_view_module_version": "1.5.0",
            "_view_name": "ProgressView",
            "bar_style": "success",
            "description": "",
            "description_tooltip": null,
            "layout": "IPY_MODEL_61b1235ea7f3425baf36094905b59f0a",
            "max": 91811112,
            "min": 0,
            "orientation": "horizontal",
            "style": "IPY_MODEL_1b700d7411f54049aa79f00005651f20",
            "value": 91811112
          }
        },
        "ce369fd3693c47a6a3d84f8be73b4eed": {
          "model_module": "@jupyter-widgets/controls",
          "model_name": "HTMLModel",
          "model_module_version": "1.5.0",
          "state": {
            "_dom_classes": [],
            "_model_module": "@jupyter-widgets/controls",
            "_model_module_version": "1.5.0",
            "_model_name": "HTMLModel",
            "_view_count": null,
            "_view_module": "@jupyter-widgets/controls",
            "_view_module_version": "1.5.0",
            "_view_name": "HTMLView",
            "description": "",
            "description_tooltip": null,
            "layout": "IPY_MODEL_01d3c14f76074aa7889875b5becaa9d1",
            "placeholder": "​",
            "style": "IPY_MODEL_58219f1488104580b29235716302323f",
            "value": " 91.8M/91.8M [00:00&lt;00:00, 152MB/s]"
          }
        },
        "89dc1c8fedaa43c5901c77e3675021b3": {
          "model_module": "@jupyter-widgets/base",
          "model_name": "LayoutModel",
          "model_module_version": "1.2.0",
          "state": {
            "_model_module": "@jupyter-widgets/base",
            "_model_module_version": "1.2.0",
            "_model_name": "LayoutModel",
            "_view_count": null,
            "_view_module": "@jupyter-widgets/base",
            "_view_module_version": "1.2.0",
            "_view_name": "LayoutView",
            "align_content": null,
            "align_items": null,
            "align_self": null,
            "border": null,
            "bottom": null,
            "display": null,
            "flex": null,
            "flex_flow": null,
            "grid_area": null,
            "grid_auto_columns": null,
            "grid_auto_flow": null,
            "grid_auto_rows": null,
            "grid_column": null,
            "grid_gap": null,
            "grid_row": null,
            "grid_template_areas": null,
            "grid_template_columns": null,
            "grid_template_rows": null,
            "height": null,
            "justify_content": null,
            "justify_items": null,
            "left": null,
            "margin": null,
            "max_height": null,
            "max_width": null,
            "min_height": null,
            "min_width": null,
            "object_fit": null,
            "object_position": null,
            "order": null,
            "overflow": null,
            "overflow_x": null,
            "overflow_y": null,
            "padding": null,
            "right": null,
            "top": null,
            "visibility": null,
            "width": null
          }
        },
        "5f281c9037bf49bdb2525c872676ca4b": {
          "model_module": "@jupyter-widgets/base",
          "model_name": "LayoutModel",
          "model_module_version": "1.2.0",
          "state": {
            "_model_module": "@jupyter-widgets/base",
            "_model_module_version": "1.2.0",
            "_model_name": "LayoutModel",
            "_view_count": null,
            "_view_module": "@jupyter-widgets/base",
            "_view_module_version": "1.2.0",
            "_view_name": "LayoutView",
            "align_content": null,
            "align_items": null,
            "align_self": null,
            "border": null,
            "bottom": null,
            "display": null,
            "flex": null,
            "flex_flow": null,
            "grid_area": null,
            "grid_auto_columns": null,
            "grid_auto_flow": null,
            "grid_auto_rows": null,
            "grid_column": null,
            "grid_gap": null,
            "grid_row": null,
            "grid_template_areas": null,
            "grid_template_columns": null,
            "grid_template_rows": null,
            "height": null,
            "justify_content": null,
            "justify_items": null,
            "left": null,
            "margin": null,
            "max_height": null,
            "max_width": null,
            "min_height": null,
            "min_width": null,
            "object_fit": null,
            "object_position": null,
            "order": null,
            "overflow": null,
            "overflow_x": null,
            "overflow_y": null,
            "padding": null,
            "right": null,
            "top": null,
            "visibility": null,
            "width": null
          }
        },
        "14201e16ea304ac48b32f709ca23aa1d": {
          "model_module": "@jupyter-widgets/controls",
          "model_name": "DescriptionStyleModel",
          "model_module_version": "1.5.0",
          "state": {
            "_model_module": "@jupyter-widgets/controls",
            "_model_module_version": "1.5.0",
            "_model_name": "DescriptionStyleModel",
            "_view_count": null,
            "_view_module": "@jupyter-widgets/base",
            "_view_module_version": "1.2.0",
            "_view_name": "StyleView",
            "description_width": ""
          }
        },
        "61b1235ea7f3425baf36094905b59f0a": {
          "model_module": "@jupyter-widgets/base",
          "model_name": "LayoutModel",
          "model_module_version": "1.2.0",
          "state": {
            "_model_module": "@jupyter-widgets/base",
            "_model_module_version": "1.2.0",
            "_model_name": "LayoutModel",
            "_view_count": null,
            "_view_module": "@jupyter-widgets/base",
            "_view_module_version": "1.2.0",
            "_view_name": "LayoutView",
            "align_content": null,
            "align_items": null,
            "align_self": null,
            "border": null,
            "bottom": null,
            "display": null,
            "flex": null,
            "flex_flow": null,
            "grid_area": null,
            "grid_auto_columns": null,
            "grid_auto_flow": null,
            "grid_auto_rows": null,
            "grid_column": null,
            "grid_gap": null,
            "grid_row": null,
            "grid_template_areas": null,
            "grid_template_columns": null,
            "grid_template_rows": null,
            "height": null,
            "justify_content": null,
            "justify_items": null,
            "left": null,
            "margin": null,
            "max_height": null,
            "max_width": null,
            "min_height": null,
            "min_width": null,
            "object_fit": null,
            "object_position": null,
            "order": null,
            "overflow": null,
            "overflow_x": null,
            "overflow_y": null,
            "padding": null,
            "right": null,
            "top": null,
            "visibility": null,
            "width": null
          }
        },
        "1b700d7411f54049aa79f00005651f20": {
          "model_module": "@jupyter-widgets/controls",
          "model_name": "ProgressStyleModel",
          "model_module_version": "1.5.0",
          "state": {
            "_model_module": "@jupyter-widgets/controls",
            "_model_module_version": "1.5.0",
            "_model_name": "ProgressStyleModel",
            "_view_count": null,
            "_view_module": "@jupyter-widgets/base",
            "_view_module_version": "1.2.0",
            "_view_name": "StyleView",
            "bar_color": null,
            "description_width": ""
          }
        },
        "01d3c14f76074aa7889875b5becaa9d1": {
          "model_module": "@jupyter-widgets/base",
          "model_name": "LayoutModel",
          "model_module_version": "1.2.0",
          "state": {
            "_model_module": "@jupyter-widgets/base",
            "_model_module_version": "1.2.0",
            "_model_name": "LayoutModel",
            "_view_count": null,
            "_view_module": "@jupyter-widgets/base",
            "_view_module_version": "1.2.0",
            "_view_name": "LayoutView",
            "align_content": null,
            "align_items": null,
            "align_self": null,
            "border": null,
            "bottom": null,
            "display": null,
            "flex": null,
            "flex_flow": null,
            "grid_area": null,
            "grid_auto_columns": null,
            "grid_auto_flow": null,
            "grid_auto_rows": null,
            "grid_column": null,
            "grid_gap": null,
            "grid_row": null,
            "grid_template_areas": null,
            "grid_template_columns": null,
            "grid_template_rows": null,
            "height": null,
            "justify_content": null,
            "justify_items": null,
            "left": null,
            "margin": null,
            "max_height": null,
            "max_width": null,
            "min_height": null,
            "min_width": null,
            "object_fit": null,
            "object_position": null,
            "order": null,
            "overflow": null,
            "overflow_x": null,
            "overflow_y": null,
            "padding": null,
            "right": null,
            "top": null,
            "visibility": null,
            "width": null
          }
        },
        "58219f1488104580b29235716302323f": {
          "model_module": "@jupyter-widgets/controls",
          "model_name": "DescriptionStyleModel",
          "model_module_version": "1.5.0",
          "state": {
            "_model_module": "@jupyter-widgets/controls",
            "_model_module_version": "1.5.0",
            "_model_name": "DescriptionStyleModel",
            "_view_count": null,
            "_view_module": "@jupyter-widgets/base",
            "_view_module_version": "1.2.0",
            "_view_name": "StyleView",
            "description_width": ""
          }
        },
        "2b864793b7dc446ab59ae850263a44aa": {
          "model_module": "@jupyter-widgets/controls",
          "model_name": "HBoxModel",
          "model_module_version": "1.5.0",
          "state": {
            "_dom_classes": [],
            "_model_module": "@jupyter-widgets/controls",
            "_model_module_version": "1.5.0",
            "_model_name": "HBoxModel",
            "_view_count": null,
            "_view_module": "@jupyter-widgets/controls",
            "_view_module_version": "1.5.0",
            "_view_name": "HBoxView",
            "box_style": "",
            "children": [
              "IPY_MODEL_270dfc0ce3ed4768b2c26b06979a67d6",
              "IPY_MODEL_79e93e2dc485418581636e774f1275ad",
              "IPY_MODEL_3d9ecd92729444b0a46eb6f3f14fb79a"
            ],
            "layout": "IPY_MODEL_e21933bf2e984414abbc5414f01d8c7e"
          }
        },
        "270dfc0ce3ed4768b2c26b06979a67d6": {
          "model_module": "@jupyter-widgets/controls",
          "model_name": "HTMLModel",
          "model_module_version": "1.5.0",
          "state": {
            "_dom_classes": [],
            "_model_module": "@jupyter-widgets/controls",
            "_model_module_version": "1.5.0",
            "_model_name": "HTMLModel",
            "_view_count": null,
            "_view_module": "@jupyter-widgets/controls",
            "_view_module_version": "1.5.0",
            "_view_name": "HTMLView",
            "description": "",
            "description_tooltip": null,
            "layout": "IPY_MODEL_fad962dc507c4a98a4e78e711fd5fb28",
            "placeholder": "​",
            "style": "IPY_MODEL_e8952a1564ed48f999c23f7ca155c720",
            "value": "test-00000-of-00001.parquet: 100%"
          }
        },
        "79e93e2dc485418581636e774f1275ad": {
          "model_module": "@jupyter-widgets/controls",
          "model_name": "FloatProgressModel",
          "model_module_version": "1.5.0",
          "state": {
            "_dom_classes": [],
            "_model_module": "@jupyter-widgets/controls",
            "_model_module_version": "1.5.0",
            "_model_name": "FloatProgressModel",
            "_view_count": null,
            "_view_module": "@jupyter-widgets/controls",
            "_view_module_version": "1.5.0",
            "_view_name": "ProgressView",
            "bar_style": "success",
            "description": "",
            "description_tooltip": null,
            "layout": "IPY_MODEL_f05353bf923e4aa6ae42bcf5f14af1e5",
            "max": 15797079,
            "min": 0,
            "orientation": "horizontal",
            "style": "IPY_MODEL_842da750fbd34ba5a5d7c5f212bb224b",
            "value": 15797079
          }
        },
        "3d9ecd92729444b0a46eb6f3f14fb79a": {
          "model_module": "@jupyter-widgets/controls",
          "model_name": "HTMLModel",
          "model_module_version": "1.5.0",
          "state": {
            "_dom_classes": [],
            "_model_module": "@jupyter-widgets/controls",
            "_model_module_version": "1.5.0",
            "_model_name": "HTMLModel",
            "_view_count": null,
            "_view_module": "@jupyter-widgets/controls",
            "_view_module_version": "1.5.0",
            "_view_name": "HTMLView",
            "description": "",
            "description_tooltip": null,
            "layout": "IPY_MODEL_c3804e9ef06a49c18f54eb413236c20e",
            "placeholder": "​",
            "style": "IPY_MODEL_b45b46f5d8d447059ce6f0f021e22c1b",
            "value": " 15.8M/15.8M [00:00&lt;00:00, 163MB/s]"
          }
        },
        "e21933bf2e984414abbc5414f01d8c7e": {
          "model_module": "@jupyter-widgets/base",
          "model_name": "LayoutModel",
          "model_module_version": "1.2.0",
          "state": {
            "_model_module": "@jupyter-widgets/base",
            "_model_module_version": "1.2.0",
            "_model_name": "LayoutModel",
            "_view_count": null,
            "_view_module": "@jupyter-widgets/base",
            "_view_module_version": "1.2.0",
            "_view_name": "LayoutView",
            "align_content": null,
            "align_items": null,
            "align_self": null,
            "border": null,
            "bottom": null,
            "display": null,
            "flex": null,
            "flex_flow": null,
            "grid_area": null,
            "grid_auto_columns": null,
            "grid_auto_flow": null,
            "grid_auto_rows": null,
            "grid_column": null,
            "grid_gap": null,
            "grid_row": null,
            "grid_template_areas": null,
            "grid_template_columns": null,
            "grid_template_rows": null,
            "height": null,
            "justify_content": null,
            "justify_items": null,
            "left": null,
            "margin": null,
            "max_height": null,
            "max_width": null,
            "min_height": null,
            "min_width": null,
            "object_fit": null,
            "object_position": null,
            "order": null,
            "overflow": null,
            "overflow_x": null,
            "overflow_y": null,
            "padding": null,
            "right": null,
            "top": null,
            "visibility": null,
            "width": null
          }
        },
        "fad962dc507c4a98a4e78e711fd5fb28": {
          "model_module": "@jupyter-widgets/base",
          "model_name": "LayoutModel",
          "model_module_version": "1.2.0",
          "state": {
            "_model_module": "@jupyter-widgets/base",
            "_model_module_version": "1.2.0",
            "_model_name": "LayoutModel",
            "_view_count": null,
            "_view_module": "@jupyter-widgets/base",
            "_view_module_version": "1.2.0",
            "_view_name": "LayoutView",
            "align_content": null,
            "align_items": null,
            "align_self": null,
            "border": null,
            "bottom": null,
            "display": null,
            "flex": null,
            "flex_flow": null,
            "grid_area": null,
            "grid_auto_columns": null,
            "grid_auto_flow": null,
            "grid_auto_rows": null,
            "grid_column": null,
            "grid_gap": null,
            "grid_row": null,
            "grid_template_areas": null,
            "grid_template_columns": null,
            "grid_template_rows": null,
            "height": null,
            "justify_content": null,
            "justify_items": null,
            "left": null,
            "margin": null,
            "max_height": null,
            "max_width": null,
            "min_height": null,
            "min_width": null,
            "object_fit": null,
            "object_position": null,
            "order": null,
            "overflow": null,
            "overflow_x": null,
            "overflow_y": null,
            "padding": null,
            "right": null,
            "top": null,
            "visibility": null,
            "width": null
          }
        },
        "e8952a1564ed48f999c23f7ca155c720": {
          "model_module": "@jupyter-widgets/controls",
          "model_name": "DescriptionStyleModel",
          "model_module_version": "1.5.0",
          "state": {
            "_model_module": "@jupyter-widgets/controls",
            "_model_module_version": "1.5.0",
            "_model_name": "DescriptionStyleModel",
            "_view_count": null,
            "_view_module": "@jupyter-widgets/base",
            "_view_module_version": "1.2.0",
            "_view_name": "StyleView",
            "description_width": ""
          }
        },
        "f05353bf923e4aa6ae42bcf5f14af1e5": {
          "model_module": "@jupyter-widgets/base",
          "model_name": "LayoutModel",
          "model_module_version": "1.2.0",
          "state": {
            "_model_module": "@jupyter-widgets/base",
            "_model_module_version": "1.2.0",
            "_model_name": "LayoutModel",
            "_view_count": null,
            "_view_module": "@jupyter-widgets/base",
            "_view_module_version": "1.2.0",
            "_view_name": "LayoutView",
            "align_content": null,
            "align_items": null,
            "align_self": null,
            "border": null,
            "bottom": null,
            "display": null,
            "flex": null,
            "flex_flow": null,
            "grid_area": null,
            "grid_auto_columns": null,
            "grid_auto_flow": null,
            "grid_auto_rows": null,
            "grid_column": null,
            "grid_gap": null,
            "grid_row": null,
            "grid_template_areas": null,
            "grid_template_columns": null,
            "grid_template_rows": null,
            "height": null,
            "justify_content": null,
            "justify_items": null,
            "left": null,
            "margin": null,
            "max_height": null,
            "max_width": null,
            "min_height": null,
            "min_width": null,
            "object_fit": null,
            "object_position": null,
            "order": null,
            "overflow": null,
            "overflow_x": null,
            "overflow_y": null,
            "padding": null,
            "right": null,
            "top": null,
            "visibility": null,
            "width": null
          }
        },
        "842da750fbd34ba5a5d7c5f212bb224b": {
          "model_module": "@jupyter-widgets/controls",
          "model_name": "ProgressStyleModel",
          "model_module_version": "1.5.0",
          "state": {
            "_model_module": "@jupyter-widgets/controls",
            "_model_module_version": "1.5.0",
            "_model_name": "ProgressStyleModel",
            "_view_count": null,
            "_view_module": "@jupyter-widgets/base",
            "_view_module_version": "1.2.0",
            "_view_name": "StyleView",
            "bar_color": null,
            "description_width": ""
          }
        },
        "c3804e9ef06a49c18f54eb413236c20e": {
          "model_module": "@jupyter-widgets/base",
          "model_name": "LayoutModel",
          "model_module_version": "1.2.0",
          "state": {
            "_model_module": "@jupyter-widgets/base",
            "_model_module_version": "1.2.0",
            "_model_name": "LayoutModel",
            "_view_count": null,
            "_view_module": "@jupyter-widgets/base",
            "_view_module_version": "1.2.0",
            "_view_name": "LayoutView",
            "align_content": null,
            "align_items": null,
            "align_self": null,
            "border": null,
            "bottom": null,
            "display": null,
            "flex": null,
            "flex_flow": null,
            "grid_area": null,
            "grid_auto_columns": null,
            "grid_auto_flow": null,
            "grid_auto_rows": null,
            "grid_column": null,
            "grid_gap": null,
            "grid_row": null,
            "grid_template_areas": null,
            "grid_template_columns": null,
            "grid_template_rows": null,
            "height": null,
            "justify_content": null,
            "justify_items": null,
            "left": null,
            "margin": null,
            "max_height": null,
            "max_width": null,
            "min_height": null,
            "min_width": null,
            "object_fit": null,
            "object_position": null,
            "order": null,
            "overflow": null,
            "overflow_x": null,
            "overflow_y": null,
            "padding": null,
            "right": null,
            "top": null,
            "visibility": null,
            "width": null
          }
        },
        "b45b46f5d8d447059ce6f0f021e22c1b": {
          "model_module": "@jupyter-widgets/controls",
          "model_name": "DescriptionStyleModel",
          "model_module_version": "1.5.0",
          "state": {
            "_model_module": "@jupyter-widgets/controls",
            "_model_module_version": "1.5.0",
            "_model_name": "DescriptionStyleModel",
            "_view_count": null,
            "_view_module": "@jupyter-widgets/base",
            "_view_module_version": "1.2.0",
            "_view_name": "StyleView",
            "description_width": ""
          }
        },
        "bda7c61ef3dc4efb86655e23ef983133": {
          "model_module": "@jupyter-widgets/controls",
          "model_name": "HBoxModel",
          "model_module_version": "1.5.0",
          "state": {
            "_dom_classes": [],
            "_model_module": "@jupyter-widgets/controls",
            "_model_module_version": "1.5.0",
            "_model_name": "HBoxModel",
            "_view_count": null,
            "_view_module": "@jupyter-widgets/controls",
            "_view_module_version": "1.5.0",
            "_view_name": "HBoxView",
            "box_style": "",
            "children": [
              "IPY_MODEL_e211e49adb6147adb17bd0c139ef0147",
              "IPY_MODEL_cd5d03a8b86341cdba71ff99f9a8edac",
              "IPY_MODEL_c372e90ce14d457f990c35c3d654f659"
            ],
            "layout": "IPY_MODEL_4b6f6a63744d47beb71c4fa6b1195371"
          }
        },
        "e211e49adb6147adb17bd0c139ef0147": {
          "model_module": "@jupyter-widgets/controls",
          "model_name": "HTMLModel",
          "model_module_version": "1.5.0",
          "state": {
            "_dom_classes": [],
            "_model_module": "@jupyter-widgets/controls",
            "_model_module_version": "1.5.0",
            "_model_name": "HTMLModel",
            "_view_count": null,
            "_view_module": "@jupyter-widgets/controls",
            "_view_module_version": "1.5.0",
            "_view_name": "HTMLView",
            "description": "",
            "description_tooltip": null,
            "layout": "IPY_MODEL_e3fa7b14dc494d6f867cc76e0c2250b4",
            "placeholder": "​",
            "style": "IPY_MODEL_356d3501f8474cc5b7611cf826784657",
            "value": "ca_test-00000-of-00001.parquet: 100%"
          }
        },
        "cd5d03a8b86341cdba71ff99f9a8edac": {
          "model_module": "@jupyter-widgets/controls",
          "model_name": "FloatProgressModel",
          "model_module_version": "1.5.0",
          "state": {
            "_dom_classes": [],
            "_model_module": "@jupyter-widgets/controls",
            "_model_module_version": "1.5.0",
            "_model_name": "FloatProgressModel",
            "_view_count": null,
            "_view_module": "@jupyter-widgets/controls",
            "_view_module_version": "1.5.0",
            "_view_name": "ProgressView",
            "bar_style": "success",
            "description": "",
            "description_tooltip": null,
            "layout": "IPY_MODEL_72a860ed76b744088a1962bf9c2b84cc",
            "max": 6121191,
            "min": 0,
            "orientation": "horizontal",
            "style": "IPY_MODEL_4fce921248e948d5982fbcc41a057217",
            "value": 6121191
          }
        },
        "c372e90ce14d457f990c35c3d654f659": {
          "model_module": "@jupyter-widgets/controls",
          "model_name": "HTMLModel",
          "model_module_version": "1.5.0",
          "state": {
            "_dom_classes": [],
            "_model_module": "@jupyter-widgets/controls",
            "_model_module_version": "1.5.0",
            "_model_name": "HTMLModel",
            "_view_count": null,
            "_view_module": "@jupyter-widgets/controls",
            "_view_module_version": "1.5.0",
            "_view_name": "HTMLView",
            "description": "",
            "description_tooltip": null,
            "layout": "IPY_MODEL_d0f0dba6383a438dbcc75e857e9089b0",
            "placeholder": "​",
            "style": "IPY_MODEL_0143046c51884365a6f974c563a1d8ac",
            "value": " 6.12M/6.12M [00:00&lt;00:00, 129MB/s]"
          }
        },
        "4b6f6a63744d47beb71c4fa6b1195371": {
          "model_module": "@jupyter-widgets/base",
          "model_name": "LayoutModel",
          "model_module_version": "1.2.0",
          "state": {
            "_model_module": "@jupyter-widgets/base",
            "_model_module_version": "1.2.0",
            "_model_name": "LayoutModel",
            "_view_count": null,
            "_view_module": "@jupyter-widgets/base",
            "_view_module_version": "1.2.0",
            "_view_name": "LayoutView",
            "align_content": null,
            "align_items": null,
            "align_self": null,
            "border": null,
            "bottom": null,
            "display": null,
            "flex": null,
            "flex_flow": null,
            "grid_area": null,
            "grid_auto_columns": null,
            "grid_auto_flow": null,
            "grid_auto_rows": null,
            "grid_column": null,
            "grid_gap": null,
            "grid_row": null,
            "grid_template_areas": null,
            "grid_template_columns": null,
            "grid_template_rows": null,
            "height": null,
            "justify_content": null,
            "justify_items": null,
            "left": null,
            "margin": null,
            "max_height": null,
            "max_width": null,
            "min_height": null,
            "min_width": null,
            "object_fit": null,
            "object_position": null,
            "order": null,
            "overflow": null,
            "overflow_x": null,
            "overflow_y": null,
            "padding": null,
            "right": null,
            "top": null,
            "visibility": null,
            "width": null
          }
        },
        "e3fa7b14dc494d6f867cc76e0c2250b4": {
          "model_module": "@jupyter-widgets/base",
          "model_name": "LayoutModel",
          "model_module_version": "1.2.0",
          "state": {
            "_model_module": "@jupyter-widgets/base",
            "_model_module_version": "1.2.0",
            "_model_name": "LayoutModel",
            "_view_count": null,
            "_view_module": "@jupyter-widgets/base",
            "_view_module_version": "1.2.0",
            "_view_name": "LayoutView",
            "align_content": null,
            "align_items": null,
            "align_self": null,
            "border": null,
            "bottom": null,
            "display": null,
            "flex": null,
            "flex_flow": null,
            "grid_area": null,
            "grid_auto_columns": null,
            "grid_auto_flow": null,
            "grid_auto_rows": null,
            "grid_column": null,
            "grid_gap": null,
            "grid_row": null,
            "grid_template_areas": null,
            "grid_template_columns": null,
            "grid_template_rows": null,
            "height": null,
            "justify_content": null,
            "justify_items": null,
            "left": null,
            "margin": null,
            "max_height": null,
            "max_width": null,
            "min_height": null,
            "min_width": null,
            "object_fit": null,
            "object_position": null,
            "order": null,
            "overflow": null,
            "overflow_x": null,
            "overflow_y": null,
            "padding": null,
            "right": null,
            "top": null,
            "visibility": null,
            "width": null
          }
        },
        "356d3501f8474cc5b7611cf826784657": {
          "model_module": "@jupyter-widgets/controls",
          "model_name": "DescriptionStyleModel",
          "model_module_version": "1.5.0",
          "state": {
            "_model_module": "@jupyter-widgets/controls",
            "_model_module_version": "1.5.0",
            "_model_name": "DescriptionStyleModel",
            "_view_count": null,
            "_view_module": "@jupyter-widgets/base",
            "_view_module_version": "1.2.0",
            "_view_name": "StyleView",
            "description_width": ""
          }
        },
        "72a860ed76b744088a1962bf9c2b84cc": {
          "model_module": "@jupyter-widgets/base",
          "model_name": "LayoutModel",
          "model_module_version": "1.2.0",
          "state": {
            "_model_module": "@jupyter-widgets/base",
            "_model_module_version": "1.2.0",
            "_model_name": "LayoutModel",
            "_view_count": null,
            "_view_module": "@jupyter-widgets/base",
            "_view_module_version": "1.2.0",
            "_view_name": "LayoutView",
            "align_content": null,
            "align_items": null,
            "align_self": null,
            "border": null,
            "bottom": null,
            "display": null,
            "flex": null,
            "flex_flow": null,
            "grid_area": null,
            "grid_auto_columns": null,
            "grid_auto_flow": null,
            "grid_auto_rows": null,
            "grid_column": null,
            "grid_gap": null,
            "grid_row": null,
            "grid_template_areas": null,
            "grid_template_columns": null,
            "grid_template_rows": null,
            "height": null,
            "justify_content": null,
            "justify_items": null,
            "left": null,
            "margin": null,
            "max_height": null,
            "max_width": null,
            "min_height": null,
            "min_width": null,
            "object_fit": null,
            "object_position": null,
            "order": null,
            "overflow": null,
            "overflow_x": null,
            "overflow_y": null,
            "padding": null,
            "right": null,
            "top": null,
            "visibility": null,
            "width": null
          }
        },
        "4fce921248e948d5982fbcc41a057217": {
          "model_module": "@jupyter-widgets/controls",
          "model_name": "ProgressStyleModel",
          "model_module_version": "1.5.0",
          "state": {
            "_model_module": "@jupyter-widgets/controls",
            "_model_module_version": "1.5.0",
            "_model_name": "ProgressStyleModel",
            "_view_count": null,
            "_view_module": "@jupyter-widgets/base",
            "_view_module_version": "1.2.0",
            "_view_name": "StyleView",
            "bar_color": null,
            "description_width": ""
          }
        },
        "d0f0dba6383a438dbcc75e857e9089b0": {
          "model_module": "@jupyter-widgets/base",
          "model_name": "LayoutModel",
          "model_module_version": "1.2.0",
          "state": {
            "_model_module": "@jupyter-widgets/base",
            "_model_module_version": "1.2.0",
            "_model_name": "LayoutModel",
            "_view_count": null,
            "_view_module": "@jupyter-widgets/base",
            "_view_module_version": "1.2.0",
            "_view_name": "LayoutView",
            "align_content": null,
            "align_items": null,
            "align_self": null,
            "border": null,
            "bottom": null,
            "display": null,
            "flex": null,
            "flex_flow": null,
            "grid_area": null,
            "grid_auto_columns": null,
            "grid_auto_flow": null,
            "grid_auto_rows": null,
            "grid_column": null,
            "grid_gap": null,
            "grid_row": null,
            "grid_template_areas": null,
            "grid_template_columns": null,
            "grid_template_rows": null,
            "height": null,
            "justify_content": null,
            "justify_items": null,
            "left": null,
            "margin": null,
            "max_height": null,
            "max_width": null,
            "min_height": null,
            "min_width": null,
            "object_fit": null,
            "object_position": null,
            "order": null,
            "overflow": null,
            "overflow_x": null,
            "overflow_y": null,
            "padding": null,
            "right": null,
            "top": null,
            "visibility": null,
            "width": null
          }
        },
        "0143046c51884365a6f974c563a1d8ac": {
          "model_module": "@jupyter-widgets/controls",
          "model_name": "DescriptionStyleModel",
          "model_module_version": "1.5.0",
          "state": {
            "_model_module": "@jupyter-widgets/controls",
            "_model_module_version": "1.5.0",
            "_model_name": "DescriptionStyleModel",
            "_view_count": null,
            "_view_module": "@jupyter-widgets/base",
            "_view_module_version": "1.2.0",
            "_view_name": "StyleView",
            "description_width": ""
          }
        },
        "15044ad54f514128b9cc97d6b2384f64": {
          "model_module": "@jupyter-widgets/controls",
          "model_name": "HBoxModel",
          "model_module_version": "1.5.0",
          "state": {
            "_dom_classes": [],
            "_model_module": "@jupyter-widgets/controls",
            "_model_module_version": "1.5.0",
            "_model_name": "HBoxModel",
            "_view_count": null,
            "_view_module": "@jupyter-widgets/controls",
            "_view_module_version": "1.5.0",
            "_view_name": "HBoxView",
            "box_style": "",
            "children": [
              "IPY_MODEL_f21b2401b6fd44d8a44d674c5a30fa10",
              "IPY_MODEL_49c8c4af30084e179493f052190a01be",
              "IPY_MODEL_d1b497241d8d4dd8b4f5e20302eadf40"
            ],
            "layout": "IPY_MODEL_64adf9aee7ae4df7833cebe98b254b09"
          }
        },
        "f21b2401b6fd44d8a44d674c5a30fa10": {
          "model_module": "@jupyter-widgets/controls",
          "model_name": "HTMLModel",
          "model_module_version": "1.5.0",
          "state": {
            "_dom_classes": [],
            "_model_module": "@jupyter-widgets/controls",
            "_model_module_version": "1.5.0",
            "_model_name": "HTMLModel",
            "_view_count": null,
            "_view_module": "@jupyter-widgets/controls",
            "_view_module_version": "1.5.0",
            "_view_name": "HTMLView",
            "description": "",
            "description_tooltip": null,
            "layout": "IPY_MODEL_48db16582f414eb4be6e6199a01e51a4",
            "placeholder": "​",
            "style": "IPY_MODEL_e7ab04bb042c4f34a5850359bd5090b0",
            "value": "Generating train split: 100%"
          }
        },
        "49c8c4af30084e179493f052190a01be": {
          "model_module": "@jupyter-widgets/controls",
          "model_name": "FloatProgressModel",
          "model_module_version": "1.5.0",
          "state": {
            "_dom_classes": [],
            "_model_module": "@jupyter-widgets/controls",
            "_model_module_version": "1.5.0",
            "_model_name": "FloatProgressModel",
            "_view_count": null,
            "_view_module": "@jupyter-widgets/controls",
            "_view_module_version": "1.5.0",
            "_view_name": "ProgressView",
            "bar_style": "success",
            "description": "",
            "description_tooltip": null,
            "layout": "IPY_MODEL_61213486ae9f453db21b5c96b60c1769",
            "max": 18949,
            "min": 0,
            "orientation": "horizontal",
            "style": "IPY_MODEL_99bed625d8d74707bfb0f9906995a8da",
            "value": 18949
          }
        },
        "d1b497241d8d4dd8b4f5e20302eadf40": {
          "model_module": "@jupyter-widgets/controls",
          "model_name": "HTMLModel",
          "model_module_version": "1.5.0",
          "state": {
            "_dom_classes": [],
            "_model_module": "@jupyter-widgets/controls",
            "_model_module_version": "1.5.0",
            "_model_name": "HTMLModel",
            "_view_count": null,
            "_view_module": "@jupyter-widgets/controls",
            "_view_module_version": "1.5.0",
            "_view_name": "HTMLView",
            "description": "",
            "description_tooltip": null,
            "layout": "IPY_MODEL_87e1d588fde345e99e50f18d3b976bf4",
            "placeholder": "​",
            "style": "IPY_MODEL_c080b71cd7be4427bdcf56a8b53fcae1",
            "value": " 18949/18949 [00:01&lt;00:00, 16352.71 examples/s]"
          }
        },
        "64adf9aee7ae4df7833cebe98b254b09": {
          "model_module": "@jupyter-widgets/base",
          "model_name": "LayoutModel",
          "model_module_version": "1.2.0",
          "state": {
            "_model_module": "@jupyter-widgets/base",
            "_model_module_version": "1.2.0",
            "_model_name": "LayoutModel",
            "_view_count": null,
            "_view_module": "@jupyter-widgets/base",
            "_view_module_version": "1.2.0",
            "_view_name": "LayoutView",
            "align_content": null,
            "align_items": null,
            "align_self": null,
            "border": null,
            "bottom": null,
            "display": null,
            "flex": null,
            "flex_flow": null,
            "grid_area": null,
            "grid_auto_columns": null,
            "grid_auto_flow": null,
            "grid_auto_rows": null,
            "grid_column": null,
            "grid_gap": null,
            "grid_row": null,
            "grid_template_areas": null,
            "grid_template_columns": null,
            "grid_template_rows": null,
            "height": null,
            "justify_content": null,
            "justify_items": null,
            "left": null,
            "margin": null,
            "max_height": null,
            "max_width": null,
            "min_height": null,
            "min_width": null,
            "object_fit": null,
            "object_position": null,
            "order": null,
            "overflow": null,
            "overflow_x": null,
            "overflow_y": null,
            "padding": null,
            "right": null,
            "top": null,
            "visibility": null,
            "width": null
          }
        },
        "48db16582f414eb4be6e6199a01e51a4": {
          "model_module": "@jupyter-widgets/base",
          "model_name": "LayoutModel",
          "model_module_version": "1.2.0",
          "state": {
            "_model_module": "@jupyter-widgets/base",
            "_model_module_version": "1.2.0",
            "_model_name": "LayoutModel",
            "_view_count": null,
            "_view_module": "@jupyter-widgets/base",
            "_view_module_version": "1.2.0",
            "_view_name": "LayoutView",
            "align_content": null,
            "align_items": null,
            "align_self": null,
            "border": null,
            "bottom": null,
            "display": null,
            "flex": null,
            "flex_flow": null,
            "grid_area": null,
            "grid_auto_columns": null,
            "grid_auto_flow": null,
            "grid_auto_rows": null,
            "grid_column": null,
            "grid_gap": null,
            "grid_row": null,
            "grid_template_areas": null,
            "grid_template_columns": null,
            "grid_template_rows": null,
            "height": null,
            "justify_content": null,
            "justify_items": null,
            "left": null,
            "margin": null,
            "max_height": null,
            "max_width": null,
            "min_height": null,
            "min_width": null,
            "object_fit": null,
            "object_position": null,
            "order": null,
            "overflow": null,
            "overflow_x": null,
            "overflow_y": null,
            "padding": null,
            "right": null,
            "top": null,
            "visibility": null,
            "width": null
          }
        },
        "e7ab04bb042c4f34a5850359bd5090b0": {
          "model_module": "@jupyter-widgets/controls",
          "model_name": "DescriptionStyleModel",
          "model_module_version": "1.5.0",
          "state": {
            "_model_module": "@jupyter-widgets/controls",
            "_model_module_version": "1.5.0",
            "_model_name": "DescriptionStyleModel",
            "_view_count": null,
            "_view_module": "@jupyter-widgets/base",
            "_view_module_version": "1.2.0",
            "_view_name": "StyleView",
            "description_width": ""
          }
        },
        "61213486ae9f453db21b5c96b60c1769": {
          "model_module": "@jupyter-widgets/base",
          "model_name": "LayoutModel",
          "model_module_version": "1.2.0",
          "state": {
            "_model_module": "@jupyter-widgets/base",
            "_model_module_version": "1.2.0",
            "_model_name": "LayoutModel",
            "_view_count": null,
            "_view_module": "@jupyter-widgets/base",
            "_view_module_version": "1.2.0",
            "_view_name": "LayoutView",
            "align_content": null,
            "align_items": null,
            "align_self": null,
            "border": null,
            "bottom": null,
            "display": null,
            "flex": null,
            "flex_flow": null,
            "grid_area": null,
            "grid_auto_columns": null,
            "grid_auto_flow": null,
            "grid_auto_rows": null,
            "grid_column": null,
            "grid_gap": null,
            "grid_row": null,
            "grid_template_areas": null,
            "grid_template_columns": null,
            "grid_template_rows": null,
            "height": null,
            "justify_content": null,
            "justify_items": null,
            "left": null,
            "margin": null,
            "max_height": null,
            "max_width": null,
            "min_height": null,
            "min_width": null,
            "object_fit": null,
            "object_position": null,
            "order": null,
            "overflow": null,
            "overflow_x": null,
            "overflow_y": null,
            "padding": null,
            "right": null,
            "top": null,
            "visibility": null,
            "width": null
          }
        },
        "99bed625d8d74707bfb0f9906995a8da": {
          "model_module": "@jupyter-widgets/controls",
          "model_name": "ProgressStyleModel",
          "model_module_version": "1.5.0",
          "state": {
            "_model_module": "@jupyter-widgets/controls",
            "_model_module_version": "1.5.0",
            "_model_name": "ProgressStyleModel",
            "_view_count": null,
            "_view_module": "@jupyter-widgets/base",
            "_view_module_version": "1.2.0",
            "_view_name": "StyleView",
            "bar_color": null,
            "description_width": ""
          }
        },
        "87e1d588fde345e99e50f18d3b976bf4": {
          "model_module": "@jupyter-widgets/base",
          "model_name": "LayoutModel",
          "model_module_version": "1.2.0",
          "state": {
            "_model_module": "@jupyter-widgets/base",
            "_model_module_version": "1.2.0",
            "_model_name": "LayoutModel",
            "_view_count": null,
            "_view_module": "@jupyter-widgets/base",
            "_view_module_version": "1.2.0",
            "_view_name": "LayoutView",
            "align_content": null,
            "align_items": null,
            "align_self": null,
            "border": null,
            "bottom": null,
            "display": null,
            "flex": null,
            "flex_flow": null,
            "grid_area": null,
            "grid_auto_columns": null,
            "grid_auto_flow": null,
            "grid_auto_rows": null,
            "grid_column": null,
            "grid_gap": null,
            "grid_row": null,
            "grid_template_areas": null,
            "grid_template_columns": null,
            "grid_template_rows": null,
            "height": null,
            "justify_content": null,
            "justify_items": null,
            "left": null,
            "margin": null,
            "max_height": null,
            "max_width": null,
            "min_height": null,
            "min_width": null,
            "object_fit": null,
            "object_position": null,
            "order": null,
            "overflow": null,
            "overflow_x": null,
            "overflow_y": null,
            "padding": null,
            "right": null,
            "top": null,
            "visibility": null,
            "width": null
          }
        },
        "c080b71cd7be4427bdcf56a8b53fcae1": {
          "model_module": "@jupyter-widgets/controls",
          "model_name": "DescriptionStyleModel",
          "model_module_version": "1.5.0",
          "state": {
            "_model_module": "@jupyter-widgets/controls",
            "_model_module_version": "1.5.0",
            "_model_name": "DescriptionStyleModel",
            "_view_count": null,
            "_view_module": "@jupyter-widgets/base",
            "_view_module_version": "1.2.0",
            "_view_name": "StyleView",
            "description_width": ""
          }
        },
        "8d41d4da1cde41f29d94b0581a6d52b6": {
          "model_module": "@jupyter-widgets/controls",
          "model_name": "HBoxModel",
          "model_module_version": "1.5.0",
          "state": {
            "_dom_classes": [],
            "_model_module": "@jupyter-widgets/controls",
            "_model_module_version": "1.5.0",
            "_model_name": "HBoxModel",
            "_view_count": null,
            "_view_module": "@jupyter-widgets/controls",
            "_view_module_version": "1.5.0",
            "_view_name": "HBoxView",
            "box_style": "",
            "children": [
              "IPY_MODEL_802213a2a1ed431ebc493bd796d86a03",
              "IPY_MODEL_9508753cc28e4b3ab45c5ec595c8e428",
              "IPY_MODEL_7a2f3e684f9e479ea630325894e9b5ea"
            ],
            "layout": "IPY_MODEL_9e87865e696143dba905f6d9746ec1ac"
          }
        },
        "802213a2a1ed431ebc493bd796d86a03": {
          "model_module": "@jupyter-widgets/controls",
          "model_name": "HTMLModel",
          "model_module_version": "1.5.0",
          "state": {
            "_dom_classes": [],
            "_model_module": "@jupyter-widgets/controls",
            "_model_module_version": "1.5.0",
            "_model_name": "HTMLModel",
            "_view_count": null,
            "_view_module": "@jupyter-widgets/controls",
            "_view_module_version": "1.5.0",
            "_view_name": "HTMLView",
            "description": "",
            "description_tooltip": null,
            "layout": "IPY_MODEL_43e09567c6824f609e22e896a411bc0c",
            "placeholder": "​",
            "style": "IPY_MODEL_06e2918abd6f4b3abbee1edf14fe71d4",
            "value": "Generating test split: 100%"
          }
        },
        "9508753cc28e4b3ab45c5ec595c8e428": {
          "model_module": "@jupyter-widgets/controls",
          "model_name": "FloatProgressModel",
          "model_module_version": "1.5.0",
          "state": {
            "_dom_classes": [],
            "_model_module": "@jupyter-widgets/controls",
            "_model_module_version": "1.5.0",
            "_model_name": "FloatProgressModel",
            "_view_count": null,
            "_view_module": "@jupyter-widgets/controls",
            "_view_module_version": "1.5.0",
            "_view_name": "ProgressView",
            "bar_style": "success",
            "description": "",
            "description_tooltip": null,
            "layout": "IPY_MODEL_41477a51407d47e3b7c155c1d48fdfcd",
            "max": 3269,
            "min": 0,
            "orientation": "horizontal",
            "style": "IPY_MODEL_f23e379c205c4da6a19922cb09a5c154",
            "value": 3269
          }
        },
        "7a2f3e684f9e479ea630325894e9b5ea": {
          "model_module": "@jupyter-widgets/controls",
          "model_name": "HTMLModel",
          "model_module_version": "1.5.0",
          "state": {
            "_dom_classes": [],
            "_model_module": "@jupyter-widgets/controls",
            "_model_module_version": "1.5.0",
            "_model_name": "HTMLModel",
            "_view_count": null,
            "_view_module": "@jupyter-widgets/controls",
            "_view_module_version": "1.5.0",
            "_view_name": "HTMLView",
            "description": "",
            "description_tooltip": null,
            "layout": "IPY_MODEL_231388869b6f4e74b6ce022c244a8322",
            "placeholder": "​",
            "style": "IPY_MODEL_c2b16d8ba1534176b31f1d81c786365b",
            "value": " 3269/3269 [00:00&lt;00:00, 14146.17 examples/s]"
          }
        },
        "9e87865e696143dba905f6d9746ec1ac": {
          "model_module": "@jupyter-widgets/base",
          "model_name": "LayoutModel",
          "model_module_version": "1.2.0",
          "state": {
            "_model_module": "@jupyter-widgets/base",
            "_model_module_version": "1.2.0",
            "_model_name": "LayoutModel",
            "_view_count": null,
            "_view_module": "@jupyter-widgets/base",
            "_view_module_version": "1.2.0",
            "_view_name": "LayoutView",
            "align_content": null,
            "align_items": null,
            "align_self": null,
            "border": null,
            "bottom": null,
            "display": null,
            "flex": null,
            "flex_flow": null,
            "grid_area": null,
            "grid_auto_columns": null,
            "grid_auto_flow": null,
            "grid_auto_rows": null,
            "grid_column": null,
            "grid_gap": null,
            "grid_row": null,
            "grid_template_areas": null,
            "grid_template_columns": null,
            "grid_template_rows": null,
            "height": null,
            "justify_content": null,
            "justify_items": null,
            "left": null,
            "margin": null,
            "max_height": null,
            "max_width": null,
            "min_height": null,
            "min_width": null,
            "object_fit": null,
            "object_position": null,
            "order": null,
            "overflow": null,
            "overflow_x": null,
            "overflow_y": null,
            "padding": null,
            "right": null,
            "top": null,
            "visibility": null,
            "width": null
          }
        },
        "43e09567c6824f609e22e896a411bc0c": {
          "model_module": "@jupyter-widgets/base",
          "model_name": "LayoutModel",
          "model_module_version": "1.2.0",
          "state": {
            "_model_module": "@jupyter-widgets/base",
            "_model_module_version": "1.2.0",
            "_model_name": "LayoutModel",
            "_view_count": null,
            "_view_module": "@jupyter-widgets/base",
            "_view_module_version": "1.2.0",
            "_view_name": "LayoutView",
            "align_content": null,
            "align_items": null,
            "align_self": null,
            "border": null,
            "bottom": null,
            "display": null,
            "flex": null,
            "flex_flow": null,
            "grid_area": null,
            "grid_auto_columns": null,
            "grid_auto_flow": null,
            "grid_auto_rows": null,
            "grid_column": null,
            "grid_gap": null,
            "grid_row": null,
            "grid_template_areas": null,
            "grid_template_columns": null,
            "grid_template_rows": null,
            "height": null,
            "justify_content": null,
            "justify_items": null,
            "left": null,
            "margin": null,
            "max_height": null,
            "max_width": null,
            "min_height": null,
            "min_width": null,
            "object_fit": null,
            "object_position": null,
            "order": null,
            "overflow": null,
            "overflow_x": null,
            "overflow_y": null,
            "padding": null,
            "right": null,
            "top": null,
            "visibility": null,
            "width": null
          }
        },
        "06e2918abd6f4b3abbee1edf14fe71d4": {
          "model_module": "@jupyter-widgets/controls",
          "model_name": "DescriptionStyleModel",
          "model_module_version": "1.5.0",
          "state": {
            "_model_module": "@jupyter-widgets/controls",
            "_model_module_version": "1.5.0",
            "_model_name": "DescriptionStyleModel",
            "_view_count": null,
            "_view_module": "@jupyter-widgets/base",
            "_view_module_version": "1.2.0",
            "_view_name": "StyleView",
            "description_width": ""
          }
        },
        "41477a51407d47e3b7c155c1d48fdfcd": {
          "model_module": "@jupyter-widgets/base",
          "model_name": "LayoutModel",
          "model_module_version": "1.2.0",
          "state": {
            "_model_module": "@jupyter-widgets/base",
            "_model_module_version": "1.2.0",
            "_model_name": "LayoutModel",
            "_view_count": null,
            "_view_module": "@jupyter-widgets/base",
            "_view_module_version": "1.2.0",
            "_view_name": "LayoutView",
            "align_content": null,
            "align_items": null,
            "align_self": null,
            "border": null,
            "bottom": null,
            "display": null,
            "flex": null,
            "flex_flow": null,
            "grid_area": null,
            "grid_auto_columns": null,
            "grid_auto_flow": null,
            "grid_auto_rows": null,
            "grid_column": null,
            "grid_gap": null,
            "grid_row": null,
            "grid_template_areas": null,
            "grid_template_columns": null,
            "grid_template_rows": null,
            "height": null,
            "justify_content": null,
            "justify_items": null,
            "left": null,
            "margin": null,
            "max_height": null,
            "max_width": null,
            "min_height": null,
            "min_width": null,
            "object_fit": null,
            "object_position": null,
            "order": null,
            "overflow": null,
            "overflow_x": null,
            "overflow_y": null,
            "padding": null,
            "right": null,
            "top": null,
            "visibility": null,
            "width": null
          }
        },
        "f23e379c205c4da6a19922cb09a5c154": {
          "model_module": "@jupyter-widgets/controls",
          "model_name": "ProgressStyleModel",
          "model_module_version": "1.5.0",
          "state": {
            "_model_module": "@jupyter-widgets/controls",
            "_model_module_version": "1.5.0",
            "_model_name": "ProgressStyleModel",
            "_view_count": null,
            "_view_module": "@jupyter-widgets/base",
            "_view_module_version": "1.2.0",
            "_view_name": "StyleView",
            "bar_color": null,
            "description_width": ""
          }
        },
        "231388869b6f4e74b6ce022c244a8322": {
          "model_module": "@jupyter-widgets/base",
          "model_name": "LayoutModel",
          "model_module_version": "1.2.0",
          "state": {
            "_model_module": "@jupyter-widgets/base",
            "_model_module_version": "1.2.0",
            "_model_name": "LayoutModel",
            "_view_count": null,
            "_view_module": "@jupyter-widgets/base",
            "_view_module_version": "1.2.0",
            "_view_name": "LayoutView",
            "align_content": null,
            "align_items": null,
            "align_self": null,
            "border": null,
            "bottom": null,
            "display": null,
            "flex": null,
            "flex_flow": null,
            "grid_area": null,
            "grid_auto_columns": null,
            "grid_auto_flow": null,
            "grid_auto_rows": null,
            "grid_column": null,
            "grid_gap": null,
            "grid_row": null,
            "grid_template_areas": null,
            "grid_template_columns": null,
            "grid_template_rows": null,
            "height": null,
            "justify_content": null,
            "justify_items": null,
            "left": null,
            "margin": null,
            "max_height": null,
            "max_width": null,
            "min_height": null,
            "min_width": null,
            "object_fit": null,
            "object_position": null,
            "order": null,
            "overflow": null,
            "overflow_x": null,
            "overflow_y": null,
            "padding": null,
            "right": null,
            "top": null,
            "visibility": null,
            "width": null
          }
        },
        "c2b16d8ba1534176b31f1d81c786365b": {
          "model_module": "@jupyter-widgets/controls",
          "model_name": "DescriptionStyleModel",
          "model_module_version": "1.5.0",
          "state": {
            "_model_module": "@jupyter-widgets/controls",
            "_model_module_version": "1.5.0",
            "_model_name": "DescriptionStyleModel",
            "_view_count": null,
            "_view_module": "@jupyter-widgets/base",
            "_view_module_version": "1.2.0",
            "_view_name": "StyleView",
            "description_width": ""
          }
        },
        "f92e304e4b934766aa083eb1b5295a6d": {
          "model_module": "@jupyter-widgets/controls",
          "model_name": "HBoxModel",
          "model_module_version": "1.5.0",
          "state": {
            "_dom_classes": [],
            "_model_module": "@jupyter-widgets/controls",
            "_model_module_version": "1.5.0",
            "_model_name": "HBoxModel",
            "_view_count": null,
            "_view_module": "@jupyter-widgets/controls",
            "_view_module_version": "1.5.0",
            "_view_name": "HBoxView",
            "box_style": "",
            "children": [
              "IPY_MODEL_9d4e872f928b4eb6ae331317fdd86acb",
              "IPY_MODEL_8e83d7090caa424e8c9ff50136d3d843",
              "IPY_MODEL_6a01c5358dc44378bb83ba379e5c1e5f"
            ],
            "layout": "IPY_MODEL_04a8e49ffe7546e9be9c5442dcec3f79"
          }
        },
        "9d4e872f928b4eb6ae331317fdd86acb": {
          "model_module": "@jupyter-widgets/controls",
          "model_name": "HTMLModel",
          "model_module_version": "1.5.0",
          "state": {
            "_dom_classes": [],
            "_model_module": "@jupyter-widgets/controls",
            "_model_module_version": "1.5.0",
            "_model_name": "HTMLModel",
            "_view_count": null,
            "_view_module": "@jupyter-widgets/controls",
            "_view_module_version": "1.5.0",
            "_view_name": "HTMLView",
            "description": "",
            "description_tooltip": null,
            "layout": "IPY_MODEL_5597e41a893e4428ae14e1be591a8fda",
            "placeholder": "​",
            "style": "IPY_MODEL_f6cba10c8a96416ca4b7409dc5e3520a",
            "value": "Generating ca_test split: 100%"
          }
        },
        "8e83d7090caa424e8c9ff50136d3d843": {
          "model_module": "@jupyter-widgets/controls",
          "model_name": "FloatProgressModel",
          "model_module_version": "1.5.0",
          "state": {
            "_dom_classes": [],
            "_model_module": "@jupyter-widgets/controls",
            "_model_module_version": "1.5.0",
            "_model_name": "FloatProgressModel",
            "_view_count": null,
            "_view_module": "@jupyter-widgets/controls",
            "_view_module_version": "1.5.0",
            "_view_name": "ProgressView",
            "bar_style": "success",
            "description": "",
            "description_tooltip": null,
            "layout": "IPY_MODEL_e4cbbd8c9f394adba5b8b5ae8e658b01",
            "max": 1237,
            "min": 0,
            "orientation": "horizontal",
            "style": "IPY_MODEL_80fff2bf97f94c1a9b97c704b1ed34c7",
            "value": 1237
          }
        },
        "6a01c5358dc44378bb83ba379e5c1e5f": {
          "model_module": "@jupyter-widgets/controls",
          "model_name": "HTMLModel",
          "model_module_version": "1.5.0",
          "state": {
            "_dom_classes": [],
            "_model_module": "@jupyter-widgets/controls",
            "_model_module_version": "1.5.0",
            "_model_name": "HTMLModel",
            "_view_count": null,
            "_view_module": "@jupyter-widgets/controls",
            "_view_module_version": "1.5.0",
            "_view_name": "HTMLView",
            "description": "",
            "description_tooltip": null,
            "layout": "IPY_MODEL_127f0961ead94333a7264881d786daf0",
            "placeholder": "​",
            "style": "IPY_MODEL_630fbbafa59a4478b9d308624d610255",
            "value": " 1237/1237 [00:00&lt;00:00, 9448.12 examples/s]"
          }
        },
        "04a8e49ffe7546e9be9c5442dcec3f79": {
          "model_module": "@jupyter-widgets/base",
          "model_name": "LayoutModel",
          "model_module_version": "1.2.0",
          "state": {
            "_model_module": "@jupyter-widgets/base",
            "_model_module_version": "1.2.0",
            "_model_name": "LayoutModel",
            "_view_count": null,
            "_view_module": "@jupyter-widgets/base",
            "_view_module_version": "1.2.0",
            "_view_name": "LayoutView",
            "align_content": null,
            "align_items": null,
            "align_self": null,
            "border": null,
            "bottom": null,
            "display": null,
            "flex": null,
            "flex_flow": null,
            "grid_area": null,
            "grid_auto_columns": null,
            "grid_auto_flow": null,
            "grid_auto_rows": null,
            "grid_column": null,
            "grid_gap": null,
            "grid_row": null,
            "grid_template_areas": null,
            "grid_template_columns": null,
            "grid_template_rows": null,
            "height": null,
            "justify_content": null,
            "justify_items": null,
            "left": null,
            "margin": null,
            "max_height": null,
            "max_width": null,
            "min_height": null,
            "min_width": null,
            "object_fit": null,
            "object_position": null,
            "order": null,
            "overflow": null,
            "overflow_x": null,
            "overflow_y": null,
            "padding": null,
            "right": null,
            "top": null,
            "visibility": null,
            "width": null
          }
        },
        "5597e41a893e4428ae14e1be591a8fda": {
          "model_module": "@jupyter-widgets/base",
          "model_name": "LayoutModel",
          "model_module_version": "1.2.0",
          "state": {
            "_model_module": "@jupyter-widgets/base",
            "_model_module_version": "1.2.0",
            "_model_name": "LayoutModel",
            "_view_count": null,
            "_view_module": "@jupyter-widgets/base",
            "_view_module_version": "1.2.0",
            "_view_name": "LayoutView",
            "align_content": null,
            "align_items": null,
            "align_self": null,
            "border": null,
            "bottom": null,
            "display": null,
            "flex": null,
            "flex_flow": null,
            "grid_area": null,
            "grid_auto_columns": null,
            "grid_auto_flow": null,
            "grid_auto_rows": null,
            "grid_column": null,
            "grid_gap": null,
            "grid_row": null,
            "grid_template_areas": null,
            "grid_template_columns": null,
            "grid_template_rows": null,
            "height": null,
            "justify_content": null,
            "justify_items": null,
            "left": null,
            "margin": null,
            "max_height": null,
            "max_width": null,
            "min_height": null,
            "min_width": null,
            "object_fit": null,
            "object_position": null,
            "order": null,
            "overflow": null,
            "overflow_x": null,
            "overflow_y": null,
            "padding": null,
            "right": null,
            "top": null,
            "visibility": null,
            "width": null
          }
        },
        "f6cba10c8a96416ca4b7409dc5e3520a": {
          "model_module": "@jupyter-widgets/controls",
          "model_name": "DescriptionStyleModel",
          "model_module_version": "1.5.0",
          "state": {
            "_model_module": "@jupyter-widgets/controls",
            "_model_module_version": "1.5.0",
            "_model_name": "DescriptionStyleModel",
            "_view_count": null,
            "_view_module": "@jupyter-widgets/base",
            "_view_module_version": "1.2.0",
            "_view_name": "StyleView",
            "description_width": ""
          }
        },
        "e4cbbd8c9f394adba5b8b5ae8e658b01": {
          "model_module": "@jupyter-widgets/base",
          "model_name": "LayoutModel",
          "model_module_version": "1.2.0",
          "state": {
            "_model_module": "@jupyter-widgets/base",
            "_model_module_version": "1.2.0",
            "_model_name": "LayoutModel",
            "_view_count": null,
            "_view_module": "@jupyter-widgets/base",
            "_view_module_version": "1.2.0",
            "_view_name": "LayoutView",
            "align_content": null,
            "align_items": null,
            "align_self": null,
            "border": null,
            "bottom": null,
            "display": null,
            "flex": null,
            "flex_flow": null,
            "grid_area": null,
            "grid_auto_columns": null,
            "grid_auto_flow": null,
            "grid_auto_rows": null,
            "grid_column": null,
            "grid_gap": null,
            "grid_row": null,
            "grid_template_areas": null,
            "grid_template_columns": null,
            "grid_template_rows": null,
            "height": null,
            "justify_content": null,
            "justify_items": null,
            "left": null,
            "margin": null,
            "max_height": null,
            "max_width": null,
            "min_height": null,
            "min_width": null,
            "object_fit": null,
            "object_position": null,
            "order": null,
            "overflow": null,
            "overflow_x": null,
            "overflow_y": null,
            "padding": null,
            "right": null,
            "top": null,
            "visibility": null,
            "width": null
          }
        },
        "80fff2bf97f94c1a9b97c704b1ed34c7": {
          "model_module": "@jupyter-widgets/controls",
          "model_name": "ProgressStyleModel",
          "model_module_version": "1.5.0",
          "state": {
            "_model_module": "@jupyter-widgets/controls",
            "_model_module_version": "1.5.0",
            "_model_name": "ProgressStyleModel",
            "_view_count": null,
            "_view_module": "@jupyter-widgets/base",
            "_view_module_version": "1.2.0",
            "_view_name": "StyleView",
            "bar_color": null,
            "description_width": ""
          }
        },
        "127f0961ead94333a7264881d786daf0": {
          "model_module": "@jupyter-widgets/base",
          "model_name": "LayoutModel",
          "model_module_version": "1.2.0",
          "state": {
            "_model_module": "@jupyter-widgets/base",
            "_model_module_version": "1.2.0",
            "_model_name": "LayoutModel",
            "_view_count": null,
            "_view_module": "@jupyter-widgets/base",
            "_view_module_version": "1.2.0",
            "_view_name": "LayoutView",
            "align_content": null,
            "align_items": null,
            "align_self": null,
            "border": null,
            "bottom": null,
            "display": null,
            "flex": null,
            "flex_flow": null,
            "grid_area": null,
            "grid_auto_columns": null,
            "grid_auto_flow": null,
            "grid_auto_rows": null,
            "grid_column": null,
            "grid_gap": null,
            "grid_row": null,
            "grid_template_areas": null,
            "grid_template_columns": null,
            "grid_template_rows": null,
            "height": null,
            "justify_content": null,
            "justify_items": null,
            "left": null,
            "margin": null,
            "max_height": null,
            "max_width": null,
            "min_height": null,
            "min_width": null,
            "object_fit": null,
            "object_position": null,
            "order": null,
            "overflow": null,
            "overflow_x": null,
            "overflow_y": null,
            "padding": null,
            "right": null,
            "top": null,
            "visibility": null,
            "width": null
          }
        },
        "630fbbafa59a4478b9d308624d610255": {
          "model_module": "@jupyter-widgets/controls",
          "model_name": "DescriptionStyleModel",
          "model_module_version": "1.5.0",
          "state": {
            "_model_module": "@jupyter-widgets/controls",
            "_model_module_version": "1.5.0",
            "_model_name": "DescriptionStyleModel",
            "_view_count": null,
            "_view_module": "@jupyter-widgets/base",
            "_view_module_version": "1.2.0",
            "_view_name": "StyleView",
            "description_width": ""
          }
        },
        "d16c5a65ab704d4ebc7a53a3802486a6": {
          "model_module": "@jupyter-widgets/controls",
          "model_name": "HBoxModel",
          "model_module_version": "1.5.0",
          "state": {
            "_dom_classes": [],
            "_model_module": "@jupyter-widgets/controls",
            "_model_module_version": "1.5.0",
            "_model_name": "HBoxModel",
            "_view_count": null,
            "_view_module": "@jupyter-widgets/controls",
            "_view_module_version": "1.5.0",
            "_view_name": "HBoxView",
            "box_style": "",
            "children": [
              "IPY_MODEL_49d01bf441674316897f478d7a8f69a1",
              "IPY_MODEL_130b54f330af4bbd92f4c3c3f667d4bd",
              "IPY_MODEL_e8041e3bb4d94d7594d24bfcc939b30e"
            ],
            "layout": "IPY_MODEL_6be4929d6ea54713be07a03c1d21a165"
          }
        },
        "49d01bf441674316897f478d7a8f69a1": {
          "model_module": "@jupyter-widgets/controls",
          "model_name": "HTMLModel",
          "model_module_version": "1.5.0",
          "state": {
            "_dom_classes": [],
            "_model_module": "@jupyter-widgets/controls",
            "_model_module_version": "1.5.0",
            "_model_name": "HTMLModel",
            "_view_count": null,
            "_view_module": "@jupyter-widgets/controls",
            "_view_module_version": "1.5.0",
            "_view_name": "HTMLView",
            "description": "",
            "description_tooltip": null,
            "layout": "IPY_MODEL_05c424fe46fc468195816c6622d8af9d",
            "placeholder": "​",
            "style": "IPY_MODEL_8bbd9b15476d4b659e9aa92d74c63b7c",
            "value": "tokenizer_config.json: 100%"
          }
        },
        "130b54f330af4bbd92f4c3c3f667d4bd": {
          "model_module": "@jupyter-widgets/controls",
          "model_name": "FloatProgressModel",
          "model_module_version": "1.5.0",
          "state": {
            "_dom_classes": [],
            "_model_module": "@jupyter-widgets/controls",
            "_model_module_version": "1.5.0",
            "_model_name": "FloatProgressModel",
            "_view_count": null,
            "_view_module": "@jupyter-widgets/controls",
            "_view_module_version": "1.5.0",
            "_view_name": "ProgressView",
            "bar_style": "success",
            "description": "",
            "description_tooltip": null,
            "layout": "IPY_MODEL_6b8850ae6ce6475db5eae7f5dfb4f93d",
            "max": 2324,
            "min": 0,
            "orientation": "horizontal",
            "style": "IPY_MODEL_b60ae7be97f5422799d0aab8bd05a875",
            "value": 2324
          }
        },
        "e8041e3bb4d94d7594d24bfcc939b30e": {
          "model_module": "@jupyter-widgets/controls",
          "model_name": "HTMLModel",
          "model_module_version": "1.5.0",
          "state": {
            "_dom_classes": [],
            "_model_module": "@jupyter-widgets/controls",
            "_model_module_version": "1.5.0",
            "_model_name": "HTMLModel",
            "_view_count": null,
            "_view_module": "@jupyter-widgets/controls",
            "_view_module_version": "1.5.0",
            "_view_name": "HTMLView",
            "description": "",
            "description_tooltip": null,
            "layout": "IPY_MODEL_4c4b62df0008418db905a0b0e8da1573",
            "placeholder": "​",
            "style": "IPY_MODEL_80c0629b197041d1875200d3a2eaf339",
            "value": " 2.32k/2.32k [00:00&lt;00:00, 134kB/s]"
          }
        },
        "6be4929d6ea54713be07a03c1d21a165": {
          "model_module": "@jupyter-widgets/base",
          "model_name": "LayoutModel",
          "model_module_version": "1.2.0",
          "state": {
            "_model_module": "@jupyter-widgets/base",
            "_model_module_version": "1.2.0",
            "_model_name": "LayoutModel",
            "_view_count": null,
            "_view_module": "@jupyter-widgets/base",
            "_view_module_version": "1.2.0",
            "_view_name": "LayoutView",
            "align_content": null,
            "align_items": null,
            "align_self": null,
            "border": null,
            "bottom": null,
            "display": null,
            "flex": null,
            "flex_flow": null,
            "grid_area": null,
            "grid_auto_columns": null,
            "grid_auto_flow": null,
            "grid_auto_rows": null,
            "grid_column": null,
            "grid_gap": null,
            "grid_row": null,
            "grid_template_areas": null,
            "grid_template_columns": null,
            "grid_template_rows": null,
            "height": null,
            "justify_content": null,
            "justify_items": null,
            "left": null,
            "margin": null,
            "max_height": null,
            "max_width": null,
            "min_height": null,
            "min_width": null,
            "object_fit": null,
            "object_position": null,
            "order": null,
            "overflow": null,
            "overflow_x": null,
            "overflow_y": null,
            "padding": null,
            "right": null,
            "top": null,
            "visibility": null,
            "width": null
          }
        },
        "05c424fe46fc468195816c6622d8af9d": {
          "model_module": "@jupyter-widgets/base",
          "model_name": "LayoutModel",
          "model_module_version": "1.2.0",
          "state": {
            "_model_module": "@jupyter-widgets/base",
            "_model_module_version": "1.2.0",
            "_model_name": "LayoutModel",
            "_view_count": null,
            "_view_module": "@jupyter-widgets/base",
            "_view_module_version": "1.2.0",
            "_view_name": "LayoutView",
            "align_content": null,
            "align_items": null,
            "align_self": null,
            "border": null,
            "bottom": null,
            "display": null,
            "flex": null,
            "flex_flow": null,
            "grid_area": null,
            "grid_auto_columns": null,
            "grid_auto_flow": null,
            "grid_auto_rows": null,
            "grid_column": null,
            "grid_gap": null,
            "grid_row": null,
            "grid_template_areas": null,
            "grid_template_columns": null,
            "grid_template_rows": null,
            "height": null,
            "justify_content": null,
            "justify_items": null,
            "left": null,
            "margin": null,
            "max_height": null,
            "max_width": null,
            "min_height": null,
            "min_width": null,
            "object_fit": null,
            "object_position": null,
            "order": null,
            "overflow": null,
            "overflow_x": null,
            "overflow_y": null,
            "padding": null,
            "right": null,
            "top": null,
            "visibility": null,
            "width": null
          }
        },
        "8bbd9b15476d4b659e9aa92d74c63b7c": {
          "model_module": "@jupyter-widgets/controls",
          "model_name": "DescriptionStyleModel",
          "model_module_version": "1.5.0",
          "state": {
            "_model_module": "@jupyter-widgets/controls",
            "_model_module_version": "1.5.0",
            "_model_name": "DescriptionStyleModel",
            "_view_count": null,
            "_view_module": "@jupyter-widgets/base",
            "_view_module_version": "1.2.0",
            "_view_name": "StyleView",
            "description_width": ""
          }
        },
        "6b8850ae6ce6475db5eae7f5dfb4f93d": {
          "model_module": "@jupyter-widgets/base",
          "model_name": "LayoutModel",
          "model_module_version": "1.2.0",
          "state": {
            "_model_module": "@jupyter-widgets/base",
            "_model_module_version": "1.2.0",
            "_model_name": "LayoutModel",
            "_view_count": null,
            "_view_module": "@jupyter-widgets/base",
            "_view_module_version": "1.2.0",
            "_view_name": "LayoutView",
            "align_content": null,
            "align_items": null,
            "align_self": null,
            "border": null,
            "bottom": null,
            "display": null,
            "flex": null,
            "flex_flow": null,
            "grid_area": null,
            "grid_auto_columns": null,
            "grid_auto_flow": null,
            "grid_auto_rows": null,
            "grid_column": null,
            "grid_gap": null,
            "grid_row": null,
            "grid_template_areas": null,
            "grid_template_columns": null,
            "grid_template_rows": null,
            "height": null,
            "justify_content": null,
            "justify_items": null,
            "left": null,
            "margin": null,
            "max_height": null,
            "max_width": null,
            "min_height": null,
            "min_width": null,
            "object_fit": null,
            "object_position": null,
            "order": null,
            "overflow": null,
            "overflow_x": null,
            "overflow_y": null,
            "padding": null,
            "right": null,
            "top": null,
            "visibility": null,
            "width": null
          }
        },
        "b60ae7be97f5422799d0aab8bd05a875": {
          "model_module": "@jupyter-widgets/controls",
          "model_name": "ProgressStyleModel",
          "model_module_version": "1.5.0",
          "state": {
            "_model_module": "@jupyter-widgets/controls",
            "_model_module_version": "1.5.0",
            "_model_name": "ProgressStyleModel",
            "_view_count": null,
            "_view_module": "@jupyter-widgets/base",
            "_view_module_version": "1.2.0",
            "_view_name": "StyleView",
            "bar_color": null,
            "description_width": ""
          }
        },
        "4c4b62df0008418db905a0b0e8da1573": {
          "model_module": "@jupyter-widgets/base",
          "model_name": "LayoutModel",
          "model_module_version": "1.2.0",
          "state": {
            "_model_module": "@jupyter-widgets/base",
            "_model_module_version": "1.2.0",
            "_model_name": "LayoutModel",
            "_view_count": null,
            "_view_module": "@jupyter-widgets/base",
            "_view_module_version": "1.2.0",
            "_view_name": "LayoutView",
            "align_content": null,
            "align_items": null,
            "align_self": null,
            "border": null,
            "bottom": null,
            "display": null,
            "flex": null,
            "flex_flow": null,
            "grid_area": null,
            "grid_auto_columns": null,
            "grid_auto_flow": null,
            "grid_auto_rows": null,
            "grid_column": null,
            "grid_gap": null,
            "grid_row": null,
            "grid_template_areas": null,
            "grid_template_columns": null,
            "grid_template_rows": null,
            "height": null,
            "justify_content": null,
            "justify_items": null,
            "left": null,
            "margin": null,
            "max_height": null,
            "max_width": null,
            "min_height": null,
            "min_width": null,
            "object_fit": null,
            "object_position": null,
            "order": null,
            "overflow": null,
            "overflow_x": null,
            "overflow_y": null,
            "padding": null,
            "right": null,
            "top": null,
            "visibility": null,
            "width": null
          }
        },
        "80c0629b197041d1875200d3a2eaf339": {
          "model_module": "@jupyter-widgets/controls",
          "model_name": "DescriptionStyleModel",
          "model_module_version": "1.5.0",
          "state": {
            "_model_module": "@jupyter-widgets/controls",
            "_model_module_version": "1.5.0",
            "_model_name": "DescriptionStyleModel",
            "_view_count": null,
            "_view_module": "@jupyter-widgets/base",
            "_view_module_version": "1.2.0",
            "_view_name": "StyleView",
            "description_width": ""
          }
        },
        "73d349449ba9451ca0cf870b220fb78a": {
          "model_module": "@jupyter-widgets/controls",
          "model_name": "HBoxModel",
          "model_module_version": "1.5.0",
          "state": {
            "_dom_classes": [],
            "_model_module": "@jupyter-widgets/controls",
            "_model_module_version": "1.5.0",
            "_model_name": "HBoxModel",
            "_view_count": null,
            "_view_module": "@jupyter-widgets/controls",
            "_view_module_version": "1.5.0",
            "_view_name": "HBoxView",
            "box_style": "",
            "children": [
              "IPY_MODEL_9678d66ef952472797ac53923615a838",
              "IPY_MODEL_d483a12494fc4142b973ca0dc3b0e7f4",
              "IPY_MODEL_6495ff8a630e4941b2f6b8dab189cd3f"
            ],
            "layout": "IPY_MODEL_33be5dfd18a44e6382d06894e318b061"
          }
        },
        "9678d66ef952472797ac53923615a838": {
          "model_module": "@jupyter-widgets/controls",
          "model_name": "HTMLModel",
          "model_module_version": "1.5.0",
          "state": {
            "_dom_classes": [],
            "_model_module": "@jupyter-widgets/controls",
            "_model_module_version": "1.5.0",
            "_model_name": "HTMLModel",
            "_view_count": null,
            "_view_module": "@jupyter-widgets/controls",
            "_view_module_version": "1.5.0",
            "_view_name": "HTMLView",
            "description": "",
            "description_tooltip": null,
            "layout": "IPY_MODEL_5067dfe586b74896bdf210a5892ead3d",
            "placeholder": "​",
            "style": "IPY_MODEL_ebc429e8260e4d10a294dba6b0a2ffb3",
            "value": "spiece.model: 100%"
          }
        },
        "d483a12494fc4142b973ca0dc3b0e7f4": {
          "model_module": "@jupyter-widgets/controls",
          "model_name": "FloatProgressModel",
          "model_module_version": "1.5.0",
          "state": {
            "_dom_classes": [],
            "_model_module": "@jupyter-widgets/controls",
            "_model_module_version": "1.5.0",
            "_model_name": "FloatProgressModel",
            "_view_count": null,
            "_view_module": "@jupyter-widgets/controls",
            "_view_module_version": "1.5.0",
            "_view_name": "ProgressView",
            "bar_style": "success",
            "description": "",
            "description_tooltip": null,
            "layout": "IPY_MODEL_034d3af7d8bd4d8dac9caf61c2e9de3e",
            "max": 791656,
            "min": 0,
            "orientation": "horizontal",
            "style": "IPY_MODEL_394c2e08d5c6473e84553cb601b7ae95",
            "value": 791656
          }
        },
        "6495ff8a630e4941b2f6b8dab189cd3f": {
          "model_module": "@jupyter-widgets/controls",
          "model_name": "HTMLModel",
          "model_module_version": "1.5.0",
          "state": {
            "_dom_classes": [],
            "_model_module": "@jupyter-widgets/controls",
            "_model_module_version": "1.5.0",
            "_model_name": "HTMLModel",
            "_view_count": null,
            "_view_module": "@jupyter-widgets/controls",
            "_view_module_version": "1.5.0",
            "_view_name": "HTMLView",
            "description": "",
            "description_tooltip": null,
            "layout": "IPY_MODEL_fedb3db7e85f4bb98e953379562a1879",
            "placeholder": "​",
            "style": "IPY_MODEL_390b4b5b37fe4fce8eb676b2a8fdce64",
            "value": " 792k/792k [00:00&lt;00:00, 2.97MB/s]"
          }
        },
        "33be5dfd18a44e6382d06894e318b061": {
          "model_module": "@jupyter-widgets/base",
          "model_name": "LayoutModel",
          "model_module_version": "1.2.0",
          "state": {
            "_model_module": "@jupyter-widgets/base",
            "_model_module_version": "1.2.0",
            "_model_name": "LayoutModel",
            "_view_count": null,
            "_view_module": "@jupyter-widgets/base",
            "_view_module_version": "1.2.0",
            "_view_name": "LayoutView",
            "align_content": null,
            "align_items": null,
            "align_self": null,
            "border": null,
            "bottom": null,
            "display": null,
            "flex": null,
            "flex_flow": null,
            "grid_area": null,
            "grid_auto_columns": null,
            "grid_auto_flow": null,
            "grid_auto_rows": null,
            "grid_column": null,
            "grid_gap": null,
            "grid_row": null,
            "grid_template_areas": null,
            "grid_template_columns": null,
            "grid_template_rows": null,
            "height": null,
            "justify_content": null,
            "justify_items": null,
            "left": null,
            "margin": null,
            "max_height": null,
            "max_width": null,
            "min_height": null,
            "min_width": null,
            "object_fit": null,
            "object_position": null,
            "order": null,
            "overflow": null,
            "overflow_x": null,
            "overflow_y": null,
            "padding": null,
            "right": null,
            "top": null,
            "visibility": null,
            "width": null
          }
        },
        "5067dfe586b74896bdf210a5892ead3d": {
          "model_module": "@jupyter-widgets/base",
          "model_name": "LayoutModel",
          "model_module_version": "1.2.0",
          "state": {
            "_model_module": "@jupyter-widgets/base",
            "_model_module_version": "1.2.0",
            "_model_name": "LayoutModel",
            "_view_count": null,
            "_view_module": "@jupyter-widgets/base",
            "_view_module_version": "1.2.0",
            "_view_name": "LayoutView",
            "align_content": null,
            "align_items": null,
            "align_self": null,
            "border": null,
            "bottom": null,
            "display": null,
            "flex": null,
            "flex_flow": null,
            "grid_area": null,
            "grid_auto_columns": null,
            "grid_auto_flow": null,
            "grid_auto_rows": null,
            "grid_column": null,
            "grid_gap": null,
            "grid_row": null,
            "grid_template_areas": null,
            "grid_template_columns": null,
            "grid_template_rows": null,
            "height": null,
            "justify_content": null,
            "justify_items": null,
            "left": null,
            "margin": null,
            "max_height": null,
            "max_width": null,
            "min_height": null,
            "min_width": null,
            "object_fit": null,
            "object_position": null,
            "order": null,
            "overflow": null,
            "overflow_x": null,
            "overflow_y": null,
            "padding": null,
            "right": null,
            "top": null,
            "visibility": null,
            "width": null
          }
        },
        "ebc429e8260e4d10a294dba6b0a2ffb3": {
          "model_module": "@jupyter-widgets/controls",
          "model_name": "DescriptionStyleModel",
          "model_module_version": "1.5.0",
          "state": {
            "_model_module": "@jupyter-widgets/controls",
            "_model_module_version": "1.5.0",
            "_model_name": "DescriptionStyleModel",
            "_view_count": null,
            "_view_module": "@jupyter-widgets/base",
            "_view_module_version": "1.2.0",
            "_view_name": "StyleView",
            "description_width": ""
          }
        },
        "034d3af7d8bd4d8dac9caf61c2e9de3e": {
          "model_module": "@jupyter-widgets/base",
          "model_name": "LayoutModel",
          "model_module_version": "1.2.0",
          "state": {
            "_model_module": "@jupyter-widgets/base",
            "_model_module_version": "1.2.0",
            "_model_name": "LayoutModel",
            "_view_count": null,
            "_view_module": "@jupyter-widgets/base",
            "_view_module_version": "1.2.0",
            "_view_name": "LayoutView",
            "align_content": null,
            "align_items": null,
            "align_self": null,
            "border": null,
            "bottom": null,
            "display": null,
            "flex": null,
            "flex_flow": null,
            "grid_area": null,
            "grid_auto_columns": null,
            "grid_auto_flow": null,
            "grid_auto_rows": null,
            "grid_column": null,
            "grid_gap": null,
            "grid_row": null,
            "grid_template_areas": null,
            "grid_template_columns": null,
            "grid_template_rows": null,
            "height": null,
            "justify_content": null,
            "justify_items": null,
            "left": null,
            "margin": null,
            "max_height": null,
            "max_width": null,
            "min_height": null,
            "min_width": null,
            "object_fit": null,
            "object_position": null,
            "order": null,
            "overflow": null,
            "overflow_x": null,
            "overflow_y": null,
            "padding": null,
            "right": null,
            "top": null,
            "visibility": null,
            "width": null
          }
        },
        "394c2e08d5c6473e84553cb601b7ae95": {
          "model_module": "@jupyter-widgets/controls",
          "model_name": "ProgressStyleModel",
          "model_module_version": "1.5.0",
          "state": {
            "_model_module": "@jupyter-widgets/controls",
            "_model_module_version": "1.5.0",
            "_model_name": "ProgressStyleModel",
            "_view_count": null,
            "_view_module": "@jupyter-widgets/base",
            "_view_module_version": "1.2.0",
            "_view_name": "StyleView",
            "bar_color": null,
            "description_width": ""
          }
        },
        "fedb3db7e85f4bb98e953379562a1879": {
          "model_module": "@jupyter-widgets/base",
          "model_name": "LayoutModel",
          "model_module_version": "1.2.0",
          "state": {
            "_model_module": "@jupyter-widgets/base",
            "_model_module_version": "1.2.0",
            "_model_name": "LayoutModel",
            "_view_count": null,
            "_view_module": "@jupyter-widgets/base",
            "_view_module_version": "1.2.0",
            "_view_name": "LayoutView",
            "align_content": null,
            "align_items": null,
            "align_self": null,
            "border": null,
            "bottom": null,
            "display": null,
            "flex": null,
            "flex_flow": null,
            "grid_area": null,
            "grid_auto_columns": null,
            "grid_auto_flow": null,
            "grid_auto_rows": null,
            "grid_column": null,
            "grid_gap": null,
            "grid_row": null,
            "grid_template_areas": null,
            "grid_template_columns": null,
            "grid_template_rows": null,
            "height": null,
            "justify_content": null,
            "justify_items": null,
            "left": null,
            "margin": null,
            "max_height": null,
            "max_width": null,
            "min_height": null,
            "min_width": null,
            "object_fit": null,
            "object_position": null,
            "order": null,
            "overflow": null,
            "overflow_x": null,
            "overflow_y": null,
            "padding": null,
            "right": null,
            "top": null,
            "visibility": null,
            "width": null
          }
        },
        "390b4b5b37fe4fce8eb676b2a8fdce64": {
          "model_module": "@jupyter-widgets/controls",
          "model_name": "DescriptionStyleModel",
          "model_module_version": "1.5.0",
          "state": {
            "_model_module": "@jupyter-widgets/controls",
            "_model_module_version": "1.5.0",
            "_model_name": "DescriptionStyleModel",
            "_view_count": null,
            "_view_module": "@jupyter-widgets/base",
            "_view_module_version": "1.2.0",
            "_view_name": "StyleView",
            "description_width": ""
          }
        },
        "c3206fc3c4094a6d92bd1fd51059a034": {
          "model_module": "@jupyter-widgets/controls",
          "model_name": "HBoxModel",
          "model_module_version": "1.5.0",
          "state": {
            "_dom_classes": [],
            "_model_module": "@jupyter-widgets/controls",
            "_model_module_version": "1.5.0",
            "_model_name": "HBoxModel",
            "_view_count": null,
            "_view_module": "@jupyter-widgets/controls",
            "_view_module_version": "1.5.0",
            "_view_name": "HBoxView",
            "box_style": "",
            "children": [
              "IPY_MODEL_24523a137a2b45ada259fc9fc0642825",
              "IPY_MODEL_7a93f967adbb4ed9be2f90550d8a9190",
              "IPY_MODEL_1e4848c98f5745d180f863fb16c98af5"
            ],
            "layout": "IPY_MODEL_0ffdbad3b20a4ed98009690dc8c6ee6e"
          }
        },
        "24523a137a2b45ada259fc9fc0642825": {
          "model_module": "@jupyter-widgets/controls",
          "model_name": "HTMLModel",
          "model_module_version": "1.5.0",
          "state": {
            "_dom_classes": [],
            "_model_module": "@jupyter-widgets/controls",
            "_model_module_version": "1.5.0",
            "_model_name": "HTMLModel",
            "_view_count": null,
            "_view_module": "@jupyter-widgets/controls",
            "_view_module_version": "1.5.0",
            "_view_name": "HTMLView",
            "description": "",
            "description_tooltip": null,
            "layout": "IPY_MODEL_1f30f71a66144a88ac79c00eb6feab2d",
            "placeholder": "​",
            "style": "IPY_MODEL_d0b45e83618d45aca2f2d42b585648fd",
            "value": "tokenizer.json: 100%"
          }
        },
        "7a93f967adbb4ed9be2f90550d8a9190": {
          "model_module": "@jupyter-widgets/controls",
          "model_name": "FloatProgressModel",
          "model_module_version": "1.5.0",
          "state": {
            "_dom_classes": [],
            "_model_module": "@jupyter-widgets/controls",
            "_model_module_version": "1.5.0",
            "_model_name": "FloatProgressModel",
            "_view_count": null,
            "_view_module": "@jupyter-widgets/controls",
            "_view_module_version": "1.5.0",
            "_view_name": "ProgressView",
            "bar_style": "success",
            "description": "",
            "description_tooltip": null,
            "layout": "IPY_MODEL_9dc0af8f14144f1aa994ed0f6a8ebbfa",
            "max": 1389353,
            "min": 0,
            "orientation": "horizontal",
            "style": "IPY_MODEL_16d6cdeb6455466fa82e9f7b88a0e01b",
            "value": 1389353
          }
        },
        "1e4848c98f5745d180f863fb16c98af5": {
          "model_module": "@jupyter-widgets/controls",
          "model_name": "HTMLModel",
          "model_module_version": "1.5.0",
          "state": {
            "_dom_classes": [],
            "_model_module": "@jupyter-widgets/controls",
            "_model_module_version": "1.5.0",
            "_model_name": "HTMLModel",
            "_view_count": null,
            "_view_module": "@jupyter-widgets/controls",
            "_view_module_version": "1.5.0",
            "_view_name": "HTMLView",
            "description": "",
            "description_tooltip": null,
            "layout": "IPY_MODEL_1ada618084504605afe19f663e659da7",
            "placeholder": "​",
            "style": "IPY_MODEL_b3475a0580c84af8bb48750a46b37bd7",
            "value": " 1.39M/1.39M [00:00&lt;00:00, 6.88MB/s]"
          }
        },
        "0ffdbad3b20a4ed98009690dc8c6ee6e": {
          "model_module": "@jupyter-widgets/base",
          "model_name": "LayoutModel",
          "model_module_version": "1.2.0",
          "state": {
            "_model_module": "@jupyter-widgets/base",
            "_model_module_version": "1.2.0",
            "_model_name": "LayoutModel",
            "_view_count": null,
            "_view_module": "@jupyter-widgets/base",
            "_view_module_version": "1.2.0",
            "_view_name": "LayoutView",
            "align_content": null,
            "align_items": null,
            "align_self": null,
            "border": null,
            "bottom": null,
            "display": null,
            "flex": null,
            "flex_flow": null,
            "grid_area": null,
            "grid_auto_columns": null,
            "grid_auto_flow": null,
            "grid_auto_rows": null,
            "grid_column": null,
            "grid_gap": null,
            "grid_row": null,
            "grid_template_areas": null,
            "grid_template_columns": null,
            "grid_template_rows": null,
            "height": null,
            "justify_content": null,
            "justify_items": null,
            "left": null,
            "margin": null,
            "max_height": null,
            "max_width": null,
            "min_height": null,
            "min_width": null,
            "object_fit": null,
            "object_position": null,
            "order": null,
            "overflow": null,
            "overflow_x": null,
            "overflow_y": null,
            "padding": null,
            "right": null,
            "top": null,
            "visibility": null,
            "width": null
          }
        },
        "1f30f71a66144a88ac79c00eb6feab2d": {
          "model_module": "@jupyter-widgets/base",
          "model_name": "LayoutModel",
          "model_module_version": "1.2.0",
          "state": {
            "_model_module": "@jupyter-widgets/base",
            "_model_module_version": "1.2.0",
            "_model_name": "LayoutModel",
            "_view_count": null,
            "_view_module": "@jupyter-widgets/base",
            "_view_module_version": "1.2.0",
            "_view_name": "LayoutView",
            "align_content": null,
            "align_items": null,
            "align_self": null,
            "border": null,
            "bottom": null,
            "display": null,
            "flex": null,
            "flex_flow": null,
            "grid_area": null,
            "grid_auto_columns": null,
            "grid_auto_flow": null,
            "grid_auto_rows": null,
            "grid_column": null,
            "grid_gap": null,
            "grid_row": null,
            "grid_template_areas": null,
            "grid_template_columns": null,
            "grid_template_rows": null,
            "height": null,
            "justify_content": null,
            "justify_items": null,
            "left": null,
            "margin": null,
            "max_height": null,
            "max_width": null,
            "min_height": null,
            "min_width": null,
            "object_fit": null,
            "object_position": null,
            "order": null,
            "overflow": null,
            "overflow_x": null,
            "overflow_y": null,
            "padding": null,
            "right": null,
            "top": null,
            "visibility": null,
            "width": null
          }
        },
        "d0b45e83618d45aca2f2d42b585648fd": {
          "model_module": "@jupyter-widgets/controls",
          "model_name": "DescriptionStyleModel",
          "model_module_version": "1.5.0",
          "state": {
            "_model_module": "@jupyter-widgets/controls",
            "_model_module_version": "1.5.0",
            "_model_name": "DescriptionStyleModel",
            "_view_count": null,
            "_view_module": "@jupyter-widgets/base",
            "_view_module_version": "1.2.0",
            "_view_name": "StyleView",
            "description_width": ""
          }
        },
        "9dc0af8f14144f1aa994ed0f6a8ebbfa": {
          "model_module": "@jupyter-widgets/base",
          "model_name": "LayoutModel",
          "model_module_version": "1.2.0",
          "state": {
            "_model_module": "@jupyter-widgets/base",
            "_model_module_version": "1.2.0",
            "_model_name": "LayoutModel",
            "_view_count": null,
            "_view_module": "@jupyter-widgets/base",
            "_view_module_version": "1.2.0",
            "_view_name": "LayoutView",
            "align_content": null,
            "align_items": null,
            "align_self": null,
            "border": null,
            "bottom": null,
            "display": null,
            "flex": null,
            "flex_flow": null,
            "grid_area": null,
            "grid_auto_columns": null,
            "grid_auto_flow": null,
            "grid_auto_rows": null,
            "grid_column": null,
            "grid_gap": null,
            "grid_row": null,
            "grid_template_areas": null,
            "grid_template_columns": null,
            "grid_template_rows": null,
            "height": null,
            "justify_content": null,
            "justify_items": null,
            "left": null,
            "margin": null,
            "max_height": null,
            "max_width": null,
            "min_height": null,
            "min_width": null,
            "object_fit": null,
            "object_position": null,
            "order": null,
            "overflow": null,
            "overflow_x": null,
            "overflow_y": null,
            "padding": null,
            "right": null,
            "top": null,
            "visibility": null,
            "width": null
          }
        },
        "16d6cdeb6455466fa82e9f7b88a0e01b": {
          "model_module": "@jupyter-widgets/controls",
          "model_name": "ProgressStyleModel",
          "model_module_version": "1.5.0",
          "state": {
            "_model_module": "@jupyter-widgets/controls",
            "_model_module_version": "1.5.0",
            "_model_name": "ProgressStyleModel",
            "_view_count": null,
            "_view_module": "@jupyter-widgets/base",
            "_view_module_version": "1.2.0",
            "_view_name": "StyleView",
            "bar_color": null,
            "description_width": ""
          }
        },
        "1ada618084504605afe19f663e659da7": {
          "model_module": "@jupyter-widgets/base",
          "model_name": "LayoutModel",
          "model_module_version": "1.2.0",
          "state": {
            "_model_module": "@jupyter-widgets/base",
            "_model_module_version": "1.2.0",
            "_model_name": "LayoutModel",
            "_view_count": null,
            "_view_module": "@jupyter-widgets/base",
            "_view_module_version": "1.2.0",
            "_view_name": "LayoutView",
            "align_content": null,
            "align_items": null,
            "align_self": null,
            "border": null,
            "bottom": null,
            "display": null,
            "flex": null,
            "flex_flow": null,
            "grid_area": null,
            "grid_auto_columns": null,
            "grid_auto_flow": null,
            "grid_auto_rows": null,
            "grid_column": null,
            "grid_gap": null,
            "grid_row": null,
            "grid_template_areas": null,
            "grid_template_columns": null,
            "grid_template_rows": null,
            "height": null,
            "justify_content": null,
            "justify_items": null,
            "left": null,
            "margin": null,
            "max_height": null,
            "max_width": null,
            "min_height": null,
            "min_width": null,
            "object_fit": null,
            "object_position": null,
            "order": null,
            "overflow": null,
            "overflow_x": null,
            "overflow_y": null,
            "padding": null,
            "right": null,
            "top": null,
            "visibility": null,
            "width": null
          }
        },
        "b3475a0580c84af8bb48750a46b37bd7": {
          "model_module": "@jupyter-widgets/controls",
          "model_name": "DescriptionStyleModel",
          "model_module_version": "1.5.0",
          "state": {
            "_model_module": "@jupyter-widgets/controls",
            "_model_module_version": "1.5.0",
            "_model_name": "DescriptionStyleModel",
            "_view_count": null,
            "_view_module": "@jupyter-widgets/base",
            "_view_module_version": "1.2.0",
            "_view_name": "StyleView",
            "description_width": ""
          }
        },
        "a64fd4f0561145598245ec77e3e73573": {
          "model_module": "@jupyter-widgets/controls",
          "model_name": "HBoxModel",
          "model_module_version": "1.5.0",
          "state": {
            "_dom_classes": [],
            "_model_module": "@jupyter-widgets/controls",
            "_model_module_version": "1.5.0",
            "_model_name": "HBoxModel",
            "_view_count": null,
            "_view_module": "@jupyter-widgets/controls",
            "_view_module_version": "1.5.0",
            "_view_name": "HBoxView",
            "box_style": "",
            "children": [
              "IPY_MODEL_052bc4f3804c4f6f977d6e573c3c7b61",
              "IPY_MODEL_a22d3be0b09a4757b2e16e2c45f8897b",
              "IPY_MODEL_a3bd365b0b514dd4aa63716c95e32e03"
            ],
            "layout": "IPY_MODEL_64c1528b412e47f1b27861d508d6341d"
          }
        },
        "052bc4f3804c4f6f977d6e573c3c7b61": {
          "model_module": "@jupyter-widgets/controls",
          "model_name": "HTMLModel",
          "model_module_version": "1.5.0",
          "state": {
            "_dom_classes": [],
            "_model_module": "@jupyter-widgets/controls",
            "_model_module_version": "1.5.0",
            "_model_name": "HTMLModel",
            "_view_count": null,
            "_view_module": "@jupyter-widgets/controls",
            "_view_module_version": "1.5.0",
            "_view_name": "HTMLView",
            "description": "",
            "description_tooltip": null,
            "layout": "IPY_MODEL_9a79306bf01447e6ba3844ef3ae829a3",
            "placeholder": "​",
            "style": "IPY_MODEL_c8139e5cdac44f83be457c95081bbc8a",
            "value": "Map: 100%"
          }
        },
        "a22d3be0b09a4757b2e16e2c45f8897b": {
          "model_module": "@jupyter-widgets/controls",
          "model_name": "FloatProgressModel",
          "model_module_version": "1.5.0",
          "state": {
            "_dom_classes": [],
            "_model_module": "@jupyter-widgets/controls",
            "_model_module_version": "1.5.0",
            "_model_name": "FloatProgressModel",
            "_view_count": null,
            "_view_module": "@jupyter-widgets/controls",
            "_view_module_version": "1.5.0",
            "_view_name": "ProgressView",
            "bar_style": "success",
            "description": "",
            "description_tooltip": null,
            "layout": "IPY_MODEL_7582abd8ae0d4febad05bea5c907b475",
            "max": 1237,
            "min": 0,
            "orientation": "horizontal",
            "style": "IPY_MODEL_c15e8f17f8404a04a7b08cb7966b71ed",
            "value": 1237
          }
        },
        "a3bd365b0b514dd4aa63716c95e32e03": {
          "model_module": "@jupyter-widgets/controls",
          "model_name": "HTMLModel",
          "model_module_version": "1.5.0",
          "state": {
            "_dom_classes": [],
            "_model_module": "@jupyter-widgets/controls",
            "_model_module_version": "1.5.0",
            "_model_name": "HTMLModel",
            "_view_count": null,
            "_view_module": "@jupyter-widgets/controls",
            "_view_module_version": "1.5.0",
            "_view_name": "HTMLView",
            "description": "",
            "description_tooltip": null,
            "layout": "IPY_MODEL_b88a972ed5ef4351a033ed1fba0a490c",
            "placeholder": "​",
            "style": "IPY_MODEL_f3da91df71bc4021bce8d4f720785380",
            "value": " 1237/1237 [00:08&lt;00:00, 143.53 examples/s]"
          }
        },
        "64c1528b412e47f1b27861d508d6341d": {
          "model_module": "@jupyter-widgets/base",
          "model_name": "LayoutModel",
          "model_module_version": "1.2.0",
          "state": {
            "_model_module": "@jupyter-widgets/base",
            "_model_module_version": "1.2.0",
            "_model_name": "LayoutModel",
            "_view_count": null,
            "_view_module": "@jupyter-widgets/base",
            "_view_module_version": "1.2.0",
            "_view_name": "LayoutView",
            "align_content": null,
            "align_items": null,
            "align_self": null,
            "border": null,
            "bottom": null,
            "display": null,
            "flex": null,
            "flex_flow": null,
            "grid_area": null,
            "grid_auto_columns": null,
            "grid_auto_flow": null,
            "grid_auto_rows": null,
            "grid_column": null,
            "grid_gap": null,
            "grid_row": null,
            "grid_template_areas": null,
            "grid_template_columns": null,
            "grid_template_rows": null,
            "height": null,
            "justify_content": null,
            "justify_items": null,
            "left": null,
            "margin": null,
            "max_height": null,
            "max_width": null,
            "min_height": null,
            "min_width": null,
            "object_fit": null,
            "object_position": null,
            "order": null,
            "overflow": null,
            "overflow_x": null,
            "overflow_y": null,
            "padding": null,
            "right": null,
            "top": null,
            "visibility": null,
            "width": null
          }
        },
        "9a79306bf01447e6ba3844ef3ae829a3": {
          "model_module": "@jupyter-widgets/base",
          "model_name": "LayoutModel",
          "model_module_version": "1.2.0",
          "state": {
            "_model_module": "@jupyter-widgets/base",
            "_model_module_version": "1.2.0",
            "_model_name": "LayoutModel",
            "_view_count": null,
            "_view_module": "@jupyter-widgets/base",
            "_view_module_version": "1.2.0",
            "_view_name": "LayoutView",
            "align_content": null,
            "align_items": null,
            "align_self": null,
            "border": null,
            "bottom": null,
            "display": null,
            "flex": null,
            "flex_flow": null,
            "grid_area": null,
            "grid_auto_columns": null,
            "grid_auto_flow": null,
            "grid_auto_rows": null,
            "grid_column": null,
            "grid_gap": null,
            "grid_row": null,
            "grid_template_areas": null,
            "grid_template_columns": null,
            "grid_template_rows": null,
            "height": null,
            "justify_content": null,
            "justify_items": null,
            "left": null,
            "margin": null,
            "max_height": null,
            "max_width": null,
            "min_height": null,
            "min_width": null,
            "object_fit": null,
            "object_position": null,
            "order": null,
            "overflow": null,
            "overflow_x": null,
            "overflow_y": null,
            "padding": null,
            "right": null,
            "top": null,
            "visibility": null,
            "width": null
          }
        },
        "c8139e5cdac44f83be457c95081bbc8a": {
          "model_module": "@jupyter-widgets/controls",
          "model_name": "DescriptionStyleModel",
          "model_module_version": "1.5.0",
          "state": {
            "_model_module": "@jupyter-widgets/controls",
            "_model_module_version": "1.5.0",
            "_model_name": "DescriptionStyleModel",
            "_view_count": null,
            "_view_module": "@jupyter-widgets/base",
            "_view_module_version": "1.2.0",
            "_view_name": "StyleView",
            "description_width": ""
          }
        },
        "7582abd8ae0d4febad05bea5c907b475": {
          "model_module": "@jupyter-widgets/base",
          "model_name": "LayoutModel",
          "model_module_version": "1.2.0",
          "state": {
            "_model_module": "@jupyter-widgets/base",
            "_model_module_version": "1.2.0",
            "_model_name": "LayoutModel",
            "_view_count": null,
            "_view_module": "@jupyter-widgets/base",
            "_view_module_version": "1.2.0",
            "_view_name": "LayoutView",
            "align_content": null,
            "align_items": null,
            "align_self": null,
            "border": null,
            "bottom": null,
            "display": null,
            "flex": null,
            "flex_flow": null,
            "grid_area": null,
            "grid_auto_columns": null,
            "grid_auto_flow": null,
            "grid_auto_rows": null,
            "grid_column": null,
            "grid_gap": null,
            "grid_row": null,
            "grid_template_areas": null,
            "grid_template_columns": null,
            "grid_template_rows": null,
            "height": null,
            "justify_content": null,
            "justify_items": null,
            "left": null,
            "margin": null,
            "max_height": null,
            "max_width": null,
            "min_height": null,
            "min_width": null,
            "object_fit": null,
            "object_position": null,
            "order": null,
            "overflow": null,
            "overflow_x": null,
            "overflow_y": null,
            "padding": null,
            "right": null,
            "top": null,
            "visibility": null,
            "width": null
          }
        },
        "c15e8f17f8404a04a7b08cb7966b71ed": {
          "model_module": "@jupyter-widgets/controls",
          "model_name": "ProgressStyleModel",
          "model_module_version": "1.5.0",
          "state": {
            "_model_module": "@jupyter-widgets/controls",
            "_model_module_version": "1.5.0",
            "_model_name": "ProgressStyleModel",
            "_view_count": null,
            "_view_module": "@jupyter-widgets/base",
            "_view_module_version": "1.2.0",
            "_view_name": "StyleView",
            "bar_color": null,
            "description_width": ""
          }
        },
        "b88a972ed5ef4351a033ed1fba0a490c": {
          "model_module": "@jupyter-widgets/base",
          "model_name": "LayoutModel",
          "model_module_version": "1.2.0",
          "state": {
            "_model_module": "@jupyter-widgets/base",
            "_model_module_version": "1.2.0",
            "_model_name": "LayoutModel",
            "_view_count": null,
            "_view_module": "@jupyter-widgets/base",
            "_view_module_version": "1.2.0",
            "_view_name": "LayoutView",
            "align_content": null,
            "align_items": null,
            "align_self": null,
            "border": null,
            "bottom": null,
            "display": null,
            "flex": null,
            "flex_flow": null,
            "grid_area": null,
            "grid_auto_columns": null,
            "grid_auto_flow": null,
            "grid_auto_rows": null,
            "grid_column": null,
            "grid_gap": null,
            "grid_row": null,
            "grid_template_areas": null,
            "grid_template_columns": null,
            "grid_template_rows": null,
            "height": null,
            "justify_content": null,
            "justify_items": null,
            "left": null,
            "margin": null,
            "max_height": null,
            "max_width": null,
            "min_height": null,
            "min_width": null,
            "object_fit": null,
            "object_position": null,
            "order": null,
            "overflow": null,
            "overflow_x": null,
            "overflow_y": null,
            "padding": null,
            "right": null,
            "top": null,
            "visibility": null,
            "width": null
          }
        },
        "f3da91df71bc4021bce8d4f720785380": {
          "model_module": "@jupyter-widgets/controls",
          "model_name": "DescriptionStyleModel",
          "model_module_version": "1.5.0",
          "state": {
            "_model_module": "@jupyter-widgets/controls",
            "_model_module_version": "1.5.0",
            "_model_name": "DescriptionStyleModel",
            "_view_count": null,
            "_view_module": "@jupyter-widgets/base",
            "_view_module_version": "1.2.0",
            "_view_name": "StyleView",
            "description_width": ""
          }
        },
        "a6b2368d5c3c47d28777ac1b1d699ea2": {
          "model_module": "@jupyter-widgets/controls",
          "model_name": "HBoxModel",
          "model_module_version": "1.5.0",
          "state": {
            "_dom_classes": [],
            "_model_module": "@jupyter-widgets/controls",
            "_model_module_version": "1.5.0",
            "_model_name": "HBoxModel",
            "_view_count": null,
            "_view_module": "@jupyter-widgets/controls",
            "_view_module_version": "1.5.0",
            "_view_name": "HBoxView",
            "box_style": "",
            "children": [
              "IPY_MODEL_e37ed41e74b940f78cf41bfd2c5fc33b",
              "IPY_MODEL_d464142e014f4d85817ab8a9cecf9619",
              "IPY_MODEL_c6afa66e88aa4482ad0f7813e58a3ca9"
            ],
            "layout": "IPY_MODEL_73c048ec2506439f9300bb86cd53ff9c"
          }
        },
        "e37ed41e74b940f78cf41bfd2c5fc33b": {
          "model_module": "@jupyter-widgets/controls",
          "model_name": "HTMLModel",
          "model_module_version": "1.5.0",
          "state": {
            "_dom_classes": [],
            "_model_module": "@jupyter-widgets/controls",
            "_model_module_version": "1.5.0",
            "_model_name": "HTMLModel",
            "_view_count": null,
            "_view_module": "@jupyter-widgets/controls",
            "_view_module_version": "1.5.0",
            "_view_name": "HTMLView",
            "description": "",
            "description_tooltip": null,
            "layout": "IPY_MODEL_3ecef4a2d00c48a181330d7efe3ac6fd",
            "placeholder": "​",
            "style": "IPY_MODEL_bd5551ae73664ea2b761c6d796f76cd3",
            "value": "Downloading builder script: 100%"
          }
        },
        "d464142e014f4d85817ab8a9cecf9619": {
          "model_module": "@jupyter-widgets/controls",
          "model_name": "FloatProgressModel",
          "model_module_version": "1.5.0",
          "state": {
            "_dom_classes": [],
            "_model_module": "@jupyter-widgets/controls",
            "_model_module_version": "1.5.0",
            "_model_name": "FloatProgressModel",
            "_view_count": null,
            "_view_module": "@jupyter-widgets/controls",
            "_view_module_version": "1.5.0",
            "_view_name": "ProgressView",
            "bar_style": "success",
            "description": "",
            "description_tooltip": null,
            "layout": "IPY_MODEL_e76fef6385ef4c8ca8198ce11c3f6264",
            "max": 6270,
            "min": 0,
            "orientation": "horizontal",
            "style": "IPY_MODEL_8326955f3f454a55804c964398c73f64",
            "value": 6270
          }
        },
        "c6afa66e88aa4482ad0f7813e58a3ca9": {
          "model_module": "@jupyter-widgets/controls",
          "model_name": "HTMLModel",
          "model_module_version": "1.5.0",
          "state": {
            "_dom_classes": [],
            "_model_module": "@jupyter-widgets/controls",
            "_model_module_version": "1.5.0",
            "_model_name": "HTMLModel",
            "_view_count": null,
            "_view_module": "@jupyter-widgets/controls",
            "_view_module_version": "1.5.0",
            "_view_name": "HTMLView",
            "description": "",
            "description_tooltip": null,
            "layout": "IPY_MODEL_19dd04575d93433cbe541d1ec530c6cb",
            "placeholder": "​",
            "style": "IPY_MODEL_001ded28ac40479db93ca1936e0d2383",
            "value": " 6.27k/6.27k [00:00&lt;00:00, 452kB/s]"
          }
        },
        "73c048ec2506439f9300bb86cd53ff9c": {
          "model_module": "@jupyter-widgets/base",
          "model_name": "LayoutModel",
          "model_module_version": "1.2.0",
          "state": {
            "_model_module": "@jupyter-widgets/base",
            "_model_module_version": "1.2.0",
            "_model_name": "LayoutModel",
            "_view_count": null,
            "_view_module": "@jupyter-widgets/base",
            "_view_module_version": "1.2.0",
            "_view_name": "LayoutView",
            "align_content": null,
            "align_items": null,
            "align_self": null,
            "border": null,
            "bottom": null,
            "display": null,
            "flex": null,
            "flex_flow": null,
            "grid_area": null,
            "grid_auto_columns": null,
            "grid_auto_flow": null,
            "grid_auto_rows": null,
            "grid_column": null,
            "grid_gap": null,
            "grid_row": null,
            "grid_template_areas": null,
            "grid_template_columns": null,
            "grid_template_rows": null,
            "height": null,
            "justify_content": null,
            "justify_items": null,
            "left": null,
            "margin": null,
            "max_height": null,
            "max_width": null,
            "min_height": null,
            "min_width": null,
            "object_fit": null,
            "object_position": null,
            "order": null,
            "overflow": null,
            "overflow_x": null,
            "overflow_y": null,
            "padding": null,
            "right": null,
            "top": null,
            "visibility": null,
            "width": null
          }
        },
        "3ecef4a2d00c48a181330d7efe3ac6fd": {
          "model_module": "@jupyter-widgets/base",
          "model_name": "LayoutModel",
          "model_module_version": "1.2.0",
          "state": {
            "_model_module": "@jupyter-widgets/base",
            "_model_module_version": "1.2.0",
            "_model_name": "LayoutModel",
            "_view_count": null,
            "_view_module": "@jupyter-widgets/base",
            "_view_module_version": "1.2.0",
            "_view_name": "LayoutView",
            "align_content": null,
            "align_items": null,
            "align_self": null,
            "border": null,
            "bottom": null,
            "display": null,
            "flex": null,
            "flex_flow": null,
            "grid_area": null,
            "grid_auto_columns": null,
            "grid_auto_flow": null,
            "grid_auto_rows": null,
            "grid_column": null,
            "grid_gap": null,
            "grid_row": null,
            "grid_template_areas": null,
            "grid_template_columns": null,
            "grid_template_rows": null,
            "height": null,
            "justify_content": null,
            "justify_items": null,
            "left": null,
            "margin": null,
            "max_height": null,
            "max_width": null,
            "min_height": null,
            "min_width": null,
            "object_fit": null,
            "object_position": null,
            "order": null,
            "overflow": null,
            "overflow_x": null,
            "overflow_y": null,
            "padding": null,
            "right": null,
            "top": null,
            "visibility": null,
            "width": null
          }
        },
        "bd5551ae73664ea2b761c6d796f76cd3": {
          "model_module": "@jupyter-widgets/controls",
          "model_name": "DescriptionStyleModel",
          "model_module_version": "1.5.0",
          "state": {
            "_model_module": "@jupyter-widgets/controls",
            "_model_module_version": "1.5.0",
            "_model_name": "DescriptionStyleModel",
            "_view_count": null,
            "_view_module": "@jupyter-widgets/base",
            "_view_module_version": "1.2.0",
            "_view_name": "StyleView",
            "description_width": ""
          }
        },
        "e76fef6385ef4c8ca8198ce11c3f6264": {
          "model_module": "@jupyter-widgets/base",
          "model_name": "LayoutModel",
          "model_module_version": "1.2.0",
          "state": {
            "_model_module": "@jupyter-widgets/base",
            "_model_module_version": "1.2.0",
            "_model_name": "LayoutModel",
            "_view_count": null,
            "_view_module": "@jupyter-widgets/base",
            "_view_module_version": "1.2.0",
            "_view_name": "LayoutView",
            "align_content": null,
            "align_items": null,
            "align_self": null,
            "border": null,
            "bottom": null,
            "display": null,
            "flex": null,
            "flex_flow": null,
            "grid_area": null,
            "grid_auto_columns": null,
            "grid_auto_flow": null,
            "grid_auto_rows": null,
            "grid_column": null,
            "grid_gap": null,
            "grid_row": null,
            "grid_template_areas": null,
            "grid_template_columns": null,
            "grid_template_rows": null,
            "height": null,
            "justify_content": null,
            "justify_items": null,
            "left": null,
            "margin": null,
            "max_height": null,
            "max_width": null,
            "min_height": null,
            "min_width": null,
            "object_fit": null,
            "object_position": null,
            "order": null,
            "overflow": null,
            "overflow_x": null,
            "overflow_y": null,
            "padding": null,
            "right": null,
            "top": null,
            "visibility": null,
            "width": null
          }
        },
        "8326955f3f454a55804c964398c73f64": {
          "model_module": "@jupyter-widgets/controls",
          "model_name": "ProgressStyleModel",
          "model_module_version": "1.5.0",
          "state": {
            "_model_module": "@jupyter-widgets/controls",
            "_model_module_version": "1.5.0",
            "_model_name": "ProgressStyleModel",
            "_view_count": null,
            "_view_module": "@jupyter-widgets/base",
            "_view_module_version": "1.2.0",
            "_view_name": "StyleView",
            "bar_color": null,
            "description_width": ""
          }
        },
        "19dd04575d93433cbe541d1ec530c6cb": {
          "model_module": "@jupyter-widgets/base",
          "model_name": "LayoutModel",
          "model_module_version": "1.2.0",
          "state": {
            "_model_module": "@jupyter-widgets/base",
            "_model_module_version": "1.2.0",
            "_model_name": "LayoutModel",
            "_view_count": null,
            "_view_module": "@jupyter-widgets/base",
            "_view_module_version": "1.2.0",
            "_view_name": "LayoutView",
            "align_content": null,
            "align_items": null,
            "align_self": null,
            "border": null,
            "bottom": null,
            "display": null,
            "flex": null,
            "flex_flow": null,
            "grid_area": null,
            "grid_auto_columns": null,
            "grid_auto_flow": null,
            "grid_auto_rows": null,
            "grid_column": null,
            "grid_gap": null,
            "grid_row": null,
            "grid_template_areas": null,
            "grid_template_columns": null,
            "grid_template_rows": null,
            "height": null,
            "justify_content": null,
            "justify_items": null,
            "left": null,
            "margin": null,
            "max_height": null,
            "max_width": null,
            "min_height": null,
            "min_width": null,
            "object_fit": null,
            "object_position": null,
            "order": null,
            "overflow": null,
            "overflow_x": null,
            "overflow_y": null,
            "padding": null,
            "right": null,
            "top": null,
            "visibility": null,
            "width": null
          }
        },
        "001ded28ac40479db93ca1936e0d2383": {
          "model_module": "@jupyter-widgets/controls",
          "model_name": "DescriptionStyleModel",
          "model_module_version": "1.5.0",
          "state": {
            "_model_module": "@jupyter-widgets/controls",
            "_model_module_version": "1.5.0",
            "_model_name": "DescriptionStyleModel",
            "_view_count": null,
            "_view_module": "@jupyter-widgets/base",
            "_view_module_version": "1.2.0",
            "_view_name": "StyleView",
            "description_width": ""
          }
        },
        "dff6e33cd21e4b17856f06e2f48c31d6": {
          "model_module": "@jupyter-widgets/controls",
          "model_name": "HBoxModel",
          "model_module_version": "1.5.0",
          "state": {
            "_dom_classes": [],
            "_model_module": "@jupyter-widgets/controls",
            "_model_module_version": "1.5.0",
            "_model_name": "HBoxModel",
            "_view_count": null,
            "_view_module": "@jupyter-widgets/controls",
            "_view_module_version": "1.5.0",
            "_view_name": "HBoxView",
            "box_style": "",
            "children": [
              "IPY_MODEL_551867b75f78473aa0e5548695bc4d07",
              "IPY_MODEL_125a1e49a0264a7d9d7547fd9d50e21a",
              "IPY_MODEL_b0ce1c663e8e4b05ac57a02499ddc5bc"
            ],
            "layout": "IPY_MODEL_5a54c34b9d804b7f868e6fdc373f8385"
          }
        },
        "551867b75f78473aa0e5548695bc4d07": {
          "model_module": "@jupyter-widgets/controls",
          "model_name": "HTMLModel",
          "model_module_version": "1.5.0",
          "state": {
            "_dom_classes": [],
            "_model_module": "@jupyter-widgets/controls",
            "_model_module_version": "1.5.0",
            "_model_name": "HTMLModel",
            "_view_count": null,
            "_view_module": "@jupyter-widgets/controls",
            "_view_module_version": "1.5.0",
            "_view_name": "HTMLView",
            "description": "",
            "description_tooltip": null,
            "layout": "IPY_MODEL_3c7e577a80a740298167c30c08b7407f",
            "placeholder": "​",
            "style": "IPY_MODEL_a58199d90548408e8cc915282736d7ca",
            "value": "config.json: 100%"
          }
        },
        "125a1e49a0264a7d9d7547fd9d50e21a": {
          "model_module": "@jupyter-widgets/controls",
          "model_name": "FloatProgressModel",
          "model_module_version": "1.5.0",
          "state": {
            "_dom_classes": [],
            "_model_module": "@jupyter-widgets/controls",
            "_model_module_version": "1.5.0",
            "_model_name": "FloatProgressModel",
            "_view_count": null,
            "_view_module": "@jupyter-widgets/controls",
            "_view_module_version": "1.5.0",
            "_view_name": "ProgressView",
            "bar_style": "success",
            "description": "",
            "description_tooltip": null,
            "layout": "IPY_MODEL_de84ffbbdc1149629ad23d0e1e63b5ab",
            "max": 1206,
            "min": 0,
            "orientation": "horizontal",
            "style": "IPY_MODEL_d120af82ea2b4294a509a488225781e1",
            "value": 1206
          }
        },
        "b0ce1c663e8e4b05ac57a02499ddc5bc": {
          "model_module": "@jupyter-widgets/controls",
          "model_name": "HTMLModel",
          "model_module_version": "1.5.0",
          "state": {
            "_dom_classes": [],
            "_model_module": "@jupyter-widgets/controls",
            "_model_module_version": "1.5.0",
            "_model_name": "HTMLModel",
            "_view_count": null,
            "_view_module": "@jupyter-widgets/controls",
            "_view_module_version": "1.5.0",
            "_view_name": "HTMLView",
            "description": "",
            "description_tooltip": null,
            "layout": "IPY_MODEL_f0de9eaa352a41798a104165cdc85b92",
            "placeholder": "​",
            "style": "IPY_MODEL_e08e109e6d254e7082ff682edfc775e4",
            "value": " 1.21k/1.21k [00:00&lt;00:00, 80.4kB/s]"
          }
        },
        "5a54c34b9d804b7f868e6fdc373f8385": {
          "model_module": "@jupyter-widgets/base",
          "model_name": "LayoutModel",
          "model_module_version": "1.2.0",
          "state": {
            "_model_module": "@jupyter-widgets/base",
            "_model_module_version": "1.2.0",
            "_model_name": "LayoutModel",
            "_view_count": null,
            "_view_module": "@jupyter-widgets/base",
            "_view_module_version": "1.2.0",
            "_view_name": "LayoutView",
            "align_content": null,
            "align_items": null,
            "align_self": null,
            "border": null,
            "bottom": null,
            "display": null,
            "flex": null,
            "flex_flow": null,
            "grid_area": null,
            "grid_auto_columns": null,
            "grid_auto_flow": null,
            "grid_auto_rows": null,
            "grid_column": null,
            "grid_gap": null,
            "grid_row": null,
            "grid_template_areas": null,
            "grid_template_columns": null,
            "grid_template_rows": null,
            "height": null,
            "justify_content": null,
            "justify_items": null,
            "left": null,
            "margin": null,
            "max_height": null,
            "max_width": null,
            "min_height": null,
            "min_width": null,
            "object_fit": null,
            "object_position": null,
            "order": null,
            "overflow": null,
            "overflow_x": null,
            "overflow_y": null,
            "padding": null,
            "right": null,
            "top": null,
            "visibility": null,
            "width": null
          }
        },
        "3c7e577a80a740298167c30c08b7407f": {
          "model_module": "@jupyter-widgets/base",
          "model_name": "LayoutModel",
          "model_module_version": "1.2.0",
          "state": {
            "_model_module": "@jupyter-widgets/base",
            "_model_module_version": "1.2.0",
            "_model_name": "LayoutModel",
            "_view_count": null,
            "_view_module": "@jupyter-widgets/base",
            "_view_module_version": "1.2.0",
            "_view_name": "LayoutView",
            "align_content": null,
            "align_items": null,
            "align_self": null,
            "border": null,
            "bottom": null,
            "display": null,
            "flex": null,
            "flex_flow": null,
            "grid_area": null,
            "grid_auto_columns": null,
            "grid_auto_flow": null,
            "grid_auto_rows": null,
            "grid_column": null,
            "grid_gap": null,
            "grid_row": null,
            "grid_template_areas": null,
            "grid_template_columns": null,
            "grid_template_rows": null,
            "height": null,
            "justify_content": null,
            "justify_items": null,
            "left": null,
            "margin": null,
            "max_height": null,
            "max_width": null,
            "min_height": null,
            "min_width": null,
            "object_fit": null,
            "object_position": null,
            "order": null,
            "overflow": null,
            "overflow_x": null,
            "overflow_y": null,
            "padding": null,
            "right": null,
            "top": null,
            "visibility": null,
            "width": null
          }
        },
        "a58199d90548408e8cc915282736d7ca": {
          "model_module": "@jupyter-widgets/controls",
          "model_name": "DescriptionStyleModel",
          "model_module_version": "1.5.0",
          "state": {
            "_model_module": "@jupyter-widgets/controls",
            "_model_module_version": "1.5.0",
            "_model_name": "DescriptionStyleModel",
            "_view_count": null,
            "_view_module": "@jupyter-widgets/base",
            "_view_module_version": "1.2.0",
            "_view_name": "StyleView",
            "description_width": ""
          }
        },
        "de84ffbbdc1149629ad23d0e1e63b5ab": {
          "model_module": "@jupyter-widgets/base",
          "model_name": "LayoutModel",
          "model_module_version": "1.2.0",
          "state": {
            "_model_module": "@jupyter-widgets/base",
            "_model_module_version": "1.2.0",
            "_model_name": "LayoutModel",
            "_view_count": null,
            "_view_module": "@jupyter-widgets/base",
            "_view_module_version": "1.2.0",
            "_view_name": "LayoutView",
            "align_content": null,
            "align_items": null,
            "align_self": null,
            "border": null,
            "bottom": null,
            "display": null,
            "flex": null,
            "flex_flow": null,
            "grid_area": null,
            "grid_auto_columns": null,
            "grid_auto_flow": null,
            "grid_auto_rows": null,
            "grid_column": null,
            "grid_gap": null,
            "grid_row": null,
            "grid_template_areas": null,
            "grid_template_columns": null,
            "grid_template_rows": null,
            "height": null,
            "justify_content": null,
            "justify_items": null,
            "left": null,
            "margin": null,
            "max_height": null,
            "max_width": null,
            "min_height": null,
            "min_width": null,
            "object_fit": null,
            "object_position": null,
            "order": null,
            "overflow": null,
            "overflow_x": null,
            "overflow_y": null,
            "padding": null,
            "right": null,
            "top": null,
            "visibility": null,
            "width": null
          }
        },
        "d120af82ea2b4294a509a488225781e1": {
          "model_module": "@jupyter-widgets/controls",
          "model_name": "ProgressStyleModel",
          "model_module_version": "1.5.0",
          "state": {
            "_model_module": "@jupyter-widgets/controls",
            "_model_module_version": "1.5.0",
            "_model_name": "ProgressStyleModel",
            "_view_count": null,
            "_view_module": "@jupyter-widgets/base",
            "_view_module_version": "1.2.0",
            "_view_name": "StyleView",
            "bar_color": null,
            "description_width": ""
          }
        },
        "f0de9eaa352a41798a104165cdc85b92": {
          "model_module": "@jupyter-widgets/base",
          "model_name": "LayoutModel",
          "model_module_version": "1.2.0",
          "state": {
            "_model_module": "@jupyter-widgets/base",
            "_model_module_version": "1.2.0",
            "_model_name": "LayoutModel",
            "_view_count": null,
            "_view_module": "@jupyter-widgets/base",
            "_view_module_version": "1.2.0",
            "_view_name": "LayoutView",
            "align_content": null,
            "align_items": null,
            "align_self": null,
            "border": null,
            "bottom": null,
            "display": null,
            "flex": null,
            "flex_flow": null,
            "grid_area": null,
            "grid_auto_columns": null,
            "grid_auto_flow": null,
            "grid_auto_rows": null,
            "grid_column": null,
            "grid_gap": null,
            "grid_row": null,
            "grid_template_areas": null,
            "grid_template_columns": null,
            "grid_template_rows": null,
            "height": null,
            "justify_content": null,
            "justify_items": null,
            "left": null,
            "margin": null,
            "max_height": null,
            "max_width": null,
            "min_height": null,
            "min_width": null,
            "object_fit": null,
            "object_position": null,
            "order": null,
            "overflow": null,
            "overflow_x": null,
            "overflow_y": null,
            "padding": null,
            "right": null,
            "top": null,
            "visibility": null,
            "width": null
          }
        },
        "e08e109e6d254e7082ff682edfc775e4": {
          "model_module": "@jupyter-widgets/controls",
          "model_name": "DescriptionStyleModel",
          "model_module_version": "1.5.0",
          "state": {
            "_model_module": "@jupyter-widgets/controls",
            "_model_module_version": "1.5.0",
            "_model_name": "DescriptionStyleModel",
            "_view_count": null,
            "_view_module": "@jupyter-widgets/base",
            "_view_module_version": "1.2.0",
            "_view_name": "StyleView",
            "description_width": ""
          }
        },
        "bda2d3044b864c46b3ff69c4973b243b": {
          "model_module": "@jupyter-widgets/controls",
          "model_name": "HBoxModel",
          "model_module_version": "1.5.0",
          "state": {
            "_dom_classes": [],
            "_model_module": "@jupyter-widgets/controls",
            "_model_module_version": "1.5.0",
            "_model_name": "HBoxModel",
            "_view_count": null,
            "_view_module": "@jupyter-widgets/controls",
            "_view_module_version": "1.5.0",
            "_view_name": "HBoxView",
            "box_style": "",
            "children": [
              "IPY_MODEL_4feff2e366bb48c2873489caf6860593",
              "IPY_MODEL_2385277e7ed34237904c0243d9a738ef",
              "IPY_MODEL_cbfa7d9669314b489218524301873667"
            ],
            "layout": "IPY_MODEL_c3672c859bef448695e0af82c77b9a68"
          }
        },
        "4feff2e366bb48c2873489caf6860593": {
          "model_module": "@jupyter-widgets/controls",
          "model_name": "HTMLModel",
          "model_module_version": "1.5.0",
          "state": {
            "_dom_classes": [],
            "_model_module": "@jupyter-widgets/controls",
            "_model_module_version": "1.5.0",
            "_model_name": "HTMLModel",
            "_view_count": null,
            "_view_module": "@jupyter-widgets/controls",
            "_view_module_version": "1.5.0",
            "_view_name": "HTMLView",
            "description": "",
            "description_tooltip": null,
            "layout": "IPY_MODEL_9a80320464e84b9b934778cf839a7eda",
            "placeholder": "​",
            "style": "IPY_MODEL_00df58f2ca3646c8989555f83a4199d6",
            "value": "model.safetensors: 100%"
          }
        },
        "2385277e7ed34237904c0243d9a738ef": {
          "model_module": "@jupyter-widgets/controls",
          "model_name": "FloatProgressModel",
          "model_module_version": "1.5.0",
          "state": {
            "_dom_classes": [],
            "_model_module": "@jupyter-widgets/controls",
            "_model_module_version": "1.5.0",
            "_model_name": "FloatProgressModel",
            "_view_count": null,
            "_view_module": "@jupyter-widgets/controls",
            "_view_module_version": "1.5.0",
            "_view_name": "ProgressView",
            "bar_style": "success",
            "description": "",
            "description_tooltip": null,
            "layout": "IPY_MODEL_e5d894283bff48acadb481b3b3b596a5",
            "max": 242043056,
            "min": 0,
            "orientation": "horizontal",
            "style": "IPY_MODEL_3078d63d46d3407692d67b204b5ba346",
            "value": 242043056
          }
        },
        "cbfa7d9669314b489218524301873667": {
          "model_module": "@jupyter-widgets/controls",
          "model_name": "HTMLModel",
          "model_module_version": "1.5.0",
          "state": {
            "_dom_classes": [],
            "_model_module": "@jupyter-widgets/controls",
            "_model_module_version": "1.5.0",
            "_model_name": "HTMLModel",
            "_view_count": null,
            "_view_module": "@jupyter-widgets/controls",
            "_view_module_version": "1.5.0",
            "_view_name": "HTMLView",
            "description": "",
            "description_tooltip": null,
            "layout": "IPY_MODEL_a0a6f02a8bef412692c6af6426d17140",
            "placeholder": "​",
            "style": "IPY_MODEL_70b7c40334e8414eacaa329bff37343d",
            "value": " 242M/242M [00:01&lt;00:00, 180MB/s]"
          }
        },
        "c3672c859bef448695e0af82c77b9a68": {
          "model_module": "@jupyter-widgets/base",
          "model_name": "LayoutModel",
          "model_module_version": "1.2.0",
          "state": {
            "_model_module": "@jupyter-widgets/base",
            "_model_module_version": "1.2.0",
            "_model_name": "LayoutModel",
            "_view_count": null,
            "_view_module": "@jupyter-widgets/base",
            "_view_module_version": "1.2.0",
            "_view_name": "LayoutView",
            "align_content": null,
            "align_items": null,
            "align_self": null,
            "border": null,
            "bottom": null,
            "display": null,
            "flex": null,
            "flex_flow": null,
            "grid_area": null,
            "grid_auto_columns": null,
            "grid_auto_flow": null,
            "grid_auto_rows": null,
            "grid_column": null,
            "grid_gap": null,
            "grid_row": null,
            "grid_template_areas": null,
            "grid_template_columns": null,
            "grid_template_rows": null,
            "height": null,
            "justify_content": null,
            "justify_items": null,
            "left": null,
            "margin": null,
            "max_height": null,
            "max_width": null,
            "min_height": null,
            "min_width": null,
            "object_fit": null,
            "object_position": null,
            "order": null,
            "overflow": null,
            "overflow_x": null,
            "overflow_y": null,
            "padding": null,
            "right": null,
            "top": null,
            "visibility": null,
            "width": null
          }
        },
        "9a80320464e84b9b934778cf839a7eda": {
          "model_module": "@jupyter-widgets/base",
          "model_name": "LayoutModel",
          "model_module_version": "1.2.0",
          "state": {
            "_model_module": "@jupyter-widgets/base",
            "_model_module_version": "1.2.0",
            "_model_name": "LayoutModel",
            "_view_count": null,
            "_view_module": "@jupyter-widgets/base",
            "_view_module_version": "1.2.0",
            "_view_name": "LayoutView",
            "align_content": null,
            "align_items": null,
            "align_self": null,
            "border": null,
            "bottom": null,
            "display": null,
            "flex": null,
            "flex_flow": null,
            "grid_area": null,
            "grid_auto_columns": null,
            "grid_auto_flow": null,
            "grid_auto_rows": null,
            "grid_column": null,
            "grid_gap": null,
            "grid_row": null,
            "grid_template_areas": null,
            "grid_template_columns": null,
            "grid_template_rows": null,
            "height": null,
            "justify_content": null,
            "justify_items": null,
            "left": null,
            "margin": null,
            "max_height": null,
            "max_width": null,
            "min_height": null,
            "min_width": null,
            "object_fit": null,
            "object_position": null,
            "order": null,
            "overflow": null,
            "overflow_x": null,
            "overflow_y": null,
            "padding": null,
            "right": null,
            "top": null,
            "visibility": null,
            "width": null
          }
        },
        "00df58f2ca3646c8989555f83a4199d6": {
          "model_module": "@jupyter-widgets/controls",
          "model_name": "DescriptionStyleModel",
          "model_module_version": "1.5.0",
          "state": {
            "_model_module": "@jupyter-widgets/controls",
            "_model_module_version": "1.5.0",
            "_model_name": "DescriptionStyleModel",
            "_view_count": null,
            "_view_module": "@jupyter-widgets/base",
            "_view_module_version": "1.2.0",
            "_view_name": "StyleView",
            "description_width": ""
          }
        },
        "e5d894283bff48acadb481b3b3b596a5": {
          "model_module": "@jupyter-widgets/base",
          "model_name": "LayoutModel",
          "model_module_version": "1.2.0",
          "state": {
            "_model_module": "@jupyter-widgets/base",
            "_model_module_version": "1.2.0",
            "_model_name": "LayoutModel",
            "_view_count": null,
            "_view_module": "@jupyter-widgets/base",
            "_view_module_version": "1.2.0",
            "_view_name": "LayoutView",
            "align_content": null,
            "align_items": null,
            "align_self": null,
            "border": null,
            "bottom": null,
            "display": null,
            "flex": null,
            "flex_flow": null,
            "grid_area": null,
            "grid_auto_columns": null,
            "grid_auto_flow": null,
            "grid_auto_rows": null,
            "grid_column": null,
            "grid_gap": null,
            "grid_row": null,
            "grid_template_areas": null,
            "grid_template_columns": null,
            "grid_template_rows": null,
            "height": null,
            "justify_content": null,
            "justify_items": null,
            "left": null,
            "margin": null,
            "max_height": null,
            "max_width": null,
            "min_height": null,
            "min_width": null,
            "object_fit": null,
            "object_position": null,
            "order": null,
            "overflow": null,
            "overflow_x": null,
            "overflow_y": null,
            "padding": null,
            "right": null,
            "top": null,
            "visibility": null,
            "width": null
          }
        },
        "3078d63d46d3407692d67b204b5ba346": {
          "model_module": "@jupyter-widgets/controls",
          "model_name": "ProgressStyleModel",
          "model_module_version": "1.5.0",
          "state": {
            "_model_module": "@jupyter-widgets/controls",
            "_model_module_version": "1.5.0",
            "_model_name": "ProgressStyleModel",
            "_view_count": null,
            "_view_module": "@jupyter-widgets/base",
            "_view_module_version": "1.2.0",
            "_view_name": "StyleView",
            "bar_color": null,
            "description_width": ""
          }
        },
        "a0a6f02a8bef412692c6af6426d17140": {
          "model_module": "@jupyter-widgets/base",
          "model_name": "LayoutModel",
          "model_module_version": "1.2.0",
          "state": {
            "_model_module": "@jupyter-widgets/base",
            "_model_module_version": "1.2.0",
            "_model_name": "LayoutModel",
            "_view_count": null,
            "_view_module": "@jupyter-widgets/base",
            "_view_module_version": "1.2.0",
            "_view_name": "LayoutView",
            "align_content": null,
            "align_items": null,
            "align_self": null,
            "border": null,
            "bottom": null,
            "display": null,
            "flex": null,
            "flex_flow": null,
            "grid_area": null,
            "grid_auto_columns": null,
            "grid_auto_flow": null,
            "grid_auto_rows": null,
            "grid_column": null,
            "grid_gap": null,
            "grid_row": null,
            "grid_template_areas": null,
            "grid_template_columns": null,
            "grid_template_rows": null,
            "height": null,
            "justify_content": null,
            "justify_items": null,
            "left": null,
            "margin": null,
            "max_height": null,
            "max_width": null,
            "min_height": null,
            "min_width": null,
            "object_fit": null,
            "object_position": null,
            "order": null,
            "overflow": null,
            "overflow_x": null,
            "overflow_y": null,
            "padding": null,
            "right": null,
            "top": null,
            "visibility": null,
            "width": null
          }
        },
        "70b7c40334e8414eacaa329bff37343d": {
          "model_module": "@jupyter-widgets/controls",
          "model_name": "DescriptionStyleModel",
          "model_module_version": "1.5.0",
          "state": {
            "_model_module": "@jupyter-widgets/controls",
            "_model_module_version": "1.5.0",
            "_model_name": "DescriptionStyleModel",
            "_view_count": null,
            "_view_module": "@jupyter-widgets/base",
            "_view_module_version": "1.2.0",
            "_view_name": "StyleView",
            "description_width": ""
          }
        }
      }
    }
  },
  "cells": [
    {
      "cell_type": "markdown",
      "source": [
        "# Summarization"
      ],
      "metadata": {
        "id": "-6hUcmBqJilf"
      }
    },
    {
      "cell_type": "markdown",
      "source": [
        "In this tutorial, you will explore the concept of text summarization using hugging face transformers, a key task in natural language processing (NLP).\n",
        "\n",
        "You will learn:\n",
        "\n",
        "* **Using pre trained text summarization model**\n",
        "* **How to fine tune summarization models**"
      ],
      "metadata": {
        "id": "7rccujZmRif3"
      }
    },
    {
      "cell_type": "markdown",
      "source": [
        "## Use Pre Trained Model"
      ],
      "metadata": {
        "id": "3zsMAz0-Mfja"
      }
    },
    {
      "cell_type": "markdown",
      "source": [
        "### Import the necessary libraries"
      ],
      "metadata": {
        "id": "HLguu_h5MtVA"
      }
    },
    {
      "cell_type": "code",
      "source": [
        "from transformers import pipeline#@@@@@@@2"
      ],
      "metadata": {
        "id": "wFrLCw-1MXpk"
      },
      "execution_count": 1,
      "outputs": []
    },
    {
      "cell_type": "markdown",
      "source": [
        "### Create a summarization pipeline"
      ],
      "metadata": {
        "id": "IcUVGbFnMzn-"
      }
    },
    {
      "cell_type": "markdown",
      "source": [
        "We use Hugging Face's pipeline() function to create a summarization pipeline, specifying the task as \"summarization\"."
      ],
      "metadata": {
        "id": "0jWCWdH6M2c7"
      }
    },
    {
      "cell_type": "code",
      "source": [
        "summarizer = pipeline(\"summarization\", model=\"facebook/bart-large-cnn\")#@@@@@@"
      ],
      "metadata": {
        "colab": {
          "base_uri": "https://localhost:8080/"
        },
        "id": "AU45X3MRM21H",
        "outputId": "2690879c-8e53-4914-9509-4d127bf5788a"
      },
      "execution_count": 2,
      "outputs": [
        {
          "output_type": "stream",
          "name": "stderr",
          "text": [
            "/usr/local/lib/python3.10/dist-packages/huggingface_hub/utils/_token.py:89: UserWarning: \n",
            "The secret `HF_TOKEN` does not exist in your Colab secrets.\n",
            "To authenticate with the Hugging Face Hub, create a token in your settings tab (https://huggingface.co/settings/tokens), set it as secret in your Google Colab and restart your session.\n",
            "You will be able to reuse this secret in all of your notebooks.\n",
            "Please note that authentication is recommended but still optional to access public models or datasets.\n",
            "  warnings.warn(\n",
            "/usr/local/lib/python3.10/dist-packages/transformers/tokenization_utils_base.py:1601: FutureWarning: `clean_up_tokenization_spaces` was not set. It will be set to `True` by default. This behavior will be depracted in transformers v4.45, and will be then set to `False` by default. For more details check this issue: https://github.com/huggingface/transformers/issues/31884\n",
            "  warnings.warn(\n",
            "Hardware accelerator e.g. GPU is available in the environment, but no `device` argument is passed to the `Pipeline` object. Model will be on CPU.\n"
          ]
        }
      ]
    },
    {
      "cell_type": "markdown",
      "source": [
        "### Provide some text for summarization"
      ],
      "metadata": {
        "id": "9jqt60a0M5rJ"
      }
    },
    {
      "cell_type": "markdown",
      "source": [
        "You can pass a long text that you want to summarize."
      ],
      "metadata": {
        "id": "trKFzjNQM7A6"
      }
    },
    {
      "cell_type": "code",
      "source": [
        "text = \"\"\"\n",
        "The field of natural language processing (NLP) is rapidly growing, with transformers being one of the most powerful tools.\n",
        "They have revolutionized tasks like machine translation, text summarization, and question-answering. Transformers work by\n",
        "using a mechanism called attention to focus on different parts of the input text. Since the introduction of the transformer\n",
        "architecture, models such as BERT, GPT, and BART have emerged, each contributing to state-of-the-art performance in various\n",
        "NLP tasks. Hugging Face provides easy access to these models through its library, making it accessible for both researchers\n",
        "and developers to use pretrained models or fine-tune them on specific tasks.\n",
        "\"\"\""
      ],
      "metadata": {
        "id": "tA3j1EHxM9Jw"
      },
      "execution_count": null,
      "outputs": []
    },
    {
      "cell_type": "code",
      "source": [
        "#@@@@@@@@@@@\n",
        "text=\"\"\"\n",
        "\n",
        "\n",
        "There was once a pleased elephant who generally harassed smaller animals. He would go\n",
        "to the ant colony and shower water on the ants. The ants, with their size, could just cry.\n",
        "The elephant laughed and threatened the ants that he would kill them\n",
        "\"\"\""
      ],
      "metadata": {
        "id": "CDsH_dcJQX5L"
      },
      "execution_count": 3,
      "outputs": []
    },
    {
      "cell_type": "markdown",
      "source": [
        "### Generate a summary"
      ],
      "metadata": {
        "id": "VH9x1PiJNANk"
      }
    },
    {
      "cell_type": "markdown",
      "source": [
        "Now, you can generate a summary for the provided text by calling the summarizer() method.\n",
        "\n",
        " **Parameters**:\n",
        "*   max_length: The maximum length of the summary.\n",
        "*   min_length: The minimum length of the summary.\n",
        "*   do_sample: If set to False, it will use greedy decoding (i.e., always select the most likely next word)."
      ],
      "metadata": {
        "id": "_VgIJElVNEf5"
      }
    },
    {
      "cell_type": "code",
      "source": [
        "#@@@@@@@@\n",
        "summary = summarizer(text, max_length=50, min_length=25, do_sample=False)\n",
        "print(summary[0]['summary_text'])"
      ],
      "metadata": {
        "colab": {
          "base_uri": "https://localhost:8080/"
        },
        "id": "tAo16rG3NFQG",
        "outputId": "d6d50cea-43b6-4f5e-f9ac-2b99604a1e13"
      },
      "execution_count": 4,
      "outputs": [
        {
          "output_type": "stream",
          "name": "stdout",
          "text": [
            "The elephant laughed and threatened the ants that he would kill them if they cried. The ants, with their size, could just cry.\n"
          ]
        }
      ]
    },
    {
      "cell_type": "code",
      "source": [
        "#@@@@@@@@\n",
        "summary = summarizer(text, max_length=50, min_length=25, do_sample=True)\n",
        "print(summary[0]['summary_text'])"
      ],
      "metadata": {
        "id": "m3eNJEGbRPKp",
        "outputId": "0141b79f-f77a-4a8b-93a3-68da8a662ebd",
        "colab": {
          "base_uri": "https://localhost:8080/"
        }
      },
      "execution_count": 6,
      "outputs": [
        {
          "output_type": "stream",
          "name": "stdout",
          "text": [
            "The elephant would go to the ant colony and shower water on the ants. The ants, with their size, could just cry. The elephant laughed and threatened to kill them.\n"
          ]
        }
      ]
    },
    {
      "cell_type": "markdown",
      "source": [
        "## Fine Tuning"
      ],
      "metadata": {
        "id": "AtNgTDESMVsG"
      }
    },
    {
      "cell_type": "markdown",
      "source": [
        "### Install & Immport Libraries"
      ],
      "metadata": {
        "id": "YhelgarBL2fO"
      }
    },
    {
      "cell_type": "markdown",
      "source": [
        "Summarization creates a shorter version of a document or an article that captures all the important information. Along with translation, it is another example of a task that can be formulated as a sequence-to-sequence task. Summarization can be:\n",
        "\n",
        "* Extractive: extract the most relevant information from a document.\n",
        "* Abstractive: generate new text that captures the most relevant information.\n",
        "\n",
        "This guide will show you how to:\n",
        "\n",
        "1. Finetune T5 on the California state bill subset of the BillSum dataset for abstractive summarization.\n",
        "2. Use your finetuned model for inference."
      ],
      "metadata": {
        "id": "r_YgEYsiJv-e"
      }
    },
    {
      "cell_type": "code",
      "execution_count": 5,
      "metadata": {
        "colab": {
          "base_uri": "https://localhost:8080/"
        },
        "id": "2fKg5rPd9GBY",
        "outputId": "852538a3-b973-4c7e-fe02-ac322c3be018"
      },
      "outputs": [
        {
          "output_type": "stream",
          "name": "stdout",
          "text": [
            "Requirement already satisfied: transformers in /usr/local/lib/python3.10/dist-packages (4.44.2)\n",
            "Requirement already satisfied: datasets in /usr/local/lib/python3.10/dist-packages (3.0.0)\n",
            "Requirement already satisfied: evaluate in /usr/local/lib/python3.10/dist-packages (0.4.3)\n",
            "Requirement already satisfied: rouge_score in /usr/local/lib/python3.10/dist-packages (0.1.2)\n",
            "Requirement already satisfied: filelock in /usr/local/lib/python3.10/dist-packages (from transformers) (3.16.0)\n",
            "Requirement already satisfied: huggingface-hub<1.0,>=0.23.2 in /usr/local/lib/python3.10/dist-packages (from transformers) (0.24.6)\n",
            "Requirement already satisfied: numpy>=1.17 in /usr/local/lib/python3.10/dist-packages (from transformers) (1.26.4)\n",
            "Requirement already satisfied: packaging>=20.0 in /usr/local/lib/python3.10/dist-packages (from transformers) (24.1)\n",
            "Requirement already satisfied: pyyaml>=5.1 in /usr/local/lib/python3.10/dist-packages (from transformers) (6.0.2)\n",
            "Requirement already satisfied: regex!=2019.12.17 in /usr/local/lib/python3.10/dist-packages (from transformers) (2024.5.15)\n",
            "Requirement already satisfied: requests in /usr/local/lib/python3.10/dist-packages (from transformers) (2.32.3)\n",
            "Requirement already satisfied: safetensors>=0.4.1 in /usr/local/lib/python3.10/dist-packages (from transformers) (0.4.5)\n",
            "Requirement already satisfied: tokenizers<0.20,>=0.19 in /usr/local/lib/python3.10/dist-packages (from transformers) (0.19.1)\n",
            "Requirement already satisfied: tqdm>=4.27 in /usr/local/lib/python3.10/dist-packages (from transformers) (4.66.5)\n",
            "Requirement already satisfied: pyarrow>=15.0.0 in /usr/local/lib/python3.10/dist-packages (from datasets) (17.0.0)\n",
            "Requirement already satisfied: dill<0.3.9,>=0.3.0 in /usr/local/lib/python3.10/dist-packages (from datasets) (0.3.8)\n",
            "Requirement already satisfied: pandas in /usr/local/lib/python3.10/dist-packages (from datasets) (2.1.4)\n",
            "Requirement already satisfied: xxhash in /usr/local/lib/python3.10/dist-packages (from datasets) (3.5.0)\n",
            "Requirement already satisfied: multiprocess in /usr/local/lib/python3.10/dist-packages (from datasets) (0.70.16)\n",
            "Requirement already satisfied: fsspec<=2024.6.1,>=2023.1.0 in /usr/local/lib/python3.10/dist-packages (from fsspec[http]<=2024.6.1,>=2023.1.0->datasets) (2024.6.1)\n",
            "Requirement already satisfied: aiohttp in /usr/local/lib/python3.10/dist-packages (from datasets) (3.10.5)\n",
            "Requirement already satisfied: absl-py in /usr/local/lib/python3.10/dist-packages (from rouge_score) (1.4.0)\n",
            "Requirement already satisfied: nltk in /usr/local/lib/python3.10/dist-packages (from rouge_score) (3.8.1)\n",
            "Requirement already satisfied: six>=1.14.0 in /usr/local/lib/python3.10/dist-packages (from rouge_score) (1.16.0)\n",
            "Requirement already satisfied: aiohappyeyeballs>=2.3.0 in /usr/local/lib/python3.10/dist-packages (from aiohttp->datasets) (2.4.0)\n",
            "Requirement already satisfied: aiosignal>=1.1.2 in /usr/local/lib/python3.10/dist-packages (from aiohttp->datasets) (1.3.1)\n",
            "Requirement already satisfied: attrs>=17.3.0 in /usr/local/lib/python3.10/dist-packages (from aiohttp->datasets) (24.2.0)\n",
            "Requirement already satisfied: frozenlist>=1.1.1 in /usr/local/lib/python3.10/dist-packages (from aiohttp->datasets) (1.4.1)\n",
            "Requirement already satisfied: multidict<7.0,>=4.5 in /usr/local/lib/python3.10/dist-packages (from aiohttp->datasets) (6.0.5)\n",
            "Requirement already satisfied: yarl<2.0,>=1.0 in /usr/local/lib/python3.10/dist-packages (from aiohttp->datasets) (1.11.1)\n",
            "Requirement already satisfied: async-timeout<5.0,>=4.0 in /usr/local/lib/python3.10/dist-packages (from aiohttp->datasets) (4.0.3)\n",
            "Requirement already satisfied: typing-extensions>=3.7.4.3 in /usr/local/lib/python3.10/dist-packages (from huggingface-hub<1.0,>=0.23.2->transformers) (4.12.2)\n",
            "Requirement already satisfied: charset-normalizer<4,>=2 in /usr/local/lib/python3.10/dist-packages (from requests->transformers) (3.3.2)\n",
            "Requirement already satisfied: idna<4,>=2.5 in /usr/local/lib/python3.10/dist-packages (from requests->transformers) (3.8)\n",
            "Requirement already satisfied: urllib3<3,>=1.21.1 in /usr/local/lib/python3.10/dist-packages (from requests->transformers) (2.0.7)\n",
            "Requirement already satisfied: certifi>=2017.4.17 in /usr/local/lib/python3.10/dist-packages (from requests->transformers) (2024.8.30)\n",
            "Requirement already satisfied: click in /usr/local/lib/python3.10/dist-packages (from nltk->rouge_score) (8.1.7)\n",
            "Requirement already satisfied: joblib in /usr/local/lib/python3.10/dist-packages (from nltk->rouge_score) (1.4.2)\n",
            "Requirement already satisfied: python-dateutil>=2.8.2 in /usr/local/lib/python3.10/dist-packages (from pandas->datasets) (2.8.2)\n",
            "Requirement already satisfied: pytz>=2020.1 in /usr/local/lib/python3.10/dist-packages (from pandas->datasets) (2024.1)\n",
            "Requirement already satisfied: tzdata>=2022.1 in /usr/local/lib/python3.10/dist-packages (from pandas->datasets) (2024.1)\n"
          ]
        }
      ],
      "source": [
        "!pip install transformers datasets evaluate rouge_score"
      ]
    },
    {
      "cell_type": "code",
      "source": [
        "!pip transformers datasets evaluate rouge_score #@@@@@@@@@@"
      ],
      "metadata": {
        "id": "4Lv5ITS7kMJ6"
      },
      "execution_count": null,
      "outputs": []
    },
    {
      "cell_type": "markdown",
      "source": [
        "### Load the Model"
      ],
      "metadata": {
        "id": "phQn604XL6ea"
      }
    },
    {
      "cell_type": "code",
      "source": [
        "from datasets import load_dataset\n",
        "\n",
        "billsum = load_dataset(\"billsum\", split=\"ca_test\")\n",
        "\n",
        "billsum_subset = billsum.select(range(200))"
      ],
      "metadata": {
        "colab": {
          "base_uri": "https://localhost:8080/",
          "height": 241,
          "referenced_widgets": [
            "d69be60892404c34a48b3a1fca5efd0e",
            "8a68eb39688c4ebcbe4148d64378d636",
            "0b626d14035b4f57b2c23a56af3909be",
            "cc8d683c1ea14fd88d788b939fec8775",
            "47bd0f33eed7400a9f4762f6245ce370",
            "556cf11b16d942978f16a6ddda0426ff",
            "03f33f6d1b174df29163df7fcb63727c",
            "edd54cd38cbb4537948812f6ebdf90dc",
            "34046ae5bd62476b9a79f9be9d4c5bbb",
            "a189dbbd2ed44907a2d463cde54a8278",
            "466740228a334367adc82d656d4e52a0",
            "a88f93ae1e7a4acf86d16d4cc47a5205",
            "f67c03c3c1b64ec191943f55a3e6d861",
            "654f0259111742dda692c53d886e92b1",
            "ce369fd3693c47a6a3d84f8be73b4eed",
            "89dc1c8fedaa43c5901c77e3675021b3",
            "5f281c9037bf49bdb2525c872676ca4b",
            "14201e16ea304ac48b32f709ca23aa1d",
            "61b1235ea7f3425baf36094905b59f0a",
            "1b700d7411f54049aa79f00005651f20",
            "01d3c14f76074aa7889875b5becaa9d1",
            "58219f1488104580b29235716302323f",
            "2b864793b7dc446ab59ae850263a44aa",
            "270dfc0ce3ed4768b2c26b06979a67d6",
            "79e93e2dc485418581636e774f1275ad",
            "3d9ecd92729444b0a46eb6f3f14fb79a",
            "e21933bf2e984414abbc5414f01d8c7e",
            "fad962dc507c4a98a4e78e711fd5fb28",
            "e8952a1564ed48f999c23f7ca155c720",
            "f05353bf923e4aa6ae42bcf5f14af1e5",
            "842da750fbd34ba5a5d7c5f212bb224b",
            "c3804e9ef06a49c18f54eb413236c20e",
            "b45b46f5d8d447059ce6f0f021e22c1b",
            "bda7c61ef3dc4efb86655e23ef983133",
            "e211e49adb6147adb17bd0c139ef0147",
            "cd5d03a8b86341cdba71ff99f9a8edac",
            "c372e90ce14d457f990c35c3d654f659",
            "4b6f6a63744d47beb71c4fa6b1195371",
            "e3fa7b14dc494d6f867cc76e0c2250b4",
            "356d3501f8474cc5b7611cf826784657",
            "72a860ed76b744088a1962bf9c2b84cc",
            "4fce921248e948d5982fbcc41a057217",
            "d0f0dba6383a438dbcc75e857e9089b0",
            "0143046c51884365a6f974c563a1d8ac",
            "15044ad54f514128b9cc97d6b2384f64",
            "f21b2401b6fd44d8a44d674c5a30fa10",
            "49c8c4af30084e179493f052190a01be",
            "d1b497241d8d4dd8b4f5e20302eadf40",
            "64adf9aee7ae4df7833cebe98b254b09",
            "48db16582f414eb4be6e6199a01e51a4",
            "e7ab04bb042c4f34a5850359bd5090b0",
            "61213486ae9f453db21b5c96b60c1769",
            "99bed625d8d74707bfb0f9906995a8da",
            "87e1d588fde345e99e50f18d3b976bf4",
            "c080b71cd7be4427bdcf56a8b53fcae1",
            "8d41d4da1cde41f29d94b0581a6d52b6",
            "802213a2a1ed431ebc493bd796d86a03",
            "9508753cc28e4b3ab45c5ec595c8e428",
            "7a2f3e684f9e479ea630325894e9b5ea",
            "9e87865e696143dba905f6d9746ec1ac",
            "43e09567c6824f609e22e896a411bc0c",
            "06e2918abd6f4b3abbee1edf14fe71d4",
            "41477a51407d47e3b7c155c1d48fdfcd",
            "f23e379c205c4da6a19922cb09a5c154",
            "231388869b6f4e74b6ce022c244a8322",
            "c2b16d8ba1534176b31f1d81c786365b",
            "f92e304e4b934766aa083eb1b5295a6d",
            "9d4e872f928b4eb6ae331317fdd86acb",
            "8e83d7090caa424e8c9ff50136d3d843",
            "6a01c5358dc44378bb83ba379e5c1e5f",
            "04a8e49ffe7546e9be9c5442dcec3f79",
            "5597e41a893e4428ae14e1be591a8fda",
            "f6cba10c8a96416ca4b7409dc5e3520a",
            "e4cbbd8c9f394adba5b8b5ae8e658b01",
            "80fff2bf97f94c1a9b97c704b1ed34c7",
            "127f0961ead94333a7264881d786daf0",
            "630fbbafa59a4478b9d308624d610255"
          ]
        },
        "id": "w0PmkRw-9lS9",
        "outputId": "f3f87207-e85a-46d9-fccc-54cbbc473a70"
      },
      "execution_count": 6,
      "outputs": [
        {
          "output_type": "display_data",
          "data": {
            "text/plain": [
              "README.md:   0%|          | 0.00/7.27k [00:00<?, ?B/s]"
            ],
            "application/vnd.jupyter.widget-view+json": {
              "version_major": 2,
              "version_minor": 0,
              "model_id": "d69be60892404c34a48b3a1fca5efd0e"
            }
          },
          "metadata": {}
        },
        {
          "output_type": "display_data",
          "data": {
            "text/plain": [
              "train-00000-of-00001.parquet:   0%|          | 0.00/91.8M [00:00<?, ?B/s]"
            ],
            "application/vnd.jupyter.widget-view+json": {
              "version_major": 2,
              "version_minor": 0,
              "model_id": "a88f93ae1e7a4acf86d16d4cc47a5205"
            }
          },
          "metadata": {}
        },
        {
          "output_type": "display_data",
          "data": {
            "text/plain": [
              "test-00000-of-00001.parquet:   0%|          | 0.00/15.8M [00:00<?, ?B/s]"
            ],
            "application/vnd.jupyter.widget-view+json": {
              "version_major": 2,
              "version_minor": 0,
              "model_id": "2b864793b7dc446ab59ae850263a44aa"
            }
          },
          "metadata": {}
        },
        {
          "output_type": "display_data",
          "data": {
            "text/plain": [
              "ca_test-00000-of-00001.parquet:   0%|          | 0.00/6.12M [00:00<?, ?B/s]"
            ],
            "application/vnd.jupyter.widget-view+json": {
              "version_major": 2,
              "version_minor": 0,
              "model_id": "bda7c61ef3dc4efb86655e23ef983133"
            }
          },
          "metadata": {}
        },
        {
          "output_type": "display_data",
          "data": {
            "text/plain": [
              "Generating train split:   0%|          | 0/18949 [00:00<?, ? examples/s]"
            ],
            "application/vnd.jupyter.widget-view+json": {
              "version_major": 2,
              "version_minor": 0,
              "model_id": "15044ad54f514128b9cc97d6b2384f64"
            }
          },
          "metadata": {}
        },
        {
          "output_type": "display_data",
          "data": {
            "text/plain": [
              "Generating test split:   0%|          | 0/3269 [00:00<?, ? examples/s]"
            ],
            "application/vnd.jupyter.widget-view+json": {
              "version_major": 2,
              "version_minor": 0,
              "model_id": "8d41d4da1cde41f29d94b0581a6d52b6"
            }
          },
          "metadata": {}
        },
        {
          "output_type": "display_data",
          "data": {
            "text/plain": [
              "Generating ca_test split:   0%|          | 0/1237 [00:00<?, ? examples/s]"
            ],
            "application/vnd.jupyter.widget-view+json": {
              "version_major": 2,
              "version_minor": 0,
              "model_id": "f92e304e4b934766aa083eb1b5295a6d"
            }
          },
          "metadata": {}
        }
      ]
    },
    {
      "cell_type": "markdown",
      "source": [
        "### Lets take a Look at the Data"
      ],
      "metadata": {
        "id": "4bofcKrRL8AD"
      }
    },
    {
      "cell_type": "code",
      "source": [
        "billsum"
      ],
      "metadata": {
        "colab": {
          "base_uri": "https://localhost:8080/"
        },
        "id": "GujLtDos9okr",
        "outputId": "135b5642-4464-4c4a-cb43-60b34bafb17d"
      },
      "execution_count": 7,
      "outputs": [
        {
          "output_type": "execute_result",
          "data": {
            "text/plain": [
              "Dataset({\n",
              "    features: ['text', 'summary', 'title'],\n",
              "    num_rows: 1237\n",
              "})"
            ]
          },
          "metadata": {},
          "execution_count": 7
        }
      ]
    },
    {
      "cell_type": "code",
      "source": [
        "print(f'billsum has {len(billsum)} examples')\n",
        "print(f'first title: {billsum[\"title\"]}')\n",
        "print(f'first text: {billsum[\"text\"]}')\n",
        "print(f'first summary: {billsum[\"summary\"]}')"
      ],
      "metadata": {
        "colab": {
          "base_uri": "https://localhost:8080/"
        },
        "id": "PUIVjFWi-fDb",
        "outputId": "a16d3423-7919-4964-df5e-5822781dd287"
      },
      "execution_count": 8,
      "outputs": [
        {
          "output_type": "stream",
          "name": "stdout",
          "text": [
            "billsum has 1237 examples\n",
            "first title: ['An act to amend Section 215.1 of the Revenue and Taxation Code, relating to taxation, to take effect immediately, tax levy.', 'An act to amend Section 3550 of, and to add Section 1170.02 to, the Penal Code, relating to parole.', 'An act\\nto add Chapter 3.8 (commencing with Section 6305) to Part 1 of Division 2 of the Revenue and Taxation Code,\\nrelating to taxation.', 'An act to amend Sections 75220, 75221, and 75222 of, and to add Sections 75223, 75224, and 75225 to, the Public Resources Code, relating to transportation, and making an appropriation therefor.', 'An act to add and repeal Section 4788 of the Probate Code, relating to resuscitative measures.', 'An act to amend Sections 87207 and 89506 of the Government Code, relating to the Political Reform Act of 1974.', 'An act\\nto add Article 7 (commencing with Section 128590) to Chapter 5 of Part 3 of Division 107 of the Health and Safety Code,\\nrelating to health care, and making an appropriation therefor.', 'An act to add Section 11270.5 to, and to repeal Section 11450.04 of, the Welfare and Institutions Code, relating to CalWORKs.', 'An act to amend Section 7522.02 of the Government Code, relating to public employees’ retirement.', 'An act to add Chapter 4.5 (commencing with Section 14400) to Division 7 of the Food and Agricultural Code, relating to livestock.', 'An act to add Sections 13515.28, 13515.29, and 13515.295 to the Penal Code, relating to peace officer training standards.', 'An act to amend Section 14009.5 of the Welfare and Institutions Code, relating to Medi-Cal.', 'An act to amend Section 5205.5 of the Vehicle Code, relating to vehicles, and declaring the urgency thereof, to take effect immediately.', 'An act relating to public contracts, and declaring the urgency thereof, to take effect immediately.', 'An act to add and repeal Article 2.6 (commencing with Section 66010.96) of Chapter 2 of Part 40 of Division 5 of Title 3 of the Education Code, relating to postsecondary education.', 'An act to amend Sections 14000, 14005, and 14010 of, and to add Article 4 (commencing with Section 14240) to Chapter 4 of Division 7 of, the Unemployment Insurance Code, relating to workforce development.\\nAn act to add Section 89003 to the Government Code, relating to the Political Reform Act of 1974\\n.', 'An act to add Article 3 (commencing with Section 115810) to Chapter 4 of Part 10 of Division 104 of, and to repeal Section 115812 of, the Health and Safety Code, and to amend Sections 42872 and 42873 of the Public Resources Code, relating to environmental health.\\nAn act to add and repeal Article 3 (commencing with Section 115810) of Chapter 4 of Part 10 of Division 104 of the Health and Safety Code, relating to environmental health.', 'An act to amend Section 980 of the Military and Veterans Code, relating to veterans.', 'An act to amend Section 30 of the Business and Professions Code, and to amend Section 88650 of the Education Code, relating to career technical education.', 'An act to amend Sections 19136 and 19167 of, and to add Section 17052 to, the Revenue and Taxation Code, relating to taxation, and making an appropriation therefor, to take effect immediately, bill related to the budget.', 'An act relating to the Budget Act of 2015.\\nAn act to amend the Budget Act of 2015 (Chapters 10 and 11 of the Statutes of 2015), by amending Item 6440-001-0001 of, and adding Items 2660-013-0001, 3970-001-0001, and 9651-001-0001 to, Section 2.00 of, and amending Section 39.00 of, that act, relating to the state budget, and making an appropriation therefor, to take effect immediately, budget bill.', 'An act to amend Sections 22775, 22781, 22844, 22865, 22866, and 22940 of, to add Section 22843.1 to, and to repeal Section 12439 of, the Government Code, relating to state government, and making an appropriation therefor, to take effect immediately, bill related to the budget.', 'An act to amend Sections 89724 and 89725 of, and to add Section 89726 to, the Education Code, relating to the California State University.', 'An act to add Section\\n12803.2.5\\n13295.6\\nto the Government Code,\\nto amend Section 25751 of the Public Resources Code,\\nand to amend\\nSection\\nSections 306 and\\n309.5 of, and to add Sections\\n326.6,\\n307.1,\\n326.7,\\nand 327.5\\n327.5, and 769.5\\nto, the Public Utilities Code, relating to the Public Utilities Commission, and making an appropriation therefor, to take effect immediately, bill related to the budget.', 'An act to amend Sections 225, 226, 229, and 230 of, and to add Section 208.3 to, the Welfare and Institutions Code, relating to juveniles.', 'An act to add Section 21168.6.7 to the Public Resources Code, relating to environmental quality.\\nAn act to add Chapter 6.6 (commencing with Section 13486) to Division 7 of the Water Code, relating to water, and declaring the urgency thereof, to take effect immediately.', 'An act to amend Section 2196 of the Elections Code, relating to elections.', 'An act to add Chapter 1.1 (commencing with Section 7283.60) to Part 1.7 of Division 2 of the Revenue and Taxation Code, relating to hosting platforms.', 'An act to amend Section 19801 of the Business and Professions Code, relating to gambling.', 'An act to amend Section 12670.14 of the Water Code, relating to water resources.', 'An act to amend Sections 10159.5, 10159.6, and 10159.7 of the Business and Professions Code, relating to real estate licensees, and declaring the urgency thereof, to take effect immediately.', 'An act to add and repeal Section\\n17052.1\\n17052.3\\nof the Revenue and Taxation Code, relating to taxation, to take effect immediately, tax levy.', 'An act to add Part 3 (commencing with Section 13750) to Division 8 of the Probate Code, relating to decedent’s estates.\\nAn act to amend Sections 352 and 359 of the Public Utilities Code, relating to electricity.', 'An act to amend Section 25150.7 of the Health and Safety Code, relating to hazardous waste.', 'An act to add Section\\n13557.5 to the Water Code, relating to water.\\n1271.5 to the Penal Code, relating to bail.', 'An act to amend Section 667.61 of the Penal Code, relating to crimes.', 'An act to amend Section 12025 of the Fish and Game Code, relating to controlled substances.', 'An act to add Section 43.101 to the Civil Code, to add Chapter 4.5 (commencing with Section 853) to Part 2 of Division 3.6 of Title 1 of the Government Code, and to add Section 402.5 to the Penal Code, relating to unmanned aircraft systems, and declaring the urgency thereof, to take effect immediately.', 'An act to amend Section 10721 of the Water Code, relating to groundwater.', 'An act to amend Section 1347 of the Penal Code, relating to crimes.', 'An act to add Chapter 3.6 (commencing with Section 1546) to Title 12 of Part 2 of the Penal Code, relating to privacy.', 'An act to validate the organization, boundaries, acts, proceedings, and bonds of public bodies, and to provide limitations of time in which actions may be commenced, and declaring the urgency thereof, to take effect immediately.', 'An act to validate the organization, boundaries, acts, proceedings, and bonds of public bodies, and to provide limitations of time in which actions may be commenced, and declaring the urgency thereof, to take effect immediately.', 'An act to validate the organization, boundaries, acts, proceedings, and bonds of public bodies, and to provide limitations of time in which actions may be commenced.', 'An act to amend and repeal Section 12811.1 of the Public Utilities Code, relating to utility charges.', 'An act to add Sections 22602, 22603, and 22604 to the Financial Code, relating to finance lenders.', 'An act to amend Section 12300 of the Welfare and Institutions Code, relating to public social services.', 'An act to amend Section 48204 of the Education Code, relating to pupils.', 'An act to add Article 15 (commencing with Section 111224) to Chapter 5 of Part 5 of Division 104 of the Health and Safety Code, relating to public health.', 'An act to add Section 56326.5 to the Education Code, relating to special education.', 'An act to amend Sections 20222.5, 20235, 21002, and 21013 of, and to repeal Section 20194 of, the Government Code, relating to public employees’ retirement.', 'An act to amend Section 1170.05 of the Penal Code, relating to prisons.', 'An act to amend Section 64 of, and to add and repeal Section 64.6 of, the Harbors and Navigation Code, relating to\\naquatic\\ninvasive\\naquatic\\nplants, and declaring the urgency thereof, to take effect immediately.', 'An act to amend Sections 117630, 117904, 117943, 117945, 117975, 118032, 118040, 118345, and 118275 of the Health and Safety Code, relating to medical waste, and declaring the urgency thereof, to take effect immediately.', 'An act to add Section 837.5 to the Code of Civil Procedure, and to amend Sections 10720.1, 10720.5, and 10722.2 of, and to add Chapter 12 (commencing with Section 10737) to Part 2.74 of Division 6 of, the Water Code, relating to groundwater.', 'An act to amend Sections 75212 and 75230 of the Public Resources Code, relating to transportation, and making an appropriation therefor.', 'An act to amend Section 41326 of the Education Code, relating to school accountability.', 'An act to amend Sections 6604, 6612, 6613, 6614, 6615, 6616, and 6618 of the Fish and Game Code, relating to ocean resources.', 'An act to amend Section 30652 of the Food and Agricultural Code, and to amend Section 830.9 of the Penal Code, relating to animal control officers.', 'An act to amend Section 14105.28 of, and to add Sections 14105.194 and 14105.196 to, the Welfare and Institutions Code, relating to\\nMedi-Cal\\nMedi-Cal,\\nand declaring the urgency thereof, to take effect immediately.', 'An act to amend and repeal Section 798.88 of the Civil Code, and to amend and repeal Section 85 of the Code of Civil Procedure, relating to mobilehomes.', 'An act to amend Section 75123 of, and to add Part 4.5 (commencing with Section 71350) to Division 34 of, the Public Resources Code, relating to environmental protection.', 'An act to add Chapter 8 (commencing with Section 15400) to Division 6 of the Vehicle Code, relating to vehicles.', 'An act to amend Sections 48412 and 51421 of, and to add and repeal Section 51421.5 to, the Education Code, relating to pupils, and making an appropriation therefor.', 'An act to submit to the voters a voter instruction relating to campaign finance, calling an election, to take effect immediately.', 'An act to amend Section 10820 of the Corporations Code, to amend Sections 1343 and 101750.5 of the Health and Safety Code, and to amend Section 14499.5 of, and to repeal and add Section 14087.95 of, the Welfare and Institutions Code, relating to Medi-Cal.', 'An act to amend Sections 3051 and 4801 of the Penal Code, relating to parole.', 'An act to amend Section\\n4210\\n273.6\\nof the\\nPublic Resources\\nPenal\\nCode, relating to\\nfire prevention.\\nprotective orders.', 'An act to add Section 6270.5 to the Government Code, relating to public records.', 'An act to amend Section 14132.06 of the Welfare and Institutions Code, relating to Medi-Cal.', 'An act to amend Sections 120325, 120335, 120370, and 120375 of, to add Section 120338 to, and to repeal Section 120365 of, the Health and Safety Code, relating to public health.', 'An act to amend Sections 9050, 9051, 9053, 9086, 9087, 13262, 13282, and 18602 of the Elections Code, and to amend Section 88002 of the Government Code, relating to elections.', 'An act to amend Sections 21200, 21200.1, 21200.5, 21200.6, 21201, and 21201.2 of, and to add Section 21205 to, the Financial Code, relating to pawnbrokers.', 'An act to amend Section 131019.5 of the Health and Safety Code, and to amend Section 4060 of the Welfare and Institutions Code, relating to public health.', 'An act to amend Sections 19780, 20997, 21024, and 21029 of the Government Code, relating to public employment.', 'An act\\nto amend Section 18901.10 of, and to add Section 10508 to, the Welfare and Institutions Code, relating to public social services.\\nrelating to medical marijuana.', 'An act to amend Sections 21201 and 21201.5 of, and to add Section 21201.6 to, the Financial Code, relating to pawnbrokers.', 'An act to amend Section 5600.3 of the Welfare and Institutions Code, relating to mental health.', 'An act to amend Section 136.2 of the Penal Code, relating to restraining orders.', 'An act to add and repeal Article\\n7.5\\n7.6\\n(commencing with Section\\n8239.5)\\n8239.15)\\nof Chapter 2 of Part 6 of Division 1 of Title 1 of the Education Code, relating to preschool, and declaring the urgency thereof, to take effect immediately.', 'An act to amend Section 56.103 of the Civil Code, and to amend Sections 5328.04 and 16501.3 of the Welfare and Institutions Code, relating to child welfare services.', 'An act to amend Section 49013 of the Education Code, relating to pupil fees.', 'An act to add Section 17140.4 to the Revenue and Taxation Code, and to add Chapter 15 (commencing with Section 4875) to Division 4.5 of the Welfare and Institutions Code, relating to taxation.', 'An act to amend Section 76000.10 of the Government Code, and to add Section 10752 to the Welfare and Institutions Code, relating to emergency services.', 'An act to add Section 1940.8.5 to the Civil Code, relating to rental property.', 'An act to amend, repeal, and add Section 1091 of the Government Code, relating to public officers.', 'An act to add Chapter 4.5 (commencing with Section 22175) to Part 3 of Division 2 of the Public Contract Code, relating to public contracts.', 'An act to amend Sections 32242 and 38086 of, to add Sections 32241.5, 32246, and 32249 to, and to add Article 13 (commencing with Section 49580) to Chapter 9 of Part 27 of Division 4 of Title 2 of, the Education Code, relating to pupil health.', 'An act to amend Sections 3501, 3502, and 3502.1 of the Business and Professions Code, relating to healing arts.', 'An act to amend Section 368 of the Penal Code, relating to elder abuse.', 'An act to amend Sections 2103, 2104, 2107, and 2110 of the Family Code, relating to dissolution.', 'An act to add Section 94874.3 to the Education Code, and to amend Section 15250 of the Vehicle Code, relating to commercial vehicle driver education.', 'An act to amend Sections 166 and 368 of the Penal Code, relating to elder abuse.', 'An act to add Chapter 6.4 (commencing with Section 30030) to Division 3 of Title 3 of the Government Code, relating to criminal justice realignment, and making an appropriation therefor.', 'An act to amend Section 7522.02 of the Government Code, relating to public employees’ retirement.', 'An act to amend Section 1197.5 of the Labor Code, relating to private employment.', 'An act to add Section 51224.7 to the Education Code, relating to pupil instruction.', 'An act to amend Section 4846.5 of the Business and Professions Code, and to add Section 1275.4 to the Health and Safety Code, relating to public health, and declaring the urgency thereof, to take effect immediately.', 'An act to amend Sections 13307 and 14111 of the Elections Code, relating to elections.', 'An act to amend Sections 564, 566, and 568 of, and to add Sections 562 and 569 to, the Food and Agricultural Code, to amend Section 39719 of the Health and Safety Code, and to add Section 75217.5 to the Public Resources Code, relating to agriculture, and making an appropriation therefor.', 'An act to amend Section 510 of, and to add Section 511.5 to, the Labor Code, relating to employment.', 'An act to amend Section 120440 of the Health and Safety Code, relating to public health.', 'An act to add Section 84362.5 to the Education Code, relating to community college faculty.', 'An act to amend Sections 20209.14 and 22161 of the Public Contract Code, relating to local public contracts.', 'An act to add Sections 12206.1, 17058.1, and 23610.7 to the Revenue and Taxation Code, relating to taxation, to take effect immediately, tax levy.', 'An act to add and repeal Section 3217 of the Public Resources Code, and to add and repeal Sections 714 and 715 of the Public Utilities Code, relating to natural gas, and declaring the urgency thereof, to take effect immediately.', 'An act to amend, add, and repeal Sections 472 and 472a of, and to add and repeal Section 430.41 of, the Code of Civil Procedure, relating to civil procedure.', 'An act to add and repeal Section 116431 of the Health and Safety Code, relating to drinking water, and declaring the urgency thereof, to take effect immediately.', 'An act to amend Section 1770 of the Civil Code, and to add Chapter 3.6 (commencing with Section 870) to Division 4 of the Military and Veterans Code, relating to unlawful business practices.', 'An act to amend Section 1363 of the Health and Safety Code, and to amend Section 10603 of the Insurance Code, relating to health care coverage.', 'An act to amend Section 23663 of the Revenue and Taxation Code, relating to taxation.', 'An act to\\namend Section 1516 of, and to\\nadd Section 1596.810\\nto,\\nto\\nthe Health and Safety Code, relating to day care facilities.', 'An act to amend Section 1214.1 of the Penal Code, and to amend Section 42008.8 of the Vehicle Code, relating to crimes, and declaring the urgency thereof, to take effect immediately.', 'An act to amend Section 12945.2 of the Government Code, relating to employment.', 'An act to amend Section 14134.5 of the Welfare and Institutions Code, relating to Medi-Cal.', 'An act to add Section 2516.5 to the Business and Professions Code, relating to healing arts.', 'An act to amend Sections 69 and 148 of the Penal Code, relating to crimes.', 'An act to add and repeal Part 40.2 (commencing with Section 67430) of Division 5 of Title 3 of the Education Code, relating to public postsecondary education.', 'An act to amend Sections 8670.12, 8670.13, 8670.28, and 8670.67.5 of, and to add Sections 8670.11, 8670.13.3, and 8670.55.1 to, the Government Code, relating to oil spill response.', 'An act to amend, repeal, and add Sections 798.70, 798.71, and 798.74 of the Civil Code, relating to mobilehomes.', 'An act to amend Section 7873 of the Labor Code, relating to refineries.', 'An act to amend Sections 35100, 35101, 35103, 35120, 35152, and 35153 of, to amend the heading of Division 26 (commencing with Section 35100) of, and to add Section 35122 to, the Public Resources Code, relating to the Santa Clara Valley Open-Space Authority.', 'An act to amend Sections 7360 and 60050 of the Revenue and Taxation Code, relating to taxation.', 'An act to\\nadd Chapter 3.5 (commencing with Section 24300) to Division 20 of the Health and Safety Code, relating to health care.\\namend Section 11362.777 of the Health and Safety Code, relating to medical marijuana.', 'An act to amend Section 8587.8 of, and to add Sections 8587.11 and 8587.12 to, the Government Code, relating to earthquake safety.', 'An act to amend Sections 2170 and 13004 of, and to add Sections 303.4, 2550, and 13004.5 to, the Elections Code, relating to elections.', 'An act to amend Section 48859 of, and to add Section 48852.7 to, the Education Code, relating to pupil instruction and services.', 'An act to amend Section 49600 of the Education Code, relating to pupil instruction and services.', 'An act to add Sections 7021 and 7071.18 to the Business and Professions Code, to add and repeal Section 18924.5 of the Health and Safety Code, and to amend Section 6313.5 of the Labor Code, relating to building construction.', 'An act to amend Sections 2701, 2708, and 2786 of, to add Sections 2718 and 2786.1 to, and to repeal Section 2736.5 of, the Business and Professions Code, relating to nursing.', 'An act to amend Sections 5000, 5015.6, 7000.5, 7011, and 7071.6 of, to add Sections 312.2, 328, and 5100.5 to, and to repeal Section 7067.5 of, the Business and Professions Code, relating to professions and vocations.', 'An act to amend Sections 18602, 18613, 18645, and 18843 of, to amend and renumber Sections 18852, 18853, 18854, 18855, 18860, 18861, 18865, 18868, and 18869 of, and to add Sections 18649 and 18855 to, the Business and Professions Code, relating to professions and vocations.', 'An act to amend Section 39712 of the Health and Safety Code, to add Section 25229 to the Public Resources Code, and to add Section 189.5 to the Water Code, relating to water.', 'An act to\\namend Section 1796.19 of the Health and Safety Code, relating to public health.\\nadd Section 369 to the Penal Code, relating to elder abuse.', 'An act to amend Sections 18897 and 18897.4 of, to add Section 18897.8 to, and to repeal and add Section 18897.1 of, the Health and Safety Code, relating to housing.', 'An act to add and repeal Section 11166.02 of the Penal Code, and to add and repeal Section 10612.5 of the Welfare and Institutions Code, relating to child abuse.', 'An act to add\\nand repeal\\nSection 97.83\\nto,\\nof,\\nand to add\\nand repeal\\nPart 11 (commencing with Section 5500)\\nto\\nof\\nDivision 1 of, the Revenue and Taxation Code, relating to taxation.', 'An act to amend Sections 11165 and 11165.1 of, and to add Section 11165.4 to, the Health and Safety Code, relating to controlled substances.', 'An act to amend Section 128740 of, and to add Section 1253.7 to, the Health and Safety Code, relating to health care.', 'An act to amend Sections 1507.6 and 1536 of, and to add Sections 1538.8 and 1538.9 to, the Health and Safety Code, and to amend Section 11469 of the Welfare and Institutions Code, relating to juveniles.', 'An act to add Section 4730.68 to the Health and Safety Code, relating to public sanitation.', 'An act to amend Section 4652.5 of the Welfare and Institutions Code, relating to developmental services.', 'An act to amend Section 3057.5 of\\n, and to add Section 3058 to,\\nthe Business and Professions Code, relating to healing arts, and making an appropriation therefor.', 'An act to add and repeal Sections 17952.7 and 18501.5 of the Revenue and Taxation Code, and to\\nadd and repeal Section 13020.5\\namend Section 13006\\nof the Unemployment Insurance Code, relating to taxation.', 'An act to amend Section 1203.45 of the Penal Code, and to amend Sections 781 and 903.3 of the Welfare and Institutions Code, relating to court records.', 'An act to amend Section 6603 of the Welfare and Institutions Code, relating to sexually violent predators.', 'An act to amend Sections 42356 and 42357 of the Public Resources Code, relating to solid waste.', 'An act to amend Sections 23103, 23109, and 23109.2 of the Vehicle Code, relating to vehicles.', 'An act to add Sections 11327.10,\\n18901.11,\\n18901.65,\\n18901.12, and 18901.13 to the Welfare and Institutions Code, relating to public social services.', 'An act to amend Section 9552 of the Vehicle Code, relating to vehicles.\\nAn act to add Section 39719.4 to the Health and Safety Code, relating to greenhouse gases, and making an appropriation therefor.', 'An act to amend Sections 3701, 3702, and 3702.7 of the Business and Professions Code, relating to healing arts.', 'An act to amend Section 19006 of the Revenue and Taxation Code, relating to taxation.', 'An act to add Article 10 (commencing with Section 33430) to Chapter 3 of Part 20 of Division 2 of Title 2 of, and to repeal Section 33434 of, the Education Code, relating to education finance.', 'An act to amend Sections 467.5 and 23229 of, and to add Article 4.5 (commencing with Section 21215) to Chapter 1 of Division 11 of, and to repeal Section 21215.2 of, the Vehicle Code, relating to vehicles.', 'An act to amend Section 35012 of the Education Code, relating to school districts.', 'An act to amend Section 14105.94 of, and to add Section 14105.941 to, the Welfare and Institutions Code, relating to Medi-Cal.', 'An act to amend Section 1049 of, and to repeal and add Sections 1047 and 1048 of, the Military and Veterans Code, relating to veterans, and making an appropriation therefor.', 'An act to amend Sections 3008, 3106, 3203, and 3234 of, to add Section 3215.5 to, to repeal Section 3451 of, and to repeal and add Section 3450 of, the Public Resources Code, relating to oil and gas.', 'An act to amend Section 1374.21 of, and to add Section 1385.045 to, the Health and Safety Code, and to amend Section 10199.1 of, and to add Section 10181.45 to, the Insurance Code, relating to health care coverage.', 'An act to add Division 121 (commencing with Section 152000) to the Health and Safety Code, relating to aging.', 'An act to add Article 19.5 (commencing with Section 8430) to Chapter 2 of Part 6 of Division 1 of Title 1 of the Education Code, relating to child care.', 'An act to add and repeal Section 320.6 of the Penal Code, relating to gaming.', 'An act to amend Sections 116681 and 116682 of, and to add Section 116686 to, the Health and Safety Code, relating to water.', 'An act to add Section 10608.34 to the Water Code, relating to water.', 'An act to amend Section 25503.6 of the Business and Professions Code, relating to alcoholic beverages.', 'An act to amend Sections 30, 7011.4, and 7125.4 of the Business and Professions Code, relating to professions and vocations.', 'An act to add Chapter 15 (commencing with Section 5975) to Division 6 of Title 1 of the Government Code, relating to infrastructure financing.', 'An act to amend Section 4610 of the Labor Code, relating to workers’ compensation.', 'An act to add Chapter 7.7 (commencing with Section 11795) to Part 1 of Division 3 of Title 2 of the Government Code, relating to state government.', 'An act to amend Sections 230.8 and 233 of the Labor Code, relating to employment.', 'An act to amend Sections 54237 and 54237.7 of the Government Code, relating to surplus residential property, making an appropriation therefor, and declaring the urgency thereof, to take effect immediately.', 'An act to amend Sections 51 and 5813 of the Revenue and Taxation Code, relating to taxation, to take effect immediately, tax levy.', 'An act to amend Sections 30104, 30108, and 30181 of, and to add Article 2.5 (commencing with Section 30130.50) to Chapter 2 of Part 13 of Division 2 of, the Revenue and Taxation Code, relating to public health finance.', 'An act to amend Section 3016 of, and to add Section 5055.5 to, the Penal Code, relating to prisons.', 'An act to amend Section 1063.1 of the Insurance Code, relating to the California Insurance Guarantee Association.', 'An act to amend Section 987.8 of the Penal Code, relating to criminal procedure.', 'An act to amend Section 11546.1 of, and to add Chapter 5.8 (commencing with Section 11549.20) to Part 1 of Division 3 of Title 2 of, the Government Code, relating to state government.', 'An act relating to waste management.\\nAn act to add Chapter 5.9 (commencing with Section 42360) to Part 3 of Division 30 of the Public Resources Code, relating to waste management.', 'An act to amend Section 22358.4 of the Vehicle Code, relating to vehicles.', 'An act to\\namend Section 94858 of, and to\\nadd\\nSection 66027.6 to\\nChapter 1.2 (commencing with Section 99010) to Part 65 of Division 14 of Title 3 of,\\nthe Education Code, relating to postsecondary education.', 'An act to amend Section 5653 of the Fish and Game Code, and to add Section 13172.5 to the Water Code, relating to dredging.', 'An act to add Sections 4474.6 and 4474.7 to the Welfare and Institutions Code, relating to developmental services.', 'An act to amend, repeal, and add Sections 19240, 19241, 19242, and 19242.2 of, and to add and repeal Sections 19241.5, 19242.05, and 19242.3 of, the Government Code, relating to state employment.', 'An act to amend Sections 8482.3, 8482.8, 8483, and 8483.1 of the Education Code, relating to after school programs.', 'An act to amend Section 35551 of the Vehicle Code, relating to vehicles.', 'An act to amend Section 730.6 of the Welfare and Institutions Code, relating to juveniles.', 'An act to add Section 1941.7 to the Civil Code, and to amend Sections 17920 and 17920.3 of the Health and Safety Code, relating to housing standards.', 'An act to amend Sections 50003 and 50201 of the Financial Code, relating to mortgages.', 'An act to amend Section 1714.21 of the Civil Code, and to amend Section 1797.196 of the Health and Safety Code, relating to automated external defibrillators.', 'An act to add and repeal Article 3.7 (commencing with Section 11337) of Chapter 2 of Part 3 of Division 9 of the Welfare and Institutions Code, relating to public social services, and making an appropriation therefor.', 'An act to amend Sections 42023.1 and 48705 of the Public Resources Code, relating to recycling, and making an appropriation therefor.', 'An act to\\namend Section 19130 of the Government\\nadd Section 89036.5 to the Education\\nCode, relating to personal\\nservice\\nservices\\ncontracts.', 'An act to add Section 4073.5 to the Business and Professions Code, relating to pharmacy.', 'An act to amend Section 1262.5 of the Health and Safety Code, relating to health facilities.', 'An act to amend Section 502.01 of, and to add Section 647.8 to, the Penal Code, relating to disorderly conduct.', 'An act to add Section 71621 to the Government Code, relating to courts.', 'An act to amend Section 23151 of the Revenue and Taxation Code, relating to taxation, to take effect immediately, tax levy.', 'An act to add Section 39735 to the Health and Safety Code, and to add and repeal Section 25327 of the Public Resources Code, relating to energy.', 'An act to amend Sections 51, 205.5, and 5813 of the Revenue and Taxation Code, relating to taxation, to take effect immediately, tax levy.', 'An act to amend Section 1797.172 of the Health and Safety Code, relating to emergency medical services.', 'An act to add Section 10295.35 to the Public Contract Code, relating to public contracts.', 'An act to amend Section 1091 of the Government Code, relating to public officers and employees.', 'An act to amend Sections 626.9 and 30310 of the Penal Code, relating to firearms.', 'An act to amend Section 49557 of the Education Code, relating to pupil nutrition.', 'An act to amend Section 7282.5 of the Government Code, relating to state government.', 'An act to add Article 4.3 (commencing with Section 111547) to Chapter 6 of Part 5 of Division 104 of the Health and Safety Code, relating to drugs and devices.', 'An act to amend Sections 1203.067 and 3008 of, and to add Section 645.5 to, the Penal Code, relating to sex offenders.', 'An act to amend Section 399.15 of the Public Utilities Code, relating to energy.', 'An act to add Section 1502.8 to the Health and Safety Code, and to amend Section 16001.9 of, and to add Section 16006 to, the Welfare and Institutions Code, relating to foster care.', 'An act to amend Sections 21178, 21181, 21183, 21189.1, and 21189.3 of, and to add Section 21184.5 to, the Public Resources Code, relating to environmental quality, and declaring the urgency thereof, to take effect immediately.', 'An act to amend Section 49414 of the Education Code, relating to pupil health.', 'An act to amend Section 59111 of the Food and Agricultural Code, relating to agriculture.\\nAn act to add and repeal Section 26840.13 of the Government Code, to add and repeal Section 103628.2 of the Health and Safety Code, and to add and repeal Section 18309.6 of the Welfare and Institutions Code, relating to domestic violence.', 'An act to amend Section 49414 of the Education Code, relating to pupil health.', 'An act to amend Sections 281 and 914.7 of the Public Utilities Code, relating to telecommunications, and making an appropriation therefor.', 'An act to amend\\nSection 1596.65 of the Health and Safety Code, relating to child care.\\nSections 1726, 1747, and 1748 of, and to repeal and add Section 1747.1 of, the Health and Safety Code, relating to home health agencies.', 'An act to amend Sections 146e, 148,\\n243, and 243.1\\nand 244.5\\nof the Penal Code, relating to crimes.', 'An act to add Article 1.5 (commencing with Section 6033) to Chapter 5 of Title 7 of Part 3 of the Penal Code, relating to corrections, making an appropriation therefor, and declaring the urgency thereof, to take effect immediately.', 'An act to add Division 45 (commencing with Section 75500) to the Public Resources Code, relating to disadvantaged communities.\\nAn act to add Chapter 13 (commencing with Section 79799) to Division 26.7 of the Water Code, relating to water.', 'An act to amend Section 130350.5 of, to add Section 130350.7 to, and to repeal Section 130350.6 of, the Public Utilities Code, relating to transportation.', 'An act to amend Section 2699 of the Labor Code, relating to employment.', 'An act to amend Section 1947.8 of the Civil Code, relating to tenancy.', 'An act to add Section 19851.4 to the Government Code, relating to state employees.', 'An act to amend Section 10123.147 of the Insurance Code, relating to insurance.', 'An act to amend Section 1367.003 of the Health and Safety Code, relating to health care coverage.', 'An act to amend Sections 19000, 19001, 19003, 19006, 19008, 19024, 19025, 19320, 19323, and 19400 of the Probate Code, relating to trusts.', 'An act to\\namend Sections 84907 and 84908 of, and to add Section 84908.5 to,\\nadd Section 84908.5 to\\nthe Education Code, relating to adult education, and declaring the urgency thereof, to take effect immediately.', 'An act to amend, repeal, and add Section 16072 of the Vehicle Code, relating to driver’s licenses.\\nAn act to add Chapter 3.1 (commencing with Section 7287.20) to Part 1.7 of Division 2 of the Revenue and Taxation Code, relating to water\\n.', 'An act to amend Section 2833 of the Public Utilities Code, relating to electricity.', 'An act to amend Section 1031 of the Government Code, to amend Sections 384a, 849, and 4504 of, and to amend and renumber Section 4131.5 of, the Penal Code, to amend Section 5008 of the Public Resources Code, and to repeal Section 1403 of the Welfare and Institutions Code, relating to public safety.', 'An act to amend Section 16430 of the Government Code, to repeal Title 4.5 (commencing with Section 4400), and Title 4.6 (commencing with Section 4450) of Part 3 of, to repeal Chapter 12 (commencing with Section 7100) and Chapter 13 (commencing with Section 7200) of Title 7 of Part 3 of, the Penal Code, to repeal Chapter 1.6 (commencing with Section 5096.1) and Chapter 1.67 (commencing with Section 5096.71) of Division 5 of the Public Resources Code, and to repeal Article 5.5 (commencing with Section 11922) of Chapter 10 of Part 3 of Division 6 of, and to repeal Chapter 13 (commencing with Section 13970) and Chapter 14 (commencing with Section 13985) of Division 7 of, the Water Code, relating to government finance.', 'An act to amend Sections 41030, 41032, and 42010 of the Revenue and Taxation Code, relating to taxation, and declaring the urgency thereof, to take effect immediately.', 'An act to amend Sections 27375, 34501, and 34505.1 of the Vehicle Code, relating to transportation.', 'An act to add Chapter 3.3 (commencing with Section 365) to Division 1 of the Water Code, relating to water.', 'An act\\nto amend Section 15626 of the Government Code,\\nrelating to the State Board of Equalization.', 'An act to add Section 236.14 to the Penal Code, relating to human trafficking.', 'An act to amend Section 75230 of, and to add Section 75231 to, the Public Resources Code, relating to transportation.', 'An act to amend Sections 905.2, 8590.6, and 15820.946 of, and to add Section 15820.947 to, the Government Code, and to amend Section 37001.5 of, and to repeal Section 43011.3 of, the Health and Safety Code, relating to state government, and making an appropriation therefor, to take effect immediately, bill related to the budget.', 'An act to add Chapter 3.132 (commencing with Section 15820.94) to Part 10b of Division 3 of Title 2 of the Government Code, relating to correctional facilities, and making an appropriation therefor, to take effect immediately, bill related to the budget.', 'An act relating to the Budget Act of 2016.\\nAn act to amend the Budget Act of 2016 by amending Items 2240-101-6082, 2240-105-0001, and 4260-001-3085 of Section 2.00 of, and Section 39.00 of, that act, relating to the state budget, and making an appropriation therefor, to take effect immediately, budget bill.', 'An act to amend Sections\\n905.2 and 8590.6 of\\n905.2, 8590.6, and 15820.946 of, and to add Section 15820.947 to,\\nthe Government Code, relating to state government, and making an appropriation therefor, to take effect immediately, bill related to the budget.', 'An act to amend Section 76000.5 of the Government Code, and to amend Section 1797.98a of the Health and Safety Code, relating to emergency medical services.', 'An act to amend Section 273.5 of the Penal Code, relating to domestic violence.', 'An act to add Sections 52074.5 and 52074.6 to the Education Code, relating to school accountability.', 'An act to add Part 2.2 (commencing with Section 53.8) to Division 1 of the Civil Code, and to add Section 11139.2 to, the Government Code, relating to homelessness.', 'An act to add Article 3 (commencing with Section 131230) to Chapter 2 of Part 1 of Division 112 of the Health and Safety Code, relating to public health.', 'An act to\\namend\\nadd\\nSection\\n600 of\\n510.5 to\\nthe Labor Code, relating to private employment.', 'An act to add Part 16 (commencing with Section 54000) to Division 31 of the Health and Safety Code, relating to housing, by providing the funds necessary therefor through an election for the issuance and sale of bonds of the State of California and for the handling and disposition of those funds, and declaring the urgency thereof, to take effect immediately.', 'An act to amend Sections 30515 and 30900 of, and to add Section 30680 to, the Penal Code, relating to firearms.', 'An act to amend Section 42008.8 of the Vehicle Code, relating to vehicles.', 'An act to amend Section 640 of the Penal Code, relating to crimes.', 'An act to amend Section 166 of the Penal Code, relating to domestic violence.', 'An act to amend Section 2070 of the Insurance Code, relating to insurance.\\nAn act to add Section 6356.11 to the Revenue and Taxation Code, relating to taxation, to take effect immediately, tax levy.', 'An act to amend Section 6217 of, and to add Section 6212 to, the Public Resources Code, relating to state lands.', 'An act to amend Section 17144.5 of the Revenue and Taxation Code, relating to taxation, and declaring the urgency thereof, to take effect immediately.', 'An act to amend Section 20583 of the Revenue and Taxation Code, relating to taxation.', 'An act to amend Section 4616.4 of the Labor Code, relating to workers’ compensation.', 'An act to amend Section 84211 of the Government Code, relating to the Political Reform Act of 1974.', 'An act to amend Section 115843.6 of the Health and Safety Code, relating to reservoirs.', 'An act to amend Section 63089.1 of, and to amend and repeal Sections 63089.5, 63089.60, 63089.61, and 63089.62 of, the Government Code, relating to business.', 'An act to amend Section 2356.5 of the Probate Code, relating to conservatorships.', 'An act to add Chapter 11 (commencing with Section 122380) to Part 6 of Division 105 of the Health and Safety Code, relating to pet boarding facilities.', 'An act to amend Sections 46300 and 48205 of the Education Code, relating to pupil attendance.', 'An act to amend Section 1773.1 of Labor Code, relating to prevailing wage.', 'An act to amend Section 1026 of, and to add Sections 1370.015 and 2977 to, the Penal Code, and to add Section 4146 to the Welfare and Institutions Code, relating to criminal procedure.', 'An act to add Chapter 6.3 (commencing with Section 21530) to Division 21 of the Elections Code, relating to elections.', 'An act to amend, repeal, and add Section 10507.7 of, and to add Section 10507.6 to, the Public Contract Code, relating to public contracts.', 'An act to amend Section 14132.725 of the Welfare and Institutions Code, relating to Medi-Cal.', 'An act to add Section 712.5 to the Public Utilities Code, relating to electricity, making an appropriation therefor, and declaring the urgency thereof, to take effect immediately.', 'An act to amend Sections 111222 and 111223 of, to amend the heading of Article 14 (commencing with Section 111222) of Chapter 5 of Part 5 of Division 104 of, and to add Section 114429.3 to, the Health and Safety Code, relating to food.', 'An act to validate the organization, boundaries, acts, proceedings, and bonds of public bodies, and to provide limitations of time in which actions may be commenced, and declaring the urgency thereof, to take effect immediately.', 'An act to validate the organization, boundaries, acts, proceedings, and bonds of public bodies, and to provide limitations of time in which actions may be commenced, and declaring the urgency thereof, to take effect immediately.', 'An act to validate the organization, boundaries, acts, proceedings, and bonds of public bodies, and to provide limitations of time in which actions may be commenced.', 'An act to\\namend the heading of Article 2.6 (commencing with Section 1645) of Chapter 4 of Division 2 of, to amend the heading of Article 10 (commencing with Section 2190) of Chapter 5 of Division 2 of, and to add Sections 1645.5, 2197, 2454.6, and 2496.5 to, the Business and Professions Code, and to add Article 2.7 (commencing with Section 1223) of Chapter 1 of Division 2 to the Health and Safety Code, relating to antimicrobial stewardship.\\nadd and repeal Sections 32132.9 and 32132.95 of the Health and Safety Code, relating to health care districts, and declaring the urgency thereof, to take effect immediately.', 'An act to amend Section 1185 of the Civil Code, relating to notaries public.', 'An act to amend Section 22500 of, and to add Section 21655.1 to, the Vehicle Code, relating to vehicles.', 'An act to add and repeal Chapter 2.55 (commencing with Section 1000.7) of Title 6 of Part 2 of the Penal Code, relating to crimes.', 'An act to add Title 12.2 (commencing with Section 14230) to Part 4 of the Penal Code, relating to firearm violence research.', 'An act to amend Section 21080.25 of the Public Resources Code, relating to environmental quality.', 'An act to amend Sections 2985, 2985.1, 2985.2, 2985.3, 2985.4, and 2985.5 of the Penal Code, relating to parolees.', 'An act to amend Sections 48205, 48206.3, and 48208 of, and to add Sections 222.5 and 46015 to, the Education Code, relating to pupil rights.', 'An act to amend Section 3003.5 of, and to add Section 3003.51 to, the Penal Code, relating to sex offenders, and declaring the urgency thereof, to take effect immediately.', 'An act to add Chapter 6 (commencing with Section 8385) to Division 4.1 of the Public Utilities Code, relating to public utilities.', 'An act to amend Section 8855 of the Government Code, relating to state government.', 'An act to amend Section\\n5343.5 of the Food and Agricultural Code, and to amend Sections 803, 11106, 23635, 23690, 25560, 26405, 26825, 26880, 26885, 27520, 27570, 27590, 28160, 28200, 31700, and 32110 of, to add Article 3.5 (commencing with Section 28270) to Chapter 6 of Division 6 of Title 4 of Part 6 of, and to repeal and add Section 26379 of,\\n803\\nof\\nthe Penal Code, relating to firearms.', 'An act to amend Section 87408.6 of the Education Code, relating to community colleges.', 'An act to amend Sections 40240 and 40241 of, and to add Section 40240.5 to, the Vehicle Code, relating to vehicles.', 'An act to amend\\nSection\\nSections 12927 and\\n12955 of the Government Code, relating to housing discrimination.', 'An act to add Section 52.8 to the Civil Code, relating to terrorism.', 'An act to amend Sections 67100 and 67102 of the Education Code, relating to postsecondary education.', 'An act to amend Sections 1197.5 and 1199.5 of the Labor Code, relating to employment.', 'An act to amend Sections 18259 and 18259.3 of, to amend the heading of Chapter 4.3 (commencing with Section 18259) of Part 6 of Division 9 of, and to repeal Sections 18259.1 and 18259.5 of, the Welfare and Institutions Code, relating to sexually exploited minors.', 'An act to add Section 164.2 to the Streets and Highways Code,\\nand to add Section 23582.5 to the Vehicle Code,\\nrelating to\\ntransportation.\\nhighway safety.', 'An act to amend Sections 39831.3, 39860, and 40085 of, and to add Section 39843 to, the Education Code, and to amend Section 13370 of, and to add Article 18 (commencing with Section 28160) to Chapter 5 of Division 12 of, the Vehicle Code, relating to schoolbus safety.', 'An act to amend Section 17052 of the Revenue and Taxation Code, relating to taxation, and making an appropriation therefor.', 'An act to amend Section 128765 of, and to add Section 1253.7 to, the Health and Safety Code, relating to health care.', 'An act to amend Section 1281.9 of, and to add Section 1281.65 to, the Code of Civil Procedure, relating to arbitration.', 'An act to amend Sections 3033, 7150, and 7151 of, and to add Sections 3034 and 7150.5 to, the Fish and Game Code, relating to fish and wildlife.', 'An act to amend Section 7841.1 of, and to add Sections 6795.2, 7881.5, and 8801.1 to, the Business and Professions Code, relating to professions and vocations.', 'An act to amend Sections 1560, 1561, and 1563 of the Evidence Code, relating to evidence.', 'An act to amend Section 803 of the Penal Code, relating to wrongful concealment.', 'An act to amend Sections 120500, 120505, 120510, 120515, 120535, 120540, 120565, 120575, and 120605 of, to add Section 120511 to, and to repeal and add Section 120525 of, the Health and Safety Code, relating to sexually transmitted diseases.', 'An act to amend Sections 124977 and 125001 of the Health and Safety Code, relating to public health, and making an appropriation therefor.', 'An act to amend\\nSection 8725\\nSections 6731.1 and 8726\\nof the Business and Professions Code, relating to professions.', 'An act to add Section 6354.8 to, and to repeal and amend Section 6354.7 of, the Labor Code, relating to occupational safety and health.', 'An act to add\\nPart 6.5\\nChapter 9.7\\n(commencing with Section\\n1179.80)\\n4450)\\nto Division\\n1 of,\\n2 of\\nthe\\nHealth\\nBusiness\\nand\\nSafety\\nProfessions\\nCode, relating to alcohol and drug counselors.', 'An act to\\namend Section 53051 of the Government\\nadd Section 7282.5 to the Revenue and Taxation\\nCode, relating to\\nlocal government.\\nhosting platforms.', 'An act to amend Section 17053.5 of the Revenue and Taxation Code, relating to taxation, to take effect immediately, tax levy.', 'An act to amend Section 85300 of, and to add Section 89519.5 to, the Government Code, relating to the Political Reform Act of 1974.', 'An act to add Chapter 9 (commencing with Section 23000) to Division 21 of, and to repeal Sections 21505 and 21605 of, the Elections Code, relating to elections.', 'An act to add\\nand repeal\\nChapter 2.92 (commencing with Section 1001.85) of Title 6 of Part 2 of the Penal Code, relating to diversion.', 'An act to amend Sections 5003.17 and 5080.40 of, to amend and repeal Section 5080.42 of, and to add Article 1.5 (commencing with Section 520) to Chapter 1 of Division 1 of, the Public Resources Code, relating to state parks.', 'An act to add Part 6 (commencing with Section 5920) to Division 5 of the Welfare and Institutions Code, relating to pupil health.', 'An act to amend Section 3605 of the Probate Code, and to amend Section 14009.5 of the Welfare and Institutions Code, relating to public social service.', 'An act to amend Section 51225.3 of the Education Code, relating to pupil instruction.', 'An act to amend Section 2869 of the Public Utilities Code, relating to energy.', 'An act to amend Sections 1473, 1485.5, and 1485.55 of the Penal Code, relating to habeas corpus.', 'An act to add Section 1367.031 to the Health and Safety Code, and to add Section 10133.53 to the Insurance Code, relating to health care coverage.', 'An act to amend Section 4214 of the Public Resources Code, relating to fire prevention.', 'An act to add Section 208.3 to the Welfare and Institutions Code, relating to juveniles.', 'An act to add Section 2920.7 to the Civil Code, relating to mortgages and deeds of trust.', 'An act to amend Sections 8210, 8211, 8212, 8214, 8215, and 8216 of, to add Sections 8212.5, 8215.5, and 8218 to, and to repeal Section 8212.3 of, the Education Code, relating to child care and development services.', 'An act to add Section 4032 to the Penal Code, relating to incarcerated persons.', 'An act to add Chapter 8 (commencing with Section 127670) to Part 2 of Division 107 of, and to repeal the heading of Chapter 8 (formerly commencing with Section 127670) of Part 2 of Division 107 of, the Health and Safety Code, relating to health care.', 'An act to amend Sections 49430, 49430.5, 49430.7, 49431, 49431.2, 49431.5, 49431.7, and 49432 of the Education Code, relating to pupil nutrition.', 'An act to repeal Chapter 211 of the Statutes of 1919, relating to tidelands and submerged lands in the Bay of San Francisco, and making an appropriation therefor.', 'An act to amend Section 2220.05 of, and to add and repeal Section 2245 of, the Business and Professions Code, and to add and repeal Section 14028 of the Welfare and Institutions Code, relating to Medi-Cal.', 'An act to amend Sections 4603.2, 4603.4, and 4625 of the Labor Code, relating to workers’ compensation.', 'An act to add Article 14 (commencing with Section 2340) to Chapter 5 of Division 2 of the Business and Professions Code, relating to healing arts.', 'An act to amend Section 9002 of, and to add Chapter 5.5 (commencing with Section 9069.10) to Part 4 of Division 8 of, the Health and Safety Code, relating to cemeteries.', 'An act relating to state claims, making an appropriation therefor, and declaring the urgency thereof, to take effect immediately.', 'An act to amend Sections 27491.4, 27491.41, 27491.43, 27491.46, 27491.47, and 27520 of, and to add Section 27522 to, the Government Code, relating to autopsies.', 'An act to amend Sections 30315, 30321, 30322, and 30324 of, and to add Section 30327.2 to, the Public Resources Code, relating to the California Coastal Commission.', 'An act to add Section 5273.1 to the Business and Professions Code, relating to outdoor advertising.', 'An act to amend Sections 25417.5 and 25421 of the Public Resources Code, relating to energy, and making an appropriation therefor.', 'An act to amend Section 280 of the Public Utilities Code, relating to telecommunications.', 'An act to amend Sections 10506.4 and 10506.5 of, to amend the heading of Article 1.5 (commencing with Section 10506.4) of Chapter 2.1 of Part 2 of Division 2 of, and to repeal Sections 10506.8 and 10506.9 of, the Public Contract Code, relating to public contracts.', 'An act to amend Section 12814.6 of the Vehicle Code, relating to driver’s licenses.', 'An act to amend, repeal, and add Section 4652.5 of the Welfare and Institutions Code, relating to developmental services.', 'An act to add Section 1714.24 to the Civil Code, relating to pharmaceutical waste.', 'An act to\\namend Section 34450 of\\nadd and repeal Sections 34096 and 36516.7 of\\nthe Government Code,\\nand to add and repeal Section 1100.8 of the Public Contract Code,\\nrelating to local government.', 'An act to amend, repeal, and add Section 44011 of the Health and Safety Code, relating to vehicular air pollution.', 'An act to\\namend Sections 564 and 566 of, and to add Section 563 to,\\nadd Part 3 (commencing with Section 1000) to Division 1 of\\nthe Food and Agricultural Code, relating to food and agriculture.', 'An act to amend Section 9084 of the Elections Code, and to amend Section 88001 of, and to add Chapter 5.3 (commencing with Section 8347) to Division 1 of Title 2 of, the Government Code, relating to state government.', 'An act to add Section 314 to the Code of Civil Procedure, relating to civil law.', 'An act to add Section 6060.1.5 to the Business and Professions Code, relating to the State Bar Act.', 'An act to amend Section 116540 of, and to add Section 116527 to, the Health and Safety Code, and to add Section 106.4 to the Water Code, relating to drinking water.', 'An act to amend Section 600 of the Harbors and Navigation Code, relating to vessels.\\nAn act to amend Sections 667.1, 667.5, and 1170.125 of the Penal Code, relating to violent felonies.', 'An act to amend Section 5813.5 of the Welfare and Institutions Code, relating to mental health.', 'An act to add Section 23826.13 to the Business and Professions Code, relating to alcoholic beverages.', 'An act to add Section 1670.9 to the Civil Code, relating to immigration.', 'An act to add Section 14717.5 to the Welfare and Institutions Code, relating to Medi-Cal.', 'An act to\\namend\\namend, repeal, and add\\nSection 933.05 of the Penal Code, relating to grand juries.', 'An act to\\namend Section 42649.87 of,\\nto\\nadd\\nSection 42649.89 to, and to add\\nDivision 45 (commencing with Section 75300)\\nto\\nto,\\nthe Public Resources Code, relating to the environment.', 'An act to amend Section 2962 of the Penal Code, relating to mentally ill prisoners.', 'An act to amend Section 10095.5 of, and to amend, repeal, and add Section 10095 of, the Insurance Code, relating to insurance, and declaring the urgency thereof, to take effect immediately.', 'An act to amend Section 170 of the Revenue and Taxation Code, relating to taxation, and declaring the urgency thereof, to take effect immediately.', 'An act to\\nadd\\namend\\nSection\\n3055 to\\n556.4 of\\nthe Penal Code, relating to\\nparole.\\ntrespass.', 'An act to amend Section 1808.4 of the Vehicle Code, relating to vehicles.', 'An act to add Article 2.10 (commencing with Section 65891) to Chapter 4 of Division 1 of Title 7 of the Government Code, relating to land use.', 'An act to amend Sections 13975, 14500, and 14526.5 of, and to repeal Section 14534.1 of, the Government Code, relating to transportation.', 'An act to amend Section 13957.9 of the Government Code, relating to crime victims, and making an appropriation therefor.', 'An act to amend Section 25247 of the Health and Safety Code, relating to hazardous waste.', 'An act to amend Section 8585.05 of the Government Code, relating to emergency services.\\nAn act to add Chapter 6.4 (commencing with Section 30030) to Division 3 of Title 3 of the Government Code, relating to criminal justice realignment, and making an appropriation therefor.', 'An act to amend Section 487 of the Penal Code, relating to theft.\\nAn act to add Article 1.5 (commencing with Section 6033) to Chapter 5 of Title 7 of Part 3 of the Penal Code, relating to corrections, making an appropriation therefor, and declaring the urgency thereof, to take effect immediately.', 'An act to amend Sections 7200 and 7200.5 of, and to add and repeal Section 7215.7 of, the Business and Professions Code, relating to professions and vocations.', 'An act to add Section 6377.5 to the Revenue and Taxation Code, relating to taxation, to take effect immediately, tax levy.', 'An act to amend and repeal Sections 11052.6, 11053, and 11053.2 of, to amend, repeal, and add Section 11102 of, and to add Section 10003 to, the Welfare and Institutions Code, relating to public social services.', 'An act to amend Section 3041.5 of the Penal Code, relating to parole.', 'An act to amend Section 48980 of, and to add Article 1.5 (commencing with Section 48929) to Chapter 6 of Part 27 of Division 4 of Title 2 of, the Education Code, relating to pupils.', 'An act to amend Section 38026.1 of the Vehicle Code, relating to vehicles.', 'An act to amend Section\\n4214 of\\n51283 of the Government Code, and to add Section 10247 to\\nthe Public Resources Code, relating to\\nfire prevention.\\nthe Soil Conservation Fund.', 'An act to amend Sections 84601 and 84602 of the Government Code, relating to the Political Reform Act of 1974.', 'An act\\nto amend Sections 69433.5 and 69433.6 of the Education Code,\\nrelating to\\npostsecondary education.\\nstudent financial aid.', 'An act to amend Section\\n7582.2 of the Business and Professions Code, and to amend Sections 830.7 and\\n22295 of, and to add Sections\\n26065 and\\n830.75, 26065, and\\n32455 to, the Penal Code, relating to security officers.', 'An act to amend Section 35650 of, and to add Chapter 3.1 (commencing with Section 35630) to Division 26.5 of, the Public Resources Code, relating to coastal resources.', 'An act to amend Section 11323.2 of the Welfare and Institutions Code, relating to CalWORKs.', 'An act to add Section 221.61 to the Education Code, relating to educational equity.', 'An act to add Chapter 6.5 (commencing with Section 8255) to Division 8 of the Welfare and Institutions Code, relating to homelessness.', 'An act to add Section\\n17053 to the Revenue and Taxation Code, relating to taxation, to take effect immediately, tax levy.\\n33333.5 to the Education Code,\\nrelating to teachers.', 'An act to add Sections 39730.5, 39730.6, 39730.7, and 39730.8 to the Health and Safety Code, and to add Chapter 13.1 (commencing with Section 42652) to Part 3 of Division 30 of the Public Resources Code, relating to methane emissions.', 'An act to amend Section 859.5 of the Penal Code, relating to interrogation.', 'An act to\\namend Section 22962 of, and to\\namend, repeal, and add Section 22971\\nof\\nof,\\nthe Business and Professions Code, relating to cigarette and tobacco products.', 'An act to add Section 54.27 to the Civil Code, and to amend Section 8299.08 of the Government Code, relating to disability access.', 'An act to amend Sections 89724 and 89725 of, and to add Section 89726 to, the Education Code, relating to the California State University, and making an appropriation therefor.', 'An act to add Section 25402.12 to the Public Resources Code, and to amend Section 399.4 of the Public Utilities Code, relating to energy.', 'An act to add and repeal Article 4 (commencing with Section 18735) of Chapter 3 of Part 10.2 of Division 2 of the Revenue and Taxation Code, relating to the Salton Sea.', 'An act to amend Section 1288 of, and to repeal and add Section 1246.5 of, the Business and Professions Code, relating to clinical laboratories.\\nAn act to add Section 14102.1 to the Welfare and Institutions Code, relating to Medi-Cal, and declaring the urgency thereof, to take effect immediately.', 'An act to amend Section 35179 of the Education Code, relating to interscholastic athletics.\\nAn act to add Article 19.5 (commencing with Section 8430) to Chapter 2 of Part 6 of Division 1 of Title 1 of the Education Code, relating to child care.', 'An act to amend Section 799 of the Public Utilities Code, relating to public utilities.', 'An act to amend Section 54953 of the Government Code, relating to open meetings.', 'An act to amend Section 17072 of, and to add and repeal Sections 17208 and 17208.2 of, the Revenue and Taxation Code, relating to taxation, to take effect immediately, tax levy.', 'An act to add Section 21168.6.7 to the Public Resources Code, relating to environmental quality.', 'An act to amend Sections 32310, 32400, 32405, 32410, 32425, 32430, 32435, and 32450 of, to add Section 32406 to, and to repeal Section 32420 of, the Penal Code, relating to firearms.', 'An act to\\namend Section 4001 of\\nadd Chapter 9.6 (commencing with Section 4450) to Division 2 of\\nthe Business and Professions Code, relating to healing arts.', 'An act to amend Sections 205.5 and 5097 of, and to add Sections 4831.1 and 5097.3 to, the Revenue and Taxation Code, relating to taxation, to take effect immediately, tax levy.', 'An act to amend Section 23612 of the Vehicle Code, relating to vehicles.', 'An act relating to public contracts.', 'An act to amend Sections 1341.45, 128551, and 128552\\nof, and to add Section 128555.5 to,\\nof\\nthe Health and Safety Code, relating to health professions development.', 'An act to amend Sections 254.5, 1840, and 4674 of the Revenue and Taxation Code, relating to taxation.', 'An act to amend Sections 42010, 42014, and 42022 of the Revenue and Taxation Code, relating to telecommunications.', 'An act to add Part 4 (commencing with Section 61250) to Division 3 of Title 6 of the Government Code, relating to local government.', 'An act to amend Sections 82033, 82034, 87103, 87206, and 87207 of, and to add Sections 87206.5 and 87211 to, the Government Code, relating to the Political Reform Act of 1974.', 'An act to amend, repeal, and add Section 245.5 of the Labor Code, relating to employment.', 'An act to add and repeal Chapter 3.6 (commencing with Section 11366) of Part 1 of Division 3 of Title 2 of the Government Code, relating to state agency regulations.', 'An act to amend Section 76140 of the Education Code, relating to public postsecondary education, and declaring the urgency thereof, to take effect immediately.', 'An act to amend Section 52.5 of the Civil Code, and to add Section 354.8 to the Code of Civil Procedure, relating to civil actions.', 'An act to amend Section 11362.777 of the Health and Safety Code, relating to medical marijuana, and declaring the urgency thereof, to take effect immediately.', 'An act to amend Section 5374 of, and to add Section 5444 to, the Public Utilities Code, and to amend Section 1808.1 of the Vehicle Code, relating to transportation.', 'An act to amend Section 69432.7 of the Education Code, relating to financial aid.', 'An act to amend Sections 19322 and 19323 of, and to add Section 19326.5 to, the Business and Professions Code, relating to medical cannabis.', 'An act to amend Section 502 of the Penal Code, relating to computer crimes.', 'An act to amend Section 54141 of, and to add Section 54145 to, the Government Code, relating to local government.', 'An act to add\\nSection 6254.31 to the Government Code, and to add Title 14 (commencing with Section 14350) to Part 4 of the Penal Code, relating to unmanned aircraft systems.\\nArticle 1.5 (commencing with Section 19905) to Chapter 11 of Part 11 of Division 1 of Title 1 of the Education Code, relating to libraries.', 'An act to add and repeal Part 6 (commencing with Section 5950) of Division 5 of the Welfare and Institutions Code, relating to mental health, and making an appropriation therefor.', 'An act to amend Sections 15601, 15620, 15621, 15626, 15627, and 15632, of, to add Sections 15621.5 and 19204.5 to, and to add Article 5 (commencing with Section 15645) to Chapter 9 of Division 15 of, the Elections Code, relating to elections.', 'An act relating to livestock drugs.', 'An act to add Section 14148.25 to the Welfare and Institutions Code, relating to perinatal care.', 'An act to amend Sections 5348 and 5349.5 of the Welfare and Institutions Code, relating to mental health services, and making an appropriation therefor.', 'An act to amend Sections 6240, 6242, 22442.5, and 22442.6 of the Business and Professions Code, relating to immigration services, and declaring the urgency thereof, to take effect immediately.', 'An act to\\namend Section 1464 of, and to\\nadd Title 14 (commencing with Section 14400) to Part 4 of the Penal Code, relating to peace officers, and making an appropriation therefor.', 'An act to add Section 832.18 to the Penal Code, relating to peace officers.', 'An act to add and repeal Chapter 3.4 (commencing with Section 8265) to Division 1 of Title 2 of the Government Code, relating to state government.', 'An act to add Section 12801.3 to the Vehicle Code, relating to vehicles.', 'An act to amend Section 50408 of, and to add Chapter 6.8 (commencing with Section 50676) to Part 2 of Division 31 of, the Health and Safety Code, relating to housing.', 'An act to amend Section 6100 of, and to add Sections 12025.1 and 12025.2 to, the Fish and Game Code, to add Section 8687.9 to the Government Code, to amend Section 4629.6 of the Public Resources Code, and to amend Section 81046 of, to amend, repeal, and add Section 13442 of, and to add Sections 189 and 81023 to, the Water Code, relating to water, and making an appropriation therefor, to take effect immediately, bill related to the budget.', 'An act to add Section 2022 to the Fish and Game Code, and to repeal Section 5 of Chapter 692 of the Statutes of 1976, relating to animal parts and products.', 'An act to add Section 8924.7 to, and to add Chapter 1.5 (commencing with Section 8050) to Division 1 of Title 2 of, the Government Code, relating to state government.\\nAn act to add Section 51226.7 to the Education Code, relating to pupil instruction.', 'An act relating to the Budget Act of 2015.\\nAn act to amend Sections 19136 and 19167 of, and to add Section 17052 to, the Revenue and Taxation Code, relating to taxation, and making an appropriation therefor, to take effect immediately, bill related to the budget.', 'An act to amend Sections 13332.19, 15816, 15817.1, 15820.903, 15820.913, 15820.922, 15831, 15832, and 15848 of, and to repeal Section 15770.5 of, the Government Code, relating to public works, and making an appropriation therefor, to take effect immediately, bill related to the budget.', 'An act relating to the Budget Act of 2015.\\nAn act to amend Sections 22775, 22781, 22844, 22865, 22866, and 22940 of, to add Section 22843.1 to, and to repeal Section 12439 of, the Government Code, relating to state government, and making an appropriation therefor, to take effect immediately, bill related to the budget.', 'An act to amend Sections 18546, 18990, 18991, 18992, 18993, 19057.1, 19057.3, 19889, 19889.2, and 19889.3 of, to add Section 19889.4 to, and to repeal Sections 19057, 19057.2, and 19057.4 of, the Government Code, relating to state civil service, and making an appropriation therefor, to take effect immediately, bill related to the budget.', 'An act to amend Sections 89724 and 89725 of, and to add Section 89726 to, the Education Code, relating to the California State University.', 'An act to amend the Budget Act of 2015 (Chapters 10 and 11 of the Statutes of 2015), by amending Item 6440-001-0001 of, and adding Items 2660-013-0001, 3970-001-0001, and 9651-001-0001 to, Section 2.00 of, and amending Section 39.00 of, that act, relating to the state budget, and making an appropriation therefor, to take effect immediately, budget bill.', 'An act\\nrelating to the Budget Act of 2015.\\nto amend the Budget Act of 2015 by amending Items 0650-001-3228,\\n3900-001-3228,\\nand 4700-001-3228 of, and adding Items\\n2665-001-3228,\\n3860-001-3228, 3860-101-3228, 3900-101-3228,\\n4700-101-3228,\\nand 8570-001-3228 to, Section 2.00 of, and amending Section 39.00 of, that act, relating to the State Budget, and making an appropriation therefor, to take effect immediately, budget bill.', 'An act to amend Section 44259 of the Education Code, relating to teacher credentialing.', 'An act to amend Section 5093.56 of, and to add Sections 5093.548 and 5093.549 to, the Public Resources Code, relating to wild and scenic rivers.', 'An act to amend Sections 113755, 113789, 114276, and 114289 of the Health and Safety Code, relating to food facilities.', 'An act to amend Section 374.3 of the Penal Code, relating to dumping.', 'An act to add Article 4.5 (commencing with Section 111548) to Chapter 6 of Part 5 of Division 104 of the Health and Safety Code, relating to drugs and devices.', 'An act to amend Section 186.2 of the Penal Code, and to amend Sections 6007 and 6009.2 of the Revenue and Taxation Code, relating to criminal profiteering.', 'An act to amend Section 44262.5 of the Education Code, and to amend Section 1 of Chapter 324 of the Statutes of 2009, relating to teacher credentialing.', 'An act to amend Section 125000 of, and to add Sections 125003, 125004, and 125005 to, the Health and Safety Code, relating to newborn screening.', 'An act to\\namend Section 972.1 of, and to add Section 972.3 to,\\nrepeal and add Section 972.1 of\\nthe Military and Veterans Code, relating to\\nveterans, making an appropriation therefor, and declaring the urgency thereof, to take effect immediately.\\nveterans.', 'An act relating to the University of California, and making an appropriation therefor.', 'An act to amend Sections 25500.5, 25514, 25514.5, and 25516 of the Public Resources Code, and to amend Section 740.3 of the Public Utilities Code, relating to electricity.', 'An act to add Section 66027.1 to the Education Code, and to amend Section 8310.7 of the Government Code, relating to data collection.', 'An act to add the heading of Article 1 (commencing with Section 14025) and the heading of Article 2 (commencing with Section 14027) to, and to add Article 3 (commencing with Section 14040) to, Chapter 1.5 of Division 14 of the Elections Code, relating to elections.', 'An act to amend Sections 5350.2, 5352, 5354, and 5360 of the Welfare and Institutions Code, relating to conservatorships.', 'An act to amend Section 149.7 of, and to add Section 149.12 to, the Streets and Highways Code, relating to transportation, and making an appropriation therefor.', 'An act to add Article 7.6 (commencing with Section 9147.10) to Chapter 1.5 of Part 1 of Division 2 of Title 2 of the Government Code, and to amend Sections 39510 and 39607 of, and to add Sections 38506, 38531, 38562.5, and 38562.7 to, the Health and Safety Code, relating to air resources.', 'An act to amend Sections 69437 and 69437.6 of the Education Code, relating to student financial aid.', 'An act to amend Sections\\n4212,\\n4213, 4220, and 4222 of the Public Resources Code, relating to forestry and fire prevention.', 'An act to amend Section 34179 of the Health and Safety Code, relating to redevelopment.', 'An act to amend Sections 527.11 and 527.12 of the Code of Civil Procedure, relating to residential property, and declaring the urgency thereof, to take effect immediately.', 'An act to amend Section 374 of the Streets and Highways Code, relating to state highways.', 'An act to amend Section\\n4150\\n1808.4\\nof the Vehicle Code, relating to\\nvehicles\\nvehicle records\\n.', 'An act to amend Section 3003 of the Penal Code, relating to postconviction supervised release.', 'An act to amend Section 12814.6 of the Vehicle Code, relating to driver’s licenses.', 'An act to amend Sections 12701 and 12703.1 of the Business and Professions Code, relating to weighmasters.', 'An act to amend\\nSection 14026\\nSections 18544 and 18545\\nof the Elections Code, relating to elections.', 'An act to amend Section 30652 of the Food and Agricultural Code, and to amend Section 830.9 of the Penal Code, relating to animal control officers.', 'An act to amend Sections 2290.5 and 4980.43 of the Business and Professions Code, relating to healing arts.', 'An act to amend Section 1720 of the Labor Code, relating to public works.', 'An act to add Section 987.010 to the Military and Veterans Code, and to amend Sections 5845 and 14684 of the Welfare and Institutions Code, relating to mental health.', 'An act to amend, repeal, and add Sections 1000, 1301, and 13112 of the Elections Code, relating to elections.', 'An act to amend Section 1798.29 of the Civil Code, relating to personal information privacy.', 'An act to amend Section 16002.5 of, and to add Sections 361.8 and 825.5 to, the Welfare and Institutions Code, relating to foster care.', 'An act to amend Sections 52332, 55631, and 56109 of the Food and Agricultural Code, relating to farm products.', 'An act to amend Section 830.6 of the Penal Code, relating to employment.', 'An act to amend Sections 25360.4, 25363, and 25366.5 of the Health and Safety Code, relating to hazardous substances.', 'An act to amend Sections 34872, 34877, 34884, and 34886 of, and to add Sections 34876.5 and 34877.5 to, the Government Code, relating to elections.', 'An act to amend Sections 19551.1 and 19551.5 of the Revenue and Taxation Code, relating to taxation.', 'An act to amend Sections 116.130, 116.220, and 116.231 of the Code of Civil Procedure, relating to small claims court.', 'An act\\nto add Chapter 35 (commencing with Section 22948.8) to Division 8 of the Business and Professions Code, and to add Sections 1503.3 and 1596.848 to the Health and Safety Code,\\nrelating to window coverings.', 'An act to amend Sections 53601.8 and 53635.8 of the Government Code, relating to local government.', 'An act to amend Section 4689 of the Welfare and Institutions Code, relating to developmental services.', 'An act to add and repeal Section 76004 to the Education Code, relating to public schools.', 'An act to add Article 11 (commencing with Section 9149.30) to Chapter 1.5 of Part 1 of Division 2 of Title 2 of the Government Code, relating to the Legislature.', 'An act to add Article 7 (commencing with Section 116090.5) to Chapter 5 of Part 10 of Division 104 of the Health and Safety Code, relating to public health.', 'An act to add Chapter 10 (commencing with Section 31420) to Division 21 of, and to repeal Sections 31422 and 31423 of, the Public Resources Code, relating to coastal wildlife protection.', 'An act to add Section 222 to the Education Code, relating to pupil services.', 'An act to amend Section 4030 of, and to add Section 4031 to, the Penal Code, relating to searches.', 'An act to amend Sections 245.5, 246, and 247.5 of the Labor Code, relating to employment, and declaring the urgency thereof, to take effect immediately.', 'An act to add Section 21168.6.7 to the Public Resources Code, relating to environmental quality.', 'An act to amend Section 4830 of the Business and Professions Code, relating to veterinarians.', 'An act to amend, repeal, and add Sections 2080.1, 2080.2, and 2080.3 of, and to add and repeal Section 2080.9 of, the Civil Code, relating to lost and unclaimed property.', 'An act to amend\\nSections 49413 and\\nSection\\n51202 of, and to add Section 51225.6 to, the Education Code, relating to pupil instruction.', 'An act to amend Sections 17941 and 23153 of the Revenue and Taxation Code, relating to taxation, to take effect immediately, tax levy.', 'An act to add and repeal Section 10234.75 of the Insurance Code, relating to insurance.', 'An act to add Chapter 3 (commencing with Section 39150) to Part 1 of Division 26 of the Health and Safety Code, relating to air pollution.', 'An act to add Section 130350.7\\nto,\\nto\\nthe Public Utilities Code, relating to transportation.', 'An act to amend Section 10010 of the Elections Code, relating to elections.', 'An act to amend Section 5515 of, and to add Section 2081.6 to, the Fish and Game Code, relating to fish, and declaring the urgency thereof, to take effect immediately.', 'An act to amend Section 1563 of, and to add Section 1531.6 to, the Code of Civil Procedure, relating to unclaimed property.', 'An act to add Part 9.5 (commencing with Section 2500) to Division 2 of the Labor Code, relating to grocery workers.', 'An act to add and repeal Section 8610.5 of the Government Code, and to add Section 712 to the Public Utilities Code, relating to electricity, and declaring the urgency thereof, to take effect immediately.', 'An act to amend Section 33607.5 of the Health and Safety Code, relating to redevelopment.', 'An act to amend, repeal, and add Section 11265.8 of the Welfare and Institutions Code, relating to CalWORKs.', 'An act\\nto amend Section 361.3 of the Welfare and Institutions Code,\\nrelating to juveniles.', 'An act to amend Section 50408 of the Health and Safety Code, relating to housing.', 'An act to amend Section 1259 of the Health and Safety Code, relating to health facilities.', 'An act to amend\\nSection 296\\nSections 296 and 299\\nof the Penal Code, relating to DNA evidence.', 'An act to amend Section 2170 of, and to add Section 2170.5 to, the Elections Code, relating to elections.', 'An act to amend Section 56133 of, and to add and repeal Section 56133.5 of, the Government Code, relating to local agency formation.', 'An act to amend Sections 70901 and 72208 of the Education Code, relating to community colleges.', 'An act to amend Section\\n51210\\n56000.5\\nof the Education Code, relating to\\npupil instruction.\\nspecial education.', 'An act to amend Section 999 of the Military and Veterans Code, relating to veterans.', 'An act to amend and repeal Section 1946.7 of the Civil Code, relating to tenancy.', 'An act to amend Sections 101, 102, 103, and 109 of the Welfare and Institutions Code, relating to juveniles.', 'An act to add and repeal Sections 17053.50 and 23650 of the Revenue and Taxation Code, relating to taxation, to take effect immediately, tax levy.', 'An act to amend Section 2356.5 of the Probate Code, relating to protective proceedings.', 'An act to add Section 23711.4 to the Revenue and Taxation Code, and to add Sections 4877, 4878, 4880, 4882, and 4884 to the Welfare and Institutions Code, relating to taxation, and making an appropriation therefor.', 'An act to amend Section 21107.8 of the Vehicle Code, relating to vehicles.', 'An act to add Chapter 7 (commencing with Section 44200) to Part 6 of Division 14 of the Water Code, relating to groundwater, and declaring the urgency thereof, to take effect immediately.', 'An act to amend Sections 5202, 10720.7, 10724, and 10735.2 of the Water Code, relating to groundwater.', 'An act to amend Section 99200 of the Education Code, relating to postsecondary education.', 'An act to amend Section 999.2 of the Military and Veterans Code, relating to veterans.', 'An act to amend Sections 12519, 12520, 12565, 12602, 12632, 12634, 12640, 12688, and 12722 of the Health and Safety Code, relating to explosives.', 'An act to amend Section 7195 of the Business and Professions Code, and to amend Sections 115922 and 115925 of the Health and Safety Code, relating to public health.', 'An act to amend Section 10072 of the Welfare and Institutions Code, relating to public social services.', 'An act to amend Section 1432 of the Health and Safety Code, relating to health facilities.\\nAn act to add Section 12201.02 to the Welfare and Institutions Code, relating to public social services, and making an appropriation therefor\\n.', 'An act to amend Sections 218 and 17053.5 of the Revenue and Taxation Code, relating to taxation, to take effect immediately, tax levy.', 'An act to add and repeal Article 23 (commencing with Section 18901) of Chapter 3 of Part 10.2 of Division 2 of the Revenue and Taxation Code, relating to taxation.', 'An act to amend Section 3041.5 of the Penal Code, relating to parole.', 'An act to amend Section 12926 of, and to add Section 12926.05 to, the Government Code, relating to employment discrimination.', 'An act to amend Sections 1797.5, 1930, and 1930.5 of the Fish and Game Code, relating to fish and wildlife.', 'An act to amend Section 1925 of, and to add Article 9.1 (commencing with Section 1967) to Chapter 4 of Division 2 of, the Business and Professions Code, and to amend Sections 13401 and 13401.5 of the Corporations Code, relating to dental hygiene.', 'An act to add Section 123237 to the Health and Safety Code, relating to public health.', 'An act to amend Section 94874 of the Education Code, relating to private postsecondary education.', 'An act to\\nadd Section 15277.5 to the Government Code, and to\\nrepeal and amend Section 41030 of the Revenue and Taxation Code, relating to emergency services, and declaring the urgency thereof, to take effect immediately.', 'An act to amend Section 3212.1 of, and to repeal and add Sections 3212, 3212.5, 3212.6, 3212.85, and 3212.9 of, the Labor Code, relating to workers’ compensation.', 'An act to amend Sections 25132 and 53069.4 of the Government Code, relating to local government.', 'An act to amend Sections 17053.88 and 23688 of the Revenue and Taxation Code, and to amend Section 18995 of, and to amend the heading of Chapter 14.5 (commencing with Section 18995) of Part 6 of Division 9 of, the Welfare and Institutions Code, relating to food banks.', 'An act to amend Section 3073.5\\nof\\nof, and to add Section 147.6 to,\\nthe Labor Code, relating to\\napprenticeship.\\nprivate employment.', 'An act to amend Section 51225.3 of, and to add Section 51221.1 to, the Education Code, relating to school curriculum.', 'An act to amend Sections 20020, 20021, 20036, and 20041 of, to amend the heading of Article 6 (commencing with Section 20035) of Chapter 5.5 of Division 8 of, to add Sections 20022, 20028, and 20029 to, and to repeal and add Section 20035 of, the Business and Professions Code, relating to franchises.', 'An act to amend Section 48800 of the Education Code, relating to pupil instruction, and declaring the urgency thereof, to take effect immediately.', 'An act to add and repeal Section 25503.40 of the Business and Professions Code, relating to alcoholic beverages.', 'An act to amend Section 30000 of the Penal Code, and to amend Sections 4750 and 12805 of the Vehicle Code, relating to vehicles.', 'An act to add Chapter 6 (commencing with Section 32622) to Division 22.8 of the Public Resources Code, relating to the Los Angeles River.', 'An act to create the Big Valley Watermaster District, and prescribing its boundaries, organization, operation, management, financing, and other powers and duties, relating to water districts.', 'An act to amend Section 4000.5 of the Elections Code, relating to elections.', 'An act to amend Section 1942.5 of, to amend and renumber Section 1954.1 of, and to add Chapter 2.8 (commencing with Section 1954.600) to Title 5 of Part 4 of Division 3 of, the Civil Code, relating to tenancy.', 'An act to amend Sections 630.03 and 630.11 of, to amend the heading of Chapter 4.5 (commencing with Section 630.01) of Title 8 of Part 2 of, to add and repeal Chapter 4.6 (commencing with Section 630.20) of Title 8 of Part 2 of, and to repeal Section 630.12 of the Code of Civil Procedure, relating to civil actions.', 'An act to add Sections 5008.9, 6610.5, 8610.5, and 9680.5 to the Corporations Code, and to add Section 23156 to the Revenue and Taxation Code, relating to nonprofit corporations.', 'An act to amend Section 4677, to amend, repeal, and add Section 4784 of, and to repeal Section 4782 of, the Welfare and Institutions Code, relating to developmental services.', 'An act to amend Sections 10203.4 and 10271.1 of the Insurance Code, relating to insurance.', 'An act to amend Sections 17406 and 17407 of, and to add Section 17407.5 to, the Education Code, and to amend Section 20111.6 of the Public Contract Code, relating to school facilities.', 'An act to amend Section 94925 of, and to add Sections 69433.61, 69999.19, 94051, and 94926.5 to, the Education Code, relating to higher education, making an appropriation therefor, and declaring the urgency thereof, to take effect immediately.', 'An act to amend Section 60200 of, and to add and repeal Section 60227 of, the Education Code, relating to instructional materials.', 'An act to amend Sections 143.1, 6450, and 6451 of, and to add Section 6450.5 to, the Labor Code, relating to employment.', 'An act to amend\\nSection\\nSections\\n1250.8\\nand 128700\\nof\\n, and to add Section 1255.15 to,\\nthe Health and Safety Code, relating to health facilities.', 'An act to add Section 33319.6 to the Education Code, relating to pupil health.', 'An act to\\nadd Chapter 11.2 (commencing with Section 8852) to Division 1 of Title 2 of the Government\\nadd Section 79707.5 to the Water\\nCode, relating to\\nfinancing deferred maintenance on state facilities, by providing the funds necessary therefor through an election for the issuance and sale of bonds of the State of California and for the handling and disposition of those funds.\\nwater.', 'An act\\nrelating\\nto add Article 7 (commencing with Section 12100.1) to Chapter 1.6 of Part 2 of Division 3 of Title 2 of the Government Code, relating\\nto state government.', 'An act to amend Sections 10600, 10601, 10602, 10605, and 10606 of, and to amend the heading of Chapter 5 (commencing with\\nSection\\n10600) of Part 2 of Division 2 of Title 2 of, the Government Code, relating to public employee retirement systems.', 'An act to add Chapter 3.67 (commencing with Section 1597.80) to Division 2 of the Health and Safety Code, relating to child care.', 'An act to amend Sections 82013, 82036, 82036.5, 84101, 84103, 84200.6, 84206, 84207, 84218, and 85201 of, to repeal Sections 84200.7, 84202.5, and 84203.5 of, and to repeal and add Section 84200.5 of, the Government Code, relating to the Political Reform Act of 1974.', 'An act to amend, repeal, and add Section 5300 of the Civil Code, relating to common interest developments.', 'An act to\\namend Section 36 of, and to\\nadd Chapter 6 (commencing with Section 820) to Title 10 of Part 2 of, the Code of Civil Procedure, relating to civil claims.', 'An act to amend Section 6027 of the Penal Code, relating to corrections.', 'An act to amend Sections 21113, 21960, 21967, and 21968 of, to add Section 313.5 to, to add Article 7 (commencing with Section 21290) to Chapter 1 of Division 11 of, and to repeal Section 21295 of, the Vehicle Code, relating to vehicles.', 'An act to amend Section 10145 of the Business and Professions Code, relating to real estate brokers.', 'An act to repeal and add Section 4007.5 of the Family Code, relating to child support, and declaring the urgency thereof, to take effect immediately.', 'An act to amend Section 11165.1 of the Health and Safety Code, relating to controlled substances.', 'An act to amend Sections 1254.5 and 1275 of the Health and Safety Code, relating to health facilities.', 'An act to amend Sections 10540, 10721, 10727.4, 10727.8, and 10733.4 of, and to add Sections 10726.5 and 10732.2 to, the Water Code, relating to water.', 'An act to amend Section 149.9 of the Streets and Highways Code, relating to transportation.', 'An act to add Section 2750.8 to the Labor Code, and to add Article 8.6 (commencing with Section 1160) to Chapter 4 of Part 1 of Division 1 of the Unemployment Insurance Code, relating to employment.', 'An act to add Section 4069 to the Business and Professions Code, to add Section 1367.217 to the Health and Safety Code, and to add Section 10123.203 to the Insurance Code, relating to prescription drugs.', 'An act to amend Sections 11302 and 11319 of the Business and Professions Code, relating to real estate appraisers.', 'An act to amend Section 41320.1 of the Education Code, relating to school finance.', 'An act to add and repeal Section 9204 of the Public Contract Code, relating to public contracts.', 'An act to amend Sections 4430 and 4432 of, and to add Section 4440 to, the Business and Professions Code, relating to pharmacy benefit managers.', 'An act to amend Section 25250.1 of the Health and Safety Code, relating to used oil.', 'An act to amend Sections 1363, 3105, and 24102 of the Government Code, relating to public employment.', 'An act to amend Section 21628 of the Business and Professions Code, relating to business.', 'An act to amend\\nSection 11273 of the Business and Professions Code, relating to time-shares.\\nSection 881 of the Probate Code, as added by Assembly Bill 691 of the 2015–\\n16 Regular Session, relating to estates.', 'An act to amend Section 67380 of the Education Code, relating to postsecondary education.', 'An act to amend Section 25218.1 of the Health and Safety Code, relating to household hazardous waste.', 'An act to amend Section 118215 of, and to add Sections 117748 and 118217 to, the Health and Safety Code, relating to medical waste.', 'An act to amend Section 53075.5 of, and to add Sections 53075.71 and 53075.72 to, the Government Code, relating to transportation.', 'An act to amend Section 316 of the Streets and Highways Code, relating to state highways.', 'An act to amend Sections 19227, 19312, and 19315 of the Food and Agricultural Code, relating to rendering, and making an appropriation therefor.', 'An act to amend Section 480 of the Revenue and Taxation Code, relating to taxation.', 'An act to amend Section 4011.10 of the Penal Code, relating to health care.', 'An act to add Sections 73.5 and 73.6 to the Military and Veterans Code, relating to veterans.', 'An act to amend Section 27388 of the Government Code, relating to local government.', 'An act to amend Section 14186.36 of the Welfare and Institutions Code, relating to Medi-Cal.', 'An act to amend Sections 200, 203.1, and\\n12000\\n3004\\nof, and to add Sections 200.5 and 200.6 to, the Fish and Game Code, relating to fish and wildlife.', 'An act to amend Section 786 of, and to add Section 787 to, the Welfare and Institutions Code, relating to juveniles.', 'An act to add Section 25206.1 to the Corporations Code, relating to securities.', 'An act to amend Section 402.1 of the Revenue and Taxation Code, relating to taxation.', 'An act to amend Section 11549.3 of the Government Code, relating to technology.', 'An act to amend Section 1203.9 of the Penal Code, relating to crimes.', 'An act to amend Section 15645, and to amend, repeal, and add Section 15643, of the Government Code, relating to the State Board of Equalization.', 'An act to amend Sections 2053, 9082.7, and 13300.7 of the Elections Code, relating to elections.', 'An act to amend Section 27581.4 of, and to add Sections 27561.5, 27581.1, 27583, 27583.2, 27583.4, 27584, and 27585 to, the Food and Agricultural Code, relating to eggs.', 'An act to amend Section 14132.100 of the Welfare and Institutions Code, relating to Medi-Cal.', 'An act to add Part 20 (commencing with Section 870) to Division 2 of the Probate Code, relating to estates.', 'An act to amend Section 748.5 of, and to add Chapter 9.5 (commencing with Section 2870) to Part 2 of Division 1 of, the Public Utilities Code, relating to energy.', 'An act to amend Section 1101.5 of the Civil Code, relating to water conservation.\\nAn act to add and repeal Section 17053 of the Revenue and Taxation Code, relating to taxation, to take effect immediately, tax levy.', 'An act to amend Section 11450 of the Welfare and Institutions Code, relating to public social services.', 'An act to amend Section 51203 of the Government Code, relating to local government.', 'An act to amend Section 65995 of the Government Code, relating to land use.', 'An act to amend Sections 69800 and 69800.5 of, and to add Section 69800.2 to, the Education Code, relating to student financial aid.', 'An act to amend Sections 50833, 51335, and 51340 of the Health and Safety Code, relating to housing, and declaring the urgency thereof, to take effect immediately.', 'An act to\\namend Section 13050 of\\nadd Section 13529.6 to\\nthe Water Code, relating to water quality.', 'An act to\\namend Section 5.5 of\\nadd Section 5.7 to\\nthe San Diego Unified Port District Act (Chapter 67 of\\nthe First Extraordinary Session of\\nthe Statutes of\\n1962, First Extraordinary Session),\\n1962),\\nrelating to the San Diego Unified Port\\nDistrict.\\nDistrict, and making an appropriation therefor.', 'An act to amend Sections 20751, 20754, 20755, 20756, 20757, 20758, 21283, 21283.5, 21285, 21288, 21288.5, 21563, and 21563.5 of, and to add Section 21060.4 to, the Food and Agricultural Code, relating to livestock, and making an appropriation therefor.', 'An act to amend Sections 102025, 102053, and 102054 of, to add Section 102056 to, and to repeal and add Sections 102052.5 and 102055 of, the Public Utilities Code, relating to public transit.', 'An act to add Section 60605.12 to the Education Code, relating to academic content standards.', 'An act to amend Section 5845 of the Welfare and Institutions Code, relating to mental health.', 'An act to amend Sections 66703, 66704, 66704.05, and 66706 of the Government Code, relating to the San Francisco Bay Restoration Authority.', 'An act to amend Sections\\n75.21,\\n271\\n,\\nand 271.5 of the Revenue and Taxation Code, relating to taxation.', 'An act to amend Section 8265 of the Education Code, relating to child care and development.', 'An act to amend Section 124174.6 of the Health and Safety Code, relating to child health.', 'An act to amend Section 11107.1 of, and to add Section 11107.2 to, the Health and Safety Code, relating to controlled substances.', 'An act to amend Sections 23399.45, 24045.6, and 25607.5 of the Business and Professions Code, relating to alcoholic beverages.', 'An act to add Article 2.7 (commencing with Section 123470) to Chapter 2 of Part 2 of Division 106 of the Health and Safety Code, relating to public health.', 'An act to amend Sections 25500 and 25666 of, and to add Sections 23355.3, 23399.65, and 23402.5 to, the Business and Professions Code, relating to alcoholic beverages.', 'An act to amend Section 4735 of the Civil Code, relating to common interest developments, and declaring the urgency thereof, to take effect immediately.', 'An act to amend Section 4070 of the Business and Professions Code, relating to healing arts.\\nAn act to amend Sections 4040 and 4076 of the Business and Professions Code, relating to pharmacists.', 'An act to amend Section 1374.73 of the Health and Safety Code, and to amend Section 10144.51 of the Insurance Code, relating to health care coverage.', 'An act to add Section 43.100 to the Civil Code, and to amend Section 597.7 of the Penal Code, relating to trespass.', 'An act to amend Section 69999.6 of, and to add and repeal Part 40.1 (commencing with Section 67420) of Division 5 of Title 3 of, the Education Code, relating to postsecondary education.', 'An act to amend\\nSection 23102\\nSection\\n17941\\nof the Revenue and Taxation Code, relating to taxation, to take effect immediately, tax levy.', 'An act to amend Section 8031 of, and to add Section 8024.8 to, the Business and Professions Code, relating to shorthand reporters.', 'An act to amend Sections 1098, 1098.5, and 1102.6e of the Civil Code, relating to real estate transfer fees.', 'An act to add\\nChapter 4 (commencing with Section 350) to Part 1 of Division 1 of Title 1\\nand repeal Section 314\\nof the Education Code, relating to English proficiency.', 'An act to\\namend Section 34 of\\nadd Section 39 to\\nthe Revenue and Taxation Code, relating to taxation.', 'An act to amend Section 8670.40 of the Government Code, and to amend Section 46101 of, to add Section 46008 to, and to repeal Section 46018 of, the Revenue and Taxation Code, relating to oil spills.', 'An act to amend Section 22584 of the Business and Professions Code, relating to privacy.', 'An act to amend Section 234.1 of the Education Code, relating to safe schools.', 'An act to amend Sections 66021.2 and 69432 of the Education Code, relating to student financial aid, and declaring the urgency thereof, to take effect immediately.', 'An act to add and repeal Article 15.3 (commencing with Section 8340) of Chapter 2 of Part 6 of Division 1 of Title 1 of the Education Code, relating to child care and development services.', 'An act to\\namend Section 82015 of\\nadd Section 89002 to\\nthe Government Code, relating to the Political Reform Act of 1974.', 'An act to amend Section 803 of the Penal Code, relating to vehicular manslaughter.', 'An act to amend Section 1505 of, and to add Section 1534.3 to, the Health and Safety Code, relating to recovery houses.', 'An act to add Section 19851.2 to, and to add and repeal Section 19851.3 of, the Government Code, relating to state employees.', 'An act to amend Sections 2105 and 17708.02 of the Corporations Code, and to amend Section 1524.2 of the Penal Code, relating to search warrants.', 'An act to amend Sections 11834.03 and 11834.36 of, and to add Sections 11834.025 and 11834.026 to, the Health and Safety Code, relating to alcohol and drug treatment programs.', 'An act to amend Section 1708.8 of the Civil Code, relating to privacy.', 'An act to amend Sections 405, 409, 410, 5918, 47004, and 47020 of the Food and Agricultural Code, relating to agriculture.', 'An act to amend Sections 27375 and 34500.4 of the Vehicle Code, relating to modified limousines.', 'An act to amend Section 25503.6 of the Business and Professions Code, relating to alcoholic beverages, and declaring the urgency thereof, to take effect immediately.', 'An act to amend Section 5148 of, and to add Section 42 to, the Revenue and Taxation Code, relating to taxation.', 'An act to amend Sections 20588 and 31657 of the Government Code, relating to public employees’ retirement.', 'An act to amend Section 99580 of the Public Utilities Code, relating to transportation.', 'An act to add and repeal Chapter 1 (commencing with Section 15290) of Part 6.6 of Division 3 of Title 2 of the Government Code, relating to housing.\\nAn act to add and repeal Chapter 3.6 (commencing with Section 11366) of Part 1 of Division 3 of Title 2 of the Government Code, relating to state agency regulations, and declaring the urgency thereof, to take effect immediately\\n.', 'An act to amend, repeal, and add Section 9880.1 of the Business and Professions Code, relating to automotive repair.', 'An act to amend Section 3513 of, and to add Section 3522.5 to, the Government Code, relating to the Judicial Council.', 'An act to amend Section 48900 of the Education Code, relating to pupils.', 'An act to\\namend Sections 3104 and 3105 of, and to\\nadd\\nChapter 1.5 (commencing with Section 3050) to Division 3 of\\nSections 3106.2 and 3106.5 to,\\nthe Elections Code, relating to elections.', 'An act to add Chapter 5.9 (commencing with Section 42360) to Part 3 of Division 30 of the Public Resources Code, relating to waste management.', 'An act to amend Section 48800 of, and to add Section 48801.5 to, the Education Code, relating to public schools.', 'An act to\\namend Sections 8482.6, 8483, and 8483.1 of, and to\\nadd Section 39800.1\\nto,\\nto\\nthe Education Code,\\nand to add Article 3.7 (commencing with Section 11340) to Chapter 2 of Part 3 of Division 9 of the Welfare and Institutions Code,\\nrelating to\\nlow-income youth benefits\\npupil services\\n.', 'An act to add Section 25201 to, to repeal Section 25204 of, and to repeal and add Section 25200 of, the Business and Professions Code, relating to alcoholic beverages.', 'An act to amend Sections 16428.3 and 16428.5 of, and to add Section 16428.25 to, the Government Code, and to amend Sections 453.5 and 1759 of the Public Utilities Code, relating to public utilities.', 'An act to amend Sections 1490, 1600, and 1601 of, and to add Section 1510.1 to, the Probate Code, relating to juveniles.', 'An act to amend Section 41821.5 of, to amend, renumber, and add Section 41821.6 of, and to add Sections 41821.7 and 41821.8 to, the Public Resources Code, relating to solid waste.', 'An act to amend\\nSection 17539.1\\nSections 19911 and 19921\\nof the Business and Professions Code, relating to\\nsweepstakes.\\ngaming.', 'An act to amend Section 2655 of, to amend, repeal, and add Section 3303 of, and to add and repeal Section 2655.1 of, the Unemployment Insurance Code, relating to disability compensation, and making an appropriation therefor.', 'An act to add Section 1255.23 to the Health and Safety Code, relating to hospitals, and declaring the urgency thereof, to take effect immediately.', 'An act to amend Sections 17150 and 17150.1 of, and to amend the heading of Chapter 16 (commencing with Section 17150) of Part 10 of Division 1 of Title 1 of, the Education Code, relating to local educational agencies.', 'An act to amend Section 67381 of, and to add Section 67381.1 to, the Education Code, relating to student safety.', 'An act to add Section 149.11 to the Streets and Highways Code, relating to transportation.', 'An act to amend Sections 44984, 45192, 87787, and 88192 of the Education Code, relating to public education employees.', 'An act to add Sections 4436.5 and 4659.2 to the Welfare and Institutions Code, relating to seclusion and restraint.', 'An act to amend Sections 7525.1, 7541, and 7541.1 of, and to add Sections 7519.1, 7519.2, 7519.3, and 7519.4 to, the Business and Professions Code, relating to private investigators.', 'An act to amend Sections 3750 and 3755 of, and to add Section 3754.8 to, the Business and Professions Code, relating to healing arts.', 'An act to add and repeal Article 1 (commencing with Section 18701) of Chapter 3 of Part 10.2 of Division 2 of the Revenue and Taxation Code, and to amend Section 18969 of the Welfare and Institutions Code, relating to taxation.', 'An act to add Sections 638.50, 638.51, 638.52, and 638.53 to the Penal Code, relating to privacy.', 'An act to\\namend Section 1808 of\\nadd Section 23582.5 to\\nthe Vehicle Code, relating to vehicles.', 'An act to amend Sections 10722.4 and 10730 of the Water Code, relating to groundwater.', 'An act to amend Section 2851 of the Public Utilities Code, relating to energy.', 'An act to amend Section\\n44268.2\\n44272\\nof the Health and Safety Code, relating to electric vehicles.', 'An act to amend Section 11370.1 of the Health and Safety Code, and to amend Section 12022 of the Penal Code, relating to controlled substances.', 'An act to amend Sections 18120, 29830, and 33880 of the Penal Code, relating to firearms.', 'An act to amend Section 36512 of the Government Code, relating to local government.', 'An act to add Section 12525.5 to the Government Code, and to amend Sections 13012 and 13519.4 of the Penal Code, relating to racial profiling.', 'An act to add Chapter 6.6 (commencing with Section 13486) to Division 7 of the Water Code, relating to water, and declaring the urgency thereof, to take effect immediately.', 'An act to add Section 8310.8 to the Government Code, relating to data collection.', 'An act to amend Sections 7613 and 7613.5 of the Family Code, relating to parentage.', 'An act to amend Sections 667.61 and 667.9 of the Penal Code, relating to sex offenses.', 'An act to amend Sections 558, 1197, 1197.1, and 2802 of the Labor Code, relating to employment.', 'An act to amend Section 13480 of the Water Code, relating to the State Water Pollution Control Revolving Fund.', 'An act to amend Section 12300 of the Welfare and Institutions Code, relating to public social services.', 'An act to amend Section 8263 of the Education Code, relating to child care.', 'An act to add Chapter 2.97 (commencing with Section 1001.100) to Title 6 of Part 2 of the Penal Code, relating to veterans courts.', 'An act to amend Section 71093 of the Education Code, relating to postsecondary education.', 'An act to amend Section 12940 of the Government Code, relating to employment.', 'An act to amend Section 5095.4 of, and to add Chapter 14 (commencing with Section 5880) to Division 5 of, the Public Resources Code, relating to parks, and making an appropriation therefor.', 'An act to amend Section 786 of the Welfare and Institutions Code, relating to juveniles.', 'An act to amend Sections 84506.5, 84507, and 84511 of the Government Code, relating to the Political Reform Act of 1974, and declaring the urgency thereof, to take effect immediately.', 'An act to amend Sections 34501.12, 34622, and 36305 of, and to add and repeal Section 36103 of, the Vehicle Code, relating to farm vehicles.', 'An act to amend\\nSection 6604.9 of\\nSections 6601 an 6604.9 of, and to add Section 6610 to,\\nthe Welfare and Institutions Code, relating to mental health.', 'An act to amend Sections 14549.2 and 14581 of the Public Resources Code, relating to beverage containers, and making an appropriation therefor.', 'An act to add Sections 51228.1, 51228.2, and 51228.3 to the Education Code, relating to pupil instruction.', 'An act to amend Sections 25402.1 and 25942 of the Public Resources Code, relating to energy.', 'An act to add Article 10 (commencing with Section 33430) to Chapter 3 of Part 20 of Division 2 of Title 2 of, and to repeal Section 33434 of, the Education Code, relating to education finance.', 'An act to add Article 8 (commencing with Section 999.75) to Chapter 6 of Division 4 of the Military and Veterans Code, relating to veterans.', 'An act to amend Sections 60501 and 60505.5 of the Revenue and Taxation Code, relating to taxation.', 'An act to amend Section 11346.3 of the Government Code, relating to state agency regulations.', 'An act to amend Section\\n24045.2\\n23356.2\\nof the Business and Professions Code, relating to alcoholic beverages.', 'An act to add and repeal Sections 42649.87 and 43032 to the Public Resources Code, relating to solid waste.', 'An act to amend Sections 7612, 7960, and 7961 of, and to amend the heading of Part 7 (commencing with Section 7960) of Division 12 of, the Family Code, relating to children.', 'An act to amend Section\\n800 of the Military and Veterans Code,\\n102875 of, and to add Section 102791 to, the Health and Safety Code,\\nrelating to\\nmilitary service.\\ncertificates of death.', 'An act to add Section 47604.1 to the Education Code, relating to charter schools.', 'An act to add and repeal Chapter 2 (commencing with Section 101990) to Part 6 of Division 101 of the Health and Safety Code, relating to cancer.', 'An act to amend Section 554 of, and to add Chapter 6 (commencing with Section 857) to Part 2 of Division 2 of, the Labor Code, relating to employment.', 'An act to add Section 21168.10 to the Public Resources Code, relating to the environment.', 'An act to amend Section 150204 of the Health and Safety Code, relating to pharmaceuticals.', 'An act to add and repeal Sections 11401.5 and 11401.6 of the Insurance Code, relating to insurance.', 'An act to amend Sections 4076 and 4199 of, and to add Section 4076.6 to, the Business and Professions Code, relating to pharmacy.', 'An act to amend Sections 25186 and 25186.2 of, and to add Sections 25186.05 and 25189.4 to, the Health and Safety Code, relating to hazardous waste.', 'An act to amend Section 14305 of the Corporations Code, relating to mutual water companies.', 'An act to amend Section 34171 of the Health and Safety Code, relating to redevelopment.', 'An act to amend Section 69432.9 of, and to add Section 69432.92 to, the Education Code, relating to student financial aid.', 'An act to amend Sections 1234.2, 1234.3, and 1234.4 of the Penal Code, relating to public safety, and declaring the urgency thereof, to take effect immediately.', 'An act to add Section 25327 to the Public Resources Code, relating to energy.', 'An act to\\namend Sections 52061 and 52067 of, and\\nadd Section 44664.5\\nto,\\nto\\nthe Education Code, relating to school accountability.', 'An act to amend Section 41821.5 of the Public Resources Code, relating to solid waste.', 'An act to amend Section 66499.7 of the Government Code, relating to subdivided lands.\\nAn act to amend Sections 17204 and 17206 of the Business and Professions Code, relating to unfair competition.', 'An act to amend Sections 17550.15 and 17550.44 of the Business and Professions Code, relating to sellers of travel.', 'An act to amend Sections 398.1, 398.2, 398.4, and 398.5 of the Public Utilities Code, relating to energy.', 'An act\\nto amend Sections 41976, 84757, and 84830 of the Education Code,\\nrelating to adult education.', 'An act to add Article 6.3 (commencing with Section 14197) to Chapter 7 of Part 3 of Division 9 of the Welfare and Institutions Code, relating to vaccinations.', 'An act to amend Sections 4600.1, 4600.2, and 5307.27 of, and to add Sections 5307.28 and 5307.29 to, the Labor Code, relating to workers’ compensation.', 'An act to amend\\nSection\\nSections 4535.2 and\\n14838 of the Government Code,\\nand to amend Section 42893 of the Public Resources Code,\\nrelating to public contracts.', 'An act to amend Section 4372 of, and to add and repeal Chapter 4 (commencing with Section 4391) of Part 4 of Division 4 of, the Welfare and Institutions Code, relating to mental health.', 'An act to amend Sections 30515 and 30900 of, and to add Section 30680 to, the Penal Code, relating to firearms.', 'An act to amend Section 399.16 of the Public Utilities Code, relating to energy.', 'An act to amend, repeal, and add Section 115800 of the Health and Safety Code, relating to recreational safety.', 'An act to amend Sections 40204 and 40215 of the Vehicle Code, relating to parking violations.', 'An act to amend Section\\n895\\n896\\nof the Civil Code, relating to construction defects.', 'An act to amend Section 21455.5 of the Vehicle Code, relating to vehicles.', 'An act to amend Section 41202 of, and to add and repeal Article 7.5 (commencing with Section 8239.5) of Chapter 2 of Part 6 of Division 1 of Title 1 of, the Education Code, and to add and repeal Sections 17053.87 and 23687 of the Revenue and Taxation Code, relating to preschool funding.', 'An act to amend Section 51225.1 of the Education Code, relating to pupils.', 'An act to amend, repeal, and add Section 832.3 of the Penal Code, relating to peace officers.', 'An act to add Chapter 6.7 (commencing with Section 6970) to Part 1 of Division 2 of the Public Contract Code, relating to public contracts.', 'An act to add and repeal Article 3.9 (commencing with Section 8574.50) of Chapter 7 of Division 1 of Title 2 of the Government Code, relating to cyber security.', 'An act to amend Sections 9873 and 19170 of the Business and Professions Code, relating to consumer affairs.', 'An act to amend Sections 490.2, 496, and 29805 of the Penal Code, relating to theft, and calling an election, to take effect immediately.', 'An act to add and repeal Article 3.3 (commencing with Section 20119) of Chapter 1 of Part 3 of Division 2 of the Public Contract Code, relating to best value procurement.', 'An act to amend Section 17701.02 of the Corporations Code, relating to limited liability companies.', 'An act to add Section 38568 to the Health and Safety Code, relating to greenhouse gases.\\nAn act to add Chapter 22.4 (commencing with Section 22595) to Division 8 of the Business and Professions Code, relating to data.', 'An act to amend Section 5150 of the Welfare and Institutions Code, relating to mental health.', 'An act to amend Sections 8869.80, 8869.81, 8869.82, 8869.85, 8869.86, and 8869.93 of the Government Code, relating to bonds.', 'An act to amend Sections 14999, 14999.1, 14999.2, 14999.3, 14999.4, 14999.5, 14999.6, 14999.7, 14999.8, 14999.9, and 14999.10 of the Government Code, relating to economic development.', 'An act to add the headings of Article 1 (commencing with Section 17170) and Article 2 (commencing with Section 17172) to, and to add Article 3 (commencing with Section 17200) to, Chapter 18 of Part 10 of Division 1 of Title 1 of the Education Code, relating to school facilities, and making an appropriation therefor.', 'An act to amend, add, and repeal Sections 82002 and 82039 of, and to add Section 86207 to, the Government Code, relating to the Political Reform Act of 1974, and declaring the urgency thereof, to take effect immediately.', 'An act to add Chapter 10.5 (commencing with Section 5845) to Division 5 of the Public Resources Code, relating to rivers.\\nAn act to amend Section 25205 of, and to add Section 25200.1.3 to, the Health and Safety Code, relating to hazardous waste facilities.', 'An act to amend Section 1250 of the Health and Safety Code, relating to health facilities, and declaring the urgency thereof, to take effect immediately.', 'An act to add Chapter 2.7 (commencing with Section 15180) to Part 6 of Division 3 of Title 2 of the Government Code, relating to law enforcement.', 'An act to amend Section 1203 of the Penal Code, relating to probation.', 'An act\\nto add Chapter 5.8 (commencing with Section 11549.30) to Part 1 of Division 3 of Title 2 of the Government Code,\\nrelating to open government.', 'An act to amend Section 22513 of, and to add Section 22513.1 to, the Vehicle Code, relating to vehicles.', 'An act to amend Section 52060 of the Education Code, relating to school accountability.', 'An act\\nto amend Sections 13515.30 and 13519.2 of the Penal Code,\\nrelating to peace officer training.', 'An act to amend Sections 66019.3, 76010, 90001.5, and 92660 of the Education Code, relating to public postsecondary education.', 'An act to add Section 44559.13 to the Health and Safety Code, relating to small business, and making an appropriation therefor.', 'An act\\nto amend Section 8547.2 of, and\\nto add Section 8547.16\\nto\\nto,\\nthe Government Code, relating to improper governmental activities.', 'An act to add Section 65850.7 to the Government Code, relating to local ordinances.', 'An act to amend Sections 1027 and 1369 of the Penal Code, and to add Section 7233 to the Welfare and Institutions Code, relating to state hospitals.', 'An act to amend Section 49550 of the Education Code, relating to pupil nutrition.', 'An act to\\namend Section 39719 of the Health and Safety Code, and to\\nadd Section 13145.5\\nto\\nto, and to add Chapter 4.5 (commencing with Section 430) to Division 1 of,\\nthe Water Code, relating to\\nwater quality.\\nwater, and making an appropriation therefor.', 'An act to\\namend Section 832.7 of the Penal Code, relating to peace officers.\\nadd Section 6254.32 to the Government Code, relating to public records.', 'An act to amend Section 35554 of the Vehicle Code, relating to vehicles.', 'An act to add Article 7 (commencing with Section 14590.10) to Chapter 8.7 of Part 3 of Division 9 of the Welfare and Institutions Code, relating to adult day health care.', 'An act to amend Section 281 of the Public Utilities Code, relating to telecommunications, and declaring the urgency thereof, to take effect immediately.', 'An act to add Section 9956 to the Vehicle Code, relating to vehicles.', 'An act to amend Section 21159.21 of the Public Resources Code, relating to the California Environmental Quality Act.', 'An act to add Section 1347.1 to the Penal Code, relating to criminal procedure.', 'An act to add Chapter 10.7 (commencing with Section 4650) to Division 2 of the Business and Professions Code, relating to music therapy.', 'An act to add and repeal Chapter 5.9 (commencing with Section 8490) of Division 1 of Title 2 of the Government Code, relating to state government.', 'An act to amend Sections 31468, 31557.3, and 31580.2 of, and to add Section 31522.10 to, the Government Code, relating to retirement.', 'An act to amend Section 19130 of the Government Code, relating to civil service.', 'An act to amend Section\\n927\\n927.2\\nof the Government Code, relating to state government.', 'An act to amend Sections 23363.1, 23771, and 23772 of, and to add Article 6 (commencing with Section 23500) to Chapter 3 of Division 9 of, the Business and Professions Code, relating to alcoholic beverages.', 'An act to amend Sections 9114, 9115,\\n9211,\\nand 9308 of, and to repeal Section 9309 of, the Elections Code, relating to elections.', 'An act to amend Section 14714 of, and to add Section 14717.1 to, the Welfare and Institutions Code, relating to Medi-Cal.', 'An act to add Chapter 5 (commencing with Section 400) to Division 0.5 of the Elections Code, relating to elections.', 'An act to amend Section 65961 of, and to add Section 66452.25 to, the Government Code, relating to land use, and declaring the urgency thereof, to take effect immediately.', 'An act to amend Sections 786 and 1524.3 of the Penal Code, relating to disorderly conduct.', 'An act to amend Section 201.3 of the Labor Code, relating to employment, and declaring the urgency thereof, to take effect immediately.', 'An act to amend Section 2699.3 of the Labor Code, relating to employment, and making an appropriation therefor.', 'An act to amend Section 14005.7 of the Welfare and Institutions Code, relating to Medi-Cal.', 'An act to add Section 25503.36 to the Business and Professions Code, relating to alcoholic beverages, and declaring the urgency thereof, to take effect immediately.', 'An act to add Chapter 13 (commencing with Section 49010) to Division 17 of the Food and Agricultural Code, relating to food and agriculture.', 'An act to amend\\nSection 38501\\nSections 38501 and 38505\\nof the Health and Safety Code, relating to greenhouse gases.', 'An act to add Chapter 7.1 (commencing with Section 1710) to Division 2 of the Fish and Game Code, relating to the Delta smelt, and making an appropriation therefor.', 'An act to amend Section 739.1 of the Public Utilities Code, relating to energy.', 'An act to\\namend Section 399.20\\nadd Chapter 6 (commencing with Section 8390) to Division 4.1\\nof the Public Utilities Code, relating to energy.', 'An act to amend Section 1158 of the Evidence Code, relating to evidence.', 'An act to\\nadd and repeal Section 37420.5 of the Government Code, and to add and repeal Section 10051.5 of the Public Utilities Code, relating to water utilities, and declaring the urgency thereof, to take effect immediately.\\namend Section 35400 of the Vehicle Code, relating to vehicles.', 'An act to amend Section 1938 of the Civil Code, and to amend Sections 4459.8 and 8299.06 of the Government Code, relating to disability access.', 'An act to add Sections 1016.2 and 1016.3 to the Penal Code, relating to criminal procedure.', 'An act to amend Section 53094 of, and to repeal and add Section 53097.3 of, the Government Code, relating to zoning ordinances.', 'An act to amend Section 39719 of, and to add Section 38552 to, the Health and Safety Code, and to add Chapter 7.5 (commencing with Section 4495) to Part 2 of Division 4 of the Public Resources Code, relating to wildfires, and making an appropriation therefor.', 'An act to add and repeal Section 9204 of the Public Contract Code, relating to public contracts.', 'An act to amend Sections 1000, 1000.1, 1000.2, 1000.3, 1000.4, 1000.5, and 1000.6 of, and to add Section 1000.7 to, the Penal Code, relating to deferred entry of judgment.', 'An act to amend Section 12990 of the Government Code, relating to discrimination.', 'An act to amend Section 69436 of the Education Code, relating to student financial aid.', 'An act to add Section 68130.6\\nto\\nto, and to add Chapter 3.67 (commencing with Section 44778) to Part 25 of Division 3 of Title 2 of,\\nthe Education Code, relating to public postsecondary education.', 'An act to amend Section 17072 of, and to add and repeal Section 17052.5 of, the Revenue and Taxation Code, relating to taxation, to take effect immediately, tax levy.', 'An act to add Section 5272.2 to the Business and Professions Code, relating to outdoor advertising.', 'An act to amend Sections 2903, 2913, and 2914 of the Business and Professions Code, and to amend Section 1010 of the Evidence Code, relating to psychologists.', 'An act to amend Sections 1205 and 2900.5 of the Penal Code, relating to nonpayment of fines.', 'An act to amend Sections 10003, 10005, 10010, 10013, 10014, and 10015 of the Corporations Code, relating to corporations.', 'An act to amend Section 368 of the Penal Code, relating to crimes.', 'An act to amend Section 12940 of, and to add Article 3 (commencing with Section 12958) to Chapter 6 of Part 2.8 of Division 3 of Title 2 of, the Government Code, relating to employment.', 'An act to amend Sections 51210 and 51223 of the Education Code, relating to pupil instruction, and declaring the urgency thereof, to take effect immediately.', 'An act to amend Sections 44520, 44525, 44526, 44559.3, 44559.6, and 44559.11 of, and to repeal and add Section 44525.7 of, the Health and Safety Code, relating to the California Pollution Control Financing Authority.', 'An act to amend Section 186.9 of the Penal Code, relating to money laundering.', 'An act to add Sections 30130.53 and 30130.55 to the Revenue and Taxation Code, relating to public health finance,\\nand\\nmaking an appropriation\\ntherefor.\\ntherefor, and declaring the urgency thereof, to take effect immediately.', 'An act to add and repeal Article 2 (commencing with Section 18711) of Chapter 3 of Part 10.2 of Division 2 of the Revenue and Taxation Code, relating to taxation.', 'An act to add\\nSection 4629.8 to the Welfare and Institutions Code,\\nSections 25200.24 and 25200.25 to the Health and Safety Code,\\nrelating to\\ndevelopmental services.\\nhazardous waste facilities.', 'An act to add Section 1824 to the Insurance Code, relating to insurance.', 'An act to add Section 6347 to the Family Code, relating to family law.', 'An act to amend Section 16642 of, and to add Section 7513.75 to, the Government Code, relating to investments.', 'An act to amend Section 34191.4 of the Health and Safety Code, relating to redevelopment.', 'An act to add Section 25143.2.5 to the Health and Safety Code, relating to hazardous waste.', 'An act to add Section 101042 to the Health and Safety Code, and to add Sections 3270.5 and 3270.6 to the Public Resources Code, relating to oil and gas.', 'An act to add Section 2604 to the Penal Code, relating to medical treatment of prisoners.', 'An act to amend Section 8880.5 of the Government Code, relating to education allocations: local lottery education accounts.', 'An act to amend Section 1190 of, and to add and repeal Section 1190.4 of, the Harbors and Navigation Code, relating to bar pilots.', 'An act to add Section 12300.3 to the Welfare and Institutions Code, relating to public social services.', 'An act to amend\\nSections 6300, 6302, and 6304 of, and to repeal Sections 6301, 6303, and 6305 of, the Government Code, relating to state government.\\nSection 13332.19 of the Government Code, and to amend Sections 10187.5 and 10190 of the Public Contract Code, relating to public contracts.', 'An act to\\namend Section 14549 of, and to add Section 14548 to,\\nadd Chapter 5.9 (commencing with Section 42360) to Part 3 of Division 30 of\\nthe Public Resources Code, relating to solid waste.', 'An act to amend Section 69436 of the Education Code, relating to student financial aid.', 'An act to amend Sections 2100 and 2102 of, and to add Chapter 4.5 (commencing with Section 2260) to Division 2 of the Elections Code, relating to elections.', 'An act to add Article 20.2 (commencing with Section 69996) to Chapter 2 of Part 42 of Division 5 of Title 3 of the Education Code, and to add Section 17131.12 to the Revenue and Taxation Code, relating to student financial\\naid.\\naid, and declaring the urgency thereof, to take effect immediately.', 'An act to amend, repeal, and add Section 12801.5 of the Vehicle Code, relating to vehicles.', 'An act to amend Section 67386 of the Education Code, relating to student safety.', 'An act to amend Section 55.52 of, and to add Section 54.26 to, the Civil Code, relating to civil rights.', 'An act to add\\nSection 510.5 to the Labor Code, relating to\\nemployment\\nChapter 10 (commencing with Section 31420) to Division 21 of, and to repeal Sections 31422 and 31423 of, the Public Resources Code, relating to coastal wildlife protection\\n.', 'An act to add Part 53 (commencing with Section 88700) to Division 7 of Title 3 of the Education Code, relating to financing community college career technical education facilities and equipment, by providing the funds necessary therefor through an election for the issuance and sale of bonds of the State of California and for the handling and disposition of those funds.', 'An act to amend Section 75125 of, and to add Part 3.7 (commencing with Section 71150) to Division 34 of, the Public Resources Code, relating to climate change.', 'An act to add Sections 35035.5 and 35037 to the Education Code, relating to teachers.\\nAn act to add Section 8209.5 to the Education Code, relating to early childhood education.', 'An act to\\namend Section 7470 of the Government Code, relating to governmental investigations.\\nadd Chapter 5.9 (commencing with Section 13849) to Title 6 of Part 4 of the Penal Code, relating to crime.', 'An act to amend\\nSections 44662, 44663, and 44664 of\\nSection 33039 of, and to add Article 14 (commencing with Section 44672) to Chapter 3 of Part 25 of Division 3 of Title 2 of,\\nthe Education Code, relating to teachers.', 'An act to amend Section 4001 of the Elections Code, relating to elections.', 'An act to amend Sections 2699, 2699.3, and 2699.5 of the Labor Code, relating to employment, and declaring the urgency thereof, to take effect immediately.', 'An act to amend Section 14211 of the Unemployment Insurance Code, relating to workforce\\ndevelopment.\\ndevelopment, and declaring the urgency thereof, to take effect immediately.', 'An act to amend Sections 98.6, 1102.5, 2810.3, and 6310 of the Labor Code, relating to employment.', 'An act to amend Section 396 of the Insurance Code, relating to insurance.', 'An act to amend Sections 1269, 1271, 1272, 2614, 4902, and 4903 of the Unemployment Insurance Code, relating to unemployment insurance, and making an appropriation therefor.', 'An act to amend Section 6213 of the Business and Professions Code, relating to attorneys.', 'An act to add Section 424.6 to the Government Code, and to amend Sections 5003.6, 5008, 5008.5, 5071.7, 6232, 6311, 30411, and 30419 of, and to repeal Section 5044 of, the Public Resources Code, relating to public resources.', 'An act to repeal and add Section 12098.7 of, and to amend Section 63010 of, the Government Code, relating to state government.', 'An act to amend and renumber Section 674 of, and to add Article 8.5 (commencing with Section 674) to Chapter 3 of Part 2 of Division 1 of, the Revenue and Taxation Code, relating to taxation.', 'An act to amend Sections 103, 3106, 4108, 9602, 10404, 10505, and 11303 of the Elections Code, relating to elections.', 'An act to amend Sections 102230 and 103526.5 of, and to add Section 103526.6 to, the Health and Safety Code, relating to vital records, and declaring the urgency thereof, to take effect immediately.', 'An act to add Part 13.5 (commencing with Section 31001) to Division 2 of the Revenue and Taxation Code, relating to medical marijuana, and making an appropriation therefor.', 'An act to amend Sections 16649.80, 16649.81, 16649.82, 16649.83, 16649.84, 16649.86, 16649.88, and 16649.89 of, and to add Section 16649.85 to, the Government Code, relating to state funds.', 'An act to amend Sections 4875 and 4877 of the Welfare and Institutions Code, relating to taxation, and declaring the urgency thereof, to take effect immediately.', 'An act to amend Section 38134 of the Education Code, relating to school facilities.', 'An act to amend Sections 6459, 7656, 8754, 30185, 32253, 38405, 40065, 41054, 43154, 45152, 46153, 50111, 55041, and 60208 of the Revenue and Taxation Code, relating to tax administration, and declaring the urgency thereof, to take effect immediately.', 'An act to amend Section 1739.7 of, and to amend the heading of Title 1.1A (commencing with Section 1739.7) of Part 4 of Division 3 of, and to amend Section 1739.7 of, the Civil Code, relating to collectibles.', 'An act to amend Section 11837 of the Health and Safety Code, and to amend Section 23538 of the Vehicle Code, relating to vehicles.', 'An act to amend Section 39800 of, and to add Sections 39800.1 and 39800.2 to, the Education Code, relating to school transportation.', 'An act to amend Section 18995 of, and to amend the heading of Chapter 14.5 (commencing with Section 18995) of Part 6 of Division 9 of, the Welfare and Institutions Code, relating to food banks.', 'An act to add Sections 1785.11.9, 1785.11.10, and 1785.11.11 to the Civil Code, relating to consumer credit reports.', 'An act to amend Section 12201 of the Welfare and Institutions Code, relating to public social services, and making an appropriation therefor.', 'An act to add and repeal Section 38755 of the Vehicle Code, relating to autonomous vehicles.', 'An act to repeal and add Section 7597.1 of the Government Code, relating to public postsecondary education.', 'An act to amend Sections 14169.53 and 14169.75 of the Welfare and Institutions Code, relating to Medi-Cal, making an appropriation therefor, and declaring the urgency thereof, to take effect immediately, bill related to the budget.', 'An act to amend the Budget Act of 2016 (Chapter 23 of the Statutes of 2016) by amending Item 3340-001-0318 of, and adding Items 0521-101-3228, 0540-101-3228, 0650-002-3228, 0650-101-3228, 0650-490, 2240-491, 2660-108-3228, 3540-001-3228, 3900-101-3228, 3970-101-3228, 4700-101-3228, 8570-101-3228 to, Section 2.00 of, and amending Section 39.00 of, that act, relating to the state budget, and making an appropriation therefor, to take effect immediately, budget bill.', 'An act to amend the Budget Act of 2016 by amending Items 2240-101-6082, 2240-105-0001, and 4260-001-3085 of Section 2.00 of, and Section 39.00 of, that act, relating to the state budget, and making an appropriation therefor, to take effect immediately, budget bill.', 'An act to amend Sections\\n905.2 and 8590.6 of\\n905.2, 8590.6, and 15820.946 of, and to add Section 15820.947 to,\\nthe Government Code, relating to state government, and making an appropriation therefor, to take effect immediately, bill related to the budget.', 'An act to add Section 15463 to the Government Code, and to amend Sections 5849.1, 5849.2, 5849.3, 5849.4, 5849.5, 5849.7, 5849.8, 5849.9, 5849.11, 5849.14, 5890, and 5891 of, to add Section 5849.35 to, and to repeal and add Section 5849.13 of, the Welfare and Institutions Code, relating to mental health services, and making an appropriation therefor, to take effect immediately, bill related to the budget.', 'An act to add Article 13.5 (commencing with Section 33479) to Chapter 3 of Part 20 of Division 2 of Title 2 of the Education Code, relating to pupil safety.', 'An act to amend Section 7522.02 of the Government Code, relating to retirement.', 'An act to amend Section 47607 of the Education Code, relating to charter schools.', 'An act to amend Section 14005.12 of the Welfare and Institutions Code, relating to Medi-Cal.', 'An act to amend Section 22358.4 of the Vehicle Code, relating to vehicles.', 'An act to add Part 6.5 (commencing with Section 24455) to Division 9 of the Public Utilities Code, relating to aviation.', 'An act to amend Sections 30515 and 30900 of, and to add Section 30680 to, the Penal Code, relating to firearms.', 'An act to add Article 4.5 (commencing with Section 111548) to Chapter 6 of Part 5 of Division 104 of the Health and Safety Code, relating to drugs and devices.', 'An act to amend Sections 1070, 1071, and 1072 of, to amend the heading of Chapter 4.6 (commencing with Section 1070) of Part 3 of Division 2 of, and to add Sections 1075 and 1076 to, the Labor Code, relating to employment.', 'An act to amend Sections 632, 633.5, and 637.2 of, and to add Section 632.01 to, the Penal Code, relating to confidential communications.', 'An act to amend Section 16520 of the Penal Code, relating to firearms.', 'An act to amend Sections 26835, 27535, 27540, and 27590 of the Penal Code, relating to firearms.', 'An act to amend Section 1197.5 of the Labor Code, relating to employers.', 'An act to amend Section 6228 of the Family Code, relating to domestic violence.', 'An act to amend\\nSection\\nSections 26004 and\\n26011.8 of the Public Resources Code, relating to alternative\\nenergy, to take effect immediately, tax levy.\\nenergy.', 'An act to amend Section 12930 of the Government Code, relating to civil actions.', 'An act to amend Sections 43016, 43151, 43154, 43211, and 43212 of, and to add Section 43214 to, the Health and Safety Code, relating to vehicular air pollution.', 'An act to amend Section 361.2 of the Welfare and Institutions Code, relating to juveniles.', 'An act to amend Section 51225.3 of, and to add Section 51221.1 to, the Education Code, relating to school curriculum.', 'An act to add Section 87482.3 to the Education Code, relating to community colleges.', 'An act to amend Sections 148.5 and 29805 of the Penal Code, relating to firearms.', 'An act to amend Section 44272 of the Health and Safety Code, relating to vehicular air pollution.', 'An act to amend Sections 13700, 13700.5, 13701, and 13703 of the Welfare and Institutions Code, relating to homeless youth, and making an appropriation therefor.', 'An act to amend Section 4030 of the Penal Code, relating to jails.', 'An act to amend Section 3003 of the Government Code, and to amend Section 532b of the Penal Code, relating to military fraud.', 'An act to add\\nChapter 8.8 (commencing with Section 44269) to Part 5 of Division 26 of the Health and Safety Code,\\nSection 44258.6 to the Health and Safety Code, and to amend Section 17072 of, to add Section 6012.4 to, and to add and repeal Sections 17060.3 and 17206.3 of, the Revenue and Taxation Code,\\nrelating to vehicular air pollution.', 'An act to\\namend Section 1685 of\\nadd Section 1686 to\\nthe Vehicle Code, relating to the Department of Motor Vehicles.', 'An act to add Chapter 10.5 (commencing with Section 5845) to Division 5 of the Public Resources Code, relating to the Lower American River, and making an appropriation therefor.', 'An act to amend Section 368 of the Penal Code, relating to elder abuse.', 'An act to amend\\nSections 69437 and 69439\\nSection 69437\\nof the Education Code, relating to student financial aid.', 'An act to amend Sections 1785.16.2 and 1788.18 of the Civil Code, relating to debt collection.', 'An act to add Chapter 4.8 (commencing with Section 1080) to Part 3 of Division 2 of the Labor Code, relating to employment.', 'An act to\\namend Section 8169 of\\nadd Section 8924.7 to, and to add Chapter 1.5 (commencing with Section 8050) to Division 1 of Title 2 of,\\nthe Government Code, relating to state\\nproperty.\\ngovernment.', 'An act to add and repeal Part 54.7 (commencing with Section 88900) of Division 7 of Title 3 of the Education Code, relating to community colleges.', 'An act to add Chapter 6.8 (commencing with Section 30066) to Division 3 of Title 3 of the Government Code, relating to public safety, and making an appropriation therefor.', 'An act to add Section 66025.93 to the Education Code, and to amend Sections 18904.3 and 18995 of the Welfare and Institutions Code, relating to food assistance.', 'An act to add Section 4119.8 to the Business and Professions Code, and to add Section 49414.3 to the Education Code, relating to pupils.', 'An act to add\\nand repeal Section 21080.06 of\\nSection 21168.11 to\\nthe Public Resources Code, relating to environmental quality, and declaring the urgency thereof, to take effect immediately.', 'An act to amend Section 2079.13 of the Civil Code, relating to real property transactions.', 'An act to amend Sections 21628 and 21642.5 of, to add Section 21627.5 to, to repeal Sections 21628.1 and 21633 of, and to repeal and add Section 21630 of, the Business and Professions Code, relating to secondhand goods, and declaring the urgency thereof, to take effect immediately.', 'An act to add and repeal Article 7 (commencing with Section 13967) to Chapter 5 of Part 4 of Division 3 of Title 2 of the Government Code, relating to crime victims.', 'An act to add Section 39668.5 to, and to add Article 11.3 (commencing with Section 25240) to Chapter 6.5 of Division 20 of, the Health and Safety Code, relating to hydrogen fluoride, and declaring the urgency thereof, to take effect immediately.', 'An act to amend Section 127660 of the Health and Safety Code, relating to health care coverage.', 'An act to amend Section 222.5 of, and to amend, repeal, and add Section 223 of, the Code of Civil Procedure, relating to jurors.', 'An act to amend Section 18930 of the Welfare and Institutions Code, relating to public social services.', 'An act to\\namend Section 653.23 of the Penal Code, and to amend Section 602 of the Welfare and Institutions Code, relating to prostitution.\\nadd Article 7.5 (commencing with Section 48317) to Chapter 2 of Part 27 of Division 4 of Title 2 of the Education Code, relating to school attendance.', 'An act to amend Section 2830 of the Public Utilities Code, relating to renewable energy.', 'An act to amend Sections 18601, 18633, 18633.5, and 23281 of the Revenue and Taxation Code, relating to taxation.', 'An act to amend Section 67386 of the Education Code, relating to student safety.', 'An act to amend, repeal, and add Sections 31013 and 31117 of, and to add and repeal Sections 31020 and 31115.5 of, the Corporations Code, relating to franchises.', 'An act to add Chapter 8 (commencing with Section 17660) to Part 10.5 of Division 1 of Title 1 of the Education Code, relating to school facilities.', 'An act to amend Section 19619 of the Business and Professions Code, relating to horse racing.', 'An act to add Article 11 (commencing with Section 9149.30) to Chapter 1.5 of Part 1 of Division 2 of Title 2 of the Government Code, relating to the Legislature.', 'An act to amend Sections 18897 and 18898 of the Revenue and Taxation Code, relating to taxation.', 'An act to add Chapter 1.6 (commencing with Section 71265) to Part 3 of Division 20 of the Water Code, relating to municipal water districts.', 'An act to amend Sections 104150 and 104161.1 of the Health and Safety Code, relating to health care programs.', 'An act to amend Sections 5100, 5105, and 5145 of the Civil Code, relating to common interest developments.', 'An act to amend Section 10083.2 of the Business and Professions Code, relating to real estate licensees, and making an appropriation therefor.', 'An act to amend Section 124260 of the Health and Safety Code, relating to minors.', 'An act to amend Sections 14557, 14601, 14603, and 14681 of, and to add Section 14604 to, the Food and Agricultural Code, relating to fertilizer.', 'An act to amend Sections 667.61 and 667.9 of the Penal Code, relating to sex offenses.', 'An act to add Part 7 (commencing with Section 101990) to Division 101 of the Health and Safety Code, relating to clinical trials.', 'An act to amend Section 655.1 of the Harbors and Navigation Code, relating to vessels.', 'An act to amend Section 399.13 of the Public Utilities Code, relating to energy.', 'An act relating to postsecondary education.\\nAn act to add and repeal Article 2.6 (commencing with Section 66010.96) of Chapter 2 of Part 40 of Division 5 of Title 3 of the Education Code, relating to postsecondary education.', 'An act to amend Section 11465 of the Welfare and Institutions Code, relating to foster children.', 'An act to add Article 6.4 (commencing with Section 8592.30) to Chapter 7 of Division 1 of Title 2 of the Government Code, relating to state government.', 'An act to amend Section 5650.1 of the Fish and Game Code, and to amend Section 8670.61 of the Government Code, relating to water pollution.', 'An act to amend Section 432.7 of the Labor Code, relating to employment.', 'An act to amend Section 5515 of, and to add Section 2081.4 to, the Fish and Game Code, relating to fish.', 'An act to amend Sections 19851, 19852, 19853, and 19854 of the Revenue and Taxation Code, relating to tax administration.', 'An act to add Section 680.1 to the Penal Code, relating to DNA evidence.', 'An act to amend Sections 13000, 32400, 32401, 52613, 52651, 68062, 68130.5, and 69505 of the Education Code, relating to educational services.', 'An act to add Sections 6902.6, 9152.3, 30362.2, 32402.3, 40112.3, 41101.3, 43452.3, 45652.3, 46502.3, 50140.3, 55222.3, and 60522.3 to the Revenue and Taxation Code, relating to taxation.', 'An act to amend Sections 7500.1, 7504, 7507.3, and 7507.13 of the Business and Professions Code, relating to collateral recovery.', 'An act to amend Section\\n566 of the Penal Code, relating to branded containers.\\n1464 of, and to add Title 14 (commencing with Section 14400) to Part 4 of, the Penal Code, relating to peace officers, and making an appropriation therefor.', 'An act to amend Section 27491.41 of, and to add Section 27491.42 to, the Government Code, relating to inquests.', 'An act to amend Section 6027 of the Penal Code, relating to corrections.', 'An act\\nto amend Section 830.1 of the Penal Code,\\nrelating to public safety, and making an appropriation therefor.', 'An act to amend Section 35147 of the Education Code, relating to local educational agencies.\\nAn act relating to state real property.', 'An act to amend Section 11545 of the Government Code, relating to state government.', 'An act to add and repeal Article 7 (commencing with Section 18974) of Chapter 11 of Part 6 of Division 9 of the Welfare and Institutions Code, relating to child sexual abuse, and making an appropriation therefor.', 'An act to amend Section\\n12340.1\\n12389\\nof the Insurance Code, relating to insurance.', 'An act to amend Section 12990 of the Government Code, relating to discrimination.', 'An act to amend Sections 33704, 36806, 48003, 61345, 61412, 61805, 62211, and 76259 of, to add Section 61306.5 to, and to repeal Section 33704.5 of, the Food and Agricultural Code, and to amend Section 51203 of the Government Code, relating to food and agriculture, and making an appropriation therefor.', 'An act to amend Section 7202 of the Revenue and Taxation Code, relating to taxation.', 'An act to add Section 1596.951 to the Health and Safety Code, relating to care facilities.', 'An act to amend Section 12804.9 of the Vehicle Code, relating to driver’s licenses.', 'An act to amend Sections 6601 and 6601.3 of the Welfare and Institutions Code, relating to mental health.', 'An act relating to transportation, calling an election, to take effect immediately.', 'An act to amend Sections 44332, 44332.5, and 44332.6 of, and to add and repeal Article 15 (commencing with Section 44405) of Chapter 2 of Part 25 of Division 3 of Title 2 of the Education Code, relating to teacher credentialing.', 'An act to amend Section 50199.10 of the Health and Safety Code, relating to housing, and making an appropriation therefor.', 'An act to amend Section 3017 of the Elections Code, relating to elections.', 'An act to amend, repeal, and add Sections 11658 and 11658.5 of the Insurance Code, relating to workers’ compensation insurance.', 'An act to amend Section 1777.5 of the Labor Code, relating to public works.', 'An act to amend Section 17052 of the Revenue and Taxation Code, relating to taxation.', 'An act to amend Sections 1797.184, 1798.200, 1798.201, and 1798.202 of, and to repeal Section 1799.112 of, the Health and Safety Code, relating to public health.', 'An act to add and repeal Section 65915.7 of the Government Code, relating to housing.', 'An act to add Section 832.19 to the Penal Code, relating to peace officers.', 'An act to amend Sections 14998.2 and 14998.4 of the Government Code, relating to the California Film Commission.', 'An act to\\nadd Section 2810.7 to the Labor Code, relating to employment.\\namend Section 52.6 of the Civil Code, relating to human trafficking.', 'An act to add Section 130246 to the Public Utilities Code, and to amend Section 21113 of the Vehicle Code, relating to parking.', 'An act to amend Section 12811\\nof\\nof, and to repeal Section 14901.1 of,\\nthe Vehicle Code, relating to driver’s licenses.', 'An act to amend Section 8332 of the Government Code, to amend Sections 148.6, 832.18, 13010.5, 13012, and 13012.5 of the Penal Code, and to amend Section 41603 of the Vehicle Code, relating to public safety.', 'An act to add Section 1367.31 to the Health and Safety Code, and to add Section 10123.202 to the Insurance Code, relating to health care coverage.', 'An act to amend Section 245 of the Penal Code, relating to crimes.', 'An act to amend Section 69432 of the Education Code, relating to student financial aid.', 'An act to amend Section 1369 of the Penal Code, relating to criminal procedure.', 'An act to amend Section 51504 of the Health and Safety Code, relating to housing, and making an appropriation therefor.', 'An act to amend Sections 27201 and 27288.1 of the Government Code, relating to the county recorder.', 'An act\\nto amend Section 11837 of the Health and Safety Code,\\nrelating to driving under the influence.', 'An act to amend Sections 67039, 67051, 67052, 67052.3, 67053, 67054, 67059, 67081, and 67132 of, to add Sections 58853 and 63906 to, and to repeal Section 67051.1 of, the Food and Agricultural Code, relating to food and agriculture.', 'An act to add Part 4.2 (commencing with Section 1420) to Division 2 of the Labor Code, relating to employment.', 'An act\\nto amend Section 39719 of the Health and Safety Code, and\\nto add Section 189.7 to the Water Code, relating to\\nwater, and making an appropriation therefor.\\nwater.', 'An act to add Section 1524.4 to the Penal Code, relating to law enforcement.', 'An act to amend Section 5515 of, and to add Section 2089.7 to, the Fish and Game Code, relating to fish.', 'An act to amend Sections 82002, 82039, and 86300 of the Government Code, and to amend Sections 30324 and 30325 of the Public Resources Code, relating to the Political Reform Act of 1974.', 'An act to add\\nand repeal\\nSection 1367.72\\nto\\nof\\nthe Health and Safety Code, and to add\\nand repeal\\nSection 10123.72\\nto\\nof\\nthe Insurance Code, relating to health care coverage.', 'An act to add and repeal Section 66021.8 of the Education Code, relating to student support services.', 'An act to amend Sections 13307, 13308, and 13312 of the Elections Code, relating to elections.', 'An act to amend Sections 19607, 19607.1, 19607.2, and 19607.3 of the Business and Professions Code, relating to horse racing, and declaring the urgency thereof, to take effect immediately.', 'An act to amend Sections 4327, 4497.50, and 4497.52 of, to amend the heading of Chapter 2.5 (commencing with Section 4325) of Title 4 of Part 3 of, to repeal Sections 4326 and 4329 of, and to repeal and add Section 4325 of, the Penal Code, relating to jails.', 'An act to add and repeal Part 3.3 (commencing with Section 5832) of Division 5 of the Welfare and Institutions Code, relating to mental health.', 'An act to add Article 7 (commencing with Section 87200) to Chapter 1 of Part 51 of Division 7 of Title 3 of the Education Code, and to amend Section 11165.7 of the Penal Code, relating to community colleges.', 'An act to add Section 111070.5 to the Health and Safety Code, and to add Section 13570 to the Water Code, relating to water.', 'An act to amend Sections 7312, 7314, 7314.3, 7337, 7347, and 7389 of the Business and Professions Code, relating to professions and vocations.', 'An act to\\namend Section 21001.1 of\\nadd Section 21175 to\\nthe Public Resources Code, relating to environmental quality.', 'An act to add Part 1.87 (commencing with Section 34191.30) to Division 24 of the Health and Safety Code, relating to local government.', 'An act to amend Sections 56804, 56816, 57405, and 57412 of the Government Code, relating to local government.', 'An act to add Chapter 2.3 (commencing with Section 18890) to Division 8 of the Business and Professions Code, relating to business.', 'An act to amend Section 1212 of the Health and Safety Code, relating to clinics.', 'An act to amend Sections 18904.25 and 18926.5 of, and to add Section 18914.5 to, the Welfare and Institutions Code, relating to CalFresh.', 'An act to\\namend\\namend, repeal, and add\\nSection 21608.5 of the Business and Professions Code, relating to business.', 'An act to amend Sections 1234, 1234.1, 1234.2, 1234.3, and 1234.4 of the Penal Code, relating to recidivism.', 'An act to amend Sections 11265.3 and 11265.47 of the Welfare and Institutions Code, relating to CalWORKs.', 'An act to amend Sections 2263 and 2265 of the Elections Code, relating to elections.', 'An act to amend Section 13651 of the Business and Professions Code, relating to service stations.', 'An act to amend Sections 1703 and 1703.4 of the Labor Code, relating to employment.', 'An act to amend Section 14005.37 of, and to add Section 15927 to, the Welfare and Institutions Code, relating to public health.', 'An act to amend Section 166 of the Penal Code, relating to crimes.', 'An act to\\namend Section 1367 of\\nadd Section 1367.255 to\\nthe Health and Safety Code, relating to health\\ncare.\\ncare coverage.', 'An act to amend Section 11174.32 of the Penal Code, relating to crime.', 'An act to amend Section 75230 of the Public Resources Code, relating to transportation, and making an appropriation therefor.', 'An act to amend Section 25503.6 of the Business and Professions Code, relating to alcoholic beverages.', 'An act to add and repeal Chapter 16 (commencing with Section 18997) of Part 6 of Division 9 of the Welfare and Institutions Code, relating to public social services.', 'An act\\nto amend Section 12715 of the Government Code,\\nrelating to gaming.', 'An act to amend Section 25218.1 of the Health and Safety Code, relating to household hazardous waste.', 'An act to amend Section 1802 of the Public Utilities Code, relating to public utilities.', 'An act to add Article 4 (commencing with Section 25680) to Chapter 16 of Division 9 of the Business and Professions Code, relating to alcoholic beverages.', 'An act to amend Sections 44391, 44392, and 44393 of, and to repeal and add Section 44390 of, the Education Code, relating to teacher credentialing.', 'An act\\nto amend Section 52060 of the Education Code, and\\nto amend Section 116385 of the Health and Safety Code, relating to water.', 'An act to add Section 25257.2 to the Health and Safety Code, relating to nail salons.', 'An act to amend Section 1203 of the Penal Code, relating to probation.', 'An act to\\nadd Section 8221.6 to the Education Code,\\namend Section 1596.86 of, and to add Section 1596.864 to, the Health and Safety Code,\\nrelating to child\\ncare and development.\\ncare.', 'An act to amend Section 17550.20 of the Business and Professions Code, relating to business.', 'An act to amend Sections 27296 and 27390 of, and to amend, repeal, and add Sections 27391 and 27393 of, the Government Code, relating to electronic recording.', 'An act to amend Sections 4073.5 and 4074 of the Business and Professions Code, relating to pharmacy.', 'An act to add Section 22659.7 to the Vehicle Code, relating to vehicles.', 'An act to amend Section 3003.5 of, and to add Sections 1746 and 2001.5 to, the Fish and Game Code, and to add Article 4 (commencing with Section 5085) to Chapter 1.2 of Division 5 of the Public Resources Code, relating to unmanned aircraft systems.', 'An act to amend Section 11450 of the Welfare and Institutions Code, relating to CalWORKs.', 'An act to amend, repeal, and add Section 13109 of the Elections Code, relating to elections, and declaring the urgency thereof, to take effect immediately.', 'An act to add Chapter 6.3 (commencing with Section 1625) to Division 2 of the Fish and Game Code, and to repeal Section 21083.4 of the Public Resources Code, relating to forestry, and making an appropriation therefor.', 'An act to amend Section 32000 of the Penal Code, relating to firearms.', 'An act to amend Sections 22513 and 22513.1 of the Vehicle Code, relating to vehicles.', 'An act to amend Sections 2192 and 2192.2 of the Streets and Highways Code, relating to transportation.', 'An act to amend Section 23356.2 of the Business and Professions Code, relating to alcoholic beverages.', 'An act to amend Section 8698 of, and to add and repeal Section 8698.3 of, the Government Code, relating to housing.', 'An act to amend Section 1206.5 of the Business and Professions Code, and to add Section 122440 to the Health and Safety Code, relating to public health.', 'An act to add Sections 10130, 10503.5, and 10727 to the Public Contract Code, relating to public contracts.', 'An act to add Section 49475.6 to, and to add and repeal Section 49475.5 of, the Education Code, relating to school athletics.', 'An act to amend Section 647 of the Penal Code, relating to disorderly conduct.', 'An act to\\nadd Section 15030 to the Government Code, relating to human trafficking.\\namend Section 836 of the Penal Code, relating to crimes.', 'An act to amend Sections 4927.5, 4928, 4934, 4938, and 4974 of, and to repeal and add Section 4939 of, the Business and Professions Code, relating to healing arts.', 'An act to amend Section 1253.3 of the Unemployment Insurance Code, relating to unemployment insurance, and making an appropriation therefor.', 'An act to amend Section 261.5 of, and to add Section 287 to, the Penal Code, relating to sexual offenses.', 'An act to add Chapter 11 (commencing with Section 11999) to Part 1 of Division 3 of Title 2 of the Government Code, relating to state government.', 'An act to add Section 39734 to the Health and Safety Code,\\nand to add Section 784.1 to the Public Utilities Code,\\nrelating to energy.', 'An act to amend Sections 89711 and 89712 of the Education Code, relating to the California State University.', 'An act to amend Sections 488.080, 699.080, and 706.108 of the Code of Civil Procedure, relating to civil procedure.', 'An act to amend Section 48900 of the Education Code, relating to pupils.', 'An act to\\namend Section 66406.7 of, and to\\nadd Section 66407.3\\nto\\nto,\\nthe Education Code, relating to public postsecondary education, and making an appropriation therefor.', 'An act to amend Section 8880.5 of the Government Code, relating to the California State Lottery Act.', 'An act to amend Sections 19855 and 19858 of the Business and Professions Code, relating to gambling.', 'An act to amend\\nSection 19605\\nSections 19605 and 19620.2\\nof the Business and Professions Code,\\nand to amend Section 3200 of the Food and Agricultural Code,\\nrelating to horse\\nracing.\\nracing, and making an appropriation therefor.', 'An act to add Chapter 20 (commencing with Section 26205) to Division 20 of the Health and Safety Code, relating to code enforcement officers.', 'An act to amend Section 68152 of the Government Code, relating to court records.', 'An act to amend Sections 1680 and 1682 of, and to add Section 1601.4 to, the Business and Professions Code, relating to healing arts.', 'An act to amend Section 44253.4 of the Education Code, relating to teacher credentialing.', 'An act to amend Sections 5080.05 and 5080.18 of, and to add Section 5080.22 to, the Public Resources Code, relating to state parks.', 'An act to amend Sections 301, 303.3, 362, 19271, 19280, 19281, 19283, 19284, 19285, 19286, 19287, 19288, 19290, 19291, 19292, 19293, 19294, and 19295 of, to amend the heading of Chapter 3.5 (commencing with Section 19280) of Division 19 of, to add Section 305.5 to, and to repeal Section 19282 of the Elections Code, relating to elections.', 'An act to amend Section 54954.2 of the Government Code, relating to local government.', 'An act to amend Section 1513 of the Code of Civil Procedure, relating to unclaimed property.', 'An act to\\nadd Section 98.74 to\\namend Section 98.7 of\\nthe Labor Code, relating to employment.', 'An act to add Chapter 16 (commencing with Section 1425) to Title 10 of Part 2 of the Penal Code, relating to prisoners.', 'An act to add Section 144.9 to the Labor Code, relating to occupational safety and health.', 'An act to amend Sections 14103, 14252, 14453, 14456, 14550, 14804, 14950, 15050, and 15100 of, to add Section 14556 to, and to repeal Section 14951 of, the Financial Code, relating to credit unions.', 'An act to amend Section 5899 of the Welfare and Institutions Code, relating to mental health.', 'An act to add Section 10708 to the Elections Code, and to amend Sections 89510 and 89519 of the Government Code, relating to elections.', 'An act to add and repeal Article 3 (commencing with Section 54660) of Chapter 9 of Part 29 of Division 4 of Title 2 of the Education Code, and to add and repeal Section 19816.22 of the Government Code, relating to state employment, and making an appropriation therefor.', 'An act to amend Section 14230 of the Unemployment Insurance Code, relating to workforce development.', 'An act to amend Section 1633.2 of the Civil Code, and to amend Section 16.5 of the Government Code, relating to state government.', 'An act to amend Section 70615 of the Government Code, and to amend Section 186.34 of, and to add Section 186.35 to, the Penal Code, relating to criminal gangs.', 'An act to add Chapter 7.5 (commencing with Section 485) to Division 1 of the Water Code, relating to water.', 'An act to amend Sections 48645.3, 48645.5, 51225.1, and 51225.2 of the Education Code, relating to juvenile court school pupils.', 'An act to amend Sections 36 and 877 of, and to add Chapter 6 (commencing with Section 820) to Title 10 of Part 2 of, the Code of Civil Procedure, relating to civil claims.', 'An act to amend Sections 17400 and 17406 of the Education Code, relating to school facilities.', 'An act to amend Section 54964.5 of, to add Section 84222.5 to, and to repeal Section 54964.6 of, the Government Code, relating to nonprofit organizations.', 'An act to amend Sections 6292, 6293, and 6294 of the Revenue and Taxation Code, and to amend Sections 4750.5, 9928, and 38211 of the Vehicle Code, relating to vehicles.', 'An act to amend Section 103885 of the Health and Safety Code, relating to cancer.', 'An act to add and repeal Chapter 19 (commencing with Section 53310) of Part 28 of Division 4 of Title 2 of the Education Code, relating to school curriculum.', 'An act to amend, repeal, and add Sections 10083.2 and 10161.8 of the Business and Professions Code, relating to real estate licensees.', 'An act to amend Section 1632 of, and to add Sections 1632.55 and 1632.7 to, the Business and Professions Code, relating to dentistry, and making an appropriation therefor.', 'An act to amend Section\\n4030\\n490.5\\nof the Penal Code, relating to\\njails.\\ntheft.', 'An act to\\namend Section 13260 of\\nadd and repeal Section 13172.6\\nof\\nthe Water Code, relating to\\nwater quality.\\ndredging.', 'An act to amend Section 230.1 of the Labor Code, relating to employment.', 'An act to amend Sections 626.9 and 30310 of the Penal Code, relating to firearms.', 'An act to\\namend Section 1252 of the Health and Safety Code, relating to health facilities.\\nadd Section 69614.5 to the Government Code, relating to judgeships.', 'An act to\\nadd Section 798.17.5 to\\nrepeal Section 798.17 of\\nthe Civil Code, relating to mobilehome parks.', 'An act to amend Section\\n1840\\n1841\\nof the Water Code, relating to water.', 'An act to add Section 4777 to the Civil Code, relating to common interest developments.', 'An act to add and repeal Article 15.1 (commencing with Section 8332) of Chapter 2 of Part 6 of Division 1 of Title 1 of the Education Code, relating to child care and development services.', 'An act to add and repeal Article 2 (commencing with Section 18706) of Chapter 3 of Part 10.2 of Division 2 of the Revenue and Taxation Code, relating to taxation.', 'An act to amend Sections 31494.2, 31494.5, and 31526 of, and to add Sections 31495.7 and 31520.6 to, the Government Code, relating to county employees’ retirement.', 'An act to add Chapter 15.8 (commencing with Section 67395) to Part 40 of Division 5 of Title 3 of the Education Code, relating to public postsecondary education.', 'An act to amend Section 19320 of the Business and Professions Code, relating to marijuana.', 'An act to amend Section 66602 of the Education Code, relating to postsecondary education.', 'An act to add\\nand repeal\\nArticle\\n13 (commencing with Section 50295) to\\n7 (commencing with Section 34390) of\\nChapter 1 of Part\\n1 of Division 1 of Title 5 of the Government\\n2 of Division 24 of the Health and Safety\\nCode, relating to\\nlocal government.\\nhousing.', 'An act to amend Sections 1179 and 1772 of the Welfare and Institutions Code, relating to juveniles.', 'An act to add and repeal Sections 17053.50 and 23650 of the Revenue and Taxation Code, relating to taxation, to take effect immediately, tax levy.\\nAn act to amend Section 44559.11 of, and to add Section 44559.14 to, the Health and Safety Code, relating to seismic safety, and making an appropriation therefor.', 'An act to amend Section 44977.5 of, and to add Sections 45196.1, 87780.1, and 88196.1 to, the Education Code, relating to school employees.', 'An act to amend Sections 11834.02, 11834.09,\\n11834.20, and 11834.23\\nand 11834.20\\nof the Health and Safety Code, relating to alcoholism and drug abuse.', 'An act to amend Section 230.8 of the Labor Code, relating to employment.', 'An act to add Section 65852.22 to the Government Code, relating to housing, and declaring the urgency thereof, to take effect immediately.', 'An act to amend Section 4600 of the Labor Code, relating to workers’ compensation.', 'An act to add Chapter 10 (commencing with Section 32499) to Division 23 of the Health and Safety Code, relating to health care districts.', 'An act to amend Section 39719.2 of the Health and Safety Code, relating to greenhouse gases.', 'An act to\\namend Section 44270.3\\nadd and repeal Chapter 10 (commencing with Section 39950) of Part 2 of Division 26\\nof the Health and Safety Code, relating to\\nair resources.\\nvehicular air pollution.', 'An act to amend Section 104.16 of the Streets and Highways Code, relating to state highways.', 'An act to add and repeal Article 7.5 (commencing with Section 18781) of Chapter 3 of Part 10.2 of Division 2 of the Revenue and Taxation Code, relating to taxation.', 'An act to\\nrepeal Section 66010.6\\nadd and repeal Chapter 11.1 (commencing with Section 66910) of Part 40 of Division 5 of Title 3\\nof the Education Code, relating to postsecondary education.', 'An act to add and repeal Section 21080.21.5 of the Public Resources Code, relating to environmental quality.', 'An act to add Chapter 17 (commencing with Section 50897) to Part 2 of Division 31 of the Health and Safety Code, relating to housing.', 'An act to amend Section 116700 of the Health and Safety Code, and to amend Sections 13321, 13330, and 13361 of the Water Code, relating to the State Water Resources Control Board.', 'An act to amend Sections 11320.1, 11322.6, and 11322.85 of, and to add Section 11325.3 to, the Welfare and Institutions Code, relating to CalWORKs.', 'An act to amend Section 1811 of, and to add Section 1824 to, the Insurance Code, relating to insurance.', 'An act to amend Section 53115.1 of the Government Code, relating to emergency services.', 'An act to amend Section 27521 of the Government Code, relating to autopsy.', 'An act to amend Sections 2861, 2863, 2864, 2865, 2866, 2867, and 2867.3 of, to amend and renumber Section 2862 of, to repeal Sections 2860, 2867.1, and 2867.2 of, and to repeal and add Section 2867.4 of, the Public Utilities Code, relating to energy.', 'An act to amend Sections 2699 and 2699.3 of, and to repeal Section 2699.5 of, the Labor Code, relating to employment.', 'An act to amend Section 2699.3 of the Labor Code, relating to employment.', 'An act to amend Section 2699 of the Labor Code, relating to employment.', 'An act to amend Section 2699 of the Labor Code, relating to employment.', 'An act to amend Sections 2101, 2106, and 2212 of the Elections Code, relating to voting.', 'An act to add Chapter 2.17 (commencing with Section 1339.85) to Division 2 of the Health and Safety Code, relating to health facilities.', 'An act to amend Section 7522.20 of, and to add Section 21354.6 to, the Government Code, relating to public employees’ retirement.', 'An act to amend Section 12022.53 of the Penal Code, relating to sentencing.', 'An act to amend Sections 1970, 1970.5, and 1973 of, to amend and repeal Section 1976 of, and to repeal and add Sections 1971, 1972, and 1975 of, the Business and Professions Code, relating to dentistry, and declaring the urgency thereof, to take effect immediately.', 'An act to amend Section 5515 of, and to add Section 2081.10 to, the Fish and Game Code, relating to fish.', 'An act to amend Sections 62001, 62002, and 62004 of the Government Code, relating to economic development.', 'An act to amend Section 18729 of, and to add and repeal Article 3.6 (commencing with Section 18730) of Chapter 3 of Part 10.2 of Division 2 of, the Revenue and Taxation Code, relating to taxation.', 'An act to amend Section 2290.5 of the Business and Professions Code, to amend Section 1374.13 of the Health and Safety Code, and to amend Section 10123.85 of the Insurance Code, relating to telehealth.', 'An act to amend Section 34171 of the Health and Safety Code, relating to redevelopment.', 'An act to amend Section 19332 of the Business and Professions Code, relating to medical cannabis.', 'An act to amend Sections 2000 and 2101 of the Elections Code, relating to elections.', 'An act to amend Sections 32280, 32281, and 32282 of the Education Code, relating to school safety.', 'An act to add Part 2.13 (commencing with Section 10960) to Division 6 of the Water Code, relating to water.', 'An act to amend Section\\n1793.22\\n1793.2\\nof the Civil Code, relating to consumer protection.', 'An act to amend Section 226 of the Labor Code, relating to wages.', 'An act to amend and repeal Section 48204 of the Education Code, relating to pupils.', 'An act to amend Section 17941 of the Revenue and Taxation Code, relating to taxation, to take effect immediately, tax levy.', 'An act to add Article 3 (commencing with Section 52053) to Chapter 6.1 of Part 28 of Division 4 of Title 2 of the Education Code, relating to school accountability.', 'An act to add Article 60.6 (commencing with Section 20928) to Chapter 1 of Part 3 of Division 2 of the Public Contract Code, relating to water.', 'An act to amend Section 11461.3 of the Welfare and Institutions Code, relating to public social services.', 'An act to amend Section 5096.21 of the Business and Professions Code, relating to professions and vocations.', 'An act to amend and repeal Section 10912 of the Water Code, relating to water supply, and declaring the urgency thereof, to take effect immediately.', 'An act to amend Section 1185 of the Civil Code, relating to property.', 'An act to amend Section 11515 of the Vehicle Code, relating to vehicles.', 'An act to amend Section 3068 of the Civil Code, relating to vehicle liens.', 'An act to add Sections 69433.61, 69999.19, 94051, and 94926.5 to the Education Code, relating to higher education, making an appropriation therefor, and declaring the urgency thereof, to take effect immediately.', 'An act to add\\nand repeal\\nSections 17053.75 and 23675\\nto\\nof\\nthe Revenue and Taxation Code, relating to taxation, to take effect immediately, tax levy.', 'An act to amend Sections 261 and 262 of the Penal Code, relating to rape.', 'An act to\\namend Sections 1801.3 and 1802 of, and to add Section 1809 to,\\nadd Section 5388 to\\nthe Public Utilities Code, relating to\\nproceedings of\\nthe Public Utilities Commission.', 'An act to amend Sections 65460.5 and 65923.8 of, to amend and renumber Section 12019.5 of, to add Article 4.5 (commencing with Section 12097) to Chapter 1.6 of Part 2 of Division 3 of Title 2 to, and to repeal Section 66033 of, the Government Code, to amend Section 25199.7 of, and to repeal Section 25199.4 of, the Health and Safety Code, and to amend Section 25616 of the Public Resources Code, relating to state government.', 'An act to amend Sections 18150, 18170, and 18190 of the Penal Code, relating to firearms.', 'An act to add Section 17531.3 to the Business and Professions Code, relating to advertising.', 'An act to amend, repeal, and add Section 26909 of the Government Code, relating to local government.', 'An act to amend Sections 30301 and 30604 of, and to add Sections 30013 and 30107.3 to, the Public Resources Code, relating to coastal resources.', 'An act to add Chapter\\n7.8 (commencing with Section 25685) to Division 15 of the Public Resources\\n3.8 (commencing with Section 390) to Division 1 of the Water\\nCode, relating to water.', 'An act to amend Section 53328.1 of the Government Code, relating to local government.', 'An act to add Section 13519.45 to the Penal Code, relating to peace officer standards and training.', 'An act to amend Section 69951 of, to amend, repeal, and add Section 69950 of, and to add and repeal Section 69950.5 of, the Government Code, relating to court reporters.', 'An act to add Section 399.23 to the Public Utilities Code, relating to electricity.', 'An act to amend Section 11450 of the Welfare and Institutions Code, relating to CalWORKs.', 'An act to amend, repeal, and add Section 103526 of, and to add and repeal Section 103527.5 of, the Health and Safety Code, relating to vital records.', 'An act to amend Section 16429.2\\nof\\nof, and to add Article 12 (commencing with Section 16429.50) to Chapter 2 of Part 2 of Division 4 of Title 2 of,\\nthe Government Code, relating to\\nlocal\\ngovernment finance.', 'An act to amend Section 13050 of the Water Code, relating to water quality.', 'An act to amend Section 16642 of, and to add Section 7513.76 to, the Government Code, relating to public employee retirement systems.', 'An act to amend Section 1305 of the Penal Code, relating to bail.', 'An act to amend Sections 48412 and 51421.5 of the Education Code, relating to pupils.', 'An act to amend\\nSections 30322, 30324, and\\nSection\\n30325\\nof\\nof, and to add Section 30324.1 to,\\nthe Public Resources Code, relating to the California Coastal Commission.', 'An act to amend Section 51 of the Civil Code, relating to civil rights.', 'An act to add Section 6377.5 to, and to add and repeal Sections 17053.55 and 23655 of, the Revenue and Taxation Code, relating to taxation, to take effect immediately, tax levy.', 'An act to amend Section 17052.6 of the Revenue and Taxation Code, relating to taxation, to take effect immediately, tax levy.', 'An act to amend, repeal, and add Section 19620.2 of the Business and Professions Code, and to add and repeal Sections 6453.1 and 7101.4 of the Revenue and Taxation Code, relating to state-designated fairs, and making an appropriation therefor.', 'An act to amend Section 19353 of the Business and Professions Code, and to amend Sections 11362.775 and 11362.9 of the Health and Safety Code, relating to medical marijuana.', 'An act to amend Sections 23152 and 23153 of the Vehicle Code, relating to vehicles.', 'An act to amend Section 130232 of the Public Utilities Code, relating to transportation.', 'An act to amend Section 709 of the Welfare and Institutions Code, relating to juveniles.', 'An act to add Article 1 (commencing with Section 104250) to Chapter 4 of Part 1 of Division 103 of the Health and Safety Code, relating to diabetes.', 'An act to\\namend Section 7159.5 of, and to\\nadd\\nChapter 2.4 (commencing with Section 18892) to Division 8 of\\nSections 7169, 7170, and 7171 to,\\nthe Business and Professions Code, relating to business.', 'An act to amend Section 399.13 of the Public Utilities Code, relating to electricity.', 'An act to\\namend Section 44274.2 of\\nadd Section 33133.7 to\\nthe Education Code, relating to\\nteachers.\\nteachers, and making an appropriation therefor.', 'An act to add Section 51.14 to the Civil Code, and to amend Section 12930 of the Government Code, relating to civil rights.', 'An act to amend Section 1063.2 of, to amend, renumber, and add Sections 1063.5 and 1063.14 of, and to repeal Sections 1063.45 and 1063.135 of, the Insurance Code, relating to insurance.', 'An act to amend Section 4425 of the Business and Professions Code, relating to pharmacies.', 'An act to amend Sections 18980, 18981, 19010, 19011, 24744, 25053, 25055, and 25056 of, and to repeal and amend Section 24745 of, the Food and Agricultural Code, relating to meat.', 'An act to amend Section\\n602\\n300\\nof the Welfare and Institutions Code, relating to juveniles.', 'An act to add Sections 114094.6, 114094.7, 114094.8, and 114094.9 to the Health and Safety Code, relating to food safety.', 'An act to amend Section 35700.5 of the Vehicle Code, relating to vehicles.', 'An act to add Chapter 10 (commencing with Section 34191.10) to Part 1.85 of Division 24 of the Health and Safety Code, relating to housing.', 'An act to amend Section 15146 of the Education Code, relating to school bonds.', 'An act to amend Section 650 of the Business and Professions Code, relating to the healing arts.', 'An act to add Section 1544 to the Civil Code, and to add Sections 340.85 and 1021.3 to the Code of Civil Procedure, relating to environmental disaster.', 'An act to amend Section 1635.1 of the Health and Safety Code, relating to tissue banks.', 'An act to amend Sections 2281, 2282, 2282.1, 2286, 2288, 2289, 2290, 2293.1, and 2294 of the Corporations Code, relating to fraud, and making an appropriation therefor.', 'An act to add Section 1941.7 to the Civil\\nCode, and to amend Section 30851 of the Food and Agricultural\\nCode, relating to support animals.', 'An act to amend Section 30814 of the Streets and Highways Code, relating to transportation.\\nAn act to add Chapter 8 (commencing with Section 132651) to Division 12.7 of the Public Utilities Code, relating to transportation.', 'An act to amend Section 1170.18 of the Penal Code, relating to sentencing.', 'An act to amend Sections 69510, 69511, and 69511.5 of the Education Code, relating to student financial aid.', 'An act to amend Sections 22972, 22973, 22973.3, and 22977.1 of, and to add Sections 22990.5 and 22990.7 to, the Business and Professions Code, relating to cigarette and tobacco product licensing.', 'An act to amend Section 896 of the Civil Code, relating to construction defect litigation.', 'An act to add Section 56305 to the Education Code, relating to special education.', 'An act to add Chapter 17.2 (commencing with Section 7283) to Division 7 of Title 1 of the Government Code, relating to local government.', 'An act to amend Section 707 of the Public Utilities Code, relating to electricity.\\nAn act to amend Section 2891.1 of the Public Utilities Code, relating to telephony.', 'An act to add Chapter 22.2.5 (commencing with Section 22586) to Division 8 of the Business and Professions Code, relating to privacy.', 'An act to add Section 50035 to the Government Code, relating to local government.', 'An act to amend Section\\n23153\\n17052\\nof the Revenue and Taxation Code, relating to\\ntaxation, to take effect immediately, tax levy.\\ntaxation\\n, and making an appropriation therefor.', 'An act to amend Sections 1812.82, 1812.84, and 1812.85 of the Civil Code, relating to health studio services.', 'An act to amend Section 42926 of, and to add Section 42924.5 to, the Public Resources Code, relating to recycling.', 'An act to amend Section 628 of the Welfare and Institutions Code, relating to juveniles.', 'An act to amend Section 402.1 of the Revenue and Taxation Code, relating to taxation, to take effect immediately, tax levy.', 'An act to amend Section 1161.2 of, and to add Section 1167.1 to, the Code of Civil Procedure, relating to unlawful detainer proceedings.', 'An act to amend Section 396 of the Penal Code, relating to crimes.', 'An act to add Part 14.2 (commencing with Section 53590) to Division 31 of the Health and Safety Code, relating to housing.', 'An act to amend Section 15372 of, and to add Sections\\n15151.5 and\\n15151.5, 19204.7, and\\n19216.5 to, the Elections Code, relating to elections.', 'An act to add Section 7514.7 to the Government Code, relating to retirement.', 'An act\\nrelating to public elementary and secondary education.\\nto amend Section 51225.3 of the Education Code, relating to pupil instruction.', 'An act to amend Sections 1205 and 2900.5 of the Penal Code, relating to criminal penalties.', 'An act to amend Sections 6253.2 and 6254.3 of the Government Code, relating to public records.', 'An act to add Section 2010 to the Public Contract Code, relating to public contracts.', 'An act to amend Sections 234.1 and 234.5 of the Education Code, relating to school safety.', 'An act to amend Section 6253 of the Government Code, relating to public records.', 'An act to amend Sections 490.2 and 496 of the Penal Code, relating to theft, and calling an election, to take effect immediately.', 'An act to add Section 17510.86 to the Business and Professions Code, relating to charitable solicitations.', 'An act to\\nadd and repeal Division 16.65 (commencing with Section 38755)\\namend Section 38750\\nof the Vehicle Code, relating to vehicles.', 'An act to add Sections 2838.2 and 2838.3 to the Public Utilities Code, relating to energy.', 'An act to amend Section 55.53 of the Civil Code, and to amend Sections 4459.5 and 4467 of the Government Code, relating to public contracts, and making an appropriation therefor.', 'An act to amend Section 14615.1\\nof, and to add Section 6253.11 to,\\nof\\nthe Government Code, and to amend Section 10335 of the Public Contract Code, relating to state intellectual property.', 'An act to amend Sections 3351 and 3352 of, and to repeal Section 6354.7 of, the Labor Code, relating to workers’ compensation.', 'An act to amend, repeal, and add Sections 2707.2, 2707.4, and 2737 of, to add Section 2707.8 to, and to add and repeal Sections 2707.7 and 2737.5 of, the Unemployment Insurance Code, relating to disability compensation.', 'An act to amend Sections 25173.7 and 25205.6 of the Health and Safety Code, relating to hazardous waste.', 'An act to amend Sections 25185.6, 25358.1, 25358.2, and 25390.5 of the Health and Safety Code, relating to hazardous materials.', 'An act to amend Section 1197.1 of the Labor Code, relating to employment.', 'An act to amend Section 14838 of the Government Code, and to amend Section 10111 of the Public Contract Code, relating to public contracting.', 'An act to amend Sections 12012.75 and 12012.90 of the Government Code, relating to gaming.']\n"
          ]
        }
      ]
    },
    {
      "cell_type": "markdown",
      "source": [
        "There are two fields that you’ll want to use:\n",
        "\n",
        "* `text`: the text of the bill which’ll be the input to the model.\n",
        "* `summary`: a condensed version of text which’ll be the model target."
      ],
      "metadata": {
        "id": "Xh70qBPX-h2h"
      }
    },
    {
      "cell_type": "markdown",
      "source": [
        "### Load the Model"
      ],
      "metadata": {
        "id": "KPSrbHUoMHH9"
      }
    },
    {
      "cell_type": "code",
      "source": [
        "from transformers import AutoTokenizer\n",
        "\n",
        "checkpoint = \"google-t5/t5-small\"\n",
        "tokenizer = AutoTokenizer.from_pretrained(checkpoint)"
      ],
      "metadata": {
        "id": "JYax31XL93Qp"
      },
      "execution_count": null,
      "outputs": []
    },
    {
      "cell_type": "code",
      "source": [
        "from transformers import AutoTokenizer\n",
        "\n",
        "checkpoint = \"t5-small\"\n",
        "tokenizer = AutoTokenizer.from_pretrained(checkpoint)"
      ],
      "metadata": {
        "id": "ammMZDRhkqmT",
        "outputId": "5023e5ae-af61-4fee-ee69-263eea5cf32c",
        "colab": {
          "base_uri": "https://localhost:8080/",
          "height": 113,
          "referenced_widgets": [
            "d16c5a65ab704d4ebc7a53a3802486a6",
            "49d01bf441674316897f478d7a8f69a1",
            "130b54f330af4bbd92f4c3c3f667d4bd",
            "e8041e3bb4d94d7594d24bfcc939b30e",
            "6be4929d6ea54713be07a03c1d21a165",
            "05c424fe46fc468195816c6622d8af9d",
            "8bbd9b15476d4b659e9aa92d74c63b7c",
            "6b8850ae6ce6475db5eae7f5dfb4f93d",
            "b60ae7be97f5422799d0aab8bd05a875",
            "4c4b62df0008418db905a0b0e8da1573",
            "80c0629b197041d1875200d3a2eaf339",
            "73d349449ba9451ca0cf870b220fb78a",
            "9678d66ef952472797ac53923615a838",
            "d483a12494fc4142b973ca0dc3b0e7f4",
            "6495ff8a630e4941b2f6b8dab189cd3f",
            "33be5dfd18a44e6382d06894e318b061",
            "5067dfe586b74896bdf210a5892ead3d",
            "ebc429e8260e4d10a294dba6b0a2ffb3",
            "034d3af7d8bd4d8dac9caf61c2e9de3e",
            "394c2e08d5c6473e84553cb601b7ae95",
            "fedb3db7e85f4bb98e953379562a1879",
            "390b4b5b37fe4fce8eb676b2a8fdce64",
            "c3206fc3c4094a6d92bd1fd51059a034",
            "24523a137a2b45ada259fc9fc0642825",
            "7a93f967adbb4ed9be2f90550d8a9190",
            "1e4848c98f5745d180f863fb16c98af5",
            "0ffdbad3b20a4ed98009690dc8c6ee6e",
            "1f30f71a66144a88ac79c00eb6feab2d",
            "d0b45e83618d45aca2f2d42b585648fd",
            "9dc0af8f14144f1aa994ed0f6a8ebbfa",
            "16d6cdeb6455466fa82e9f7b88a0e01b",
            "1ada618084504605afe19f663e659da7",
            "b3475a0580c84af8bb48750a46b37bd7"
          ]
        }
      },
      "execution_count": 10,
      "outputs": [
        {
          "output_type": "display_data",
          "data": {
            "text/plain": [
              "tokenizer_config.json:   0%|          | 0.00/2.32k [00:00<?, ?B/s]"
            ],
            "application/vnd.jupyter.widget-view+json": {
              "version_major": 2,
              "version_minor": 0,
              "model_id": "d16c5a65ab704d4ebc7a53a3802486a6"
            }
          },
          "metadata": {}
        },
        {
          "output_type": "display_data",
          "data": {
            "text/plain": [
              "spiece.model:   0%|          | 0.00/792k [00:00<?, ?B/s]"
            ],
            "application/vnd.jupyter.widget-view+json": {
              "version_major": 2,
              "version_minor": 0,
              "model_id": "73d349449ba9451ca0cf870b220fb78a"
            }
          },
          "metadata": {}
        },
        {
          "output_type": "display_data",
          "data": {
            "text/plain": [
              "tokenizer.json:   0%|          | 0.00/1.39M [00:00<?, ?B/s]"
            ],
            "application/vnd.jupyter.widget-view+json": {
              "version_major": 2,
              "version_minor": 0,
              "model_id": "c3206fc3c4094a6d92bd1fd51059a034"
            }
          },
          "metadata": {}
        }
      ]
    },
    {
      "cell_type": "markdown",
      "source": [
        "The preprocessing function you want to create needs to:\n",
        "\n",
        "Prefix the input with a prompt so T5 knows this is a summarization task. Some models capable of multiple NLP tasks require prompting for specific tasks.\n",
        "Use the keyword `text_target` argument when tokenizing labels.\n",
        "Truncate sequences to be no longer than the maximum length set by the `max_length` parameter."
      ],
      "metadata": {
        "id": "7Dr4zAjZ-oyF"
      }
    },
    {
      "cell_type": "code",
      "source": [
        "preifi= \"summrized:\"\n",
        "\n",
        "def preprocess_function(examples):\n",
        "    inputs = [preifi + doc for doc in examples[\"text\"]]\n",
        "    model_inputs = tokenizer(inputs, max_length=1024, truncation=True)\n",
        "\n",
        "    labels = tokenizer(text_target=examples[\"summary\"], max_length=128, truncation=True)\n",
        "\n",
        "    model_inputs[\"labels\"] = labels[\"input_ids\"]\n",
        "    return model_inputs"
      ],
      "metadata": {
        "id": "hKnMjCC_qp5c"
      },
      "execution_count": 11,
      "outputs": []
    },
    {
      "cell_type": "markdown",
      "source": [
        "### Preprocessing"
      ],
      "metadata": {
        "id": "xM2Fe6GxMJa-"
      }
    },
    {
      "cell_type": "code",
      "source": [
        "#@@@@@@@@@\n",
        "prefix = \"summarize: \"\n",
        "\n",
        "\n",
        "def preprocess_function(examples):\n",
        "    inputs = [prefix + doc for doc in examples[\"text\"]]\n",
        "    model_inputs = tokenizer(inputs, max_length=1024, truncation=True)\n",
        "\n",
        "    labels = tokenizer(text_target=examples[\"summary\"], max_length=128, truncation=True)\n",
        "\n",
        "    model_inputs[\"labels\"] = labels[\"input_ids\"]\n",
        "    return model_inputs"
      ],
      "metadata": {
        "id": "FeegE77D-nni"
      },
      "execution_count": null,
      "outputs": []
    },
    {
      "cell_type": "markdown",
      "source": [
        "To apply the preprocessing function over the entire dataset, use 🤗 Datasets [map](https://huggingface.co/docs/datasets/v2.21.0/en/package_reference/main_classes#datasets.Dataset.map) method. You can speed up the map function by setting `batched=True` to process multiple elements of the dataset at once:"
      ],
      "metadata": {
        "id": "050GKcx8-wHp"
      }
    },
    {
      "cell_type": "code",
      "source": [
        "tokenized_billsum = billsum.map(preprocess_function, batched=True)#@@@@@@@"
      ],
      "metadata": {
        "id": "YL2xihmu-ubJ"
      },
      "execution_count": null,
      "outputs": []
    },
    {
      "cell_type": "code",
      "source": [
        "tokin=billsum.map(preprocess_function,batched=True)"
      ],
      "metadata": {
        "id": "01hnCmXPq347",
        "outputId": "86d231b8-1ab8-4218-9b69-b8bd421b12b3",
        "colab": {
          "base_uri": "https://localhost:8080/",
          "height": 49,
          "referenced_widgets": [
            "a64fd4f0561145598245ec77e3e73573",
            "052bc4f3804c4f6f977d6e573c3c7b61",
            "a22d3be0b09a4757b2e16e2c45f8897b",
            "a3bd365b0b514dd4aa63716c95e32e03",
            "64c1528b412e47f1b27861d508d6341d",
            "9a79306bf01447e6ba3844ef3ae829a3",
            "c8139e5cdac44f83be457c95081bbc8a",
            "7582abd8ae0d4febad05bea5c907b475",
            "c15e8f17f8404a04a7b08cb7966b71ed",
            "b88a972ed5ef4351a033ed1fba0a490c",
            "f3da91df71bc4021bce8d4f720785380"
          ]
        }
      },
      "execution_count": 12,
      "outputs": [
        {
          "output_type": "display_data",
          "data": {
            "text/plain": [
              "Map:   0%|          | 0/1237 [00:00<?, ? examples/s]"
            ],
            "application/vnd.jupyter.widget-view+json": {
              "version_major": 2,
              "version_minor": 0,
              "model_id": "a64fd4f0561145598245ec77e3e73573"
            }
          },
          "metadata": {}
        }
      ]
    },
    {
      "cell_type": "markdown",
      "source": [
        "Now create a batch of examples using [DataCollatorForSeq2Seq](/docs/transformers/v4.44.2/en/main_classes/data_collator#transformers.DataCollatorForSeq2Seq). It’s more efficient to dynamically pad the sentences to the longest length in a batch during collation, instead of padding the whole dataset to the maximum length."
      ],
      "metadata": {
        "id": "nAM6iI7f_ezG"
      }
    },
    {
      "cell_type": "code",
      "source": [
        "from transformers import DataCollatorForSeq2Seq#@@@@@\n",
        "\n",
        "\n",
        "data_collator = DataCollatorForSeq2Seq(tokenizer=tokenizer, model=checkpoint, return_tensors=\"tf\")"
      ],
      "metadata": {
        "id": "4CJViD-d-9d0"
      },
      "execution_count": null,
      "outputs": []
    },
    {
      "cell_type": "code",
      "source": [
        "from transformers import DataCollatorForSeq2Seq\n",
        "\n",
        "data_collect=DataCollatorForSeq2Seq(tokenizer,model=checkpoint , return_tensors =\"tf\")"
      ],
      "metadata": {
        "id": "GTZC4DcOrDf0"
      },
      "execution_count": 13,
      "outputs": []
    },
    {
      "cell_type": "markdown",
      "source": [
        "### Evaluate"
      ],
      "metadata": {
        "id": "3drnrVQK_1IJ"
      }
    },
    {
      "cell_type": "markdown",
      "source": [
        "Including a metric during training is often helpful for evaluating your model’s performance. You can quickly load a evaluation method with the 🤗 [Evaluate](https://huggingface.co/docs/evaluate/index) library. For this task, load the [ROUGE](https://huggingface.co/spaces/evaluate-metric/rouge) metric (see the 🤗 Evaluate quick tour to learn more about how to load and compute a metric):"
      ],
      "metadata": {
        "id": "ji0FVoPd_rxV"
      }
    },
    {
      "cell_type": "code",
      "source": [
        "import evaluate\n",
        "\n",
        "rouge = evaluate.load(\"rouge\")"
      ],
      "metadata": {
        "id": "2Qj1lt2y_nDq",
        "outputId": "aed9dbf5-7742-41a0-a3e1-984de4e64223",
        "colab": {
          "base_uri": "https://localhost:8080/",
          "height": 49,
          "referenced_widgets": [
            "a6b2368d5c3c47d28777ac1b1d699ea2",
            "e37ed41e74b940f78cf41bfd2c5fc33b",
            "d464142e014f4d85817ab8a9cecf9619",
            "c6afa66e88aa4482ad0f7813e58a3ca9",
            "73c048ec2506439f9300bb86cd53ff9c",
            "3ecef4a2d00c48a181330d7efe3ac6fd",
            "bd5551ae73664ea2b761c6d796f76cd3",
            "e76fef6385ef4c8ca8198ce11c3f6264",
            "8326955f3f454a55804c964398c73f64",
            "19dd04575d93433cbe541d1ec530c6cb",
            "001ded28ac40479db93ca1936e0d2383"
          ]
        }
      },
      "execution_count": 14,
      "outputs": [
        {
          "output_type": "display_data",
          "data": {
            "text/plain": [
              "Downloading builder script:   0%|          | 0.00/6.27k [00:00<?, ?B/s]"
            ],
            "application/vnd.jupyter.widget-view+json": {
              "version_major": 2,
              "version_minor": 0,
              "model_id": "a6b2368d5c3c47d28777ac1b1d699ea2"
            }
          },
          "metadata": {}
        }
      ]
    },
    {
      "cell_type": "code",
      "source": [
        "import numpy as np\n",
        "\n",
        "\n",
        "def compute_metrics(eval_pred):\n",
        "    predictions, labels = eval_pred\n",
        "    decoded_preds = tokenizer.batch_decode(predictions, skip_special_tokens=True)\n",
        "    labels = np.where(labels != -100, labels, tokenizer.pad_token_id)\n",
        "    decoded_labels = tokenizer.batch_decode(labels, skip_special_tokens=True)\n",
        "\n",
        "    result = rouge.compute(predictions=decoded_preds, references=decoded_labels, use_stemmer=True)\n",
        "\n",
        "    prediction_lens = [np.count_nonzero(pred != tokenizer.pad_token_id) for pred in predictions]\n",
        "    result[\"gen_len\"] = np.mean(prediction_lens)\n",
        "\n",
        "    return {k: round(v, 4) for k, v in result.items()}"
      ],
      "metadata": {
        "id": "EnzQGLEf_-63"
      },
      "execution_count": 15,
      "outputs": []
    },
    {
      "cell_type": "markdown",
      "source": [
        "### Train"
      ],
      "metadata": {
        "id": "CsyIOgP2AE6e"
      }
    },
    {
      "cell_type": "markdown",
      "source": [
        "To finetune a model in TensorFlow, start by setting up an optimizer function, learning rate schedule, and some training hyperparameters:"
      ],
      "metadata": {
        "id": "6-jNmVf_AKKh"
      }
    },
    {
      "cell_type": "code",
      "source": [
        "from transformers import create_optimizer, AdamWeightDecay#@@@@@\n",
        "\n",
        "optimizer = AdamWeightDecay(learning_rate=2e-5, weight_decay_rate=0.01)"
      ],
      "metadata": {
        "id": "vHO2isuqAADA"
      },
      "execution_count": null,
      "outputs": []
    },
    {
      "cell_type": "code",
      "source": [
        "from transformers import create_optimizer, AdamWeightDecay\n",
        "\n",
        "optimizer = AdamWeightDecay(learning_rate=2e-5, weight_decay_rate=0.01)"
      ],
      "metadata": {
        "id": "LUTboVJ1rV8N"
      },
      "execution_count": 16,
      "outputs": []
    },
    {
      "cell_type": "markdown",
      "source": [
        "Then you can load T5 with [TFAutoModelForSeq2SeqLM](https://huggingface.co/docs/transformers/v4.44.2/en/model_doc/auto#transformers.TFAutoModelForSeq2SeqLM):"
      ],
      "metadata": {
        "id": "sZyjXbA8ALnC"
      }
    },
    {
      "cell_type": "code",
      "source": [
        "from transformers import TFAutoModelForSeq2SeqLM#@@@@@@@\n",
        "\n",
        "model = TFAutoModelForSeq2SeqLM.from_pretrained(checkpoint)"
      ],
      "metadata": {
        "colab": {
          "base_uri": "https://localhost:8080/"
        },
        "id": "zSP8MJ6qAHyC",
        "outputId": "ec2517d0-ac4e-4434-cebd-dd1097d30f32"
      },
      "execution_count": null,
      "outputs": [
        {
          "output_type": "stream",
          "name": "stderr",
          "text": [
            "All PyTorch model weights were used when initializing TFT5ForConditionalGeneration.\n",
            "\n",
            "All the weights of TFT5ForConditionalGeneration were initialized from the PyTorch model.\n",
            "If your task is similar to the task the model of the checkpoint was trained on, you can already use TFT5ForConditionalGeneration for predictions without further training.\n"
          ]
        }
      ]
    },
    {
      "cell_type": "code",
      "source": [
        "from transformers import TFAutoModelForSeq2SeqLM\n",
        "model=TFAutoModelForSeq2SeqLM.from_pretrained(checkpoint)"
      ],
      "metadata": {
        "id": "N4rBgCFxra_T",
        "outputId": "749823c1-dd0f-4f51-ee4a-e2cad2efdf2d",
        "colab": {
          "base_uri": "https://localhost:8080/",
          "height": 170,
          "referenced_widgets": [
            "dff6e33cd21e4b17856f06e2f48c31d6",
            "551867b75f78473aa0e5548695bc4d07",
            "125a1e49a0264a7d9d7547fd9d50e21a",
            "b0ce1c663e8e4b05ac57a02499ddc5bc",
            "5a54c34b9d804b7f868e6fdc373f8385",
            "3c7e577a80a740298167c30c08b7407f",
            "a58199d90548408e8cc915282736d7ca",
            "de84ffbbdc1149629ad23d0e1e63b5ab",
            "d120af82ea2b4294a509a488225781e1",
            "f0de9eaa352a41798a104165cdc85b92",
            "e08e109e6d254e7082ff682edfc775e4",
            "bda2d3044b864c46b3ff69c4973b243b",
            "4feff2e366bb48c2873489caf6860593",
            "2385277e7ed34237904c0243d9a738ef",
            "cbfa7d9669314b489218524301873667",
            "c3672c859bef448695e0af82c77b9a68",
            "9a80320464e84b9b934778cf839a7eda",
            "00df58f2ca3646c8989555f83a4199d6",
            "e5d894283bff48acadb481b3b3b596a5",
            "3078d63d46d3407692d67b204b5ba346",
            "a0a6f02a8bef412692c6af6426d17140",
            "70b7c40334e8414eacaa329bff37343d"
          ]
        }
      },
      "execution_count": 17,
      "outputs": [
        {
          "output_type": "display_data",
          "data": {
            "text/plain": [
              "config.json:   0%|          | 0.00/1.21k [00:00<?, ?B/s]"
            ],
            "application/vnd.jupyter.widget-view+json": {
              "version_major": 2,
              "version_minor": 0,
              "model_id": "dff6e33cd21e4b17856f06e2f48c31d6"
            }
          },
          "metadata": {}
        },
        {
          "output_type": "display_data",
          "data": {
            "text/plain": [
              "model.safetensors:   0%|          | 0.00/242M [00:00<?, ?B/s]"
            ],
            "application/vnd.jupyter.widget-view+json": {
              "version_major": 2,
              "version_minor": 0,
              "model_id": "bda2d3044b864c46b3ff69c4973b243b"
            }
          },
          "metadata": {}
        },
        {
          "output_type": "stream",
          "name": "stderr",
          "text": [
            "All PyTorch model weights were used when initializing TFT5ForConditionalGeneration.\n",
            "\n",
            "All the weights of TFT5ForConditionalGeneration were initialized from the PyTorch model.\n",
            "If your task is similar to the task the model of the checkpoint was trained on, you can already use TFT5ForConditionalGeneration for predictions without further training.\n"
          ]
        }
      ]
    },
    {
      "cell_type": "markdown",
      "source": [
        "Convert your datasets to the `tf.data.Dataset` format with [prepare_tf_dataset()](https://huggingface.co/docs/transformers/v4.44.2/en/main_classes/model#transformers.TFPreTrainedModel.prepare_tf_dataset):"
      ],
      "metadata": {
        "id": "BXH_ma6fAQJW"
      }
    },
    {
      "cell_type": "code",
      "source": [
        "train_size = int(0.7 * len(tokenized_billsum))#@@@@@\n",
        "validation_size = int(0.15 * len(tokenized_billsum))\n",
        "test_size = int(0.15 * len(tokenized_billsum))\n",
        "tokenized_billsum = {\"train\": tokenized_billsum.select(range(train_size)),\n",
        "                     \"validation\": tokenized_billsum.select(range(train_size, train_size + validation_size)),\n",
        "                     \"test\": tokenized_billsum.select(range(train_size + validation_size, train_size + validation_size + test_size))}"
      ],
      "metadata": {
        "id": "x68IOiPvCCUq"
      },
      "execution_count": null,
      "outputs": []
    },
    {
      "cell_type": "code",
      "source": [
        "train_size=int(0.7* len(tokin))\n",
        "validation_size = int(0.15 * len(tokin))\n",
        "test_size = int(0.15 * len(tokin))\n",
        "\n",
        "tokenized_billsum={\"traine:\":tokin.select(range(train_size)),\n",
        "                   \"vald:\":tokin.select(range(train_size ,train_size+validation_size)),\n",
        "                   \"test:\":tokin.select(range(train_size+validation_size,train_size+validation_size+test_size))}"
      ],
      "metadata": {
        "id": "RCsOp70drkls"
      },
      "execution_count": 20,
      "outputs": []
    },
    {
      "cell_type": "code",
      "source": [
        "batch_size=4#@@@@@@@@@@@\n",
        "tf_train_set = model.prepare_tf_dataset(\n",
        "    tokenized_billsum[\"train\"],\n",
        "    shuffle=True,\n",
        "    batch_size=batch_size,\n",
        "    collate_fn=data_collator,\n",
        ")\n",
        "\n",
        "tf_validation_set = model.prepare_tf_dataset(\n",
        "    tokenized_billsum[\"validation\"],\n",
        "    shuffle=False,\n",
        "    batch_size=batch_size,\n",
        "    collate_fn=data_collator,\n",
        ")\n",
        "\n",
        "tf_test_set = model.prepare_tf_dataset(\n",
        "    tokenized_billsum[\"test\"],\n",
        "    shuffle=False,\n",
        "    batch_size=batch_size,\n",
        "    collate_fn=data_collator,\n",
        ")"
      ],
      "metadata": {
        "id": "frQkH8zcAI7P"
      },
      "execution_count": null,
      "outputs": []
    },
    {
      "cell_type": "code",
      "source": [
        "bach_size=4\n",
        "\n",
        "tf_train_set=model.prepare_tf_dataset(\n",
        "    tokenized_billsum[\"traine:\"],\n",
        "    shuffle=True,\n",
        "    batch_size=bach_size,\n",
        "    collate_fn=data_collect,\n",
        ")\n",
        "\n",
        "tf_validation_set=model.prepare_tf_dataset(\n",
        "    tokenized_billsum[\"vald:\"],\n",
        "    shuffle=False,\n",
        "    batch_size=bach_size,\n",
        "    collate_fn=data_collect,\n",
        ")\n",
        "\n",
        "tf_test_set=model.prepare_tf_dataset(\n",
        "    tokenized_billsum[\"test:\"],\n",
        "    shuffle=False,\n",
        "    batch_size=bach_size,\n",
        "    collate_fn=data_collect,\n",
        ")\n",
        "\n"
      ],
      "metadata": {
        "id": "2HyTSitqszDW"
      },
      "execution_count": 22,
      "outputs": []
    },
    {
      "cell_type": "markdown",
      "source": [
        "Configure the model for training with [compile](https://keras.io/api/models/model_training_apis/#compile-method). Note that Transformers models all have a default task-relevant loss function, so you don’t need to specify one unless you want to:"
      ],
      "metadata": {
        "id": "ItdIANqxAYU3"
      }
    },
    {
      "cell_type": "code",
      "source": [
        "import tensorflow as tf#@@@@@\n",
        "\n",
        "model.compile(optimizer=optimizer)  # No loss argument!"
      ],
      "metadata": {
        "id": "XUS25M3dAWO9"
      },
      "execution_count": null,
      "outputs": []
    },
    {
      "cell_type": "code",
      "source": [
        "import tensorflow as tf\n",
        "\n",
        "model.compile(optimizer=optimizer)"
      ],
      "metadata": {
        "id": "2GIg1ZBpuNi0"
      },
      "execution_count": 23,
      "outputs": []
    },
    {
      "cell_type": "markdown",
      "source": [
        "The last two things to setup before you start training is to compute the ROUGE score from the predictions, and provide a way to push your model to the Hub. Both are done by using [Keras callbacks](https://huggingface.co/docs/transformers/en/main_classes/keras_callbacks).\n",
        "\n",
        "Pass your compute_metrics function to [KerasMetricCallback](https://huggingface.co/docs/transformers/v4.44.2/en/main_classes/keras_callbacks#transformers.KerasMetricCallback):"
      ],
      "metadata": {
        "id": "TTbzXcRuAi0v"
      }
    },
    {
      "cell_type": "code",
      "source": [
        "from transformers.keras_callbacks import KerasMetricCallback\n",
        "\n",
        "metric_callback = KerasMetricCallback(metric_fn=compute_metrics, eval_dataset=tf_validation_set)"
      ],
      "metadata": {
        "id": "3Nn8CklGAs9f"
      },
      "execution_count": 24,
      "outputs": []
    },
    {
      "cell_type": "markdown",
      "source": [
        "Finally, you’re ready to start training your model! Call [fit](https://keras.io/api/models/model_training_apis/#fit-method) with your training and validation datasets, the number of epochs, and your callbacks to finetune the model:"
      ],
      "metadata": {
        "id": "vpkxyEkcBdJl"
      }
    },
    {
      "cell_type": "code",
      "source": [
        "model.fit(x=tf_train_set, validation_data=tf_test_set, epochs=3)"
      ],
      "metadata": {
        "colab": {
          "base_uri": "https://localhost:8080/"
        },
        "id": "3_M30vyWBcA9",
        "outputId": "de38a1da-183c-4fe7-adeb-c33d3ee5e95c"
      },
      "execution_count": 25,
      "outputs": [
        {
          "output_type": "stream",
          "name": "stdout",
          "text": [
            "Epoch 1/3\n",
            "216/216 [==============================] - 124s 476ms/step - loss: 3.2718 - val_loss: 2.5081\n",
            "Epoch 2/3\n",
            "216/216 [==============================] - 103s 475ms/step - loss: 2.7658 - val_loss: 2.3509\n",
            "Epoch 3/3\n",
            "216/216 [==============================] - 103s 475ms/step - loss: 2.6308 - val_loss: 2.2667\n"
          ]
        },
        {
          "output_type": "execute_result",
          "data": {
            "text/plain": [
              "<tf_keras.src.callbacks.History at 0x7898e2394370>"
            ]
          },
          "metadata": {},
          "execution_count": 25
        }
      ]
    },
    {
      "cell_type": "code",
      "source": [
        "model.save_pretrained(\"my_awesome_billsum_model\")\n",
        "tokenizer.save_pretrained(\"/content/my_awesome_billsum_model\")"
      ],
      "metadata": {
        "id": "-K8imrfLHS-a",
        "outputId": "436e238b-d49f-4178-c31e-4fd646bc9c5c",
        "colab": {
          "base_uri": "https://localhost:8080/"
        }
      },
      "execution_count": 26,
      "outputs": [
        {
          "output_type": "execute_result",
          "data": {
            "text/plain": [
              "('/content/my_awesome_billsum_model/tokenizer_config.json',\n",
              " '/content/my_awesome_billsum_model/special_tokens_map.json',\n",
              " '/content/my_awesome_billsum_model/spiece.model',\n",
              " '/content/my_awesome_billsum_model/added_tokens.json',\n",
              " '/content/my_awesome_billsum_model/tokenizer.json')"
            ]
          },
          "metadata": {},
          "execution_count": 26
        }
      ]
    },
    {
      "cell_type": "markdown",
      "source": [
        "### Inference"
      ],
      "metadata": {
        "id": "XUhEyn4tDwUf"
      }
    },
    {
      "cell_type": "markdown",
      "source": [
        "Great, now that you’ve finetuned a model, you can use it for inference!\n",
        "\n",
        "Come up with some text you’d like to summarize. For T5, you need to prefix your input depending on the task you’re working on. For summarization you should prefix your input as shown below:"
      ],
      "metadata": {
        "id": "qHWp5WCNDyCW"
      }
    },
    {
      "cell_type": "code",
      "source": [
        "text = \"summarize: The Inflation Reduction Act lowers prescription drug costs, health care costs, and energy costs. It's the most aggressive action on tackling the climate crisis in American history, which will lift up American workers and create good-paying, union jobs across the country. It'll lower the deficit and ask the ultra-wealthy and corporations to pay their fair share. And no one making under $400,000 per year will pay a penny more in taxes.\""
      ],
      "metadata": {
        "id": "ILqvlXm3CzV5"
      },
      "execution_count": 27,
      "outputs": []
    },
    {
      "cell_type": "markdown",
      "source": [
        "The simplest way to try out your finetuned model for inference is to use it in a pipeline(). Instantiate a [pipeline](https://huggingface.co/docs/transformers/v4.44.2/en/main_classes/pipelines#transformers.pipeline) for summarization with your model, and pass your text to it:"
      ],
      "metadata": {
        "id": "DxcL-OezDz-t"
      }
    },
    {
      "cell_type": "code",
      "source": [
        "c\n",
        "\n",
        "summarizer = pipeline(\"summarization\", model=\"/content/my_awesome_billsum_model\")\n",
        "summarizer(text)"
      ],
      "metadata": {
        "colab": {
          "base_uri": "https://localhost:8080/"
        },
        "id": "NAYZYQduD6HZ",
        "outputId": "9c9a10af-d300-4f0b-d3c4-82343bf30f4a"
      },
      "execution_count": null,
      "outputs": [
        {
          "output_type": "stream",
          "name": "stderr",
          "text": [
            "All model checkpoint layers were used when initializing TFT5ForConditionalGeneration.\n",
            "\n",
            "All the layers of TFT5ForConditionalGeneration were initialized from the model checkpoint at /content/my_awesome_billsum_model.\n",
            "If your task is similar to the task the model of the checkpoint was trained on, you can already use TFT5ForConditionalGeneration for predictions without further training.\n",
            "Hardware accelerator e.g. GPU is available in the environment, but no `device` argument is passed to the `Pipeline` object. Model will be on CPU.\n",
            "Your max_length is set to 200, but your input_length is only 103. Since this is a summarization task, where outputs shorter than the input are typically wanted, you might consider decreasing max_length manually, e.g. summarizer('...', max_length=51)\n"
          ]
        },
        {
          "output_type": "execute_result",
          "data": {
            "text/plain": [
              "[{'summary_text': \"The Inflation Reduction Act lowers prescription drug costs, health care costs, and energy costs. It's the most aggressive action on tackling the climate crisis in American history. It will ask the ultra-wealthy and corporations to pay their fair share.\"}]"
            ]
          },
          "metadata": {},
          "execution_count": 26
        }
      ]
    },
    {
      "cell_type": "code",
      "source": [
        "from transformers import pipeline\n",
        "\n",
        "summrize = pipeline (\"summarization\", model=\"/content/my_awesome_billsum_model\")\n",
        "summrize(text)"
      ],
      "metadata": {
        "id": "M3vnOjUVxEA9",
        "outputId": "d5652bb1-a9e8-463d-d6d5-f32ec901d573",
        "colab": {
          "base_uri": "https://localhost:8080/"
        }
      },
      "execution_count": 32,
      "outputs": [
        {
          "output_type": "stream",
          "name": "stderr",
          "text": [
            "All model checkpoint layers were used when initializing TFT5ForConditionalGeneration.\n",
            "\n",
            "All the layers of TFT5ForConditionalGeneration were initialized from the model checkpoint at /content/my_awesome_billsum_model.\n",
            "If your task is similar to the task the model of the checkpoint was trained on, you can already use TFT5ForConditionalGeneration for predictions without further training.\n",
            "Hardware accelerator e.g. GPU is available in the environment, but no `device` argument is passed to the `Pipeline` object. Model will be on CPU.\n",
            "Your max_length is set to 200, but your input_length is only 103. Since this is a summarization task, where outputs shorter than the input are typically wanted, you might consider decreasing max_length manually, e.g. summarizer('...', max_length=51)\n"
          ]
        },
        {
          "output_type": "execute_result",
          "data": {
            "text/plain": [
              "[{'summary_text': \"the Inflation Reduction Act lowers prescription drug costs, health care costs, and energy costs . it's the most aggressive action on tackling the climate crisis in American history . no one making under $400,000 per year will pay a penny more in taxes.\"}]"
            ]
          },
          "metadata": {},
          "execution_count": 32
        }
      ]
    },
    {
      "cell_type": "code",
      "source": [
        "\n"
      ],
      "metadata": {
        "id": "9A-tjpm1xVhm"
      },
      "execution_count": null,
      "outputs": []
    }
  ]
}