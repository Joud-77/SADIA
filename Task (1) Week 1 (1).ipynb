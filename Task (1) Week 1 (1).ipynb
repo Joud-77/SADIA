{
 "cells": [
  {
   "cell_type": "markdown",
   "metadata": {
    "id": "8vb3xNKsoP0r"
   },
   "source": [
    "#Dataset Description"
   ]
  },
  {
   "cell_type": "markdown",
   "metadata": {
    "id": "4TflBwn4kNdJ"
   },
   "source": [
    "\\\n",
    "\n",
    "## The dataset contains information about road traffic accidents with the following columns:\n",
    "\n",
    "`Time`: Time of the accident\n",
    "\n",
    "`Day_of_week`: Day of the week when the accident occurred\n",
    "\n",
    "`Age_band_of_driver`: Age group of the driver\n",
    "\n",
    "`Sex_of_driver`: Gender of the driver\n",
    "\n",
    "`Educational_level`: Educational level of the driver\n",
    "\n",
    "`Vehicle_driver_relation`: Relationship of the driver to the vehicle\n",
    "\n",
    "`Driving_experience`: Driving experience of the driver\n",
    "\n",
    "`Type_of_vehicle`: Type of vehicle involved in the accident\n",
    "\n",
    "`Owner_of_vehicle`: Owner of the vehicle\n",
    "\n",
    "`Service_year_of_vehicle`: Service years of the vehicle\n",
    "\n",
    "`Area_accident_occured`: Area where the accident occurred\n",
    "\n",
    "`Lanes_or_Medians`: Lanes or medians at the accident site\n",
    "\n",
    "`Road_allignment`: Road alignment at the accident site\n",
    "\n",
    "`Types_of_Junction`: Type of junction at the accident site\n",
    "\n",
    "`Road_surface_type`: Type of road surface at the accident site\n",
    "\n",
    "`Road_surface_conditions`: Road surface conditions at the accident site\n",
    "\n",
    "`Light_conditions`: Light conditions at the time of the accident\n",
    "\n",
    "`Weather_conditions`: Weather conditions at the time of the accident\n",
    "\n",
    "`Type_of_collision`: Type of collision\n",
    "\n",
    "`Number_of_vehicles_involved`: Number of vehicles involved in the accident\n",
    "\n",
    "`Number_of_casualties`: Number of casualties in the accident\n",
    "\n",
    "`Vehicle_movement`: Movement of the vehicle during the accident\n",
    "\n",
    "`Casualty_class`: Class of casualty (driver, passenger, pedestrian)\n",
    "\n",
    "`Sex_of_casualty`: Gender of the casualty\n",
    "\n",
    "`Age_band_of_casualty`: Age group of the casualty\n",
    "\n",
    "`Casualty_severity`: Severity of the casualty\n",
    "\n",
    "`Work_of_casuality`: Occupation of the casualty\n",
    "\n",
    "`Fitness_of_casuality`: Fitness of the casualty\n",
    "\n",
    "`Pedestrian_movement`: Movement of the pedestrian\n",
    "\n",
    "`Cause_of_accident`: Cause of the accident\n",
    "\n",
    "`Accident_severity`: Severity of the accident\n"
   ]
  },
  {
   "cell_type": "markdown",
   "metadata": {
    "id": "WBNuyQVhlpj5"
   },
   "source": [
    "# Tasks"
   ]
  },
  {
   "cell_type": "markdown",
   "metadata": {
    "id": "dasaHMt9lvdZ"
   },
   "source": [
    "##1. Data Cleaning"
   ]
  },
  {
   "cell_type": "markdown",
   "metadata": {
    "id": "RNId1lMc3iUT"
   },
   "source": [
    "### Read the dataset"
   ]
  },
  {
   "cell_type": "code",
   "execution_count": null,
   "metadata": {
    "id": "KoTLFh533l5X"
   },
   "outputs": [],
   "source": [
    "#uplode and read dataset"
   ]
  },
  {
   "cell_type": "code",
   "execution_count": 92,
   "metadata": {},
   "outputs": [],
   "source": [
    "import pandas as pd\n",
    "\n",
    "df=pd.read_csv(\"C:/Users/asus/OneDrive/Desktop/python spyder/jyupter/Week1/Task (1) Dataset.csv\")"
   ]
  },
  {
   "cell_type": "code",
   "execution_count": 116,
   "metadata": {},
   "outputs": [],
   "source": [
    "\n",
    "import numpy as np\n",
    "import matplotlib.pyplot as plt\n",
    "import seaborn as sns"
   ]
  },
  {
   "cell_type": "code",
   "execution_count": null,
   "metadata": {},
   "outputs": [],
   "source": [
    "#read dataset and show information"
   ]
  },
  {
   "cell_type": "code",
   "execution_count": 2,
   "metadata": {},
   "outputs": [
    {
     "name": "stdout",
     "output_type": "stream",
     "text": [
      "<class 'pandas.core.frame.DataFrame'>\n",
      "RangeIndex: 12316 entries, 0 to 12315\n",
      "Data columns (total 32 columns):\n",
      " #   Column                       Non-Null Count  Dtype \n",
      "---  ------                       --------------  ----- \n",
      " 0   Time                         12316 non-null  object\n",
      " 1   Day_of_week                  12316 non-null  object\n",
      " 2   Age_band_of_driver           12316 non-null  object\n",
      " 3   Sex_of_driver                12316 non-null  object\n",
      " 4   Educational_level            11575 non-null  object\n",
      " 5   Vehicle_driver_relation      11737 non-null  object\n",
      " 6   Driving_experience           11487 non-null  object\n",
      " 7   Type_of_vehicle              11366 non-null  object\n",
      " 8   Owner_of_vehicle             11834 non-null  object\n",
      " 9   Service_year_of_vehicle      8388 non-null   object\n",
      " 10  Defect_of_vehicle            7889 non-null   object\n",
      " 11  Area_accident_occured        12077 non-null  object\n",
      " 12  Lanes_or_Medians             11931 non-null  object\n",
      " 13  Road_allignment              12174 non-null  object\n",
      " 14  Types_of_Junction            11429 non-null  object\n",
      " 15  Road_surface_type            12144 non-null  object\n",
      " 16  Road_surface_conditions      12316 non-null  object\n",
      " 17  Light_conditions             12316 non-null  object\n",
      " 18  Weather_conditions           12316 non-null  object\n",
      " 19  Type_of_collision            12161 non-null  object\n",
      " 20  Number_of_vehicles_involved  12316 non-null  int64 \n",
      " 21  Number_of_casualties         12316 non-null  int64 \n",
      " 22  Vehicle_movement             12008 non-null  object\n",
      " 23  Casualty_class               12316 non-null  object\n",
      " 24  Sex_of_casualty              12316 non-null  object\n",
      " 25  Age_band_of_casualty         12316 non-null  object\n",
      " 26  Casualty_severity            12316 non-null  object\n",
      " 27  Work_of_casuality            9118 non-null   object\n",
      " 28  Fitness_of_casuality         9681 non-null   object\n",
      " 29  Pedestrian_movement          12316 non-null  object\n",
      " 30  Cause_of_accident            12316 non-null  object\n",
      " 31  Accident_severity            12316 non-null  object\n",
      "dtypes: int64(2), object(30)\n",
      "memory usage: 3.0+ MB\n"
     ]
    }
   ],
   "source": [
    "df.info()"
   ]
  },
  {
   "cell_type": "code",
   "execution_count": 3,
   "metadata": {},
   "outputs": [
    {
     "data": {
      "text/html": [
       "<div>\n",
       "<style scoped>\n",
       "    .dataframe tbody tr th:only-of-type {\n",
       "        vertical-align: middle;\n",
       "    }\n",
       "\n",
       "    .dataframe tbody tr th {\n",
       "        vertical-align: top;\n",
       "    }\n",
       "\n",
       "    .dataframe thead th {\n",
       "        text-align: right;\n",
       "    }\n",
       "</style>\n",
       "<table border=\"1\" class=\"dataframe\">\n",
       "  <thead>\n",
       "    <tr style=\"text-align: right;\">\n",
       "      <th></th>\n",
       "      <th>Time</th>\n",
       "      <th>Day_of_week</th>\n",
       "      <th>Age_band_of_driver</th>\n",
       "      <th>Sex_of_driver</th>\n",
       "      <th>Educational_level</th>\n",
       "      <th>Vehicle_driver_relation</th>\n",
       "      <th>Driving_experience</th>\n",
       "      <th>Type_of_vehicle</th>\n",
       "      <th>Owner_of_vehicle</th>\n",
       "      <th>Service_year_of_vehicle</th>\n",
       "      <th>...</th>\n",
       "      <th>Vehicle_movement</th>\n",
       "      <th>Casualty_class</th>\n",
       "      <th>Sex_of_casualty</th>\n",
       "      <th>Age_band_of_casualty</th>\n",
       "      <th>Casualty_severity</th>\n",
       "      <th>Work_of_casuality</th>\n",
       "      <th>Fitness_of_casuality</th>\n",
       "      <th>Pedestrian_movement</th>\n",
       "      <th>Cause_of_accident</th>\n",
       "      <th>Accident_severity</th>\n",
       "    </tr>\n",
       "  </thead>\n",
       "  <tbody>\n",
       "    <tr>\n",
       "      <th>0</th>\n",
       "      <td>17:02:00</td>\n",
       "      <td>Monday</td>\n",
       "      <td>18-30</td>\n",
       "      <td>Male</td>\n",
       "      <td>Above high school</td>\n",
       "      <td>Employee</td>\n",
       "      <td>1-2yr</td>\n",
       "      <td>Automobile</td>\n",
       "      <td>Owner</td>\n",
       "      <td>Above 10yr</td>\n",
       "      <td>...</td>\n",
       "      <td>Going straight</td>\n",
       "      <td>na</td>\n",
       "      <td>na</td>\n",
       "      <td>na</td>\n",
       "      <td>na</td>\n",
       "      <td>NaN</td>\n",
       "      <td>NaN</td>\n",
       "      <td>Not a Pedestrian</td>\n",
       "      <td>Moving Backward</td>\n",
       "      <td>Slight Injury</td>\n",
       "    </tr>\n",
       "    <tr>\n",
       "      <th>1</th>\n",
       "      <td>17:02:00</td>\n",
       "      <td>Monday</td>\n",
       "      <td>31-50</td>\n",
       "      <td>Male</td>\n",
       "      <td>Junior high school</td>\n",
       "      <td>Employee</td>\n",
       "      <td>Above 10yr</td>\n",
       "      <td>Public (&gt; 45 seats)</td>\n",
       "      <td>Owner</td>\n",
       "      <td>5-10yrs</td>\n",
       "      <td>...</td>\n",
       "      <td>Going straight</td>\n",
       "      <td>na</td>\n",
       "      <td>na</td>\n",
       "      <td>na</td>\n",
       "      <td>na</td>\n",
       "      <td>NaN</td>\n",
       "      <td>NaN</td>\n",
       "      <td>Not a Pedestrian</td>\n",
       "      <td>Overtaking</td>\n",
       "      <td>Slight Injury</td>\n",
       "    </tr>\n",
       "    <tr>\n",
       "      <th>2</th>\n",
       "      <td>17:02:00</td>\n",
       "      <td>Monday</td>\n",
       "      <td>18-30</td>\n",
       "      <td>Male</td>\n",
       "      <td>Junior high school</td>\n",
       "      <td>Employee</td>\n",
       "      <td>1-2yr</td>\n",
       "      <td>Lorry (41?100Q)</td>\n",
       "      <td>Owner</td>\n",
       "      <td>NaN</td>\n",
       "      <td>...</td>\n",
       "      <td>Going straight</td>\n",
       "      <td>Driver or rider</td>\n",
       "      <td>Male</td>\n",
       "      <td>31-50</td>\n",
       "      <td>3</td>\n",
       "      <td>Driver</td>\n",
       "      <td>NaN</td>\n",
       "      <td>Not a Pedestrian</td>\n",
       "      <td>Changing lane to the left</td>\n",
       "      <td>Serious Injury</td>\n",
       "    </tr>\n",
       "    <tr>\n",
       "      <th>3</th>\n",
       "      <td>1:06:00</td>\n",
       "      <td>Sunday</td>\n",
       "      <td>18-30</td>\n",
       "      <td>Male</td>\n",
       "      <td>Junior high school</td>\n",
       "      <td>Employee</td>\n",
       "      <td>5-10yr</td>\n",
       "      <td>Public (&gt; 45 seats)</td>\n",
       "      <td>Governmental</td>\n",
       "      <td>NaN</td>\n",
       "      <td>...</td>\n",
       "      <td>Going straight</td>\n",
       "      <td>Pedestrian</td>\n",
       "      <td>Female</td>\n",
       "      <td>18-30</td>\n",
       "      <td>3</td>\n",
       "      <td>Driver</td>\n",
       "      <td>Normal</td>\n",
       "      <td>Not a Pedestrian</td>\n",
       "      <td>Changing lane to the right</td>\n",
       "      <td>Slight Injury</td>\n",
       "    </tr>\n",
       "    <tr>\n",
       "      <th>4</th>\n",
       "      <td>1:06:00</td>\n",
       "      <td>Sunday</td>\n",
       "      <td>18-30</td>\n",
       "      <td>Male</td>\n",
       "      <td>Junior high school</td>\n",
       "      <td>Employee</td>\n",
       "      <td>2-5yr</td>\n",
       "      <td>NaN</td>\n",
       "      <td>Owner</td>\n",
       "      <td>5-10yrs</td>\n",
       "      <td>...</td>\n",
       "      <td>Going straight</td>\n",
       "      <td>na</td>\n",
       "      <td>na</td>\n",
       "      <td>na</td>\n",
       "      <td>na</td>\n",
       "      <td>NaN</td>\n",
       "      <td>NaN</td>\n",
       "      <td>Not a Pedestrian</td>\n",
       "      <td>Overtaking</td>\n",
       "      <td>Slight Injury</td>\n",
       "    </tr>\n",
       "    <tr>\n",
       "      <th>...</th>\n",
       "      <td>...</td>\n",
       "      <td>...</td>\n",
       "      <td>...</td>\n",
       "      <td>...</td>\n",
       "      <td>...</td>\n",
       "      <td>...</td>\n",
       "      <td>...</td>\n",
       "      <td>...</td>\n",
       "      <td>...</td>\n",
       "      <td>...</td>\n",
       "      <td>...</td>\n",
       "      <td>...</td>\n",
       "      <td>...</td>\n",
       "      <td>...</td>\n",
       "      <td>...</td>\n",
       "      <td>...</td>\n",
       "      <td>...</td>\n",
       "      <td>...</td>\n",
       "      <td>...</td>\n",
       "      <td>...</td>\n",
       "      <td>...</td>\n",
       "    </tr>\n",
       "    <tr>\n",
       "      <th>12311</th>\n",
       "      <td>16:15:00</td>\n",
       "      <td>Wednesday</td>\n",
       "      <td>31-50</td>\n",
       "      <td>Male</td>\n",
       "      <td>NaN</td>\n",
       "      <td>Employee</td>\n",
       "      <td>2-5yr</td>\n",
       "      <td>Lorry (11?40Q)</td>\n",
       "      <td>Owner</td>\n",
       "      <td>NaN</td>\n",
       "      <td>...</td>\n",
       "      <td>Going straight</td>\n",
       "      <td>na</td>\n",
       "      <td>na</td>\n",
       "      <td>na</td>\n",
       "      <td>na</td>\n",
       "      <td>Driver</td>\n",
       "      <td>Normal</td>\n",
       "      <td>Not a Pedestrian</td>\n",
       "      <td>No distancing</td>\n",
       "      <td>Slight Injury</td>\n",
       "    </tr>\n",
       "    <tr>\n",
       "      <th>12312</th>\n",
       "      <td>18:00:00</td>\n",
       "      <td>Sunday</td>\n",
       "      <td>Unknown</td>\n",
       "      <td>Male</td>\n",
       "      <td>Elementary school</td>\n",
       "      <td>Employee</td>\n",
       "      <td>5-10yr</td>\n",
       "      <td>Automobile</td>\n",
       "      <td>Owner</td>\n",
       "      <td>NaN</td>\n",
       "      <td>...</td>\n",
       "      <td>Other</td>\n",
       "      <td>na</td>\n",
       "      <td>na</td>\n",
       "      <td>na</td>\n",
       "      <td>na</td>\n",
       "      <td>Driver</td>\n",
       "      <td>Normal</td>\n",
       "      <td>Not a Pedestrian</td>\n",
       "      <td>No distancing</td>\n",
       "      <td>Slight Injury</td>\n",
       "    </tr>\n",
       "    <tr>\n",
       "      <th>12313</th>\n",
       "      <td>13:55:00</td>\n",
       "      <td>Sunday</td>\n",
       "      <td>Over 51</td>\n",
       "      <td>Male</td>\n",
       "      <td>Junior high school</td>\n",
       "      <td>Employee</td>\n",
       "      <td>5-10yr</td>\n",
       "      <td>Bajaj</td>\n",
       "      <td>Owner</td>\n",
       "      <td>2-5yrs</td>\n",
       "      <td>...</td>\n",
       "      <td>Other</td>\n",
       "      <td>Driver or rider</td>\n",
       "      <td>Male</td>\n",
       "      <td>31-50</td>\n",
       "      <td>3</td>\n",
       "      <td>Driver</td>\n",
       "      <td>Normal</td>\n",
       "      <td>Not a Pedestrian</td>\n",
       "      <td>Changing lane to the right</td>\n",
       "      <td>Serious Injury</td>\n",
       "    </tr>\n",
       "    <tr>\n",
       "      <th>12314</th>\n",
       "      <td>13:55:00</td>\n",
       "      <td>Sunday</td>\n",
       "      <td>18-30</td>\n",
       "      <td>Female</td>\n",
       "      <td>Junior high school</td>\n",
       "      <td>Employee</td>\n",
       "      <td>Above 10yr</td>\n",
       "      <td>Lorry (41?100Q)</td>\n",
       "      <td>Owner</td>\n",
       "      <td>2-5yrs</td>\n",
       "      <td>...</td>\n",
       "      <td>Other</td>\n",
       "      <td>na</td>\n",
       "      <td>na</td>\n",
       "      <td>na</td>\n",
       "      <td>na</td>\n",
       "      <td>Driver</td>\n",
       "      <td>Normal</td>\n",
       "      <td>Not a Pedestrian</td>\n",
       "      <td>Driving under the influence of drugs</td>\n",
       "      <td>Slight Injury</td>\n",
       "    </tr>\n",
       "    <tr>\n",
       "      <th>12315</th>\n",
       "      <td>13:55:00</td>\n",
       "      <td>Sunday</td>\n",
       "      <td>18-30</td>\n",
       "      <td>Male</td>\n",
       "      <td>Junior high school</td>\n",
       "      <td>Employee</td>\n",
       "      <td>5-10yr</td>\n",
       "      <td>Other</td>\n",
       "      <td>Owner</td>\n",
       "      <td>2-5yrs</td>\n",
       "      <td>...</td>\n",
       "      <td>Stopping</td>\n",
       "      <td>Pedestrian</td>\n",
       "      <td>Female</td>\n",
       "      <td>5</td>\n",
       "      <td>3</td>\n",
       "      <td>Driver</td>\n",
       "      <td>Normal</td>\n",
       "      <td>Crossing from nearside - masked by parked or s...</td>\n",
       "      <td>Changing lane to the right</td>\n",
       "      <td>Slight Injury</td>\n",
       "    </tr>\n",
       "  </tbody>\n",
       "</table>\n",
       "<p>12316 rows × 32 columns</p>\n",
       "</div>"
      ],
      "text/plain": [
       "           Time Day_of_week Age_band_of_driver Sex_of_driver  \\\n",
       "0      17:02:00      Monday              18-30          Male   \n",
       "1      17:02:00      Monday              31-50          Male   \n",
       "2      17:02:00      Monday              18-30          Male   \n",
       "3       1:06:00      Sunday              18-30          Male   \n",
       "4       1:06:00      Sunday              18-30          Male   \n",
       "...         ...         ...                ...           ...   \n",
       "12311  16:15:00   Wednesday              31-50          Male   \n",
       "12312  18:00:00      Sunday            Unknown          Male   \n",
       "12313  13:55:00      Sunday            Over 51          Male   \n",
       "12314  13:55:00      Sunday              18-30        Female   \n",
       "12315  13:55:00      Sunday              18-30          Male   \n",
       "\n",
       "        Educational_level Vehicle_driver_relation Driving_experience  \\\n",
       "0       Above high school                Employee              1-2yr   \n",
       "1      Junior high school                Employee         Above 10yr   \n",
       "2      Junior high school                Employee              1-2yr   \n",
       "3      Junior high school                Employee             5-10yr   \n",
       "4      Junior high school                Employee              2-5yr   \n",
       "...                   ...                     ...                ...   \n",
       "12311                 NaN                Employee              2-5yr   \n",
       "12312   Elementary school                Employee             5-10yr   \n",
       "12313  Junior high school                Employee             5-10yr   \n",
       "12314  Junior high school                Employee         Above 10yr   \n",
       "12315  Junior high school                Employee             5-10yr   \n",
       "\n",
       "           Type_of_vehicle Owner_of_vehicle Service_year_of_vehicle  ...  \\\n",
       "0               Automobile            Owner              Above 10yr  ...   \n",
       "1      Public (> 45 seats)            Owner                 5-10yrs  ...   \n",
       "2          Lorry (41?100Q)            Owner                     NaN  ...   \n",
       "3      Public (> 45 seats)     Governmental                     NaN  ...   \n",
       "4                      NaN            Owner                 5-10yrs  ...   \n",
       "...                    ...              ...                     ...  ...   \n",
       "12311       Lorry (11?40Q)            Owner                     NaN  ...   \n",
       "12312           Automobile            Owner                     NaN  ...   \n",
       "12313                Bajaj            Owner                  2-5yrs  ...   \n",
       "12314      Lorry (41?100Q)            Owner                  2-5yrs  ...   \n",
       "12315                Other            Owner                  2-5yrs  ...   \n",
       "\n",
       "      Vehicle_movement   Casualty_class Sex_of_casualty Age_band_of_casualty  \\\n",
       "0       Going straight               na              na                   na   \n",
       "1       Going straight               na              na                   na   \n",
       "2       Going straight  Driver or rider            Male                31-50   \n",
       "3       Going straight       Pedestrian          Female                18-30   \n",
       "4       Going straight               na              na                   na   \n",
       "...                ...              ...             ...                  ...   \n",
       "12311   Going straight               na              na                   na   \n",
       "12312            Other               na              na                   na   \n",
       "12313            Other  Driver or rider            Male                31-50   \n",
       "12314            Other               na              na                   na   \n",
       "12315         Stopping       Pedestrian          Female                    5   \n",
       "\n",
       "      Casualty_severity Work_of_casuality Fitness_of_casuality  \\\n",
       "0                    na               NaN                  NaN   \n",
       "1                    na               NaN                  NaN   \n",
       "2                     3            Driver                  NaN   \n",
       "3                     3            Driver               Normal   \n",
       "4                    na               NaN                  NaN   \n",
       "...                 ...               ...                  ...   \n",
       "12311                na            Driver               Normal   \n",
       "12312                na            Driver               Normal   \n",
       "12313                 3            Driver               Normal   \n",
       "12314                na            Driver               Normal   \n",
       "12315                 3            Driver               Normal   \n",
       "\n",
       "                                     Pedestrian_movement  \\\n",
       "0                                       Not a Pedestrian   \n",
       "1                                       Not a Pedestrian   \n",
       "2                                       Not a Pedestrian   \n",
       "3                                       Not a Pedestrian   \n",
       "4                                       Not a Pedestrian   \n",
       "...                                                  ...   \n",
       "12311                                   Not a Pedestrian   \n",
       "12312                                   Not a Pedestrian   \n",
       "12313                                   Not a Pedestrian   \n",
       "12314                                   Not a Pedestrian   \n",
       "12315  Crossing from nearside - masked by parked or s...   \n",
       "\n",
       "                          Cause_of_accident Accident_severity  \n",
       "0                           Moving Backward     Slight Injury  \n",
       "1                                Overtaking     Slight Injury  \n",
       "2                 Changing lane to the left    Serious Injury  \n",
       "3                Changing lane to the right     Slight Injury  \n",
       "4                                Overtaking     Slight Injury  \n",
       "...                                     ...               ...  \n",
       "12311                         No distancing     Slight Injury  \n",
       "12312                         No distancing     Slight Injury  \n",
       "12313            Changing lane to the right    Serious Injury  \n",
       "12314  Driving under the influence of drugs     Slight Injury  \n",
       "12315            Changing lane to the right     Slight Injury  \n",
       "\n",
       "[12316 rows x 32 columns]"
      ]
     },
     "execution_count": 3,
     "metadata": {},
     "output_type": "execute_result"
    }
   ],
   "source": [
    "#to show all table\n",
    "df"
   ]
  },
  {
   "cell_type": "code",
   "execution_count": 16,
   "metadata": {},
   "outputs": [
    {
     "data": {
      "text/html": [
       "<div>\n",
       "<style scoped>\n",
       "    .dataframe tbody tr th:only-of-type {\n",
       "        vertical-align: middle;\n",
       "    }\n",
       "\n",
       "    .dataframe tbody tr th {\n",
       "        vertical-align: top;\n",
       "    }\n",
       "\n",
       "    .dataframe thead th {\n",
       "        text-align: right;\n",
       "    }\n",
       "</style>\n",
       "<table border=\"1\" class=\"dataframe\">\n",
       "  <thead>\n",
       "    <tr style=\"text-align: right;\">\n",
       "      <th></th>\n",
       "      <th>Number_of_vehicles_involved</th>\n",
       "      <th>Number_of_casualties</th>\n",
       "    </tr>\n",
       "  </thead>\n",
       "  <tbody>\n",
       "    <tr>\n",
       "      <th>count</th>\n",
       "      <td>12316.000000</td>\n",
       "      <td>12316.000000</td>\n",
       "    </tr>\n",
       "    <tr>\n",
       "      <th>mean</th>\n",
       "      <td>2.040679</td>\n",
       "      <td>1.548149</td>\n",
       "    </tr>\n",
       "    <tr>\n",
       "      <th>std</th>\n",
       "      <td>0.688790</td>\n",
       "      <td>1.007179</td>\n",
       "    </tr>\n",
       "    <tr>\n",
       "      <th>min</th>\n",
       "      <td>1.000000</td>\n",
       "      <td>1.000000</td>\n",
       "    </tr>\n",
       "    <tr>\n",
       "      <th>25%</th>\n",
       "      <td>2.000000</td>\n",
       "      <td>1.000000</td>\n",
       "    </tr>\n",
       "    <tr>\n",
       "      <th>50%</th>\n",
       "      <td>2.000000</td>\n",
       "      <td>1.000000</td>\n",
       "    </tr>\n",
       "    <tr>\n",
       "      <th>75%</th>\n",
       "      <td>2.000000</td>\n",
       "      <td>2.000000</td>\n",
       "    </tr>\n",
       "    <tr>\n",
       "      <th>max</th>\n",
       "      <td>7.000000</td>\n",
       "      <td>8.000000</td>\n",
       "    </tr>\n",
       "  </tbody>\n",
       "</table>\n",
       "</div>"
      ],
      "text/plain": [
       "       Number_of_vehicles_involved  Number_of_casualties\n",
       "count                 12316.000000          12316.000000\n",
       "mean                      2.040679              1.548149\n",
       "std                       0.688790              1.007179\n",
       "min                       1.000000              1.000000\n",
       "25%                       2.000000              1.000000\n",
       "50%                       2.000000              1.000000\n",
       "75%                       2.000000              2.000000\n",
       "max                       7.000000              8.000000"
      ]
     },
     "execution_count": 16,
     "metadata": {},
     "output_type": "execute_result"
    }
   ],
   "source": [
    "df.describe()"
   ]
  },
  {
   "cell_type": "code",
   "execution_count": 4,
   "metadata": {},
   "outputs": [
    {
     "data": {
      "text/html": [
       "<div>\n",
       "<style scoped>\n",
       "    .dataframe tbody tr th:only-of-type {\n",
       "        vertical-align: middle;\n",
       "    }\n",
       "\n",
       "    .dataframe tbody tr th {\n",
       "        vertical-align: top;\n",
       "    }\n",
       "\n",
       "    .dataframe thead th {\n",
       "        text-align: right;\n",
       "    }\n",
       "</style>\n",
       "<table border=\"1\" class=\"dataframe\">\n",
       "  <thead>\n",
       "    <tr style=\"text-align: right;\">\n",
       "      <th></th>\n",
       "      <th>Time</th>\n",
       "      <th>Day_of_week</th>\n",
       "      <th>Age_band_of_driver</th>\n",
       "      <th>Sex_of_driver</th>\n",
       "      <th>Educational_level</th>\n",
       "      <th>Vehicle_driver_relation</th>\n",
       "      <th>Driving_experience</th>\n",
       "      <th>Type_of_vehicle</th>\n",
       "      <th>Owner_of_vehicle</th>\n",
       "      <th>Service_year_of_vehicle</th>\n",
       "      <th>...</th>\n",
       "      <th>Vehicle_movement</th>\n",
       "      <th>Casualty_class</th>\n",
       "      <th>Sex_of_casualty</th>\n",
       "      <th>Age_band_of_casualty</th>\n",
       "      <th>Casualty_severity</th>\n",
       "      <th>Work_of_casuality</th>\n",
       "      <th>Fitness_of_casuality</th>\n",
       "      <th>Pedestrian_movement</th>\n",
       "      <th>Cause_of_accident</th>\n",
       "      <th>Accident_severity</th>\n",
       "    </tr>\n",
       "  </thead>\n",
       "  <tbody>\n",
       "    <tr>\n",
       "      <th>0</th>\n",
       "      <td>17:02:00</td>\n",
       "      <td>Monday</td>\n",
       "      <td>18-30</td>\n",
       "      <td>Male</td>\n",
       "      <td>Above high school</td>\n",
       "      <td>Employee</td>\n",
       "      <td>1-2yr</td>\n",
       "      <td>Automobile</td>\n",
       "      <td>Owner</td>\n",
       "      <td>Above 10yr</td>\n",
       "      <td>...</td>\n",
       "      <td>Going straight</td>\n",
       "      <td>na</td>\n",
       "      <td>na</td>\n",
       "      <td>na</td>\n",
       "      <td>na</td>\n",
       "      <td>NaN</td>\n",
       "      <td>NaN</td>\n",
       "      <td>Not a Pedestrian</td>\n",
       "      <td>Moving Backward</td>\n",
       "      <td>Slight Injury</td>\n",
       "    </tr>\n",
       "    <tr>\n",
       "      <th>1</th>\n",
       "      <td>17:02:00</td>\n",
       "      <td>Monday</td>\n",
       "      <td>31-50</td>\n",
       "      <td>Male</td>\n",
       "      <td>Junior high school</td>\n",
       "      <td>Employee</td>\n",
       "      <td>Above 10yr</td>\n",
       "      <td>Public (&gt; 45 seats)</td>\n",
       "      <td>Owner</td>\n",
       "      <td>5-10yrs</td>\n",
       "      <td>...</td>\n",
       "      <td>Going straight</td>\n",
       "      <td>na</td>\n",
       "      <td>na</td>\n",
       "      <td>na</td>\n",
       "      <td>na</td>\n",
       "      <td>NaN</td>\n",
       "      <td>NaN</td>\n",
       "      <td>Not a Pedestrian</td>\n",
       "      <td>Overtaking</td>\n",
       "      <td>Slight Injury</td>\n",
       "    </tr>\n",
       "    <tr>\n",
       "      <th>2</th>\n",
       "      <td>17:02:00</td>\n",
       "      <td>Monday</td>\n",
       "      <td>18-30</td>\n",
       "      <td>Male</td>\n",
       "      <td>Junior high school</td>\n",
       "      <td>Employee</td>\n",
       "      <td>1-2yr</td>\n",
       "      <td>Lorry (41?100Q)</td>\n",
       "      <td>Owner</td>\n",
       "      <td>NaN</td>\n",
       "      <td>...</td>\n",
       "      <td>Going straight</td>\n",
       "      <td>Driver or rider</td>\n",
       "      <td>Male</td>\n",
       "      <td>31-50</td>\n",
       "      <td>3</td>\n",
       "      <td>Driver</td>\n",
       "      <td>NaN</td>\n",
       "      <td>Not a Pedestrian</td>\n",
       "      <td>Changing lane to the left</td>\n",
       "      <td>Serious Injury</td>\n",
       "    </tr>\n",
       "    <tr>\n",
       "      <th>3</th>\n",
       "      <td>1:06:00</td>\n",
       "      <td>Sunday</td>\n",
       "      <td>18-30</td>\n",
       "      <td>Male</td>\n",
       "      <td>Junior high school</td>\n",
       "      <td>Employee</td>\n",
       "      <td>5-10yr</td>\n",
       "      <td>Public (&gt; 45 seats)</td>\n",
       "      <td>Governmental</td>\n",
       "      <td>NaN</td>\n",
       "      <td>...</td>\n",
       "      <td>Going straight</td>\n",
       "      <td>Pedestrian</td>\n",
       "      <td>Female</td>\n",
       "      <td>18-30</td>\n",
       "      <td>3</td>\n",
       "      <td>Driver</td>\n",
       "      <td>Normal</td>\n",
       "      <td>Not a Pedestrian</td>\n",
       "      <td>Changing lane to the right</td>\n",
       "      <td>Slight Injury</td>\n",
       "    </tr>\n",
       "    <tr>\n",
       "      <th>4</th>\n",
       "      <td>1:06:00</td>\n",
       "      <td>Sunday</td>\n",
       "      <td>18-30</td>\n",
       "      <td>Male</td>\n",
       "      <td>Junior high school</td>\n",
       "      <td>Employee</td>\n",
       "      <td>2-5yr</td>\n",
       "      <td>NaN</td>\n",
       "      <td>Owner</td>\n",
       "      <td>5-10yrs</td>\n",
       "      <td>...</td>\n",
       "      <td>Going straight</td>\n",
       "      <td>na</td>\n",
       "      <td>na</td>\n",
       "      <td>na</td>\n",
       "      <td>na</td>\n",
       "      <td>NaN</td>\n",
       "      <td>NaN</td>\n",
       "      <td>Not a Pedestrian</td>\n",
       "      <td>Overtaking</td>\n",
       "      <td>Slight Injury</td>\n",
       "    </tr>\n",
       "  </tbody>\n",
       "</table>\n",
       "<p>5 rows × 32 columns</p>\n",
       "</div>"
      ],
      "text/plain": [
       "       Time Day_of_week Age_band_of_driver Sex_of_driver   Educational_level  \\\n",
       "0  17:02:00      Monday              18-30          Male   Above high school   \n",
       "1  17:02:00      Monday              31-50          Male  Junior high school   \n",
       "2  17:02:00      Monday              18-30          Male  Junior high school   \n",
       "3   1:06:00      Sunday              18-30          Male  Junior high school   \n",
       "4   1:06:00      Sunday              18-30          Male  Junior high school   \n",
       "\n",
       "  Vehicle_driver_relation Driving_experience      Type_of_vehicle  \\\n",
       "0                Employee              1-2yr           Automobile   \n",
       "1                Employee         Above 10yr  Public (> 45 seats)   \n",
       "2                Employee              1-2yr      Lorry (41?100Q)   \n",
       "3                Employee             5-10yr  Public (> 45 seats)   \n",
       "4                Employee              2-5yr                  NaN   \n",
       "\n",
       "  Owner_of_vehicle Service_year_of_vehicle  ... Vehicle_movement  \\\n",
       "0            Owner              Above 10yr  ...   Going straight   \n",
       "1            Owner                 5-10yrs  ...   Going straight   \n",
       "2            Owner                     NaN  ...   Going straight   \n",
       "3     Governmental                     NaN  ...   Going straight   \n",
       "4            Owner                 5-10yrs  ...   Going straight   \n",
       "\n",
       "    Casualty_class Sex_of_casualty Age_band_of_casualty Casualty_severity  \\\n",
       "0               na              na                   na                na   \n",
       "1               na              na                   na                na   \n",
       "2  Driver or rider            Male                31-50                 3   \n",
       "3       Pedestrian          Female                18-30                 3   \n",
       "4               na              na                   na                na   \n",
       "\n",
       "  Work_of_casuality Fitness_of_casuality Pedestrian_movement  \\\n",
       "0               NaN                  NaN    Not a Pedestrian   \n",
       "1               NaN                  NaN    Not a Pedestrian   \n",
       "2            Driver                  NaN    Not a Pedestrian   \n",
       "3            Driver               Normal    Not a Pedestrian   \n",
       "4               NaN                  NaN    Not a Pedestrian   \n",
       "\n",
       "            Cause_of_accident Accident_severity  \n",
       "0             Moving Backward     Slight Injury  \n",
       "1                  Overtaking     Slight Injury  \n",
       "2   Changing lane to the left    Serious Injury  \n",
       "3  Changing lane to the right     Slight Injury  \n",
       "4                  Overtaking     Slight Injury  \n",
       "\n",
       "[5 rows x 32 columns]"
      ]
     },
     "execution_count": 4,
     "metadata": {},
     "output_type": "execute_result"
    }
   ],
   "source": [
    "#to show the first 5 rows\n",
    "df.head()"
   ]
  },
  {
   "cell_type": "markdown",
   "metadata": {
    "id": "WiipgZA4l1Wt"
   },
   "source": [
    "### Handle Missing Values"
   ]
  },
  {
   "cell_type": "code",
   "execution_count": null,
   "metadata": {
    "id": "jGQsNlCWpHzw"
   },
   "outputs": [],
   "source": [
    "#first show if theres any null values "
   ]
  },
  {
   "cell_type": "code",
   "execution_count": 5,
   "metadata": {},
   "outputs": [
    {
     "data": {
      "text/plain": [
       "Time                              0\n",
       "Day_of_week                       0\n",
       "Age_band_of_driver                0\n",
       "Sex_of_driver                     0\n",
       "Educational_level               741\n",
       "Vehicle_driver_relation         579\n",
       "Driving_experience              829\n",
       "Type_of_vehicle                 950\n",
       "Owner_of_vehicle                482\n",
       "Service_year_of_vehicle        3928\n",
       "Defect_of_vehicle              4427\n",
       "Area_accident_occured           239\n",
       "Lanes_or_Medians                385\n",
       "Road_allignment                 142\n",
       "Types_of_Junction               887\n",
       "Road_surface_type               172\n",
       "Road_surface_conditions           0\n",
       "Light_conditions                  0\n",
       "Weather_conditions                0\n",
       "Type_of_collision               155\n",
       "Number_of_vehicles_involved       0\n",
       "Number_of_casualties              0\n",
       "Vehicle_movement                308\n",
       "Casualty_class                    0\n",
       "Sex_of_casualty                   0\n",
       "Age_band_of_casualty              0\n",
       "Casualty_severity                 0\n",
       "Work_of_casuality              3198\n",
       "Fitness_of_casuality           2635\n",
       "Pedestrian_movement               0\n",
       "Cause_of_accident                 0\n",
       "Accident_severity                 0\n",
       "dtype: int64"
      ]
     },
     "execution_count": 5,
     "metadata": {},
     "output_type": "execute_result"
    }
   ],
   "source": [
    "df.isnull().sum()"
   ]
  },
  {
   "cell_type": "code",
   "execution_count": null,
   "metadata": {},
   "outputs": [],
   "source": [
    "#now handling the missing vlue"
   ]
  },
  {
   "cell_type": "code",
   "execution_count": 43,
   "metadata": {},
   "outputs": [],
   "source": [
    "df.dropna(subset=[\"Defect_of_vehicle\"], inplace=True)"
   ]
  },
  {
   "cell_type": "code",
   "execution_count": 44,
   "metadata": {},
   "outputs": [
    {
     "data": {
      "text/plain": [
       "0"
      ]
     },
     "execution_count": 44,
     "metadata": {},
     "output_type": "execute_result"
    }
   ],
   "source": [
    "df[\"Defect_of_vehicle\"].isnull().sum()"
   ]
  },
  {
   "cell_type": "code",
   "execution_count": 37,
   "metadata": {},
   "outputs": [],
   "source": [
    "mod_va=df[\"Work_of_casuality\"].mode()"
   ]
  },
  {
   "cell_type": "code",
   "execution_count": 38,
   "metadata": {},
   "outputs": [
    {
     "data": {
      "text/plain": [
       "0"
      ]
     },
     "execution_count": 38,
     "metadata": {},
     "output_type": "execute_result"
    }
   ],
   "source": [
    "df.dropna(subset=[\"Work_of_casuality\"], inplace=True)\n",
    "df[\"Work_of_casuality\"].isnull().sum()"
   ]
  },
  {
   "cell_type": "code",
   "execution_count": 30,
   "metadata": {},
   "outputs": [],
   "source": [
    "df[\"Owner_of_vehicle\"].fillna(value=mod_va, inplace=True) \n"
   ]
  },
  {
   "cell_type": "code",
   "execution_count": 33,
   "metadata": {},
   "outputs": [
    {
     "data": {
      "text/plain": [
       "0"
      ]
     },
     "execution_count": 33,
     "metadata": {},
     "output_type": "execute_result"
    }
   ],
   "source": [
    "df.dropna(subset=[\"Owner_of_vehicle\"], inplace=True)\n",
    "df[\"Owner_of_vehicle\"].isnull().sum()"
   ]
  },
  {
   "cell_type": "code",
   "execution_count": 13,
   "metadata": {},
   "outputs": [],
   "source": [
    "df[\"Educational_level\"].fillna( method ='ffill', limit = 1, inplace = True)"
   ]
  },
  {
   "cell_type": "code",
   "execution_count": 15,
   "metadata": {},
   "outputs": [
    {
     "data": {
      "text/plain": [
       "0"
      ]
     },
     "execution_count": 15,
     "metadata": {},
     "output_type": "execute_result"
    }
   ],
   "source": [
    "df[\"Educational_level\"].isnull().sum()"
   ]
  },
  {
   "cell_type": "code",
   "execution_count": 45,
   "metadata": {},
   "outputs": [
    {
     "data": {
      "text/plain": [
       "0"
      ]
     },
     "execution_count": 45,
     "metadata": {},
     "output_type": "execute_result"
    }
   ],
   "source": [
    "df.dropna(subset=[\"Service_year_of_vehicle\"], inplace=True)\n",
    "df[\"Service_year_of_vehicle\"].isnull().sum()"
   ]
  },
  {
   "cell_type": "code",
   "execution_count": 93,
   "metadata": {},
   "outputs": [
    {
     "data": {
      "text/plain": [
       "Time                              0\n",
       "Day_of_week                       0\n",
       "Age_band_of_driver                0\n",
       "Sex_of_driver                     0\n",
       "Educational_level                70\n",
       "Vehicle_driver_relation          33\n",
       "Driving_experience               55\n",
       "Type_of_vehicle                  98\n",
       "Owner_of_vehicle                 20\n",
       "Service_year_of_vehicle        1808\n",
       "Defect_of_vehicle              2741\n",
       "Area_accident_occured            20\n",
       "Lanes_or_Medians                 27\n",
       "Road_allignment                   0\n",
       "Types_of_Junction               886\n",
       "Road_surface_type                17\n",
       "Road_surface_conditions           0\n",
       "Light_conditions                  0\n",
       "Weather_conditions                0\n",
       "Type_of_collision                62\n",
       "Number_of_vehicles_involved       0\n",
       "Number_of_casualties              0\n",
       "Vehicle_movement                  0\n",
       "Casualty_class                    0\n",
       "Sex_of_casualty                   0\n",
       "Age_band_of_casualty              0\n",
       "Casualty_severity                 0\n",
       "Work_of_casuality              1138\n",
       "Fitness_of_casuality            847\n",
       "Pedestrian_movement               0\n",
       "Cause_of_accident                 0\n",
       "Accident_severity                 0\n",
       "dtype: int64"
      ]
     },
     "execution_count": 93,
     "metadata": {},
     "output_type": "execute_result"
    }
   ],
   "source": [
    "df.fillna( method ='ffill', limit = 1, inplace = True)\n",
    "df.isnull().sum()"
   ]
  },
  {
   "cell_type": "code",
   "execution_count": 80,
   "metadata": {},
   "outputs": [],
   "source": [
    "df.dropna( inplace=True)"
   ]
  },
  {
   "cell_type": "code",
   "execution_count": 81,
   "metadata": {},
   "outputs": [
    {
     "data": {
      "text/plain": [
       "Time                           0\n",
       "Day_of_week                    0\n",
       "Age_band_of_driver             0\n",
       "Sex_of_driver                  0\n",
       "Educational_level              0\n",
       "Vehicle_driver_relation        0\n",
       "Driving_experience             0\n",
       "Type_of_vehicle                0\n",
       "Owner_of_vehicle               0\n",
       "Service_year_of_vehicle        0\n",
       "Defect_of_vehicle              0\n",
       "Area_accident_occured          0\n",
       "Lanes_or_Medians               0\n",
       "Road_allignment                0\n",
       "Types_of_Junction              0\n",
       "Road_surface_type              0\n",
       "Road_surface_conditions        0\n",
       "Light_conditions               0\n",
       "Weather_conditions             0\n",
       "Type_of_collision              0\n",
       "Number_of_vehicles_involved    0\n",
       "Number_of_casualties           0\n",
       "Vehicle_movement               0\n",
       "Casualty_class                 0\n",
       "Sex_of_casualty                0\n",
       "Age_band_of_casualty           0\n",
       "Casualty_severity              0\n",
       "Work_of_casuality              0\n",
       "Fitness_of_casuality           0\n",
       "Pedestrian_movement            0\n",
       "Cause_of_accident              0\n",
       "Accident_severity              0\n",
       "dtype: int64"
      ]
     },
     "execution_count": 81,
     "metadata": {},
     "output_type": "execute_result"
    }
   ],
   "source": [
    "df.isnull().sum()"
   ]
  },
  {
   "cell_type": "markdown",
   "metadata": {
    "id": "RR8q7NzAmXvi"
   },
   "source": [
    "### Correct any inconsistent data entries."
   ]
  },
  {
   "cell_type": "code",
   "execution_count": 55,
   "metadata": {
    "id": "MmuQ8Bw2pIVz"
   },
   "outputs": [],
   "source": [
    "#i will check for column if there any extra space "
   ]
  },
  {
   "cell_type": "code",
   "execution_count": 54,
   "metadata": {},
   "outputs": [
    {
     "data": {
      "text/plain": [
       "Index(['Time', 'Day_of_week', 'Age_band_of_driver', 'Sex_of_driver',\n",
       "       'Educational_level', 'Vehicle_driver_relation', 'Driving_experience',\n",
       "       'Type_of_vehicle', 'Owner_of_vehicle', 'Service_year_of_vehicle',\n",
       "       'Defect_of_vehicle', 'Area_accident_occured', 'Lanes_or_Medians',\n",
       "       'Road_allignment', 'Types_of_Junction', 'Road_surface_type',\n",
       "       'Road_surface_conditions', 'Light_conditions', 'Weather_conditions',\n",
       "       'Type_of_collision', 'Number_of_vehicles_involved',\n",
       "       'Number_of_casualties', 'Vehicle_movement', 'Casualty_class',\n",
       "       'Sex_of_casualty', 'Age_band_of_casualty', 'Casualty_severity',\n",
       "       'Work_of_casuality', 'Fitness_of_casuality', 'Pedestrian_movement',\n",
       "       'Cause_of_accident', 'Accident_severity'],\n",
       "      dtype='object')"
      ]
     },
     "execution_count": 54,
     "metadata": {},
     "output_type": "execute_result"
    }
   ],
   "source": [
    "df.columns"
   ]
  },
  {
   "cell_type": "code",
   "execution_count": 74,
   "metadata": {},
   "outputs": [],
   "source": [
    "#remove Extra Space \n",
    "df.columns = df.columns.str.strip()"
   ]
  },
  {
   "cell_type": "code",
   "execution_count": 57,
   "metadata": {},
   "outputs": [
    {
     "data": {
      "text/plain": [
       "Index(['Time', 'Day_of_week', 'Age_band_of_driver', 'Sex_of_driver',\n",
       "       'Educational_level', 'Vehicle_driver_relation', 'Driving_experience',\n",
       "       'Type_of_vehicle', 'Owner_of_vehicle', 'Service_year_of_vehicle',\n",
       "       'Defect_of_vehicle', 'Area_accident_occured', 'Lanes_or_Medians',\n",
       "       'Road_allignment', 'Types_of_Junction', 'Road_surface_type',\n",
       "       'Road_surface_conditions', 'Light_conditions', 'Weather_conditions',\n",
       "       'Type_of_collision', 'Number_of_vehicles_involved',\n",
       "       'Number_of_casualties', 'Vehicle_movement', 'Casualty_class',\n",
       "       'Sex_of_casualty', 'Age_band_of_casualty', 'Casualty_severity',\n",
       "       'Work_of_casuality', 'Fitness_of_casuality', 'Pedestrian_movement',\n",
       "       'Cause_of_accident', 'Accident_severity'],\n",
       "      dtype='object')"
      ]
     },
     "execution_count": 57,
     "metadata": {},
     "output_type": "execute_result"
    }
   ],
   "source": [
    "df.columns"
   ]
  },
  {
   "cell_type": "markdown",
   "metadata": {
    "id": "ANF5wAzWmYyc"
   },
   "source": [
    "### Ensure data types are appropriate for each column.\n",
    "\n",
    "---\n",
    "\n"
   ]
  },
  {
   "cell_type": "code",
   "execution_count": 60,
   "metadata": {
    "id": "VdN2RV_OpJBV"
   },
   "outputs": [
    {
     "name": "stdout",
     "output_type": "stream",
     "text": [
      "Dataset Info:\n",
      "<class 'pandas.core.frame.DataFrame'>\n",
      "Int64Index: 2911 entries, 8 to 12315\n",
      "Data columns (total 32 columns):\n",
      " #   Column                       Non-Null Count  Dtype \n",
      "---  ------                       --------------  ----- \n",
      " 0   Time                         2911 non-null   object\n",
      " 1   Day_of_week                  2911 non-null   object\n",
      " 2   Age_band_of_driver           2911 non-null   object\n",
      " 3   Sex_of_driver                2911 non-null   object\n",
      " 4   Educational_level            2911 non-null   object\n",
      " 5   Vehicle_driver_relation      2911 non-null   object\n",
      " 6   Driving_experience           2911 non-null   object\n",
      " 7   Type_of_vehicle              2911 non-null   object\n",
      " 8   Owner_of_vehicle             2911 non-null   object\n",
      " 9   Service_year_of_vehicle      2911 non-null   object\n",
      " 10  Defect_of_vehicle            2911 non-null   object\n",
      " 11  Area_accident_occured        2911 non-null   object\n",
      " 12  Lanes_or_Medians             2911 non-null   object\n",
      " 13  Road_allignment              2911 non-null   object\n",
      " 14  Types_of_Junction            2911 non-null   object\n",
      " 15  Road_surface_type            2911 non-null   object\n",
      " 16  Road_surface_conditions      2911 non-null   object\n",
      " 17  Light_conditions             2911 non-null   object\n",
      " 18  Weather_conditions           2911 non-null   object\n",
      " 19  Type_of_collision            2911 non-null   object\n",
      " 20  Number_of_vehicles_involved  2911 non-null   int64 \n",
      " 21  Number_of_casualties         2911 non-null   int64 \n",
      " 22  Vehicle_movement             2911 non-null   object\n",
      " 23  Casualty_class               2911 non-null   object\n",
      " 24  Sex_of_casualty              2911 non-null   object\n",
      " 25  Age_band_of_casualty         2911 non-null   object\n",
      " 26  Casualty_severity            2911 non-null   object\n",
      " 27  Work_of_casuality            2911 non-null   object\n",
      " 28  Fitness_of_casuality         2911 non-null   object\n",
      " 29  Pedestrian_movement          2911 non-null   object\n",
      " 30  Cause_of_accident            2911 non-null   object\n",
      " 31  Accident_severity            2911 non-null   object\n",
      "dtypes: int64(2), object(30)\n",
      "memory usage: 750.5+ KB\n",
      "None\n"
     ]
    }
   ],
   "source": [
    "# Display basic information about the dataset\n",
    "print(\"Dataset Info:\")\n",
    "print(df.info())"
   ]
  },
  {
   "cell_type": "markdown",
   "metadata": {
    "id": "hkp41fRQoUSj"
   },
   "source": [
    "## 2. Exploratory Data Analysis (EDA)"
   ]
  },
  {
   "cell_type": "markdown",
   "metadata": {
    "id": "RQpjcBLfoZgr"
   },
   "source": [
    "### Perform summary statistics on the dataset."
   ]
  },
  {
   "cell_type": "code",
   "execution_count": 94,
   "metadata": {
    "id": "9CIk-QkApKLp"
   },
   "outputs": [
    {
     "name": "stdout",
     "output_type": "stream",
     "text": [
      "Summary Statistics:\n"
     ]
    },
    {
     "data": {
      "text/html": [
       "<div>\n",
       "<style scoped>\n",
       "    .dataframe tbody tr th:only-of-type {\n",
       "        vertical-align: middle;\n",
       "    }\n",
       "\n",
       "    .dataframe tbody tr th {\n",
       "        vertical-align: top;\n",
       "    }\n",
       "\n",
       "    .dataframe thead th {\n",
       "        text-align: right;\n",
       "    }\n",
       "</style>\n",
       "<table border=\"1\" class=\"dataframe\">\n",
       "  <thead>\n",
       "    <tr style=\"text-align: right;\">\n",
       "      <th></th>\n",
       "      <th>Time</th>\n",
       "      <th>Day_of_week</th>\n",
       "      <th>Age_band_of_driver</th>\n",
       "      <th>Sex_of_driver</th>\n",
       "      <th>Educational_level</th>\n",
       "      <th>Vehicle_driver_relation</th>\n",
       "      <th>Driving_experience</th>\n",
       "      <th>Type_of_vehicle</th>\n",
       "      <th>Owner_of_vehicle</th>\n",
       "      <th>Service_year_of_vehicle</th>\n",
       "      <th>...</th>\n",
       "      <th>Vehicle_movement</th>\n",
       "      <th>Casualty_class</th>\n",
       "      <th>Sex_of_casualty</th>\n",
       "      <th>Age_band_of_casualty</th>\n",
       "      <th>Casualty_severity</th>\n",
       "      <th>Work_of_casuality</th>\n",
       "      <th>Fitness_of_casuality</th>\n",
       "      <th>Pedestrian_movement</th>\n",
       "      <th>Cause_of_accident</th>\n",
       "      <th>Accident_severity</th>\n",
       "    </tr>\n",
       "  </thead>\n",
       "  <tbody>\n",
       "    <tr>\n",
       "      <th>count</th>\n",
       "      <td>12316</td>\n",
       "      <td>12316</td>\n",
       "      <td>12316</td>\n",
       "      <td>12316</td>\n",
       "      <td>12246</td>\n",
       "      <td>12283</td>\n",
       "      <td>12261</td>\n",
       "      <td>12218</td>\n",
       "      <td>12296</td>\n",
       "      <td>10508</td>\n",
       "      <td>...</td>\n",
       "      <td>12316</td>\n",
       "      <td>12316</td>\n",
       "      <td>12316</td>\n",
       "      <td>12316</td>\n",
       "      <td>12316</td>\n",
       "      <td>11178</td>\n",
       "      <td>11469</td>\n",
       "      <td>12316</td>\n",
       "      <td>12316</td>\n",
       "      <td>12316</td>\n",
       "    </tr>\n",
       "    <tr>\n",
       "      <th>unique</th>\n",
       "      <td>1074</td>\n",
       "      <td>7</td>\n",
       "      <td>5</td>\n",
       "      <td>3</td>\n",
       "      <td>7</td>\n",
       "      <td>4</td>\n",
       "      <td>7</td>\n",
       "      <td>17</td>\n",
       "      <td>4</td>\n",
       "      <td>6</td>\n",
       "      <td>...</td>\n",
       "      <td>13</td>\n",
       "      <td>4</td>\n",
       "      <td>3</td>\n",
       "      <td>6</td>\n",
       "      <td>4</td>\n",
       "      <td>7</td>\n",
       "      <td>5</td>\n",
       "      <td>9</td>\n",
       "      <td>20</td>\n",
       "      <td>3</td>\n",
       "    </tr>\n",
       "    <tr>\n",
       "      <th>top</th>\n",
       "      <td>15:30:00</td>\n",
       "      <td>Friday</td>\n",
       "      <td>18-30</td>\n",
       "      <td>Male</td>\n",
       "      <td>Junior high school</td>\n",
       "      <td>Employee</td>\n",
       "      <td>5-10yr</td>\n",
       "      <td>Automobile</td>\n",
       "      <td>Owner</td>\n",
       "      <td>Unknown</td>\n",
       "      <td>...</td>\n",
       "      <td>Going straight</td>\n",
       "      <td>Driver or rider</td>\n",
       "      <td>Male</td>\n",
       "      <td>na</td>\n",
       "      <td>3</td>\n",
       "      <td>Driver</td>\n",
       "      <td>Normal</td>\n",
       "      <td>Not a Pedestrian</td>\n",
       "      <td>No distancing</td>\n",
       "      <td>Slight Injury</td>\n",
       "    </tr>\n",
       "    <tr>\n",
       "      <th>freq</th>\n",
       "      <td>120</td>\n",
       "      <td>2041</td>\n",
       "      <td>4271</td>\n",
       "      <td>11437</td>\n",
       "      <td>8022</td>\n",
       "      <td>10054</td>\n",
       "      <td>3570</td>\n",
       "      <td>3400</td>\n",
       "      <td>10896</td>\n",
       "      <td>3435</td>\n",
       "      <td>...</td>\n",
       "      <td>8351</td>\n",
       "      <td>4944</td>\n",
       "      <td>5253</td>\n",
       "      <td>4443</td>\n",
       "      <td>7076</td>\n",
       "      <td>7151</td>\n",
       "      <td>11396</td>\n",
       "      <td>11390</td>\n",
       "      <td>2263</td>\n",
       "      <td>10415</td>\n",
       "    </tr>\n",
       "    <tr>\n",
       "      <th>mean</th>\n",
       "      <td>NaN</td>\n",
       "      <td>NaN</td>\n",
       "      <td>NaN</td>\n",
       "      <td>NaN</td>\n",
       "      <td>NaN</td>\n",
       "      <td>NaN</td>\n",
       "      <td>NaN</td>\n",
       "      <td>NaN</td>\n",
       "      <td>NaN</td>\n",
       "      <td>NaN</td>\n",
       "      <td>...</td>\n",
       "      <td>NaN</td>\n",
       "      <td>NaN</td>\n",
       "      <td>NaN</td>\n",
       "      <td>NaN</td>\n",
       "      <td>NaN</td>\n",
       "      <td>NaN</td>\n",
       "      <td>NaN</td>\n",
       "      <td>NaN</td>\n",
       "      <td>NaN</td>\n",
       "      <td>NaN</td>\n",
       "    </tr>\n",
       "    <tr>\n",
       "      <th>std</th>\n",
       "      <td>NaN</td>\n",
       "      <td>NaN</td>\n",
       "      <td>NaN</td>\n",
       "      <td>NaN</td>\n",
       "      <td>NaN</td>\n",
       "      <td>NaN</td>\n",
       "      <td>NaN</td>\n",
       "      <td>NaN</td>\n",
       "      <td>NaN</td>\n",
       "      <td>NaN</td>\n",
       "      <td>...</td>\n",
       "      <td>NaN</td>\n",
       "      <td>NaN</td>\n",
       "      <td>NaN</td>\n",
       "      <td>NaN</td>\n",
       "      <td>NaN</td>\n",
       "      <td>NaN</td>\n",
       "      <td>NaN</td>\n",
       "      <td>NaN</td>\n",
       "      <td>NaN</td>\n",
       "      <td>NaN</td>\n",
       "    </tr>\n",
       "    <tr>\n",
       "      <th>min</th>\n",
       "      <td>NaN</td>\n",
       "      <td>NaN</td>\n",
       "      <td>NaN</td>\n",
       "      <td>NaN</td>\n",
       "      <td>NaN</td>\n",
       "      <td>NaN</td>\n",
       "      <td>NaN</td>\n",
       "      <td>NaN</td>\n",
       "      <td>NaN</td>\n",
       "      <td>NaN</td>\n",
       "      <td>...</td>\n",
       "      <td>NaN</td>\n",
       "      <td>NaN</td>\n",
       "      <td>NaN</td>\n",
       "      <td>NaN</td>\n",
       "      <td>NaN</td>\n",
       "      <td>NaN</td>\n",
       "      <td>NaN</td>\n",
       "      <td>NaN</td>\n",
       "      <td>NaN</td>\n",
       "      <td>NaN</td>\n",
       "    </tr>\n",
       "    <tr>\n",
       "      <th>25%</th>\n",
       "      <td>NaN</td>\n",
       "      <td>NaN</td>\n",
       "      <td>NaN</td>\n",
       "      <td>NaN</td>\n",
       "      <td>NaN</td>\n",
       "      <td>NaN</td>\n",
       "      <td>NaN</td>\n",
       "      <td>NaN</td>\n",
       "      <td>NaN</td>\n",
       "      <td>NaN</td>\n",
       "      <td>...</td>\n",
       "      <td>NaN</td>\n",
       "      <td>NaN</td>\n",
       "      <td>NaN</td>\n",
       "      <td>NaN</td>\n",
       "      <td>NaN</td>\n",
       "      <td>NaN</td>\n",
       "      <td>NaN</td>\n",
       "      <td>NaN</td>\n",
       "      <td>NaN</td>\n",
       "      <td>NaN</td>\n",
       "    </tr>\n",
       "    <tr>\n",
       "      <th>50%</th>\n",
       "      <td>NaN</td>\n",
       "      <td>NaN</td>\n",
       "      <td>NaN</td>\n",
       "      <td>NaN</td>\n",
       "      <td>NaN</td>\n",
       "      <td>NaN</td>\n",
       "      <td>NaN</td>\n",
       "      <td>NaN</td>\n",
       "      <td>NaN</td>\n",
       "      <td>NaN</td>\n",
       "      <td>...</td>\n",
       "      <td>NaN</td>\n",
       "      <td>NaN</td>\n",
       "      <td>NaN</td>\n",
       "      <td>NaN</td>\n",
       "      <td>NaN</td>\n",
       "      <td>NaN</td>\n",
       "      <td>NaN</td>\n",
       "      <td>NaN</td>\n",
       "      <td>NaN</td>\n",
       "      <td>NaN</td>\n",
       "    </tr>\n",
       "    <tr>\n",
       "      <th>75%</th>\n",
       "      <td>NaN</td>\n",
       "      <td>NaN</td>\n",
       "      <td>NaN</td>\n",
       "      <td>NaN</td>\n",
       "      <td>NaN</td>\n",
       "      <td>NaN</td>\n",
       "      <td>NaN</td>\n",
       "      <td>NaN</td>\n",
       "      <td>NaN</td>\n",
       "      <td>NaN</td>\n",
       "      <td>...</td>\n",
       "      <td>NaN</td>\n",
       "      <td>NaN</td>\n",
       "      <td>NaN</td>\n",
       "      <td>NaN</td>\n",
       "      <td>NaN</td>\n",
       "      <td>NaN</td>\n",
       "      <td>NaN</td>\n",
       "      <td>NaN</td>\n",
       "      <td>NaN</td>\n",
       "      <td>NaN</td>\n",
       "    </tr>\n",
       "    <tr>\n",
       "      <th>max</th>\n",
       "      <td>NaN</td>\n",
       "      <td>NaN</td>\n",
       "      <td>NaN</td>\n",
       "      <td>NaN</td>\n",
       "      <td>NaN</td>\n",
       "      <td>NaN</td>\n",
       "      <td>NaN</td>\n",
       "      <td>NaN</td>\n",
       "      <td>NaN</td>\n",
       "      <td>NaN</td>\n",
       "      <td>...</td>\n",
       "      <td>NaN</td>\n",
       "      <td>NaN</td>\n",
       "      <td>NaN</td>\n",
       "      <td>NaN</td>\n",
       "      <td>NaN</td>\n",
       "      <td>NaN</td>\n",
       "      <td>NaN</td>\n",
       "      <td>NaN</td>\n",
       "      <td>NaN</td>\n",
       "      <td>NaN</td>\n",
       "    </tr>\n",
       "  </tbody>\n",
       "</table>\n",
       "<p>11 rows × 32 columns</p>\n",
       "</div>"
      ],
      "text/plain": [
       "            Time Day_of_week Age_band_of_driver Sex_of_driver  \\\n",
       "count      12316       12316              12316         12316   \n",
       "unique      1074           7                  5             3   \n",
       "top     15:30:00      Friday              18-30          Male   \n",
       "freq         120        2041               4271         11437   \n",
       "mean         NaN         NaN                NaN           NaN   \n",
       "std          NaN         NaN                NaN           NaN   \n",
       "min          NaN         NaN                NaN           NaN   \n",
       "25%          NaN         NaN                NaN           NaN   \n",
       "50%          NaN         NaN                NaN           NaN   \n",
       "75%          NaN         NaN                NaN           NaN   \n",
       "max          NaN         NaN                NaN           NaN   \n",
       "\n",
       "         Educational_level Vehicle_driver_relation Driving_experience  \\\n",
       "count                12246                   12283              12261   \n",
       "unique                   7                       4                  7   \n",
       "top     Junior high school                Employee             5-10yr   \n",
       "freq                  8022                   10054               3570   \n",
       "mean                   NaN                     NaN                NaN   \n",
       "std                    NaN                     NaN                NaN   \n",
       "min                    NaN                     NaN                NaN   \n",
       "25%                    NaN                     NaN                NaN   \n",
       "50%                    NaN                     NaN                NaN   \n",
       "75%                    NaN                     NaN                NaN   \n",
       "max                    NaN                     NaN                NaN   \n",
       "\n",
       "       Type_of_vehicle Owner_of_vehicle Service_year_of_vehicle  ...  \\\n",
       "count            12218            12296                   10508  ...   \n",
       "unique              17                4                       6  ...   \n",
       "top         Automobile            Owner                 Unknown  ...   \n",
       "freq              3400            10896                    3435  ...   \n",
       "mean               NaN              NaN                     NaN  ...   \n",
       "std                NaN              NaN                     NaN  ...   \n",
       "min                NaN              NaN                     NaN  ...   \n",
       "25%                NaN              NaN                     NaN  ...   \n",
       "50%                NaN              NaN                     NaN  ...   \n",
       "75%                NaN              NaN                     NaN  ...   \n",
       "max                NaN              NaN                     NaN  ...   \n",
       "\n",
       "       Vehicle_movement   Casualty_class Sex_of_casualty Age_band_of_casualty  \\\n",
       "count             12316            12316           12316                12316   \n",
       "unique               13                4               3                    6   \n",
       "top      Going straight  Driver or rider            Male                   na   \n",
       "freq               8351             4944            5253                 4443   \n",
       "mean                NaN              NaN             NaN                  NaN   \n",
       "std                 NaN              NaN             NaN                  NaN   \n",
       "min                 NaN              NaN             NaN                  NaN   \n",
       "25%                 NaN              NaN             NaN                  NaN   \n",
       "50%                 NaN              NaN             NaN                  NaN   \n",
       "75%                 NaN              NaN             NaN                  NaN   \n",
       "max                 NaN              NaN             NaN                  NaN   \n",
       "\n",
       "       Casualty_severity Work_of_casuality Fitness_of_casuality  \\\n",
       "count              12316             11178                11469   \n",
       "unique                 4                 7                    5   \n",
       "top                    3            Driver               Normal   \n",
       "freq                7076              7151                11396   \n",
       "mean                 NaN               NaN                  NaN   \n",
       "std                  NaN               NaN                  NaN   \n",
       "min                  NaN               NaN                  NaN   \n",
       "25%                  NaN               NaN                  NaN   \n",
       "50%                  NaN               NaN                  NaN   \n",
       "75%                  NaN               NaN                  NaN   \n",
       "max                  NaN               NaN                  NaN   \n",
       "\n",
       "       Pedestrian_movement Cause_of_accident Accident_severity  \n",
       "count                12316             12316             12316  \n",
       "unique                   9                20                 3  \n",
       "top       Not a Pedestrian     No distancing     Slight Injury  \n",
       "freq                 11390              2263             10415  \n",
       "mean                   NaN               NaN               NaN  \n",
       "std                    NaN               NaN               NaN  \n",
       "min                    NaN               NaN               NaN  \n",
       "25%                    NaN               NaN               NaN  \n",
       "50%                    NaN               NaN               NaN  \n",
       "75%                    NaN               NaN               NaN  \n",
       "max                    NaN               NaN               NaN  \n",
       "\n",
       "[11 rows x 32 columns]"
      ]
     },
     "execution_count": 94,
     "metadata": {},
     "output_type": "execute_result"
    }
   ],
   "source": [
    "print(\"Summary Statistics:\")\n",
    "df.describe(include='all')"
   ]
  },
  {
   "cell_type": "markdown",
   "metadata": {
    "id": "OjwISK8nocUT"
   },
   "source": [
    "### Identify and analyze patterns in the data."
   ]
  },
  {
   "cell_type": "code",
   "execution_count": 87,
   "metadata": {
    "id": "gw8jkuYIpKeH"
   },
   "outputs": [
    {
     "name": "stdout",
     "output_type": "stream",
     "text": [
      "Value Counts:\n"
     ]
    },
    {
     "data": {
      "text/plain": [
       "Junior high school    4472\n",
       "Elementary school     1207\n",
       "High school            653\n",
       "Above high school      259\n",
       "Writing & reading      108\n",
       "Unknown                 56\n",
       "Illiterate              26\n",
       "Name: Educational_level, dtype: int64"
      ]
     },
     "execution_count": 87,
     "metadata": {},
     "output_type": "execute_result"
    }
   ],
   "source": [
    "print(\"Value Counts:\")\n",
    "df['Age_band_of_driver'].value_counts()\n"
   ]
  },
  {
   "cell_type": "code",
   "execution_count": 88,
   "metadata": {},
   "outputs": [
    {
     "data": {
      "text/plain": [
       "Junior high school    4472\n",
       "Elementary school     1207\n",
       "High school            653\n",
       "Above high school      259\n",
       "Writing & reading      108\n",
       "Unknown                 56\n",
       "Illiterate              26\n",
       "Name: Educational_level, dtype: int64"
      ]
     },
     "execution_count": 88,
     "metadata": {},
     "output_type": "execute_result"
    }
   ],
   "source": [
    "df['Educational_level'].value_counts()"
   ]
  },
  {
   "cell_type": "code",
   "execution_count": 95,
   "metadata": {},
   "outputs": [
    {
     "data": {
      "text/plain": [
       "Automobile              3400\n",
       "Lorry (41?100Q)         2292\n",
       "Other                   1297\n",
       "Pick up upto 10Q         877\n",
       "Stationwagen             773\n",
       "Public (12 seats)        749\n",
       "Lorry (11?40Q)           588\n",
       "Public (13?45 seats)     573\n",
       "Public (> 45 seats)      465\n",
       "Long lorry               403\n",
       "Taxi                     317\n",
       "Motorcycle               202\n",
       "Ridden horse              89\n",
       "Special vehicle           84\n",
       "Turbo                     59\n",
       "Bajaj                     29\n",
       "Bicycle                   21\n",
       "Name: Type_of_vehicle, dtype: int64"
      ]
     },
     "execution_count": 95,
     "metadata": {},
     "output_type": "execute_result"
    }
   ],
   "source": [
    "df['Type_of_vehicle'].value_counts()"
   ]
  },
  {
   "cell_type": "code",
   "execution_count": 89,
   "metadata": {},
   "outputs": [
    {
     "data": {
      "text/plain": [
       "Time                           942\n",
       "Day_of_week                      7\n",
       "Age_band_of_driver               5\n",
       "Sex_of_driver                    3\n",
       "Educational_level                7\n",
       "Vehicle_driver_relation          4\n",
       "Driving_experience               7\n",
       "Type_of_vehicle                 17\n",
       "Owner_of_vehicle                 4\n",
       "Service_year_of_vehicle          6\n",
       "Defect_of_vehicle                3\n",
       "Area_accident_occured           13\n",
       "Lanes_or_Medians                 7\n",
       "Road_allignment                  9\n",
       "Types_of_Junction                8\n",
       "Road_surface_type                5\n",
       "Road_surface_conditions          4\n",
       "Light_conditions                 4\n",
       "Weather_conditions               9\n",
       "Type_of_collision               10\n",
       "Number_of_vehicles_involved      6\n",
       "Number_of_casualties             8\n",
       "Vehicle_movement                13\n",
       "Casualty_class                   4\n",
       "Sex_of_casualty                  3\n",
       "Age_band_of_casualty             6\n",
       "Casualty_severity                4\n",
       "Work_of_casuality                7\n",
       "Fitness_of_casuality             5\n",
       "Pedestrian_movement              9\n",
       "Cause_of_accident               20\n",
       "Accident_severity                3\n",
       "dtype: int64"
      ]
     },
     "execution_count": 89,
     "metadata": {},
     "output_type": "execute_result"
    }
   ],
   "source": [
    "df.nunique()"
   ]
  },
  {
   "cell_type": "markdown",
   "metadata": {
    "id": "4k-cDvL8oflR"
   },
   "source": [
    "### Visualize the distribution of key variables (e.g., Age_band_of_driver, Type_of_vehicle)."
   ]
  },
  {
   "cell_type": "code",
   "execution_count": 120,
   "metadata": {
    "id": "V7I156lepKv1"
   },
   "outputs": [
    {
     "data": {
      "image/png": "[encoded data removed]",
      "text/plain": [
       "<Figure size 2000x1500 with 9 Axes>"
      ]
     },
     "metadata": {},
     "output_type": "display_data"
    }
   ],
   "source": [
    "# Set the style for the plots\n",
    "sns.set(style=\"whitegrid\")\n",
    "\n",
    "# Create a figure and axes\n",
    "fig, axes = plt.subplots(nrows=3, ncols=3, figsize=(20, 15))\n",
    "\n",
    "# Flatten the axes array for easier iteration\n",
    "axes = axes.flatten()\n",
    "\n",
    "# List of columns for which to create histograms\n",
    "columns = ['Age_band_of_driver','Type_of_vehicle','Age_band_of_casualty','Sex_of_casualty',\n",
    "           'Number_of_casualties','Educational_level','Driving_experience','Owner_of_vehicle','Area_accident_occured' ]\n",
    "\n",
    "# Plot histogram for each column\n",
    "for i, col in enumerate(columns):\n",
    "    df[col].hist(ax=axes[i], bins=20)\n",
    "    axes[i].set_title(f'Histogram of {col}')\n",
    "    axes[i].set_xlabel('Value')\n",
    "    axes[i].set_ylabel('Frequency')\n",
    "\n",
    "# Adjust layout to prevent overlap\n",
    "plt.tight_layout()\n",
    "plt.suptitle('Distribution of Key Variables', y=1.05)  # Adjust title position\n",
    "plt.show()"
   ]
  },
  {
   "cell_type": "markdown",
   "metadata": {
    "id": "Lz4jQtNBoih-"
   },
   "source": [
    "### Explore relationships between variables (e.g., Age_band_of_driver vs. Accident_severity).\n"
   ]
  },
  {
   "cell_type": "code",
   "execution_count": 106,
   "metadata": {
    "id": "2Txh8eI1pLJQ"
   },
   "outputs": [
    {
     "data": {
      "image/png": "[encoded data removed]",
      "text/plain": [
       "<Figure size 1500x1000 with 1 Axes>"
      ]
     },
     "metadata": {},
     "output_type": "display_data"
    }
   ],
   "source": [
    "# Scatter plots to explore relationships between 'Age_band_of_driver' and ' Accident_severity'\n",
    "plt.figure(figsize=(15, 10))\n",
    "sns.scatterplot(data=df, x='Age_band_of_driver', y='Accident_severity', palette='tab10', edgecolor=None)\n",
    "plt.title('Age_band_of_driver vs. Accident_severity')\n",
    "plt.show()"
   ]
  },
  {
   "cell_type": "markdown",
   "metadata": {
    "id": "mZiDh1gronRD"
   },
   "source": [
    "## 3. Data Visualization"
   ]
  },
  {
   "cell_type": "markdown",
   "metadata": {
    "id": "WL4wC3iSqWuO"
   },
   "source": [
    "* Ensure the visualizations are clear and informative."
   ]
  },
  {
   "cell_type": "markdown",
   "metadata": {
    "id": "VfUFvWxUopoh"
   },
   "source": [
    "### Create visualizations to illustrate the findings from the EDA.\n"
   ]
  },
  {
   "cell_type": "code",
   "execution_count": 139,
   "metadata": {
    "id": "KAlacPHypMVh"
   },
   "outputs": [
    {
     "data": {
      "image/png": "[encoded data removed]",
      "text/plain": [
       "<Figure size 800x600 with 1 Axes>"
      ]
     },
     "metadata": {},
     "output_type": "display_data"
    }
   ],
   "source": [
    "plt.figure(figsize=(8, 6))\n",
    "sns.countplot(data=df, palette='viridis')\n",
    "plt.title('Count of Categories')\n",
    "plt.xlabel('road traffic')\n",
    "plt.ylabel('Count')\n",
    "plt.show()"
   ]
  },
  {
   "cell_type": "markdown",
   "metadata": {
    "id": "G4KCbzg4osSW"
   },
   "source": [
    "### Use appropriate plots such as histograms, bar charts, pie charts, scatter plots, and heatmaps."
   ]
  },
  {
   "cell_type": "markdown",
   "metadata": {
    "id": "a9akovSwo5l2"
   },
   "source": [
    "* <h3>Summarize the key insights gained from the data analysis.<h3/>\n",
    "* <h3>Draw conclusions based on the patterns observed in the data.<h3/>"
   ]
  },
  {
   "cell_type": "code",
   "execution_count": null,
   "metadata": {
    "id": "2-U6-y6DLe_y"
   },
   "outputs": [],
   "source": []
  }
 ],
 "metadata": {
  "colab": {
   "provenance": []
  },
  "kernelspec": {
   "display_name": "Python 3 (ipykernel)",
   "language": "python",
   "name": "python3"
  },
  "language_info": {
   "codemirror_mode": {
    "name": "ipython",
    "version": 3
   },
   "file_extension": ".py",
   "mimetype": "text/x-python",
   "name": "python",
   "nbconvert_exporter": "python",
   "pygments_lexer": "ipython3",
   "version": "3.9.13"
  }
 },
 "nbformat": 4,
 "nbformat_minor": 1
}
