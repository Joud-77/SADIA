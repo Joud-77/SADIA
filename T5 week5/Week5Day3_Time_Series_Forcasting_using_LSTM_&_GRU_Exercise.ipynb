{
  "cells": [
    {
      "cell_type": "markdown",
      "metadata": {
        "_uuid": "2f82cc24efc6283e5a98cadb78fc1a465e44c143",
        "collapsed": true,
        "trusted": true,
        "id": "7Fn6fKd6VUNZ"
      },
      "source": [
        "### Time Series Forecasting using LSTM and GRU\n",
        "In this notebook will use LSTM & GRU for predicting the price of stocks of Google for the year 2017"
      ]
    },
    {
      "cell_type": "markdown",
      "metadata": {
        "id": "s7km-gA1VUNc"
      },
      "source": [
        "## Importing the libraries"
      ]
    },
    {
      "cell_type": "code",
      "execution_count": 3,
      "metadata": {
        "_uuid": "da0236e4b36ce514c1fec3fd72f236d1fa259131",
        "collapsed": true,
        "trusted": true,
        "id": "p3B1AwqLVUNd"
      },
      "outputs": [],
      "source": [
        "import numpy as np\n",
        "import matplotlib.pyplot as plt\n",
        "plt.style.use('fivethirtyeight')\n",
        "import pandas as pd\n",
        "from sklearn.preprocessing import MinMaxScaler\n",
        "from keras.models import Sequential\n",
        "from keras.layers import Dense, LSTM, Dropout, GRU\n",
        "from keras.optimizers import SGD\n",
        "import math\n",
        "from sklearn.metrics import mean_squared_error"
      ]
    },
    {
      "cell_type": "markdown",
      "metadata": {
        "id": "VyVuBBeLVUNh"
      },
      "source": [
        "## Helper Functions for Plotting Predictions and Calculating RMSE"
      ]
    },
    {
      "cell_type": "code",
      "execution_count": 33,
      "metadata": {
        "_uuid": "b288a8e2caf6196daec9cd2bc4ca78fe50345845",
        "trusted": true,
        "id": "Z9y14mAwVUNi"
      },
      "outputs": [],
      "source": [
        "def plot_predictions(test,predicted):\n",
        "    plt.plot(test, color='red',label='Close')\n",
        "    plt.plot(predicted, color='blue',label='open')\n",
        "    plt.title('Google Prediction')\n",
        "    plt.xlabel('Time')\n",
        "    plt.ylabel('Google')\n",
        "    plt.legend()\n",
        "    plt.show()\n",
        "\n",
        "def return_rmse(test,predicted):\n",
        "    rmse = math.sqrt(mean_squared_error(test, predicted))\n",
        "    print(\"The root mean squared error is {}.\".format(rmse))"
      ]
    },
    {
      "cell_type": "markdown",
      "metadata": {
        "id": "9GxWCj_nVUNl"
      },
      "source": [
        "## Getting the data"
      ]
    },
    {
      "cell_type": "code",
      "execution_count": 34,
      "metadata": {
        "_uuid": "4cf10cf27420eb383b93b15c0895139ea96c0ed3",
        "collapsed": true,
        "trusted": true,
        "id": "P6VWlaDpVUNm",
        "outputId": "aaceab72-e292-48f4-f420-99cd0b68433a",
        "colab": {
          "base_uri": "https://localhost:8080/",
          "height": 237
        }
      },
      "outputs": [
        {
          "output_type": "execute_result",
          "data": {
            "text/plain": [
              "              Open    High     Low   Close    Volume   Name\n",
              "Date                                                       \n",
              "2006-01-03  211.47  218.05  209.32  217.83  13137450  GOOGL\n",
              "2006-01-04  222.17  224.70  220.09  222.84  15292353  GOOGL\n",
              "2006-01-05  223.22  226.00  220.97  225.85  10815661  GOOGL\n",
              "2006-01-06  228.66  235.49  226.85  233.06  17759521  GOOGL\n",
              "2006-01-09  233.44  236.94  230.70  233.68  12795837  GOOGL"
            ],
            "text/html": [
              "\n",
              "  <div id=\"df-88328365-9701-44ce-9857-4643298bec35\" class=\"colab-df-container\">\n",
              "    <div>\n",
              "<style scoped>\n",
              "    .dataframe tbody tr th:only-of-type {\n",
              "        vertical-align: middle;\n",
              "    }\n",
              "\n",
              "    .dataframe tbody tr th {\n",
              "        vertical-align: top;\n",
              "    }\n",
              "\n",
              "    .dataframe thead th {\n",
              "        text-align: right;\n",
              "    }\n",
              "</style>\n",
              "<table border=\"1\" class=\"dataframe\">\n",
              "  <thead>\n",
              "    <tr style=\"text-align: right;\">\n",
              "      <th></th>\n",
              "      <th>Open</th>\n",
              "      <th>High</th>\n",
              "      <th>Low</th>\n",
              "      <th>Close</th>\n",
              "      <th>Volume</th>\n",
              "      <th>Name</th>\n",
              "    </tr>\n",
              "    <tr>\n",
              "      <th>Date</th>\n",
              "      <th></th>\n",
              "      <th></th>\n",
              "      <th></th>\n",
              "      <th></th>\n",
              "      <th></th>\n",
              "      <th></th>\n",
              "    </tr>\n",
              "  </thead>\n",
              "  <tbody>\n",
              "    <tr>\n",
              "      <th>2006-01-03</th>\n",
              "      <td>211.47</td>\n",
              "      <td>218.05</td>\n",
              "      <td>209.32</td>\n",
              "      <td>217.83</td>\n",
              "      <td>13137450</td>\n",
              "      <td>GOOGL</td>\n",
              "    </tr>\n",
              "    <tr>\n",
              "      <th>2006-01-04</th>\n",
              "      <td>222.17</td>\n",
              "      <td>224.70</td>\n",
              "      <td>220.09</td>\n",
              "      <td>222.84</td>\n",
              "      <td>15292353</td>\n",
              "      <td>GOOGL</td>\n",
              "    </tr>\n",
              "    <tr>\n",
              "      <th>2006-01-05</th>\n",
              "      <td>223.22</td>\n",
              "      <td>226.00</td>\n",
              "      <td>220.97</td>\n",
              "      <td>225.85</td>\n",
              "      <td>10815661</td>\n",
              "      <td>GOOGL</td>\n",
              "    </tr>\n",
              "    <tr>\n",
              "      <th>2006-01-06</th>\n",
              "      <td>228.66</td>\n",
              "      <td>235.49</td>\n",
              "      <td>226.85</td>\n",
              "      <td>233.06</td>\n",
              "      <td>17759521</td>\n",
              "      <td>GOOGL</td>\n",
              "    </tr>\n",
              "    <tr>\n",
              "      <th>2006-01-09</th>\n",
              "      <td>233.44</td>\n",
              "      <td>236.94</td>\n",
              "      <td>230.70</td>\n",
              "      <td>233.68</td>\n",
              "      <td>12795837</td>\n",
              "      <td>GOOGL</td>\n",
              "    </tr>\n",
              "  </tbody>\n",
              "</table>\n",
              "</div>\n",
              "    <div class=\"colab-df-buttons\">\n",
              "\n",
              "  <div class=\"colab-df-container\">\n",
              "    <button class=\"colab-df-convert\" onclick=\"convertToInteractive('df-88328365-9701-44ce-9857-4643298bec35')\"\n",
              "            title=\"Convert this dataframe to an interactive table.\"\n",
              "            style=\"display:none;\">\n",
              "\n",
              "  <svg xmlns=\"http://www.w3.org/2000/svg\" height=\"24px\" viewBox=\"0 -960 960 960\">\n",
              "    <path d=\"M120-120v-720h720v720H120Zm60-500h600v-160H180v160Zm220 220h160v-160H400v160Zm0 220h160v-160H400v160ZM180-400h160v-160H180v160Zm440 0h160v-160H620v160ZM180-180h160v-160H180v160Zm440 0h160v-160H620v160Z\"/>\n",
              "  </svg>\n",
              "    </button>\n",
              "\n",
              "  <style>\n",
              "    .colab-df-container {\n",
              "      display:flex;\n",
              "      gap: 12px;\n",
              "    }\n",
              "\n",
              "    .colab-df-convert {\n",
              "      background-color: #E8F0FE;\n",
              "      border: none;\n",
              "      border-radius: 50%;\n",
              "      cursor: pointer;\n",
              "      display: none;\n",
              "      fill: #1967D2;\n",
              "      height: 32px;\n",
              "      padding: 0 0 0 0;\n",
              "      width: 32px;\n",
              "    }\n",
              "\n",
              "    .colab-df-convert:hover {\n",
              "      background-color: #E2EBFA;\n",
              "      box-shadow: 0px 1px 2px rgba(60, 64, 67, 0.3), 0px 1px 3px 1px rgba(60, 64, 67, 0.15);\n",
              "      fill: #174EA6;\n",
              "    }\n",
              "\n",
              "    .colab-df-buttons div {\n",
              "      margin-bottom: 4px;\n",
              "    }\n",
              "\n",
              "    [theme=dark] .colab-df-convert {\n",
              "      background-color: #3B4455;\n",
              "      fill: #D2E3FC;\n",
              "    }\n",
              "\n",
              "    [theme=dark] .colab-df-convert:hover {\n",
              "      background-color: #434B5C;\n",
              "      box-shadow: 0px 1px 3px 1px rgba(0, 0, 0, 0.15);\n",
              "      filter: drop-shadow(0px 1px 2px rgba(0, 0, 0, 0.3));\n",
              "      fill: #FFFFFF;\n",
              "    }\n",
              "  </style>\n",
              "\n",
              "    <script>\n",
              "      const buttonEl =\n",
              "        document.querySelector('#df-88328365-9701-44ce-9857-4643298bec35 button.colab-df-convert');\n",
              "      buttonEl.style.display =\n",
              "        google.colab.kernel.accessAllowed ? 'block' : 'none';\n",
              "\n",
              "      async function convertToInteractive(key) {\n",
              "        const element = document.querySelector('#df-88328365-9701-44ce-9857-4643298bec35');\n",
              "        const dataTable =\n",
              "          await google.colab.kernel.invokeFunction('convertToInteractive',\n",
              "                                                    [key], {});\n",
              "        if (!dataTable) return;\n",
              "\n",
              "        const docLinkHtml = 'Like what you see? Visit the ' +\n",
              "          '<a target=\"_blank\" href=https://colab.research.google.com/notebooks/data_table.ipynb>data table notebook</a>'\n",
              "          + ' to learn more about interactive tables.';\n",
              "        element.innerHTML = '';\n",
              "        dataTable['output_type'] = 'display_data';\n",
              "        await google.colab.output.renderOutput(dataTable, element);\n",
              "        const docLink = document.createElement('div');\n",
              "        docLink.innerHTML = docLinkHtml;\n",
              "        element.appendChild(docLink);\n",
              "      }\n",
              "    </script>\n",
              "  </div>\n",
              "\n",
              "\n",
              "<div id=\"df-0123c67e-7289-4c00-a743-543c10aed8de\">\n",
              "  <button class=\"colab-df-quickchart\" onclick=\"quickchart('df-0123c67e-7289-4c00-a743-543c10aed8de')\"\n",
              "            title=\"Suggest charts\"\n",
              "            style=\"display:none;\">\n",
              "\n",
              "<svg xmlns=\"http://www.w3.org/2000/svg\" height=\"24px\"viewBox=\"0 0 24 24\"\n",
              "     width=\"24px\">\n",
              "    <g>\n",
              "        <path d=\"M19 3H5c-1.1 0-2 .9-2 2v14c0 1.1.9 2 2 2h14c1.1 0 2-.9 2-2V5c0-1.1-.9-2-2-2zM9 17H7v-7h2v7zm4 0h-2V7h2v10zm4 0h-2v-4h2v4z\"/>\n",
              "    </g>\n",
              "</svg>\n",
              "  </button>\n",
              "\n",
              "<style>\n",
              "  .colab-df-quickchart {\n",
              "      --bg-color: #E8F0FE;\n",
              "      --fill-color: #1967D2;\n",
              "      --hover-bg-color: #E2EBFA;\n",
              "      --hover-fill-color: #174EA6;\n",
              "      --disabled-fill-color: #AAA;\n",
              "      --disabled-bg-color: #DDD;\n",
              "  }\n",
              "\n",
              "  [theme=dark] .colab-df-quickchart {\n",
              "      --bg-color: #3B4455;\n",
              "      --fill-color: #D2E3FC;\n",
              "      --hover-bg-color: #434B5C;\n",
              "      --hover-fill-color: #FFFFFF;\n",
              "      --disabled-bg-color: #3B4455;\n",
              "      --disabled-fill-color: #666;\n",
              "  }\n",
              "\n",
              "  .colab-df-quickchart {\n",
              "    background-color: var(--bg-color);\n",
              "    border: none;\n",
              "    border-radius: 50%;\n",
              "    cursor: pointer;\n",
              "    display: none;\n",
              "    fill: var(--fill-color);\n",
              "    height: 32px;\n",
              "    padding: 0;\n",
              "    width: 32px;\n",
              "  }\n",
              "\n",
              "  .colab-df-quickchart:hover {\n",
              "    background-color: var(--hover-bg-color);\n",
              "    box-shadow: 0 1px 2px rgba(60, 64, 67, 0.3), 0 1px 3px 1px rgba(60, 64, 67, 0.15);\n",
              "    fill: var(--button-hover-fill-color);\n",
              "  }\n",
              "\n",
              "  .colab-df-quickchart-complete:disabled,\n",
              "  .colab-df-quickchart-complete:disabled:hover {\n",
              "    background-color: var(--disabled-bg-color);\n",
              "    fill: var(--disabled-fill-color);\n",
              "    box-shadow: none;\n",
              "  }\n",
              "\n",
              "  .colab-df-spinner {\n",
              "    border: 2px solid var(--fill-color);\n",
              "    border-color: transparent;\n",
              "    border-bottom-color: var(--fill-color);\n",
              "    animation:\n",
              "      spin 1s steps(1) infinite;\n",
              "  }\n",
              "\n",
              "  @keyframes spin {\n",
              "    0% {\n",
              "      border-color: transparent;\n",
              "      border-bottom-color: var(--fill-color);\n",
              "      border-left-color: var(--fill-color);\n",
              "    }\n",
              "    20% {\n",
              "      border-color: transparent;\n",
              "      border-left-color: var(--fill-color);\n",
              "      border-top-color: var(--fill-color);\n",
              "    }\n",
              "    30% {\n",
              "      border-color: transparent;\n",
              "      border-left-color: var(--fill-color);\n",
              "      border-top-color: var(--fill-color);\n",
              "      border-right-color: var(--fill-color);\n",
              "    }\n",
              "    40% {\n",
              "      border-color: transparent;\n",
              "      border-right-color: var(--fill-color);\n",
              "      border-top-color: var(--fill-color);\n",
              "    }\n",
              "    60% {\n",
              "      border-color: transparent;\n",
              "      border-right-color: var(--fill-color);\n",
              "    }\n",
              "    80% {\n",
              "      border-color: transparent;\n",
              "      border-right-color: var(--fill-color);\n",
              "      border-bottom-color: var(--fill-color);\n",
              "    }\n",
              "    90% {\n",
              "      border-color: transparent;\n",
              "      border-bottom-color: var(--fill-color);\n",
              "    }\n",
              "  }\n",
              "</style>\n",
              "\n",
              "  <script>\n",
              "    async function quickchart(key) {\n",
              "      const quickchartButtonEl =\n",
              "        document.querySelector('#' + key + ' button');\n",
              "      quickchartButtonEl.disabled = true;  // To prevent multiple clicks.\n",
              "      quickchartButtonEl.classList.add('colab-df-spinner');\n",
              "      try {\n",
              "        const charts = await google.colab.kernel.invokeFunction(\n",
              "            'suggestCharts', [key], {});\n",
              "      } catch (error) {\n",
              "        console.error('Error during call to suggestCharts:', error);\n",
              "      }\n",
              "      quickchartButtonEl.classList.remove('colab-df-spinner');\n",
              "      quickchartButtonEl.classList.add('colab-df-quickchart-complete');\n",
              "    }\n",
              "    (() => {\n",
              "      let quickchartButtonEl =\n",
              "        document.querySelector('#df-0123c67e-7289-4c00-a743-543c10aed8de button');\n",
              "      quickchartButtonEl.style.display =\n",
              "        google.colab.kernel.accessAllowed ? 'block' : 'none';\n",
              "    })();\n",
              "  </script>\n",
              "</div>\n",
              "\n",
              "    </div>\n",
              "  </div>\n"
            ],
            "application/vnd.google.colaboratory.intrinsic+json": {
              "type": "dataframe",
              "variable_name": "dataset",
              "summary": "{\n  \"name\": \"dataset\",\n  \"rows\": 3019,\n  \"fields\": [\n    {\n      \"column\": \"Date\",\n      \"properties\": {\n        \"dtype\": \"date\",\n        \"min\": \"2006-01-03 00:00:00\",\n        \"max\": \"2017-12-29 00:00:00\",\n        \"num_unique_values\": 3019,\n        \"samples\": [\n          \"2011-08-11 00:00:00\",\n          \"2012-03-20 00:00:00\",\n          \"2006-10-23 00:00:00\"\n        ],\n        \"semantic_type\": \"\",\n        \"description\": \"\"\n      }\n    },\n    {\n      \"column\": \"Open\",\n      \"properties\": {\n        \"dtype\": \"number\",\n        \"std\": 236.3200256326085,\n        \"min\": 131.39,\n        \"max\": 1083.02,\n        \"num_unique_values\": 2880,\n        \"samples\": [\n          349.25,\n          301.71,\n          766.57\n        ],\n        \"semantic_type\": \"\",\n        \"description\": \"\"\n      }\n    },\n    {\n      \"column\": \"High\",\n      \"properties\": {\n        \"dtype\": \"number\",\n        \"std\": 237.51408686940204,\n        \"min\": 134.82,\n        \"max\": 1086.49,\n        \"num_unique_values\": 2855,\n        \"samples\": [\n          383.38,\n          445.95,\n          160.16\n        ],\n        \"semantic_type\": \"\",\n        \"description\": \"\"\n      }\n    },\n    {\n      \"column\": \"Low\",\n      \"properties\": {\n        \"dtype\": \"number\",\n        \"std\": 234.92374721821614,\n        \"min\": 123.77,\n        \"max\": 1072.27,\n        \"num_unique_values\": 2875,\n        \"samples\": [\n          158.83,\n          756.03,\n          259.75\n        ],\n        \"semantic_type\": \"\",\n        \"description\": \"\"\n      }\n    },\n    {\n      \"column\": \"Close\",\n      \"properties\": {\n        \"dtype\": \"number\",\n        \"std\": 236.34323838709707,\n        \"min\": 128.85,\n        \"max\": 1085.09,\n        \"num_unique_values\": 2919,\n        \"samples\": [\n          733.79,\n          750.24,\n          642.0\n        ],\n        \"semantic_type\": \"\",\n        \"description\": \"\"\n      }\n    },\n    {\n      \"column\": \"Volume\",\n      \"properties\": {\n        \"dtype\": \"number\",\n        \"std\": 3038599,\n        \"min\": 521141,\n        \"max\": 41182889,\n        \"num_unique_values\": 3019,\n        \"samples\": [\n          4832119,\n          1540778,\n          15113954\n        ],\n        \"semantic_type\": \"\",\n        \"description\": \"\"\n      }\n    },\n    {\n      \"column\": \"Name\",\n      \"properties\": {\n        \"dtype\": \"category\",\n        \"num_unique_values\": 1,\n        \"samples\": [\n          \"GOOGL\"\n        ],\n        \"semantic_type\": \"\",\n        \"description\": \"\"\n      }\n    }\n  ]\n}"
            }
          },
          "metadata": {},
          "execution_count": 34
        }
      ],
      "source": [
        "# First, we get the data\n",
        "dataset = pd.read_csv('/content/GOOGL_2006-01-01_to_2018-01-01.csv', index_col='Date', parse_dates=['Date'])\n",
        "dataset.head()"
      ]
    },
    {
      "cell_type": "markdown",
      "source": [],
      "metadata": {
        "id": "m9MQlOr9TJjn"
      }
    },
    {
      "cell_type": "code",
      "source": [
        "dataset.describe().T"
      ],
      "metadata": {
        "id": "sQJ5lsL8TP94",
        "outputId": "22b9eaf5-b098-49d1-d063-6f3dff0d0c83",
        "colab": {
          "base_uri": "https://localhost:8080/",
          "height": 206
        }
      },
      "execution_count": 35,
      "outputs": [
        {
          "output_type": "execute_result",
          "data": {
            "text/plain": [
              "         count          mean           std        min          25%  \\\n",
              "Open    3019.0  4.282008e+02  2.363200e+02     131.39      247.775   \n",
              "High    3019.0  4.318356e+02  2.375141e+02     134.82      250.190   \n",
              "Low     3019.0  4.241303e+02  2.349237e+02     123.77      244.035   \n",
              "Close   3019.0  4.280440e+02  2.363432e+02     128.85      247.605   \n",
              "Volume  3019.0  3.551504e+06  3.038599e+06  521141.00  1760854.000   \n",
              "\n",
              "               50%          75%          max  \n",
              "Open        310.48      572.140      1083.02  \n",
              "High        312.81      575.975      1086.49  \n",
              "Low         307.79      565.900      1072.27  \n",
              "Close       310.08      570.770      1085.09  \n",
              "Volume  2517630.00  4242182.500  41182889.00  "
            ],
            "text/html": [
              "\n",
              "  <div id=\"df-f57ebec7-2309-478a-b0d7-9f93f2c5e2dd\" class=\"colab-df-container\">\n",
              "    <div>\n",
              "<style scoped>\n",
              "    .dataframe tbody tr th:only-of-type {\n",
              "        vertical-align: middle;\n",
              "    }\n",
              "\n",
              "    .dataframe tbody tr th {\n",
              "        vertical-align: top;\n",
              "    }\n",
              "\n",
              "    .dataframe thead th {\n",
              "        text-align: right;\n",
              "    }\n",
              "</style>\n",
              "<table border=\"1\" class=\"dataframe\">\n",
              "  <thead>\n",
              "    <tr style=\"text-align: right;\">\n",
              "      <th></th>\n",
              "      <th>count</th>\n",
              "      <th>mean</th>\n",
              "      <th>std</th>\n",
              "      <th>min</th>\n",
              "      <th>25%</th>\n",
              "      <th>50%</th>\n",
              "      <th>75%</th>\n",
              "      <th>max</th>\n",
              "    </tr>\n",
              "  </thead>\n",
              "  <tbody>\n",
              "    <tr>\n",
              "      <th>Open</th>\n",
              "      <td>3019.0</td>\n",
              "      <td>4.282008e+02</td>\n",
              "      <td>2.363200e+02</td>\n",
              "      <td>131.39</td>\n",
              "      <td>247.775</td>\n",
              "      <td>310.48</td>\n",
              "      <td>572.140</td>\n",
              "      <td>1083.02</td>\n",
              "    </tr>\n",
              "    <tr>\n",
              "      <th>High</th>\n",
              "      <td>3019.0</td>\n",
              "      <td>4.318356e+02</td>\n",
              "      <td>2.375141e+02</td>\n",
              "      <td>134.82</td>\n",
              "      <td>250.190</td>\n",
              "      <td>312.81</td>\n",
              "      <td>575.975</td>\n",
              "      <td>1086.49</td>\n",
              "    </tr>\n",
              "    <tr>\n",
              "      <th>Low</th>\n",
              "      <td>3019.0</td>\n",
              "      <td>4.241303e+02</td>\n",
              "      <td>2.349237e+02</td>\n",
              "      <td>123.77</td>\n",
              "      <td>244.035</td>\n",
              "      <td>307.79</td>\n",
              "      <td>565.900</td>\n",
              "      <td>1072.27</td>\n",
              "    </tr>\n",
              "    <tr>\n",
              "      <th>Close</th>\n",
              "      <td>3019.0</td>\n",
              "      <td>4.280440e+02</td>\n",
              "      <td>2.363432e+02</td>\n",
              "      <td>128.85</td>\n",
              "      <td>247.605</td>\n",
              "      <td>310.08</td>\n",
              "      <td>570.770</td>\n",
              "      <td>1085.09</td>\n",
              "    </tr>\n",
              "    <tr>\n",
              "      <th>Volume</th>\n",
              "      <td>3019.0</td>\n",
              "      <td>3.551504e+06</td>\n",
              "      <td>3.038599e+06</td>\n",
              "      <td>521141.00</td>\n",
              "      <td>1760854.000</td>\n",
              "      <td>2517630.00</td>\n",
              "      <td>4242182.500</td>\n",
              "      <td>41182889.00</td>\n",
              "    </tr>\n",
              "  </tbody>\n",
              "</table>\n",
              "</div>\n",
              "    <div class=\"colab-df-buttons\">\n",
              "\n",
              "  <div class=\"colab-df-container\">\n",
              "    <button class=\"colab-df-convert\" onclick=\"convertToInteractive('df-f57ebec7-2309-478a-b0d7-9f93f2c5e2dd')\"\n",
              "            title=\"Convert this dataframe to an interactive table.\"\n",
              "            style=\"display:none;\">\n",
              "\n",
              "  <svg xmlns=\"http://www.w3.org/2000/svg\" height=\"24px\" viewBox=\"0 -960 960 960\">\n",
              "    <path d=\"M120-120v-720h720v720H120Zm60-500h600v-160H180v160Zm220 220h160v-160H400v160Zm0 220h160v-160H400v160ZM180-400h160v-160H180v160Zm440 0h160v-160H620v160ZM180-180h160v-160H180v160Zm440 0h160v-160H620v160Z\"/>\n",
              "  </svg>\n",
              "    </button>\n",
              "\n",
              "  <style>\n",
              "    .colab-df-container {\n",
              "      display:flex;\n",
              "      gap: 12px;\n",
              "    }\n",
              "\n",
              "    .colab-df-convert {\n",
              "      background-color: #E8F0FE;\n",
              "      border: none;\n",
              "      border-radius: 50%;\n",
              "      cursor: pointer;\n",
              "      display: none;\n",
              "      fill: #1967D2;\n",
              "      height: 32px;\n",
              "      padding: 0 0 0 0;\n",
              "      width: 32px;\n",
              "    }\n",
              "\n",
              "    .colab-df-convert:hover {\n",
              "      background-color: #E2EBFA;\n",
              "      box-shadow: 0px 1px 2px rgba(60, 64, 67, 0.3), 0px 1px 3px 1px rgba(60, 64, 67, 0.15);\n",
              "      fill: #174EA6;\n",
              "    }\n",
              "\n",
              "    .colab-df-buttons div {\n",
              "      margin-bottom: 4px;\n",
              "    }\n",
              "\n",
              "    [theme=dark] .colab-df-convert {\n",
              "      background-color: #3B4455;\n",
              "      fill: #D2E3FC;\n",
              "    }\n",
              "\n",
              "    [theme=dark] .colab-df-convert:hover {\n",
              "      background-color: #434B5C;\n",
              "      box-shadow: 0px 1px 3px 1px rgba(0, 0, 0, 0.15);\n",
              "      filter: drop-shadow(0px 1px 2px rgba(0, 0, 0, 0.3));\n",
              "      fill: #FFFFFF;\n",
              "    }\n",
              "  </style>\n",
              "\n",
              "    <script>\n",
              "      const buttonEl =\n",
              "        document.querySelector('#df-f57ebec7-2309-478a-b0d7-9f93f2c5e2dd button.colab-df-convert');\n",
              "      buttonEl.style.display =\n",
              "        google.colab.kernel.accessAllowed ? 'block' : 'none';\n",
              "\n",
              "      async function convertToInteractive(key) {\n",
              "        const element = document.querySelector('#df-f57ebec7-2309-478a-b0d7-9f93f2c5e2dd');\n",
              "        const dataTable =\n",
              "          await google.colab.kernel.invokeFunction('convertToInteractive',\n",
              "                                                    [key], {});\n",
              "        if (!dataTable) return;\n",
              "\n",
              "        const docLinkHtml = 'Like what you see? Visit the ' +\n",
              "          '<a target=\"_blank\" href=https://colab.research.google.com/notebooks/data_table.ipynb>data table notebook</a>'\n",
              "          + ' to learn more about interactive tables.';\n",
              "        element.innerHTML = '';\n",
              "        dataTable['output_type'] = 'display_data';\n",
              "        await google.colab.output.renderOutput(dataTable, element);\n",
              "        const docLink = document.createElement('div');\n",
              "        docLink.innerHTML = docLinkHtml;\n",
              "        element.appendChild(docLink);\n",
              "      }\n",
              "    </script>\n",
              "  </div>\n",
              "\n",
              "\n",
              "<div id=\"df-961dab73-676b-477f-8818-dc0a393588cc\">\n",
              "  <button class=\"colab-df-quickchart\" onclick=\"quickchart('df-961dab73-676b-477f-8818-dc0a393588cc')\"\n",
              "            title=\"Suggest charts\"\n",
              "            style=\"display:none;\">\n",
              "\n",
              "<svg xmlns=\"http://www.w3.org/2000/svg\" height=\"24px\"viewBox=\"0 0 24 24\"\n",
              "     width=\"24px\">\n",
              "    <g>\n",
              "        <path d=\"M19 3H5c-1.1 0-2 .9-2 2v14c0 1.1.9 2 2 2h14c1.1 0 2-.9 2-2V5c0-1.1-.9-2-2-2zM9 17H7v-7h2v7zm4 0h-2V7h2v10zm4 0h-2v-4h2v4z\"/>\n",
              "    </g>\n",
              "</svg>\n",
              "  </button>\n",
              "\n",
              "<style>\n",
              "  .colab-df-quickchart {\n",
              "      --bg-color: #E8F0FE;\n",
              "      --fill-color: #1967D2;\n",
              "      --hover-bg-color: #E2EBFA;\n",
              "      --hover-fill-color: #174EA6;\n",
              "      --disabled-fill-color: #AAA;\n",
              "      --disabled-bg-color: #DDD;\n",
              "  }\n",
              "\n",
              "  [theme=dark] .colab-df-quickchart {\n",
              "      --bg-color: #3B4455;\n",
              "      --fill-color: #D2E3FC;\n",
              "      --hover-bg-color: #434B5C;\n",
              "      --hover-fill-color: #FFFFFF;\n",
              "      --disabled-bg-color: #3B4455;\n",
              "      --disabled-fill-color: #666;\n",
              "  }\n",
              "\n",
              "  .colab-df-quickchart {\n",
              "    background-color: var(--bg-color);\n",
              "    border: none;\n",
              "    border-radius: 50%;\n",
              "    cursor: pointer;\n",
              "    display: none;\n",
              "    fill: var(--fill-color);\n",
              "    height: 32px;\n",
              "    padding: 0;\n",
              "    width: 32px;\n",
              "  }\n",
              "\n",
              "  .colab-df-quickchart:hover {\n",
              "    background-color: var(--hover-bg-color);\n",
              "    box-shadow: 0 1px 2px rgba(60, 64, 67, 0.3), 0 1px 3px 1px rgba(60, 64, 67, 0.15);\n",
              "    fill: var(--button-hover-fill-color);\n",
              "  }\n",
              "\n",
              "  .colab-df-quickchart-complete:disabled,\n",
              "  .colab-df-quickchart-complete:disabled:hover {\n",
              "    background-color: var(--disabled-bg-color);\n",
              "    fill: var(--disabled-fill-color);\n",
              "    box-shadow: none;\n",
              "  }\n",
              "\n",
              "  .colab-df-spinner {\n",
              "    border: 2px solid var(--fill-color);\n",
              "    border-color: transparent;\n",
              "    border-bottom-color: var(--fill-color);\n",
              "    animation:\n",
              "      spin 1s steps(1) infinite;\n",
              "  }\n",
              "\n",
              "  @keyframes spin {\n",
              "    0% {\n",
              "      border-color: transparent;\n",
              "      border-bottom-color: var(--fill-color);\n",
              "      border-left-color: var(--fill-color);\n",
              "    }\n",
              "    20% {\n",
              "      border-color: transparent;\n",
              "      border-left-color: var(--fill-color);\n",
              "      border-top-color: var(--fill-color);\n",
              "    }\n",
              "    30% {\n",
              "      border-color: transparent;\n",
              "      border-left-color: var(--fill-color);\n",
              "      border-top-color: var(--fill-color);\n",
              "      border-right-color: var(--fill-color);\n",
              "    }\n",
              "    40% {\n",
              "      border-color: transparent;\n",
              "      border-right-color: var(--fill-color);\n",
              "      border-top-color: var(--fill-color);\n",
              "    }\n",
              "    60% {\n",
              "      border-color: transparent;\n",
              "      border-right-color: var(--fill-color);\n",
              "    }\n",
              "    80% {\n",
              "      border-color: transparent;\n",
              "      border-right-color: var(--fill-color);\n",
              "      border-bottom-color: var(--fill-color);\n",
              "    }\n",
              "    90% {\n",
              "      border-color: transparent;\n",
              "      border-bottom-color: var(--fill-color);\n",
              "    }\n",
              "  }\n",
              "</style>\n",
              "\n",
              "  <script>\n",
              "    async function quickchart(key) {\n",
              "      const quickchartButtonEl =\n",
              "        document.querySelector('#' + key + ' button');\n",
              "      quickchartButtonEl.disabled = true;  // To prevent multiple clicks.\n",
              "      quickchartButtonEl.classList.add('colab-df-spinner');\n",
              "      try {\n",
              "        const charts = await google.colab.kernel.invokeFunction(\n",
              "            'suggestCharts', [key], {});\n",
              "      } catch (error) {\n",
              "        console.error('Error during call to suggestCharts:', error);\n",
              "      }\n",
              "      quickchartButtonEl.classList.remove('colab-df-spinner');\n",
              "      quickchartButtonEl.classList.add('colab-df-quickchart-complete');\n",
              "    }\n",
              "    (() => {\n",
              "      let quickchartButtonEl =\n",
              "        document.querySelector('#df-961dab73-676b-477f-8818-dc0a393588cc button');\n",
              "      quickchartButtonEl.style.display =\n",
              "        google.colab.kernel.accessAllowed ? 'block' : 'none';\n",
              "    })();\n",
              "  </script>\n",
              "</div>\n",
              "\n",
              "    </div>\n",
              "  </div>\n"
            ],
            "application/vnd.google.colaboratory.intrinsic+json": {
              "type": "dataframe",
              "summary": "{\n  \"name\": \"dataset\",\n  \"rows\": 5,\n  \"fields\": [\n    {\n      \"column\": \"count\",\n      \"properties\": {\n        \"dtype\": \"number\",\n        \"std\": 0.0,\n        \"min\": 3019.0,\n        \"max\": 3019.0,\n        \"num_unique_values\": 1,\n        \"samples\": [\n          3019.0\n        ],\n        \"semantic_type\": \"\",\n        \"description\": \"\"\n      }\n    },\n    {\n      \"column\": \"mean\",\n      \"properties\": {\n        \"dtype\": \"number\",\n        \"std\": 1588089.2346169662,\n        \"min\": 424.1302749254721,\n        \"max\": 3551503.535607817,\n        \"num_unique_values\": 5,\n        \"samples\": [\n          431.8356177542232\n        ],\n        \"semantic_type\": \"\",\n        \"description\": \"\"\n      }\n    },\n    {\n      \"column\": \"std\",\n      \"properties\": {\n        \"dtype\": \"number\",\n        \"std\": 1358797.2369540646,\n        \"min\": 234.92374721821614,\n        \"max\": 3038599.2647420117,\n        \"num_unique_values\": 5,\n        \"samples\": [\n          237.51408686940204\n        ],\n        \"semantic_type\": \"\",\n        \"description\": \"\"\n      }\n    },\n    {\n      \"column\": \"min\",\n      \"properties\": {\n        \"dtype\": \"number\",\n        \"std\": 233003.33344985332,\n        \"min\": 123.77,\n        \"max\": 521141.0,\n        \"num_unique_values\": 5,\n        \"samples\": [\n          134.82\n        ],\n        \"semantic_type\": \"\",\n        \"description\": \"\"\n      }\n    },\n    {\n      \"column\": \"25%\",\n      \"properties\": {\n        \"dtype\": \"number\",\n        \"std\": 787367.2072910017,\n        \"min\": 244.03500000000003,\n        \"max\": 1760854.0,\n        \"num_unique_values\": 5,\n        \"samples\": [\n          250.19\n        ],\n        \"semantic_type\": \"\",\n        \"description\": \"\"\n      }\n    },\n    {\n      \"column\": \"50%\",\n      \"properties\": {\n        \"dtype\": \"number\",\n        \"std\": 1125779.5985334194,\n        \"min\": 307.79,\n        \"max\": 2517630.0,\n        \"num_unique_values\": 5,\n        \"samples\": [\n          312.81\n        ],\n        \"semantic_type\": \"\",\n        \"description\": \"\"\n      }\n    },\n    {\n      \"column\": \"75%\",\n      \"properties\": {\n        \"dtype\": \"number\",\n        \"std\": 1896906.2418667257,\n        \"min\": 565.9,\n        \"max\": 4242182.5,\n        \"num_unique_values\": 5,\n        \"samples\": [\n          575.975\n        ],\n        \"semantic_type\": \"\",\n        \"description\": \"\"\n      }\n    },\n    {\n      \"column\": \"max\",\n      \"properties\": {\n        \"dtype\": \"number\",\n        \"std\": 18417064.103994027,\n        \"min\": 1072.27,\n        \"max\": 41182889.0,\n        \"num_unique_values\": 5,\n        \"samples\": [\n          1086.49\n        ],\n        \"semantic_type\": \"\",\n        \"description\": \"\"\n      }\n    }\n  ]\n}"
            }
          },
          "metadata": {},
          "execution_count": 35
        }
      ]
    },
    {
      "cell_type": "markdown",
      "metadata": {
        "id": "B9IVPpHaVUNo"
      },
      "source": [
        "Slpitting dataset to train set (Before 2017) and test set (2017 and beyond)"
      ]
    },
    {
      "cell_type": "code",
      "execution_count": 36,
      "metadata": {
        "_uuid": "fb4c9db6d8a5bcf20ffad41747cfa5b6215ba220",
        "collapsed": true,
        "trusted": true,
        "id": "FBoOEKZIVUOX"
      },
      "outputs": [],
      "source": [
        "training_set = dataset[:'2016'].iloc[:,1:2].values\n",
        "test_set = dataset['2017':].iloc[:,1:2].values"
      ]
    },
    {
      "cell_type": "markdown",
      "metadata": {
        "id": "zu5jLG2wVUOa"
      },
      "source": [
        "Visualizing the data"
      ]
    },
    {
      "cell_type": "code",
      "execution_count": 37,
      "metadata": {
        "_uuid": "bf5a9463d58e73852d2b70be9611e8cf1f4166fd",
        "collapsed": true,
        "trusted": true,
        "id": "ls4KvpxFVUOa",
        "outputId": "15d83bcb-2e4f-42d2-b58c-d7ec2f456643",
        "colab": {
          "base_uri": "https://localhost:8080/",
          "height": 357
        }
      },
      "outputs": [
        {
          "output_type": "display_data",
          "data": {
            "text/plain": [
              "<Figure size 1600x400 with 1 Axes>"
            ],
            "image/png": "[encoded data removed]"
          },
          "metadata": {}
        }
      ],
      "source": [
        "dataset[\"High\"][:'2016'].plot(figsize=(16,4),legend=True)\n",
        "dataset[\"High\"]['2017':].plot(figsize=(16,4),legend=True)\n",
        "plt.legend(['Training set (Before 2017)','Test set (2017 and beyond)'])\n",
        "plt.title('Google Stock High Price')\n",
        "plt.xlabel('Date')\n",
        "plt.ylabel('High Price')\n",
        "plt.show()"
      ]
    },
    {
      "cell_type": "markdown",
      "metadata": {
        "id": "3dyK8beVVUOb"
      },
      "source": [
        "## Data Preprocessing"
      ]
    },
    {
      "cell_type": "markdown",
      "source": [
        "Scaling the training set"
      ],
      "metadata": {
        "id": "fJzLTRtIb_c-"
      }
    },
    {
      "cell_type": "code",
      "execution_count": 38,
      "metadata": {
        "_uuid": "bcc9c36165fc07d258bd5ea87874d2da17fa4a4d",
        "collapsed": true,
        "trusted": true,
        "id": "IiEkLotmVUOc"
      },
      "outputs": [],
      "source": [
        "sc = MinMaxScaler(feature_range=(0,1))\n",
        "training_set_scaled = sc.fit_transform(training_set)"
      ]
    },
    {
      "cell_type": "markdown",
      "source": [
        "Since LSTMs store long term memory state, we create a data structure with 60 timesteps and 1 output. So for each element of training set, we have 60 previous training set elements"
      ],
      "metadata": {
        "id": "2B33pe-YcKK-"
      }
    },
    {
      "cell_type": "code",
      "execution_count": 39,
      "metadata": {
        "_uuid": "fccfb866a2b4c702e0b2742f7c0289512d713d1b",
        "collapsed": true,
        "trusted": true,
        "id": "KGw9rUErVUOd"
      },
      "outputs": [],
      "source": [
        "X_train = []\n",
        "y_train = []\n",
        "for i in range(60,2769):\n",
        "    X_train.append(training_set_scaled[i-60:i,0])\n",
        "    y_train.append(training_set_scaled[i-1,0]) # Access the previous element for y_train\n",
        "X_train, y_train = np.array(X_train), np.array(y_train)"
      ]
    },
    {
      "cell_type": "markdown",
      "source": [
        "Reshaping X_train for efficient modelling"
      ],
      "metadata": {
        "id": "ThJlzQnAcUwG"
      }
    },
    {
      "cell_type": "code",
      "execution_count": 40,
      "metadata": {
        "_uuid": "637f699d3c4bde4b783de56ed4dd70a1bf59760d",
        "collapsed": true,
        "trusted": true,
        "id": "C13wjfENVUOd"
      },
      "outputs": [],
      "source": [
        "X_train = np.reshape(X_train, (X_train.shape[0],X_train.shape[1],1))"
      ]
    },
    {
      "cell_type": "markdown",
      "metadata": {
        "id": "sRydb_OGVUOd"
      },
      "source": [
        "## LSTM Model"
      ]
    },
    {
      "cell_type": "code",
      "execution_count": 41,
      "metadata": {
        "_uuid": "df20eb7e8062dae0a3aff2182aa440faddd0017d",
        "collapsed": true,
        "trusted": true,
        "id": "T9EKvel9VUOe",
        "outputId": "ba8c1c62-b39d-471a-bf1e-82d45796a577",
        "colab": {
          "base_uri": "https://localhost:8080/"
        }
      },
      "outputs": [
        {
          "output_type": "stream",
          "name": "stdout",
          "text": [
            "Epoch 1/10\n"
          ]
        },
        {
          "output_type": "stream",
          "name": "stderr",
          "text": [
            "/usr/local/lib/python3.10/dist-packages/keras/src/layers/rnn/rnn.py:204: UserWarning: Do not pass an `input_shape`/`input_dim` argument to a layer. When using Sequential models, prefer using an `Input(shape)` object as the first layer in the model instead.\n",
            "  super().__init__(**kwargs)\n"
          ]
        },
        {
          "output_type": "stream",
          "name": "stdout",
          "text": [
            "\u001b[1m85/85\u001b[0m \u001b[32m━━━━━━━━━━━━━━━━━━━━\u001b[0m\u001b[37m\u001b[0m \u001b[1m13s\u001b[0m 88ms/step - loss: 0.0511\n",
            "Epoch 2/10\n",
            "\u001b[1m85/85\u001b[0m \u001b[32m━━━━━━━━━━━━━━━━━━━━\u001b[0m\u001b[37m\u001b[0m \u001b[1m6s\u001b[0m 72ms/step - loss: 0.0094\n",
            "Epoch 3/10\n",
            "\u001b[1m85/85\u001b[0m \u001b[32m━━━━━━━━━━━━━━━━━━━━\u001b[0m\u001b[37m\u001b[0m \u001b[1m10s\u001b[0m 72ms/step - loss: 0.0097\n",
            "Epoch 4/10\n",
            "\u001b[1m85/85\u001b[0m \u001b[32m━━━━━━━━━━━━━━━━━━━━\u001b[0m\u001b[37m\u001b[0m \u001b[1m8s\u001b[0m 89ms/step - loss: 0.0079\n",
            "Epoch 5/10\n",
            "\u001b[1m85/85\u001b[0m \u001b[32m━━━━━━━━━━━━━━━━━━━━\u001b[0m\u001b[37m\u001b[0m \u001b[1m9s\u001b[0m 75ms/step - loss: 0.0060\n",
            "Epoch 6/10\n",
            "\u001b[1m85/85\u001b[0m \u001b[32m━━━━━━━━━━━━━━━━━━━━\u001b[0m\u001b[37m\u001b[0m \u001b[1m10s\u001b[0m 71ms/step - loss: 0.0059\n",
            "Epoch 7/10\n",
            "\u001b[1m85/85\u001b[0m \u001b[32m━━━━━━━━━━━━━━━━━━━━\u001b[0m\u001b[37m\u001b[0m \u001b[1m10s\u001b[0m 71ms/step - loss: 0.0057\n",
            "Epoch 8/10\n",
            "\u001b[1m85/85\u001b[0m \u001b[32m━━━━━━━━━━━━━━━━━━━━\u001b[0m\u001b[37m\u001b[0m \u001b[1m11s\u001b[0m 77ms/step - loss: 0.0049\n",
            "Epoch 9/10\n",
            "\u001b[1m85/85\u001b[0m \u001b[32m━━━━━━━━━━━━━━━━━━━━\u001b[0m\u001b[37m\u001b[0m \u001b[1m11s\u001b[0m 87ms/step - loss: 0.0050\n",
            "Epoch 10/10\n",
            "\u001b[1m85/85\u001b[0m \u001b[32m━━━━━━━━━━━━━━━━━━━━\u001b[0m\u001b[37m\u001b[0m \u001b[1m6s\u001b[0m 71ms/step - loss: 0.0051\n"
          ]
        },
        {
          "output_type": "execute_result",
          "data": {
            "text/plain": [
              "<keras.src.callbacks.history.History at 0x7fda0709a740>"
            ]
          },
          "metadata": {},
          "execution_count": 41
        }
      ],
      "source": [
        "regressor = Sequential()\n",
        "\n",
        "# First LSTM layer with Dropout regularisation\n",
        "regressor.add(LSTM(units=7, return_sequences=True, input_shape=(X_train.shape[1],1)))\n",
        "regressor.add(Dropout(0.2))\n",
        "\n",
        "# Second LSTM layer\n",
        "regressor.add(LSTM(units=7, return_sequences=True))\n",
        "regressor.add(Dropout(0.2))\n",
        "\n",
        "# Third LSTM layer\n",
        "regressor.add(LSTM(units=7, return_sequences=True))\n",
        "regressor.add(Dropout(0.2))\n",
        "\n",
        "# Fourth LSTM layer\n",
        "regressor.add(LSTM(units=7))\n",
        "regressor.add(Dropout(0.2))\n",
        "\n",
        "# The output layer\n",
        "regressor.add(Dense(units=1))\n",
        "\n",
        "# Compiling the RNN\n",
        "regressor.compile(optimizer='rmsprop',loss='mean_squared_error')\n",
        "# Fitting to the training set\n",
        "regressor.fit(X_train,y_train,epochs=10,batch_size=32)"
      ]
    },
    {
      "cell_type": "markdown",
      "metadata": {
        "id": "0Rk7DFBEVUOf"
      },
      "source": [
        "\n",
        "## Make preductuion with LSTM model"
      ]
    },
    {
      "cell_type": "code",
      "execution_count": 42,
      "metadata": {
        "_uuid": "326fa85615622feb484cc4c848edeec6f7133913",
        "collapsed": true,
        "trusted": true,
        "id": "X1n0ZICGVUOf"
      },
      "outputs": [],
      "source": [
        "dataset_total = pd.concat((dataset[\"High\"][:'2016'],dataset[\"High\"]['2017':]),axis=0)\n",
        "inputs = dataset_total[len(dataset_total)-len(test_set) - 60:].values\n",
        "inputs = inputs.reshape(-1,1)\n",
        "inputs  = sc.transform(inputs)"
      ]
    },
    {
      "cell_type": "code",
      "execution_count": 43,
      "metadata": {
        "_uuid": "435b8024814939ac4fbd372baa0cd8cfc78f80bc",
        "collapsed": true,
        "trusted": true,
        "id": "8-TNoTFbVUOg",
        "outputId": "dd5b4548-ec59-4762-fcce-6e0d1c06e05a",
        "colab": {
          "base_uri": "https://localhost:8080/"
        }
      },
      "outputs": [
        {
          "output_type": "stream",
          "name": "stderr",
          "text": [
            "WARNING:tensorflow:5 out of the last 17 calls to <function TensorFlowTrainer.make_predict_function.<locals>.one_step_on_data_distributed at 0x7fda041e6a70> triggered tf.function retracing. Tracing is expensive and the excessive number of tracings could be due to (1) creating @tf.function repeatedly in a loop, (2) passing tensors with different shapes, (3) passing Python objects instead of tensors. For (1), please define your @tf.function outside of the loop. For (2), @tf.function has reduce_retracing=True option that can avoid unnecessary retracing. For (3), please refer to https://www.tensorflow.org/guide/function#controlling_retracing and https://www.tensorflow.org/api_docs/python/tf/function for  more details.\n"
          ]
        },
        {
          "output_type": "stream",
          "name": "stdout",
          "text": [
            "\u001b[1m8/8\u001b[0m \u001b[32m━━━━━━━━━━━━━━━━━━━━\u001b[0m\u001b[37m\u001b[0m \u001b[1m1s\u001b[0m 94ms/step\n"
          ]
        }
      ],
      "source": [
        "X_test = []\n",
        "for i in range(60,311):\n",
        "    X_test.append(inputs[i-60:i,0])\n",
        "X_test = np.array(X_test)\n",
        "X_test = np.reshape(X_test, (X_test.shape[0],X_test.shape[1],1))\n",
        "predicted_stock_price = regressor.predict(X_test)\n",
        "predicted_stock_price = sc.inverse_transform(predicted_stock_price)"
      ]
    },
    {
      "cell_type": "markdown",
      "metadata": {
        "id": "zmww64vVVUOg"
      },
      "source": [
        "Visualizing the results"
      ]
    },
    {
      "cell_type": "code",
      "execution_count": 44,
      "metadata": {
        "_uuid": "b774a8e79e53eac89694cafef6b11aa99226b95f",
        "collapsed": true,
        "scrolled": false,
        "trusted": true,
        "id": "3TSxgXS2VUOg",
        "outputId": "90a02709-f73b-40d6-957d-1dc082bdcf6e",
        "colab": {
          "base_uri": "https://localhost:8080/",
          "height": 508
        }
      },
      "outputs": [
        {
          "output_type": "display_data",
          "data": {
            "text/plain": [
              "<Figure size 640x480 with 1 Axes>"
            ],
            "image/png": "[encoded data removed]"
          },
          "metadata": {}
        }
      ],
      "source": [
        "plot_predictions(test_set,predicted_stock_price)"
      ]
    },
    {
      "cell_type": "markdown",
      "metadata": {
        "id": "sNCJ2JgBVUOh"
      },
      "source": [
        "Evaluating LSMT Model"
      ]
    },
    {
      "cell_type": "code",
      "execution_count": 45,
      "metadata": {
        "_uuid": "f6f6db0b6e1f17ac63c06ce49856873d98ba5f00",
        "collapsed": true,
        "trusted": true,
        "id": "nOf3G3QKVUOh",
        "outputId": "776a26e2-a5cf-46c9-8597-bdca3ef7f3b4",
        "colab": {
          "base_uri": "https://localhost:8080/"
        }
      },
      "outputs": [
        {
          "output_type": "stream",
          "name": "stdout",
          "text": [
            "The root mean squared error is 115.06797436783081.\n"
          ]
        }
      ],
      "source": [
        "return_rmse(test_set,predicted_stock_price)"
      ]
    },
    {
      "cell_type": "markdown",
      "metadata": {
        "id": "kIbYes_TVUOi"
      },
      "source": [
        "## GRU Model"
      ]
    },
    {
      "cell_type": "code",
      "execution_count": 46,
      "metadata": {
        "_uuid": "e9b616c5112d707d16cc4b277007e286cffd58f6",
        "collapsed": true,
        "trusted": true,
        "id": "4gjhbceiVUOi",
        "outputId": "1dfa4e18-d967-45e7-c716-97e603978f10",
        "colab": {
          "base_uri": "https://localhost:8080/"
        }
      },
      "outputs": [
        {
          "output_type": "stream",
          "name": "stdout",
          "text": [
            "Epoch 1/10\n"
          ]
        },
        {
          "output_type": "stream",
          "name": "stderr",
          "text": [
            "/usr/local/lib/python3.10/dist-packages/keras/src/layers/rnn/rnn.py:204: UserWarning: Do not pass an `input_shape`/`input_dim` argument to a layer. When using Sequential models, prefer using an `Input(shape)` object as the first layer in the model instead.\n",
            "  super().__init__(**kwargs)\n",
            "/usr/local/lib/python3.10/dist-packages/keras/src/optimizers/base_optimizer.py:33: UserWarning: Argument `decay` is no longer supported and will be ignored.\n",
            "  warnings.warn(\n"
          ]
        },
        {
          "output_type": "stream",
          "name": "stdout",
          "text": [
            "\u001b[1m19/19\u001b[0m \u001b[32m━━━━━━━━━━━━━━━━━━━━\u001b[0m\u001b[37m\u001b[0m \u001b[1m8s\u001b[0m 115ms/step - loss: 0.1438\n",
            "Epoch 2/10\n",
            "\u001b[1m19/19\u001b[0m \u001b[32m━━━━━━━━━━━━━━━━━━━━\u001b[0m\u001b[37m\u001b[0m \u001b[1m3s\u001b[0m 145ms/step - loss: 0.0654\n",
            "Epoch 3/10\n",
            "\u001b[1m19/19\u001b[0m \u001b[32m━━━━━━━━━━━━━━━━━━━━\u001b[0m\u001b[37m\u001b[0m \u001b[1m5s\u001b[0m 114ms/step - loss: 0.0357\n",
            "Epoch 4/10\n",
            "\u001b[1m19/19\u001b[0m \u001b[32m━━━━━━━━━━━━━━━━━━━━\u001b[0m\u001b[37m\u001b[0m \u001b[1m2s\u001b[0m 114ms/step - loss: 0.0123\n",
            "Epoch 5/10\n",
            "\u001b[1m19/19\u001b[0m \u001b[32m━━━━━━━━━━━━━━━━━━━━\u001b[0m\u001b[37m\u001b[0m \u001b[1m2s\u001b[0m 113ms/step - loss: 0.0078\n",
            "Epoch 6/10\n",
            "\u001b[1m19/19\u001b[0m \u001b[32m━━━━━━━━━━━━━━━━━━━━\u001b[0m\u001b[37m\u001b[0m \u001b[1m3s\u001b[0m 132ms/step - loss: 0.0076\n",
            "Epoch 7/10\n",
            "\u001b[1m19/19\u001b[0m \u001b[32m━━━━━━━━━━━━━━━━━━━━\u001b[0m\u001b[37m\u001b[0m \u001b[1m3s\u001b[0m 165ms/step - loss: 0.0072\n",
            "Epoch 8/10\n",
            "\u001b[1m19/19\u001b[0m \u001b[32m━━━━━━━━━━━━━━━━━━━━\u001b[0m\u001b[37m\u001b[0m \u001b[1m4s\u001b[0m 113ms/step - loss: 0.0070\n",
            "Epoch 9/10\n",
            "\u001b[1m19/19\u001b[0m \u001b[32m━━━━━━━━━━━━━━━━━━━━\u001b[0m\u001b[37m\u001b[0m \u001b[1m3s\u001b[0m 114ms/step - loss: 0.0075\n",
            "Epoch 10/10\n",
            "\u001b[1m19/19\u001b[0m \u001b[32m━━━━━━━━━━━━━━━━━━━━\u001b[0m\u001b[37m\u001b[0m \u001b[1m2s\u001b[0m 113ms/step - loss: 0.0078\n"
          ]
        },
        {
          "output_type": "execute_result",
          "data": {
            "text/plain": [
              "<keras.src.callbacks.history.History at 0x7fda0709acb0>"
            ]
          },
          "metadata": {},
          "execution_count": 46
        }
      ],
      "source": [
        "regressorGRU = Sequential()\n",
        "\n",
        "# First GRU layer with Dropout regularisation\n",
        "regressorGRU.add(GRU(units=7, return_sequences=True, input_shape=(X_train.shape[1],1), activation='tanh'))\n",
        "regressorGRU.add(Dropout(0.2))\n",
        "\n",
        "# Second GRU layer\n",
        "regressorGRU.add(GRU(units=7, return_sequences=True, input_shape=(X_train.shape[1],1), activation='tanh'))\n",
        "regressorGRU.add(Dropout(0.2))\n",
        "\n",
        "# Third GRU layer\n",
        "regressorGRU.add(GRU(units=7, return_sequences=True, input_shape=(X_train.shape[1],1), activation='tanh'))\n",
        "regressorGRU.add(Dropout(0.2))\n",
        "\n",
        "# Fourth GRU layer\n",
        "regressorGRU.add(GRU(units=7, activation='tanh'))\n",
        "regressorGRU.add(Dropout(0.2))\n",
        "\n",
        "# The output layer\n",
        "regressorGRU.add(Dense(units=1))\n",
        "\n",
        "# Compiling the RNN\n",
        "regressorGRU.compile(optimizer=SGD(learning_rate=0.01, decay=1e-7, momentum=0.9, nesterov=False),loss='mean_squared_error')\n",
        "# Fitting to the training set\n",
        "regressorGRU.fit(X_train,y_train,epochs=10,batch_size=150)"
      ]
    },
    {
      "cell_type": "markdown",
      "metadata": {
        "id": "i7cCLetTVUOj"
      },
      "source": [
        "\n",
        "## Make preductuion with GRU model"
      ]
    },
    {
      "cell_type": "code",
      "execution_count": 47,
      "metadata": {
        "_uuid": "f20ca021ea3ce05f6c6a98db93775f1b2c9c022c",
        "trusted": true,
        "id": "HJbZz461VUOj",
        "outputId": "a0d60234-0fee-4443-d206-4afa6a86ad50",
        "colab": {
          "base_uri": "https://localhost:8080/"
        }
      },
      "outputs": [
        {
          "output_type": "stream",
          "name": "stderr",
          "text": [
            "WARNING:tensorflow:5 out of the last 17 calls to <function TensorFlowTrainer.make_predict_function.<locals>.one_step_on_data_distributed at 0x7fda051413f0> triggered tf.function retracing. Tracing is expensive and the excessive number of tracings could be due to (1) creating @tf.function repeatedly in a loop, (2) passing tensors with different shapes, (3) passing Python objects instead of tensors. For (1), please define your @tf.function outside of the loop. For (2), @tf.function has reduce_retracing=True option that can avoid unnecessary retracing. For (3), please refer to https://www.tensorflow.org/guide/function#controlling_retracing and https://www.tensorflow.org/api_docs/python/tf/function for  more details.\n"
          ]
        },
        {
          "output_type": "stream",
          "name": "stdout",
          "text": [
            "\u001b[1m8/8\u001b[0m \u001b[32m━━━━━━━━━━━━━━━━━━━━\u001b[0m\u001b[37m\u001b[0m \u001b[1m1s\u001b[0m 113ms/step\n"
          ]
        }
      ],
      "source": [
        "X_test = []\n",
        "for i in range(60,311):\n",
        "    X_test.append(inputs[i-60:i,0])\n",
        "X_test = np.array(X_test)\n",
        "X_test = np.reshape(X_test, (X_test.shape[0],X_test.shape[1],1))\n",
        "GRU_predicted_stock_price = regressorGRU.predict(X_test)\n",
        "GRU_predicted_stock_price = sc.inverse_transform(GRU_predicted_stock_price)"
      ]
    },
    {
      "cell_type": "markdown",
      "metadata": {
        "id": "KO7BlRmoVUOk"
      },
      "source": [
        "Visualizing the Results"
      ]
    },
    {
      "cell_type": "code",
      "execution_count": 48,
      "metadata": {
        "_uuid": "da8e9fa28510aa03e7dd06d5070d7b16e05ebb6e",
        "collapsed": true,
        "trusted": true,
        "id": "PyA_K9BJVUOk",
        "outputId": "cc2a4855-e1ed-47df-89f8-b03f7a9b0703",
        "colab": {
          "base_uri": "https://localhost:8080/",
          "height": 508
        }
      },
      "outputs": [
        {
          "output_type": "display_data",
          "data": {
            "text/plain": [
              "<Figure size 640x480 with 1 Axes>"
            ],
            "image/png": "[encoded data removed]"
          },
          "metadata": {}
        }
      ],
      "source": [
        "plot_predictions(test_set,GRU_predicted_stock_price)"
      ]
    },
    {
      "cell_type": "markdown",
      "metadata": {
        "id": "HZPQ15k0VUOm"
      },
      "source": [
        "Evaluating GRU Model"
      ]
    },
    {
      "cell_type": "code",
      "execution_count": 49,
      "metadata": {
        "_uuid": "23aec5ab1a717e3458c8d5cae68db0e7add091ae",
        "collapsed": true,
        "trusted": true,
        "id": "Xje0LJWqVUOm",
        "outputId": "c85dbe4e-5983-4835-fd20-88fc3e504e82",
        "colab": {
          "base_uri": "https://localhost:8080/"
        }
      },
      "outputs": [
        {
          "output_type": "stream",
          "name": "stdout",
          "text": [
            "The root mean squared error is 102.23747663404048.\n"
          ]
        }
      ],
      "source": [
        "return_rmse(test_set,GRU_predicted_stock_price)"
      ]
    },
    {
      "cell_type": "code",
      "source": [],
      "metadata": {
        "id": "NGpcLvpRd0yr"
      },
      "execution_count": null,
      "outputs": []
    }
  ],
  "metadata": {
    "kernelspec": {
      "display_name": "Python 3",
      "language": "python",
      "name": "python3"
    },
    "language_info": {
      "codemirror_mode": {
        "name": "ipython",
        "version": 3
      },
      "file_extension": ".py",
      "mimetype": "text/x-python",
      "name": "python",
      "nbconvert_exporter": "python",
      "pygments_lexer": "ipython3",
      "version": "3.6.6"
    },
    "colab": {
      "provenance": []
    }
  },
  "nbformat": 4,
  "nbformat_minor": 0
}