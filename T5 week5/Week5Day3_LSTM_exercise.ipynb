{
  "nbformat": 4,
  "nbformat_minor": 0,
  "metadata": {
    "colab": {
      "provenance": []
    },
    "kernelspec": {
      "name": "python3",
      "display_name": "Python 3"
    },
    "language_info": {
      "name": "python"
    }
  },
  "cells": [
    {
      "cell_type": "markdown",
      "source": [
        "# **LSTM Exercise**"
      ],
      "metadata": {
        "id": "DeDMU8rGJtM7"
      }
    },
    {
      "cell_type": "markdown",
      "source": [
        "## Import libraries"
      ],
      "metadata": {
        "id": "73pucHkDJoyN"
      }
    },
    {
      "cell_type": "code",
      "execution_count": 1,
      "metadata": {
        "id": "W3AjCzdQJmSK"
      },
      "outputs": [],
      "source": [
        "import numpy as np\n",
        "import matplotlib.pyplot as plt\n",
        "import pandas as pd\n",
        "import tensorflow as tf\n",
        "from tensorflow.keras.models import Sequential\n",
        "from tensorflow.keras.layers import Dense\n",
        "from tensorflow.keras.layers import LSTM\n",
        "from sklearn.preprocessing import MinMaxScaler\n",
        "from sklearn.metrics import mean_squared_error"
      ]
    },
    {
      "cell_type": "markdown",
      "source": [
        "## load the dataset\n",
        "### Dataset path : 5- Time series forecasting/2-2- Time Series Forecasting (LSTM and GRU)\n",
        "/ LAB/Dataset/traffic.csv\n"
      ],
      "metadata": {
        "id": "91J8oMpJKYkO"
      }
    },
    {
      "cell_type": "code",
      "source": [
        "dataframe = pd.read_csv('/content/traffic (1).csv', usecols=[1], engine='python')\n",
        "dataset = dataframe.values\n",
        "dataset = dataset.astype('float32')"
      ],
      "metadata": {
        "id": "Cyx1SwgJJ8Y9"
      },
      "execution_count": 2,
      "outputs": []
    },
    {
      "cell_type": "markdown",
      "source": [
        "## Normalize the dataset"
      ],
      "metadata": {
        "id": "i7yyKGkVKi88"
      }
    },
    {
      "cell_type": "code",
      "source": [
        "scaler = MinMaxScaler(feature_range=(0, 1))\n",
        "dataset = scaler.fit_transform(dataset)"
      ],
      "metadata": {
        "id": "dacoPvqbKdpP"
      },
      "execution_count": 3,
      "outputs": []
    },
    {
      "cell_type": "markdown",
      "source": [
        "## split into train and test sets"
      ],
      "metadata": {
        "id": "GV-4d-zxKvJI"
      }
    },
    {
      "cell_type": "code",
      "source": [
        "train_size = int(len(dataset) * 0.67)\n",
        "test_size = len(dataset) - train_size\n",
        "train, test = dataset[0:train_size,:], dataset[train_size:len(dataset),:]\n",
        "print(len(train), len(test))"
      ],
      "metadata": {
        "id": "4K7bNBFiKr_j",
        "outputId": "79db31eb-6a8e-4c27-cfe0-d13114a6602c",
        "colab": {
          "base_uri": "https://localhost:8080/"
        }
      },
      "execution_count": 4,
      "outputs": [
        {
          "output_type": "stream",
          "name": "stdout",
          "text": [
            "32240 15880\n"
          ]
        }
      ]
    },
    {
      "cell_type": "code",
      "source": [
        "def create_dataset(dataset, look_back=1):\n",
        "    dataX, dataY = [], []\n",
        "    for i in range(len(dataset)-look_back-1):\n",
        "        a = dataset[i:(i+look_back), 0]  # Indent this line\n",
        "        dataX.append(a)\n",
        "        dataY.append(dataset[i + look_back, 0])\n",
        "    return np.array(dataX), np.array(dataY)"
      ],
      "metadata": {
        "id": "KtdTAMB9gvRw"
      },
      "execution_count": 9,
      "outputs": []
    },
    {
      "cell_type": "code",
      "source": [
        "look_back =3\n",
        "trainX, trainY = create_dataset(train, look_back)\n",
        "testX, testY = create_dataset(test, look_back)\n"
      ],
      "metadata": {
        "id": "qelXZaNFgiyI"
      },
      "execution_count": 11,
      "outputs": []
    },
    {
      "cell_type": "code",
      "source": [
        "# reshape input to be [samples, time steps, features]\n",
        "trainX = np.reshape(trainX, (trainX.shape[0], 1, trainX.shape[1]))\n",
        "testX = np.reshape(testX, (testX.shape[0], 1, testX.shape[1]))"
      ],
      "metadata": {
        "id": "lgesBrf2g1v_"
      },
      "execution_count": 13,
      "outputs": []
    },
    {
      "cell_type": "markdown",
      "source": [
        "## Fit the LSTM"
      ],
      "metadata": {
        "id": "Enlx1TQhLcp5"
      }
    },
    {
      "cell_type": "code",
      "source": [
        "model = Sequential()\n",
        "model.add(LSTM(4, input_shape=(1, look_back)))  # Now look_back is defined\n",
        "model.add(Dense(1))\n",
        "model.compile(loss='mean_squared_error', optimizer='adam')\n",
        "model.fit(trainX, trainY, epochs=30, batch_size=1, verbose=2)"
      ],
      "metadata": {
        "id": "tKTnFm3lLcIj",
        "outputId": "aade1cd5-08f7-4c4a-bd21-ef5e89ed2b3e",
        "colab": {
          "base_uri": "https://localhost:8080/"
        }
      },
      "execution_count": 15,
      "outputs": [
        {
          "output_type": "stream",
          "name": "stdout",
          "text": [
            "Epoch 1/30\n",
            "32236/32236 - 46s - 1ms/step - loss: 6.7751e-04\n",
            "Epoch 2/30\n",
            "32236/32236 - 83s - 3ms/step - loss: 1.3032e-05\n",
            "Epoch 3/30\n",
            "32236/32236 - 81s - 3ms/step - loss: 1.2052e-05\n",
            "Epoch 4/30\n",
            "32236/32236 - 46s - 1ms/step - loss: 1.1639e-05\n",
            "Epoch 5/30\n",
            "32236/32236 - 81s - 3ms/step - loss: 1.0439e-05\n",
            "Epoch 6/30\n",
            "32236/32236 - 83s - 3ms/step - loss: 1.0176e-05\n",
            "Epoch 7/30\n",
            "32236/32236 - 81s - 3ms/step - loss: 9.9585e-06\n",
            "Epoch 8/30\n",
            "32236/32236 - 83s - 3ms/step - loss: 1.0246e-05\n",
            "Epoch 9/30\n",
            "32236/32236 - 80s - 2ms/step - loss: 9.0349e-06\n",
            "Epoch 10/30\n",
            "32236/32236 - 45s - 1ms/step - loss: 9.1958e-06\n",
            "Epoch 11/30\n",
            "32236/32236 - 82s - 3ms/step - loss: 8.7657e-06\n",
            "Epoch 12/30\n",
            "32236/32236 - 83s - 3ms/step - loss: 8.3802e-06\n",
            "Epoch 13/30\n",
            "32236/32236 - 81s - 3ms/step - loss: 8.3693e-06\n",
            "Epoch 14/30\n",
            "32236/32236 - 83s - 3ms/step - loss: 8.5749e-06\n",
            "Epoch 15/30\n",
            "32236/32236 - 81s - 3ms/step - loss: 8.6260e-06\n",
            "Epoch 16/30\n",
            "32236/32236 - 83s - 3ms/step - loss: 8.1052e-06\n",
            "Epoch 17/30\n",
            "32236/32236 - 46s - 1ms/step - loss: 8.8091e-06\n",
            "Epoch 18/30\n",
            "32236/32236 - 46s - 1ms/step - loss: 8.2444e-06\n",
            "Epoch 19/30\n",
            "32236/32236 - 47s - 1ms/step - loss: 8.1641e-06\n",
            "Epoch 20/30\n",
            "32236/32236 - 45s - 1ms/step - loss: 8.4322e-06\n",
            "Epoch 21/30\n",
            "32236/32236 - 83s - 3ms/step - loss: 8.2694e-06\n",
            "Epoch 22/30\n",
            "32236/32236 - 80s - 2ms/step - loss: 8.4353e-06\n",
            "Epoch 23/30\n",
            "32236/32236 - 47s - 1ms/step - loss: 8.2460e-06\n",
            "Epoch 24/30\n",
            "32236/32236 - 45s - 1ms/step - loss: 8.1432e-06\n",
            "Epoch 25/30\n",
            "32236/32236 - 48s - 1ms/step - loss: 8.2272e-06\n",
            "Epoch 26/30\n",
            "32236/32236 - 80s - 2ms/step - loss: 8.2233e-06\n",
            "Epoch 27/30\n",
            "32236/32236 - 83s - 3ms/step - loss: 8.1861e-06\n",
            "Epoch 28/30\n",
            "32236/32236 - 45s - 1ms/step - loss: 8.2507e-06\n",
            "Epoch 29/30\n",
            "32236/32236 - 46s - 1ms/step - loss: 8.7515e-06\n",
            "Epoch 30/30\n",
            "32236/32236 - 46s - 1ms/step - loss: 8.0419e-06\n"
          ]
        },
        {
          "output_type": "execute_result",
          "data": {
            "text/plain": [
              "<keras.src.callbacks.history.History at 0x7ce7481c5900>"
            ]
          },
          "metadata": {},
          "execution_count": 15
        }
      ]
    },
    {
      "cell_type": "markdown",
      "source": [
        "## Make preductuion and evaluatuin matrix."
      ],
      "metadata": {
        "id": "NwP_TpFfL7nA"
      }
    },
    {
      "cell_type": "code",
      "source": [
        "# make predictions\n",
        "trainPredict = model.predict(trainX)\n",
        "testPredict = model.predict(testX)\n",
        "# invert predictions\n",
        "trainPredict = scaler.inverse_transform(trainPredict)\n",
        "trainY = scaler.inverse_transform([trainY])\n",
        "testPredict = scaler.inverse_transform(testPredict)\n",
        "testY = scaler.inverse_transform([testY])\n",
        "# calculate root mean squared error\n",
        "trainScore = np.sqrt(mean_squared_error(trainY[0], trainPredict[:,0]))\n",
        "print('Train Score: %.2f RMSE' % (trainScore))\n",
        "testScore = np.sqrt(mean_squared_error(testY[0], testPredict[:,0]))\n",
        "print('Test Score: %.2f RMSE' % (testScore))"
      ],
      "metadata": {
        "id": "4lEgbNGULrbv",
        "outputId": "a5f5f5ff-18d6-4052-8d26-ac908068a8ac",
        "colab": {
          "base_uri": "https://localhost:8080/"
        }
      },
      "execution_count": 16,
      "outputs": [
        {
          "output_type": "stream",
          "name": "stdout",
          "text": [
            "\u001b[1m1008/1008\u001b[0m \u001b[32m━━━━━━━━━━━━━━━━━━━━\u001b[0m\u001b[37m\u001b[0m \u001b[1m2s\u001b[0m 2ms/step\n",
            "\u001b[1m497/497\u001b[0m \u001b[32m━━━━━━━━━━━━━━━━━━━━\u001b[0m\u001b[37m\u001b[0m \u001b[1m1s\u001b[0m 1ms/step\n",
            "Train Score: 0.01 RMSE\n",
            "Test Score: 0.15 RMSE\n"
          ]
        }
      ]
    },
    {
      "cell_type": "markdown",
      "source": [
        "## Visualize the result"
      ],
      "metadata": {
        "id": "ZpkMef5uMULa"
      }
    },
    {
      "cell_type": "code",
      "source": [
        "# shift train predictions for plotting\n",
        "trainPredictPlot = np.empty_like(dataset)\n",
        "trainPredictPlot[:, :] = np.nan\n",
        "trainPredictPlot[look_back:len(trainPredict)+look_back, :] = trainPredict\n",
        "# shift test predictions for plotting\n",
        "testPredictPlot = np.empty_like(dataset)\n",
        "testPredictPlot[:, :] = np.nan\n",
        "testPredictPlot[len(trainPredict)+(look_back*2)+1:len(dataset)-1, :] = testPredict\n",
        "# plot baseline and predictions\n",
        "plt.plot(scaler.inverse_transform(dataset))\n",
        "plt.plot(trainPredictPlot)\n",
        "plt.plot(testPredictPlot)\n",
        "plt.show()"
      ],
      "metadata": {
        "id": "B1T1VicEMXC_",
        "outputId": "21c87ae0-6641-4965-ddf0-26d3d5b12b58",
        "colab": {
          "base_uri": "https://localhost:8080/",
          "height": 430
        }
      },
      "execution_count": 18,
      "outputs": [
        {
          "output_type": "display_data",
          "data": {
            "text/plain": [
              "<Figure size 640x480 with 1 Axes>"
            ],
            "image/png": "[encoded data removed]"
          },
          "metadata": {}
        }
      ]
    },
    {
      "cell_type": "markdown",
      "source": [
        "# **Well done** :)"
      ],
      "metadata": {
        "id": "_80frLg-MENd"
      }
    }
  ]
}